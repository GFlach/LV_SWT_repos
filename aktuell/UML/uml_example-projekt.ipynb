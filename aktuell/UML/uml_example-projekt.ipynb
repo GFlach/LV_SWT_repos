{
 "cells": [
  {
   "cell_type": "markdown",
   "metadata": {},
   "source": [
    "[Table of Contents](uml_table_of_contents.ipynb)"
   ]
  },
  {
   "cell_type": "code",
   "execution_count": null,
   "metadata": {},
   "outputs": [],
   "source": [
    "%load_ext plantuml"
   ]
  },
  {
   "cell_type": "code",
   "execution_count": null,
   "metadata": {},
   "outputs": [],
   "source": [
    "import glob\n",
    "glob.glob(r'./*.jar')"
   ]
  },
  {
   "cell_type": "markdown",
   "metadata": {},
   "source": [
    "### Projektspezifikation `Automatische Kasse`\n",
    "\n",
    "#### Systembeschreibung\n",
    "Eine `Automatische Kasse` ist eine technische Einrichtung zur Erfassung und Bezahlung von Waren. Der Vorgang soll typischerweise wie folgt verlaufen:\n",
    "\n",
    "-\tWare mit Code wird gescannt.\n",
    "\n",
    "-\tWare ohne Code wird in der Datenbank gesucht.\n",
    "\n",
    "-\tGutscheincodes (z. B. Pfand) wird eingegeben.\n",
    "\n",
    "-\tWare wird bezahlt.\n",
    "\n",
    "-\tWare wird eingepackt.\n",
    "\n",
    "Die Vorgänge können durch Betätigung der `Abbruch`-Taste unterbrochen werden. Es wird ein Warenkorb angelegt, der manipuliert werden kann.  \n",
    "Der Betreiber der `Automatischen Kasse` ist für die Funktionsvielfalt (und Schrittfolge) auf dem Endgerät verantwortlich. Weitere Funktionen sind Sprachauswahl, Nutzung von Smartphonfunktionen.\n",
    "\n",
    "#### Begriffsverzeichnis\n",
    "Kunde, Service\n",
    "\n",
    "Geld, Währung\n",
    "\n",
    "Touchscreen, Tastatur, Auszahlmodul, Kartenleser, Videokamera, Bargeldausgabe\n",
    "\n",
    "Quittungsdruck, Sprachauswahl\n",
    "\n",
    "PIN, Geheimzahl, Verschlüsselung, Encrypting PIN Pad (EPP), Transaktion (online, offline)\n",
    "\n",
    "Softkeys, Betriebssystem, Gerätetreiber, Industrie-PC, Datenbank, Busschnittstelle\n",
    "\n",
    "#### Aktorenliste\n",
    "\n",
    "-\tKunde (Ware scannen, Ware suchen, PIN eingeben, Funktion auswählen, Korrigieren, Bestätigen, Abbrechen)\n",
    "-\tService (Servicekarte eingeben, PIN eingeben, Zustand abfragen, Korrektur, Bestätigung, Abbrechen, Zustand ändern, Fernwartung)\n",
    "-\tDatenbank (Warenbestand, Kreditinstitut)"
   ]
  },
  {
   "cell_type": "code",
   "execution_count": null,
   "metadata": {},
   "outputs": [],
   "source": [
    "!del *.plt\n",
    "!del *.svg"
   ]
  }
 ],
 "metadata": {
  "kernelspec": {
   "display_name": "Python 3",
   "language": "python",
   "name": "python3"
  },
  "language_info": {
   "codemirror_mode": {
    "name": "ipython",
    "version": 3
   },
   "file_extension": ".py",
   "mimetype": "text/x-python",
   "name": "python",
   "nbconvert_exporter": "python",
   "pygments_lexer": "ipython3",
   "version": "3.6.5"
  }
 },
 "nbformat": 4,
 "nbformat_minor": 1
}
