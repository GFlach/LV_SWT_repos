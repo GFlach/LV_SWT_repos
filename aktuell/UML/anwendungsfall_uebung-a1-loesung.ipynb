{
 "cells": [
  {
   "cell_type": "markdown",
   "metadata": {},
   "source": [
    "[Aufgaben](anwendungsfall_uebung.ipynb)"
   ]
  },
  {
   "cell_type": "code",
   "execution_count": 1,
   "metadata": {},
   "outputs": [],
   "source": [
    "%load_ext plantuml"
   ]
  },
  {
   "cell_type": "code",
   "execution_count": 2,
   "metadata": {},
   "outputs": [
    {
     "data": {
      "text/plain": [
       "['.\\\\plantuml.jar']"
      ]
     },
     "execution_count": 2,
     "metadata": {},
     "output_type": "execute_result"
    }
   ],
   "source": [
    "import glob\n",
    "glob.glob(r'./*.jar')"
   ]
  },
  {
   "cell_type": "markdown",
   "metadata": {},
   "source": [
    "#### Aufgabe 1\n",
    "a) Interpretieren Sie das folgende Anwendungsfalldiagramm!"
   ]
  },
  {
   "cell_type": "markdown",
   "metadata": {},
   "source": [
    "<img src=\"images/einweihungsfeier.jpg\" style=\"float: left;\">"
   ]
  },
  {
   "cell_type": "markdown",
   "metadata": {},
   "source": [
    "- Es wird eine Einweihungsfeier beschrieben.\n",
    "- Es gibt einen Gastgeber und Gäste.\n",
    "- Gastgeber und Gäste können essen, trinken, sich unterhalten, tanzen und Gäste hinausbegleiten.\n",
    "- Der Gastgeber kann Nachschub für Essen und Trinken ordern, wenn dies erforderlich ist.\n",
    "- Der Gastgeber kann die Feier auflösen und begleitet in dem fall die gäste hinaus.\n",
    "- Die Polizei kann die Feier abrupt beenden, in dem Fall werden die Gäste hinausbegleitet."
   ]
  },
  {
   "cell_type": "markdown",
   "metadata": {},
   "source": [
    "b) Gibt es aus Ihrer Sicht Änderungsbedarf?"
   ]
  },
  {
   "cell_type": "markdown",
   "metadata": {},
   "source": [
    "nein"
   ]
  }
 ],
 "metadata": {
  "kernelspec": {
   "display_name": "Python 3",
   "language": "python",
   "name": "python3"
  },
  "language_info": {
   "codemirror_mode": {
    "name": "ipython",
    "version": 3
   },
   "file_extension": ".py",
   "mimetype": "text/x-python",
   "name": "python",
   "nbconvert_exporter": "python",
   "pygments_lexer": "ipython3",
   "version": "3.7.1"
  }
 },
 "nbformat": 4,
 "nbformat_minor": 1
}
