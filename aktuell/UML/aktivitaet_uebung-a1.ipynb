{
 "cells": [
  {
   "cell_type": "markdown",
   "metadata": {},
   "source": [
    "[Aufgaben](aktivitaet_uebung.ipynb)"
   ]
  },
  {
   "cell_type": "markdown",
   "metadata": {
    "collapsed": true
   },
   "source": [
    "#### Aufgabe 1\n",
    "Zeichnen Sie das Aktivitätsdiagramm für die Organisation einer Klausur. Enthalten sein sollten mindestens:\n",
    "\n",
    "- Die Teilnahme an den Übungen (erfolgreich / nicht erfolgreich)\n",
    "- Die erfolgreiche Teilnahme führt zur Klausuranmeldung, dem Erfragen des Termins und sorgfältiger Vorbereitung in beliebiger Reihenfolge.\n",
    "- Die Klausur selbst mit anschlieÿender Abfrage der Ergebnisse im Internet.\n",
    "- Eine einmalige Zulassung zur Nachklausur, wenn die Klausur im ersten Versuch nicht bestanden wurde.\n",
    "- Die Nachholklausur erfordert eine erneute Terminabfrage und Vorbereitung.\n",
    "- Ein Krankheitsfall kann ebenfalls eintreten. Mit einem Attest und einer anschließenden Genesung\n",
    "\n",
    "ist eine Wiederholung der jeweiligen Klausur möglich. Beachten Sie, dass Aktivitäten auch parallel oder alternativ ablaufen können. Jeder der obigen Punkte kann dabei mehrere Aktionen umfassen, wenn es Ihnen angebracht erscheint."
   ]
  },
  {
   "cell_type": "markdown",
   "metadata": {},
   "source": [
    "#### Aufräumen des Verzeichnisses\n",
    "Die erzeugten Scripte und Bilder werden gelöscht."
   ]
  },
  {
   "cell_type": "code",
   "execution_count": null,
   "metadata": {
    "collapsed": true
   },
   "outputs": [],
   "source": [
    "!del *.svg\n",
    "!del *.plt"
   ]
  }
 ],
 "metadata": {
  "kernelspec": {
   "display_name": "Python 3",
   "language": "python",
   "name": "python3"
  },
  "language_info": {
   "codemirror_mode": {
    "name": "ipython",
    "version": 3
   },
   "file_extension": ".py",
   "mimetype": "text/x-python",
   "name": "python",
   "nbconvert_exporter": "python",
   "pygments_lexer": "ipython3",
   "version": "3.6.3"
  }
 },
 "nbformat": 4,
 "nbformat_minor": 1
}
