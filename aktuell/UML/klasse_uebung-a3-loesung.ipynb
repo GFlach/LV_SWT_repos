{
 "cells": [
  {
   "cell_type": "markdown",
   "metadata": {},
   "source": [
    "[** zu den Übungsaufgaben **](klasse_uebung.ipynb)"
   ]
  },
  {
   "cell_type": "code",
   "execution_count": null,
   "metadata": {
    "collapsed": true
   },
   "outputs": [],
   "source": [
    "%load_ext plantuml"
   ]
  },
  {
   "cell_type": "code",
   "execution_count": null,
   "metadata": {
    "collapsed": false
   },
   "outputs": [],
   "source": [
    "import glob\n",
    "glob.glob(r'./*.jar')"
   ]
  },
  {
   "cell_type": "markdown",
   "metadata": {
    "collapsed": true
   },
   "source": [
    "#### Aufgabe 3\n",
    "Erzeugen Sie ein Klassendiagramm für folgende Domäne:\n",
    "\n",
    "Eine Firma ist an beliebig vielen Standorten vertreten. Jeder Standort besteht aus mindestens einem Gebäude mit einer Hausnummer. In jedem Gebäude sind mehrere Büros, jedoch immer nur eine Kantine. Die Büros sind durchnummeriert  und  haben  ein  Namensschild  an  der  Tür.  Des Weiteren  gibt  es  Angestellte,  die  sich  in  die  Kategorien Chef, Führungspersönlichkeiten und Arbeiter aufteilen. Dabei müssen an jedem Standort ein Chef, zwei bis zehn Führungspersonen und mindestens drei Arbeiter vorhanden sein, um einen reibungslosen Ablauf zu gewährleisten. Jeder Angestellte besitzt seine eigene ID. Die Angestellte haben unterschiedliche Tätigkeiten. Der Chef entscheidet, die Führungsperson leitet und die Arbeiter arbeiten. Die Firma stellt viele Produkte her, die von den Arbeitern produziert werden."
   ]
  },
  {
   "cell_type": "markdown",
   "metadata": {},
   "source": [
    "#### Identifikation von Klassen"
   ]
  },
  {
   "cell_type": "markdown",
   "metadata": {},
   "source": [
    "#### <font color=\"#0000f0\">Verbale Beschreibung Klassen</font>"
   ]
  },
  {
   "cell_type": "markdown",
   "metadata": {},
   "source": [
    "#### <font color=\"#0000f0\">Diagrammelemente</font>"
   ]
  },
  {
   "cell_type": "markdown",
   "metadata": {},
   "source": [
    "#### Identifikation der Attribute"
   ]
  },
  {
   "cell_type": "markdown",
   "metadata": {},
   "source": [
    "#### <font color=\"#0000f0\">Verbale Beschreibung Klassen + Attribute</font>"
   ]
  },
  {
   "cell_type": "markdown",
   "metadata": {},
   "source": [
    "#### <font color=\"#0000f0\">Diagrammelemente</font>"
   ]
  },
  {
   "cell_type": "markdown",
   "metadata": {},
   "source": [
    "#### Identifikation der Beziehungen zwischen Klassen\n",
    "Nutzen Sie hierbei nach Möglichkeit auch Generalisierung und Aggregation."
   ]
  },
  {
   "cell_type": "markdown",
   "metadata": {},
   "source": [
    "#### <font color=\"#0000f0\">Verbale Beschreibung Klassenbeziehungen</font>"
   ]
  },
  {
   "cell_type": "markdown",
   "metadata": {},
   "source": [
    "#### Aufräumen des Verzeichnisses\n",
    "Die erzeugten Scripte und Bilder werden gelöscht."
   ]
  },
  {
   "cell_type": "code",
   "execution_count": null,
   "metadata": {
    "collapsed": true
   },
   "outputs": [],
   "source": [
    "!del *.plt\n",
    "!del *.svg"
   ]
  }
 ],
 "metadata": {
  "kernelspec": {
   "display_name": "Python 3",
   "language": "python",
   "name": "python3"
  },
  "language_info": {
   "codemirror_mode": {
    "name": "ipython",
    "version": 3
   },
   "file_extension": ".py",
   "mimetype": "text/x-python",
   "name": "python",
   "nbconvert_exporter": "python",
   "pygments_lexer": "ipython3",
   "version": "3.6.0"
  }
 },
 "nbformat": 4,
 "nbformat_minor": 1
}
