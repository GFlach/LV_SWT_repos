{
 "cells": [
  {
   "cell_type": "markdown",
   "metadata": {},
   "source": [
    "[Aufgaben](anwendungsfall_uebung.ipynb)"
   ]
  },
  {
   "cell_type": "code",
   "execution_count": null,
   "metadata": {},
   "outputs": [],
   "source": [
    "%load_ext plantuml"
   ]
  },
  {
   "cell_type": "code",
   "execution_count": null,
   "metadata": {},
   "outputs": [],
   "source": [
    "import glob\n",
    "glob.glob(r'./*.jar')"
   ]
  },
  {
   "cell_type": "markdown",
   "metadata": {},
   "source": [
    "#### Aufgabe 3\n",
    "Es soll ein Anwendungssystem zur Unterstützung der Geschäftsprozesse in einem Krankenhaus entwickelt werden.  Das System soll folgende Aufgaben erledigen: \n",
    "- Herr Müller und Herr Maier seien in der Verwaltung angestellt.\n",
    "- Herr Müller soll Mitarbeiter einstellen und entlassen können. Sowohl Herr Müller als auch Herr Maier kann Patienten aufnehmen und entlassen.\n",
    "- Sowohl bei der Einstellung von Mitarbeitern, als auch bei der Aufnahme von Patienten müssen Name und Adresse erfasst werden.   Um redundante Anwendungsfall-Beschreibungen zu verhindern wird diese Tätigkeit in einen gesonderten Anwendungsfall ''ausgelagert''.\n",
    "- Falls der einzustellende Mitarbeiter bzw. der aufzunehmende Patient seinen Wohnsitz am Ort des Krankenhauses hat, wird geprüft, ob die angegebene Adresse am Wohnort existiert. Lagern Sie auch diesen Anwendungsfall aus.\n"
   ]
  },
  {
   "cell_type": "markdown",
   "metadata": {},
   "source": [
    "#### Identifikation von Akteuren"
   ]
  },
  {
   "cell_type": "markdown",
   "metadata": {},
   "source": [
    "#### <font color=\"#0000f0\">Verbale Beschreibung Akteure</font>\n",
    "- Herr Müller\n",
    "- Herr Maier\n",
    "- Verwaltungsangestellter"
   ]
  },
  {
   "cell_type": "markdown",
   "metadata": {},
   "source": [
    "#### <font color=\"#0000f0\">Diagrammelemente</font>"
   ]
  },
  {
   "cell_type": "code",
   "execution_count": null,
   "metadata": {},
   "outputs": [],
   "source": [
    "%%plantuml\n",
    "@startuml\n",
    "left to right direction\n",
    "actor \"Herr Maier\" as Ma\n",
    "actor \"Herr Müller\" as Mu\n",
    "actor \"Verwaltungsangestellter\" as V\n",
    "@enduml"
   ]
  },
  {
   "cell_type": "markdown",
   "metadata": {},
   "source": [
    "#### Identifikation von Anwendungsfällen"
   ]
  },
  {
   "cell_type": "markdown",
   "metadata": {},
   "source": [
    "#### <font color=\"#0000f0\">Verbale Beschreibung Anwendungsfälle</font>\n",
    "- Mitarbeiter einstellen\n",
    "- Mitarbeiter entlassen\n",
    "- Patienten aufnehmen\n",
    "- Patienten entlassen\n",
    "- Name und Adresse erfassen\n",
    "- Adresse prüfen"
   ]
  },
  {
   "cell_type": "markdown",
   "metadata": {},
   "source": [
    "#### <font color=\"#0000f0\">Diagrammelemente</font>"
   ]
  },
  {
   "cell_type": "code",
   "execution_count": null,
   "metadata": {},
   "outputs": [],
   "source": [
    "%%plantuml\n",
    "@startuml\n",
    "left to right direction\n",
    "usecase \"Mitarbeiter einstellen\" as MEI\n",
    "usecase \"Mitarbeiter entlassen\" as MEN\n",
    "usecase \"Patienten aufnehmen\" as PA\n",
    "usecase \"Patienten entlassen\" as PE\n",
    "usecase \"Name und Adresse erfassen\" as NAE\n",
    "usecase \"Adresse prüfen\" as AP\n",
    "\n",
    "@enduml"
   ]
  },
  {
   "cell_type": "markdown",
   "metadata": {},
   "source": [
    "#### Identifikation von Assoziationen"
   ]
  },
  {
   "cell_type": "markdown",
   "metadata": {},
   "source": [
    "#### <font color=\"#0000f0\">Verbale Beschreibung</font>\n",
    "- Herr Müller - Mitarbeiter einstellen\n",
    "- Herr Müller - Mitarbeiter entlassen\n",
    "- Verwaltungsangestellter - Patienten aufnehmen\n",
    "- Verwaltungsangestellter - Patienten entlassen\n",
    "- bei Aufnahme/Einstellung - Name und Adresse erfassen\n",
    "- bei Adresse in der Stadt - Adresse prüfen"
   ]
  },
  {
   "cell_type": "markdown",
   "metadata": {},
   "source": [
    "#### Anwendungsfalldiagramm"
   ]
  },
  {
   "cell_type": "code",
   "execution_count": null,
   "metadata": {},
   "outputs": [],
   "source": [
    "%%plantuml krankenhaus\n",
    "@startuml\n",
    "left to right direction\n",
    "rectangle \"Krankenhaus\" {\n",
    "usecase \"Mitarbeiter einstellen\" as MEI\n",
    "usecase \"Mitarbeiter entlassen\" as MEN\n",
    "usecase \"Patienten aufnehmen\" as PA\n",
    "usecase \"Patienten entlassen\" as PE\n",
    "usecase NAE as \"Name und Adresse erfassen\n",
    "    --\n",
    "    extension point: Adresse am Ort\"\n",
    "usecase \"Adresse prüfen\" as AP\n",
    "}\n",
    "actor \"Herr Maier\" as Ma\n",
    "actor \"Herr Müller\" as Mu\n",
    "actor \"Verwaltungsangestellter\" as V\n",
    "Ma --|> V\n",
    "Mu --|> V\n",
    "\n",
    "NAE .up.> AP : <<extension>>\n",
    "MEI ..> NAE : <<include>>\n",
    "PA ..> NAE : <<include>>\n",
    "V -- PA\n",
    "V -- PE\n",
    "Mu -- MEI\n",
    "Mu -- MEN\n",
    "@enduml"
   ]
  },
  {
   "cell_type": "markdown",
   "metadata": {},
   "source": [
    "#### Beschreibung von Anwendungsfällen\n",
    "(Kopieren Sie die folgende Tabelle für jeden Anwendungsfall.)"
   ]
  },
  {
   "cell_type": "markdown",
   "metadata": {},
   "source": [
    "Name: | Anwendungsfall\n",
    ":-------------|:-------------|\n",
    "Kurzbeschreibung: | \n",
    "Vorbedingung: | \n",
    "Nachbedingung: | \n",
    "Fehlersituation: | \n",
    "Systemzustand im Fehlerfall: | \n",
    "Akteure: | \n",
    "Trigger: | \n",
    "Standardablauf: |  \n",
    "Alternativabläufe: | "
   ]
  },
  {
   "cell_type": "markdown",
   "metadata": {},
   "source": [
    "#### Aufräumen des Verzeichnisses\n",
    "Die erzeugten Scripte und Bilder werden gelöscht."
   ]
  },
  {
   "cell_type": "code",
   "execution_count": 13,
   "metadata": {},
   "outputs": [],
   "source": [
    "!del *.plt\n",
    "!del *.svg"
   ]
  }
 ],
 "metadata": {
  "kernelspec": {
   "display_name": "Python 3",
   "language": "python",
   "name": "python3"
  },
  "language_info": {
   "codemirror_mode": {
    "name": "ipython",
    "version": 3
   },
   "file_extension": ".py",
   "mimetype": "text/x-python",
   "name": "python",
   "nbconvert_exporter": "python",
   "pygments_lexer": "ipython3",
   "version": "3.7.1"
  }
 },
 "nbformat": 4,
 "nbformat_minor": 1
}
