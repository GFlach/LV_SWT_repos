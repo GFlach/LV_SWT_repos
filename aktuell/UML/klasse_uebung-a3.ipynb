{
 "cells": [
  {
   "cell_type": "markdown",
   "metadata": {},
   "source": [
    "[Aufgaben](klasse_uebung.ipynb)"
   ]
  },
  {
   "cell_type": "markdown",
   "metadata": {
    "collapsed": true
   },
   "source": [
    "#### Aufgabe 3\n",
    "Erzeugen Sie ein Klassendiagramm für folgende Domäne:\n",
    "\n",
    "Eine Firma ist an beliebig vielen Standorten vertreten. Jeder Standort besteht aus mindestens einem Gebäude mit einer Hausnummer. In jedem Gebäude sind mehrere Büros, jedoch immer nur eine Kantine. Die Büros sind durchnummeriert  und  haben  ein  Namensschild  an  der  Tür.  Des Weiteren  gibt  es  Angestellte,  die  sich  in  die  Kategorien Chef, Führungspersönlichkeiten und Arbeiter aufteilen. Dabei müssen an jedem Standort ein Chef, zwei bis zehn Führungspersonen und mindestens drei Arbeiter vorhanden sein, um einen reibungslosen Ablauf zu gewährleisten. Jeder Angestellte besitzt seine eigene ID. Die Angestellte haben unterschiedliche Tätigkeiten. Der Chef entscheidet, die Führungsperson leitet und die Arbeiter arbeiten. Die Firma stellt viele Produkte her, die von den Arbeitern produziert werden."
   ]
  }
 ],
 "metadata": {
  "kernelspec": {
   "display_name": "Python 3",
   "language": "python",
   "name": "python3"
  },
  "language_info": {
   "codemirror_mode": {
    "name": "ipython",
    "version": 3
   },
   "file_extension": ".py",
   "mimetype": "text/x-python",
   "name": "python",
   "nbconvert_exporter": "python",
   "pygments_lexer": "ipython3",
   "version": "3.6.0"
  }
 },
 "nbformat": 4,
 "nbformat_minor": 1
}
