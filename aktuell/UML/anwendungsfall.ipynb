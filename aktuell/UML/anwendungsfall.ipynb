{
 "cells": [
  {
   "cell_type": "markdown",
   "metadata": {},
   "source": [
    "[Table of Contents](uml_table_of_contents.ipynb)"
   ]
  },
  {
   "cell_type": "markdown",
   "metadata": {},
   "source": [
    "### 3.2 Anwendungsfalldiagramm\n",
    "\n",
    "#### 3.2.1 Bestandteile\n",
    "<img src=\"images/anwendungsfall1.jpg\" height=\"200\" width = \"500\">\n",
    "<img src=\"images/anwendungsfall2.jpg\" height=\"200\" width = \"400\">"
   ]
  },
  {
   "cell_type": "markdown",
   "metadata": {},
   "source": [
    "#### 3.2.2 Beziehungen zwischen Akteuren\n",
    "<img src=\"images/anwendungsfall3.jpg\" height=\"200\" width = \"300\">\n",
    "<img src=\"images/anwendungsfall4.jpg\" height=\"200\" width = \"300\">\n",
    "<img src=\"images/anwendungsfall5.jpg\" height=\"200\" width = \"300\">"
   ]
  },
  {
   "cell_type": "markdown",
   "metadata": {},
   "source": [
    "#### 3.2.3 Beziehungen zwischen Anwendungsfällen\n",
    "<img src=\"images/anwendungsfall6.jpg\" height=\"200\" width = \"300\">\n",
    "<img src=\"images/anwendungsfall7.jpg\" height=\"200\" width = \"200\">\n",
    "<img src=\"images/anwendungsfall8.jpg\" height=\"200\" width = \"300\">"
   ]
  },
  {
   "cell_type": "markdown",
   "metadata": {},
   "source": [
    "#### 3.2.4 Erstellen eines Anwendungsfalldiagramms\n",
    "<img src=\"images/anwendungsfall10.jpg\" height=\"200\" width = \"100\">\n",
    "<img src=\"images/anwendungsfall11.jpg\" height=\"200\" width = \"300\">\n",
    "<img src=\"images/anwendungsfall12.jpg\" height=\"200\" width = \"200\">\n",
    "<img src=\"images/anwendungsfall13.jpg\" height=\"200\" width = \"300\">\n",
    "<img src=\"images/anwendungsfall14.jpg\" height=\"200\" width = \"200\">\n",
    "<img src=\"images/anwendungsfall15.jpg\" height=\"200\" width = \"200\">"
   ]
  },
  {
   "cell_type": "markdown",
   "metadata": {},
   "source": [
    "#### 3.2.5 Zusammenfassung\n",
    "<img src=\"images/afd_1.jpg\" height=\"200\" width = \"500\">\n",
    "<img src=\"images/afd_2.jpg\" height=\"200\" width = \"500\">\n",
    "<img src=\"images/afd_3.jpg\" height=\"200\" width = \"500\">"
   ]
  },
  {
   "cell_type": "markdown",
   "metadata": {},
   "source": [
    "[**3.2.6 Übung zu Anwendungsfällen**](anwendungsfall_uebung.ipynb)"
   ]
  }
 ],
 "metadata": {
  "kernelspec": {
   "display_name": "Python 3",
   "language": "python",
   "name": "python3"
  },
  "language_info": {
   "codemirror_mode": {
    "name": "ipython",
    "version": 3
   },
   "file_extension": ".py",
   "mimetype": "text/x-python",
   "name": "python",
   "nbconvert_exporter": "python",
   "pygments_lexer": "ipython3",
   "version": "3.6.0"
  }
 },
 "nbformat": 4,
 "nbformat_minor": 1
}
