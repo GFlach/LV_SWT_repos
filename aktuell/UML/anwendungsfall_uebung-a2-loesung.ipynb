{
 "cells": [
  {
   "cell_type": "markdown",
   "metadata": {},
   "source": [
    "[Aufgaben](anwendungsfall_uebung.ipynb)"
   ]
  },
  {
   "cell_type": "code",
   "execution_count": null,
   "metadata": {},
   "outputs": [],
   "source": [
    "%load_ext plantuml"
   ]
  },
  {
   "cell_type": "code",
   "execution_count": null,
   "metadata": {},
   "outputs": [],
   "source": [
    "import glob\n",
    "glob.glob(r'./*.jar')"
   ]
  },
  {
   "cell_type": "markdown",
   "metadata": {},
   "source": [
    "#### Aufgabe 2 - Lösung\n",
    "Erstellen Sie ein Anwendungsfalldiagramm für folgende Aufgabenstellung:\n",
    "\n",
    "Das System dient der Erstellung von CDs. Dabei kann es sich um Musik- oder Daten-CDs handeln. Für Musik-CDs soll ein Booklet erstellt werden. Auf Wunsch des Kunden kann die Musik-CD bedruckt werden."
   ]
  },
  {
   "cell_type": "markdown",
   "metadata": {},
   "source": [
    "#### Identifikation von Akteuren"
   ]
  },
  {
   "cell_type": "markdown",
   "metadata": {},
   "source": [
    "#### <font color=\"#0000f0\">Verbale Beschreibung Akteure</font>\n",
    "Bearbeiter"
   ]
  },
  {
   "cell_type": "markdown",
   "metadata": {},
   "source": [
    "#### <font color=\"#0000f0\">Diagrammelemente</font>"
   ]
  },
  {
   "cell_type": "code",
   "execution_count": null,
   "metadata": {},
   "outputs": [],
   "source": [
    "%%plantuml beispiel\n",
    "@startuml\n",
    "left to right direction\n",
    "actor Bediener as B\n",
    "@enduml"
   ]
  },
  {
   "cell_type": "markdown",
   "metadata": {},
   "source": [
    "#### Identifikation von Anwendungsfällen"
   ]
  },
  {
   "cell_type": "markdown",
   "metadata": {},
   "source": [
    "#### <font color=\"#0000f0\">Verbale Beschreibung Anwendungsfälle</font>\n",
    "- Musik-CD erstellen\n",
    "- Daten-CD erstellen\n",
    "- Booklet erstellen\n",
    "- CD bedrucken"
   ]
  },
  {
   "cell_type": "markdown",
   "metadata": {},
   "source": [
    "#### <font color=\"#0000f0\">Diagrammelemente</font>"
   ]
  },
  {
   "cell_type": "code",
   "execution_count": null,
   "metadata": {},
   "outputs": [],
   "source": [
    "%%plantuml beispiel\n",
    "@startuml\n",
    "usecase \"Musik-CD erstellen\" as MCD\n",
    "usecase \"Daten-CD erstellen\" as DCD\n",
    "usecase \"Booklet erstellen\" as BE\n",
    "usecase \"CD bedrucken\" as D\n",
    "@enduml"
   ]
  },
  {
   "cell_type": "markdown",
   "metadata": {},
   "source": [
    "#### Identifikation von Assoziationen"
   ]
  },
  {
   "cell_type": "markdown",
   "metadata": {},
   "source": [
    "#### <font color=\"#0000f0\">Verbale Beschreibung</font>\n",
    "- Bediener - Musik-CD erstellen\n",
    "- Bediener - Daten-CD erstellen\n",
    "- Musik-CD erstellen inkludiert Booklet erstellen\n",
    "- Musik-CD erstellen wird auf Kundenwunsch erweitert durch CD bedrucken\n",
    "- Daten-CD erstellen wird auf Kundenwunsch erweitert durch CD bedrucken"
   ]
  },
  {
   "cell_type": "markdown",
   "metadata": {},
   "source": [
    "#### Anwendungsfalldiagramm"
   ]
  },
  {
   "cell_type": "code",
   "execution_count": null,
   "metadata": {},
   "outputs": [],
   "source": [
    "%%plantuml cd_erstellen\n",
    "@startuml\n",
    "left to right direction\n",
    "rectangle \"CD erstellen\" {\n",
    "usecase MCD as \"Musik-CD erstellen\n",
    "    -- \n",
    "    extension point: Kundenwunsch\"\n",
    "usecase DCD as \"Daten-CD erstellen\n",
    "    -- \n",
    "    extension point: Kundenwunsch\"\n",
    "usecase \"Booklet erstellen\" as BE\n",
    "usecase \"CD bedrucken\" as D\n",
    "}\n",
    "actor Bediener as B\n",
    "B -- MCD\n",
    "B -- DCD\n",
    "MCD ..> BE : <<include>>\n",
    "MCD ..> D : <<extension>>   \n",
    "DCD ..> D : <<extension>>    \n",
    "    \n",
    "@enduml"
   ]
  },
  {
   "cell_type": "markdown",
   "metadata": {},
   "source": [
    "#### Beschreibung von Anwendungsfällen"
   ]
  },
  {
   "cell_type": "markdown",
   "metadata": {},
   "source": [
    "Name: | Musik-CD erstellen\n",
    ":-------------|:-------------|\n",
    "Kurzbeschreibung: | Musik-CD wird erstellt \n",
    "Vorbedingung: | Daten vorhanden\n",
    "Nachbedingung: | CD erstellt\n",
    "Fehlersituation: | Daten nicht lesbar\n",
    "Systemzustand im Fehlerfall: | CD nicht erstellt\n",
    "Akteure: | Bediener\n",
    "Trigger: | Daten vorhanden\n",
    "Standardablauf: |  1. CD-Rohling einlegen 2. Daten auswählen 3. Brennvorgang starten 4. Booklet erstellen\n",
    "Alternativabläufe: | 1. CD-Rohling einlegen 2. Daten auswählen 3. Brennvorgang starten 4. Booklet erstellen 5. CD bedrucken (bei Kundenwunsch)"
   ]
  },
  {
   "cell_type": "markdown",
   "metadata": {},
   "source": [
    "Name: | Daten-CD erstellen\n",
    ":-------------|:-------------|\n",
    "Kurzbeschreibung: | Daten-CD wird erstellt \n",
    "Vorbedingung: | Daten vorhanden\n",
    "Nachbedingung: | CD erstellt\n",
    "Fehlersituation: | Daten nicht lesbar\n",
    "Systemzustand im Fehlerfall: | CD nicht erstellt\n",
    "Akteure: | Bediener\n",
    "Trigger: | Daten vorhanden\n",
    "Standardablauf: |  1. CD-Rohling einlegen 2. Daten auswählen 3. Brennvorgang starten\n",
    "Alternativabläufe: | 1. CD-Rohling einlegen 2. Daten auswählen 3. Brennvorgang starten 4. CD bedrucken (bei Kundenwunsch)"
   ]
  },
  {
   "cell_type": "markdown",
   "metadata": {},
   "source": [
    "Name: | Booklet erstellen\n",
    ":-------------|:-------------|\n",
    "Kurzbeschreibung: | Booklet wird erstellt \n",
    "Vorbedingung: | Musik CD gewünscht, Daten vorhanden\n",
    "Nachbedingung: | Booklet vorhanden\n",
    "Fehlersituation: |  Daten nicht lesbar\n",
    "Systemzustand im Fehlerfall: | kein Booklet\n",
    "Akteure: | \n",
    "Trigger: | Musik-CD erstellt\n",
    "Standardablauf: | 1. Daten aufbereiten 2. Booklet drucken \n",
    "Alternativabläufe: | -"
   ]
  },
  {
   "cell_type": "markdown",
   "metadata": {},
   "source": [
    "Name: | CD bedrucken\n",
    ":-------------|:-------------|\n",
    "Kurzbeschreibung: | CD wird bedruckt\n",
    "Vorbedingung: | Kundenwunsch, Druckdaten\n",
    "Nachbedingung: | CD bedruckt\n",
    "Fehlersituation: | keine DruckdatenCD nicht bedruckt\n",
    "Systemzustand im Fehlerfall: | \n",
    "Akteure: | \n",
    "Trigger: | Musik-oder Daten-CD erstellt\n",
    "Standardablauf: |  1. Druckdaten aufbereiten 2.Druckvorgang starten\n",
    "Alternativabläufe: | -"
   ]
  },
  {
   "cell_type": "markdown",
   "metadata": {},
   "source": [
    "#### Aufräumen des Verzeichnisses\n",
    "Die erzeugten Scripte und Bilder werden gelöscht."
   ]
  },
  {
   "cell_type": "code",
   "execution_count": 11,
   "metadata": {},
   "outputs": [],
   "source": [
    "!del *.plt\n",
    "!del *.svg"
   ]
  }
 ],
 "metadata": {
  "kernelspec": {
   "display_name": "Python 3",
   "language": "python",
   "name": "python3"
  },
  "language_info": {
   "codemirror_mode": {
    "name": "ipython",
    "version": 3
   },
   "file_extension": ".py",
   "mimetype": "text/x-python",
   "name": "python",
   "nbconvert_exporter": "python",
   "pygments_lexer": "ipython3",
   "version": "3.7.1"
  }
 },
 "nbformat": 4,
 "nbformat_minor": 1
}
