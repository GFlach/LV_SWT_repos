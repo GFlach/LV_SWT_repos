{
 "cells": [
  {
   "cell_type": "markdown",
   "metadata": {},
   "source": [
    "[Table of Contents](uml_table_of_contents.ipynb)"
   ]
  },
  {
   "cell_type": "markdown",
   "metadata": {},
   "source": [
    "### 3.6 Aktivitätsdiagramm\n",
    "#### 3.6.1 Aktivität\n",
    "<img src=\"images/aktivitaet1.jpg\" width = \"500\">"
   ]
  },
  {
   "cell_type": "markdown",
   "metadata": {},
   "source": [
    "#### 3.6.2 Aktion\n",
    "<img src=\"images/aktivitaet2.jpg\" width = \"500\">\n",
    "<img src=\"images/aktivitaet3.jpg\" width = \"600\">"
   ]
  },
  {
   "cell_type": "markdown",
   "metadata": {},
   "source": [
    "#### 3.6.3 Kontrollfluss\n",
    "<img src=\"images/aktivitaet6.jpg\"> \n",
    "<img src=\"images/aktivitaet7.jpg\">\n",
    "<img src=\"images/aktivitaet8.jpg\">\n",
    "<img src=\"images/aktivitaet5.jpg\">\n",
    "<img src=\"images/aktivitaet10.jpg\">\n",
    "<img src=\"images/aktivitaet10.jpg\">"
   ]
  },
  {
   "cell_type": "markdown",
   "metadata": {},
   "source": [
    "#### 3.6.4 Objektfluss\n",
    "<img src=\"images/aktivitaet4.jpg\">"
   ]
  },
  {
   "cell_type": "markdown",
   "metadata": {},
   "source": [
    "#### 3.6.5 Partition\n",
    "<img src=\"images/aktivitaet12.jpg\" width = \"200\">"
   ]
  },
  {
   "cell_type": "markdown",
   "metadata": {},
   "source": [
    "#### 3.6.6 Zusammenfassung\n",
    "<img src=\"images/aktivitaet_zusammenfassung1.jpg\" width = \"500\">\n",
    "<img src=\"images/aktivitaet_zusammenfassung2.jpg\" width = \"500\">\n",
    "<img src=\"images/aktivitaet_zusammenfassung3.jpg\" width = \"500\">\n",
    "<img src=\"images/aktivitaet_zusammenfassung4.jpg\" width = \"500\">\n",
    "<img src=\"images/aktivitaet_zusammenfassung5.jpg\" width = \"500\">"
   ]
  }
 ],
 "metadata": {
  "kernelspec": {
   "display_name": "Python 3",
   "language": "python",
   "name": "python3"
  },
  "language_info": {
   "codemirror_mode": {
    "name": "ipython",
    "version": 3
   },
   "file_extension": ".py",
   "mimetype": "text/x-python",
   "name": "python",
   "nbconvert_exporter": "python",
   "pygments_lexer": "ipython3",
   "version": "3.6.5"
  }
 },
 "nbformat": 4,
 "nbformat_minor": 1
}
