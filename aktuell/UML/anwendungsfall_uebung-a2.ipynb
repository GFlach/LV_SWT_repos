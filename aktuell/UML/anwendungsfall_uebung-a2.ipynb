{
 "cells": [
  {
   "cell_type": "markdown",
   "metadata": {},
   "source": [
    "[Aufgaben](anwendungsfall_uebung.ipynb)"
   ]
  },
  {
   "cell_type": "markdown",
   "metadata": {},
   "source": [
    "#### Aufgabe 2\n",
    "Erstellen Sie ein Anwendungsfalldiagramm für folgende Aufgabenstellung:\n",
    "\n",
    "Das System dient der Erstellung von CDs. Dabei kann es sich um Musik- oder Daten-CDs handeln. Für Musik-CDs soll ein Booklet erstellt werden. Auf Wunsch des Kunden kann die Musik-CD bedruckt werden."
   ]
  }
 ],
 "metadata": {
  "kernelspec": {
   "display_name": "Python 3",
   "language": "python",
   "name": "python3"
  },
  "language_info": {
   "codemirror_mode": {
    "name": "ipython",
    "version": 3
   },
   "file_extension": ".py",
   "mimetype": "text/x-python",
   "name": "python",
   "nbconvert_exporter": "python",
   "pygments_lexer": "ipython3",
   "version": "3.6.0"
  }
 },
 "nbformat": 4,
 "nbformat_minor": 1
}
