{
 "cells": [
  {
   "cell_type": "markdown",
   "metadata": {},
   "source": [
    "[Table of Contents](uml_table_of_contents.ipynb)"
   ]
  },
  {
   "cell_type": "markdown",
   "metadata": {},
   "source": [
    "### 3.5 Sequenzdiagramm\n",
    "#### 3.5.1 Bestandteile\n",
    "Reihenfolge von Interaktionen/Nachrichten\n",
    "<img src=\"images/reihenfolge.jpg\" height=\"200\" width = \"600\">"
   ]
  },
  {
   "cell_type": "markdown",
   "metadata": {},
   "source": [
    "#### 3.5.2 Kontrollstrukturen\n",
    "Beispiel für kombiniertes Fragment\n",
    "<img src=\"images/sqd_kombinierte_fragmente.jpg\" height=\"200\" width = \"300\">\n",
    "\n",
    "Beispiel für Verschachtelung\n",
    "<img src=\"images/sqd_bsp_verschachtelung.jpg\" height=\"200\" width = \"400\">\n",
    "\n",
    "Beispiele für mögliche Interaktionsfolgen\n",
    "<img src=\"images/sqd_reihenfolge2.jpg\" height=\"200\" width = \"600\">\n",
    "\n",
    "Filterung und Zusicherung\n",
    "<img src=\"images/sqd_ignore_consider.jpg\" height=\"200\" width = \"600\">\n",
    "<img src=\"images/sqd_assert_neg.jpg\" height=\"200\" width = \"600\">"
   ]
  },
  {
   "cell_type": "markdown",
   "metadata": {},
   "source": [
    "#### 3.5.3 Weitere Sprachelemente"
   ]
  },
  {
   "cell_type": "markdown",
   "metadata": {},
   "source": [
    "#### 3.5.4 Erstellen von Sequenzdiagrammen\n",
    "<img src=\"images/sqd_ablauf.jpg\" height=\"200\" width = \"400\">\n",
    "<img src=\"images/sqd_kommunikation_anmeldung.jpg\" height=\"200\" width = \"700\">"
   ]
  },
  {
   "cell_type": "markdown",
   "metadata": {},
   "source": [
    "#### 3.5.5 Kommunikations-, Zeit- und Interaktionsübersichtsdiagramm\n",
    "Vergleich Sequenzdiagramm und Kommunikationsdiagramm\n",
    "<img src=\"images/sqd_sd_komm.jpg\" height=\"200\" width = \"700\">\n",
    "\n",
    "Vergleich Sequenzdiagramm und Zeitdiagramm\n",
    "<img src=\"images/sqd_sd_zeit.jpg\" height=\"200\" width = \"700\">\n",
    "\n",
    "Vergleich Sequenzdiagramm und Interaktionsübersichtsdiagramm\n",
    "<img src=\"images/sqd_sd_interakt.jpg\" height=\"200\" width = \"700\">"
   ]
  },
  {
   "cell_type": "markdown",
   "metadata": {},
   "source": [
    "#### 3.5.6 Zusammenfassung\n",
    "<img src=\"images/zus_sequenz1.jpg\" height=\"200\" width = \"500\">\n",
    "<img src=\"images/zus_sequenz2.jpg\" height=\"200\" width = \"500\">\n",
    "<img src=\"images/zus_sequenz3.jpg\" height=\"200\" width = \"500\">"
   ]
  },
  {
   "cell_type": "markdown",
   "metadata": {},
   "source": [
    "[**3.5.7 Übung zu Sequenzdiagrammen**](sequenz_uebung.ipynb)"
   ]
  }
 ],
 "metadata": {
  "kernelspec": {
   "display_name": "Python 3",
   "language": "python",
   "name": "python3"
  },
  "language_info": {
   "codemirror_mode": {
    "name": "ipython",
    "version": 3
   },
   "file_extension": ".py",
   "mimetype": "text/x-python",
   "name": "python",
   "nbconvert_exporter": "python",
   "pygments_lexer": "ipython3",
   "version": "3.6.0"
  }
 },
 "nbformat": 4,
 "nbformat_minor": 1
}
