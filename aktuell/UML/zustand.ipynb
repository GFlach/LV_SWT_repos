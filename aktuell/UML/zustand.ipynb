{
 "cells": [
  {
   "cell_type": "markdown",
   "metadata": {},
   "source": [
    "[Table of Contents](uml_table_of_contents.ipynb)"
   ]
  },
  {
   "cell_type": "markdown",
   "metadata": {},
   "source": [
    "#### 3.4 Zustandsdiagramm\n",
    "<img src=\"images/zustand1.jpg\" height=\"200\" width = \"200\">\n",
    "<img src=\"images/zustand2.jpg\" height=\"200\" width = \"700\">\n",
    "#### 3.4.1 Zustände und Zustandsübergänge\n",
    "<img src=\"images/zustand3.jpg\" height=\"200\" width = \"150\">\n",
    "<img src=\"images/zustand4.jpg\" height=\"200\" width = \"500\">\n",
    "<img src=\"images/zustand5.jpg\" height=\"200\" width = \"600\">\n",
    "<img src=\"images/zustand6.jpg\" height=\"200\" width = \"600\">"
   ]
  },
  {
   "cell_type": "markdown",
   "metadata": {},
   "source": [
    "#### 3.4.2 Zustandsarten"
   ]
  },
  {
   "cell_type": "markdown",
   "metadata": {},
   "source": [
    "#### 3.4.3 Arten von Zustandsübergängen\n",
    "<img src=\"images/zustand7.jpg\" height=\"200\" width = \"700\">"
   ]
  },
  {
   "cell_type": "markdown",
   "metadata": {},
   "source": [
    "#### 3.4.4 Ereignisse\n",
    "<img src=\"images/zustand8.jpg\" height=\"200\" width = \"500\">\n",
    "<img src=\"images/zustand9.jpg\" height=\"200\" width = \"800\">"
   ]
  },
  {
   "cell_type": "markdown",
   "metadata": {},
   "source": [
    "#### 3.4.5 Komplexe Zustände\n",
    "<img src=\"images/zustand10.jpg\" height=\"200\" width = \"300\">\n",
    "<img src=\"images/zustand11.jpg\" height=\"200\" width = \"600\">\n",
    "<img src=\"images/zustand12.jpg\" height=\"200\" width = \"700\">\n",
    "<img src=\"images/zustand13.jpg\" height=\"200\" width = \"300\">"
   ]
  },
  {
   "cell_type": "markdown",
   "metadata": {},
   "source": [
    "#### 3.4.6 Ereignisfolgen\n",
    "<img src=\"images/zustand14.jpg\" height=\"200\" width = \"500\">"
   ]
  },
  {
   "cell_type": "markdown",
   "metadata": {},
   "source": [
    "#### 3.4.7 Zusammenfassung\n",
    "<img src=\"images/zustand_zusammenfassung1.jpg\" height=\"200\" width = \"500\">\n",
    "<img src=\"images/zustand_zusammenfassung2.jpg\" height=\"200\" width = \"500\">"
   ]
  },
  {
   "cell_type": "markdown",
   "metadata": {},
   "source": [
    "[**3.4.8 Übung zu Zustandsdiagrammen**](zustand_uebung.ipynb)"
   ]
  }
 ],
 "metadata": {
  "kernelspec": {
   "display_name": "Python 3",
   "language": "python",
   "name": "python3"
  },
  "language_info": {
   "codemirror_mode": {
    "name": "ipython",
    "version": 3
   },
   "file_extension": ".py",
   "mimetype": "text/x-python",
   "name": "python",
   "nbconvert_exporter": "python",
   "pygments_lexer": "ipython3",
   "version": "3.6.5"
  }
 },
 "nbformat": 4,
 "nbformat_minor": 1
}
