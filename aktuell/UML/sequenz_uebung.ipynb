{
 "cells": [
  {
   "cell_type": "markdown",
   "metadata": {},
   "source": [
    "[Table of Contents](http://localhost:8889/notebooks/SWT/table_of_contents.ipynb)"
   ]
  },
  {
   "cell_type": "code",
   "execution_count": null,
   "metadata": {},
   "outputs": [],
   "source": [
    "%load_ext plantuml"
   ]
  },
  {
   "cell_type": "code",
   "execution_count": null,
   "metadata": {},
   "outputs": [],
   "source": [
    "import glob\n",
    "glob.glob(r'./*.jar')"
   ]
  },
  {
   "cell_type": "markdown",
   "metadata": {},
   "source": [
    "### Übung zu Sequenzdiagrammen\n",
    "Im Folgenden werden einige Grundlagen aus PlantUML zur Erstellung von Sequenzdiagrammen zusammengestellt. Diese werden zur Erstellung eines beispielhaften Sequenzdiagramms genutzt.\n",
    "\n",
    "- Ein Diagramm muss mit %%plantuml beginnen.\n",
    "- Das Diagramm kann unter dem nach %%plantuml angegebenen Namen als .svg-Datei gespeichert werden.\n",
    "- Der eigentliche Inhalt muss von @startuml und @enduml eingeschlossen werden."
   ]
  },
  {
   "cell_type": "markdown",
   "metadata": {},
   "source": [
    "Das erzeugte Diagramm wird unter dem nach `%%plantuml` angegebenen Namen im aktuellen Verzeichnis als `.svg`-Datei abgelegt. Diese kann von Gimp importiert und als `.pdf`- oder `.jpg`-Datei ausgegeben werden.\n",
    "\n",
    "Sequenzdiagramme werden zur Modellierung der Abfolge des Nachrichtenaustauschs zwischen Interaktionspartnern."
   ]
  },
  {
   "cell_type": "code",
   "execution_count": null,
   "metadata": {},
   "outputs": [],
   "source": [
    "%%plantuml sequenz\n",
    "\n",
    "@startuml\n",
    "\n",
    "Alice -> Bob: Authentication Request\n",
    "Bob --> Alice: Authentication Response\n",
    "Alice -> Bob: Anfrage 2\n",
    "Bob -> Chef: Anfrage an Chef\n",
    "@enduml "
   ]
  },
  {
   "cell_type": "markdown",
   "metadata": {},
   "source": [
    "Teilnehmer können spezifiziert werden:\n",
    "- Aktor (actor)\n",
    "- Schnittstelle (boundary)\n",
    "- Steuerung (control)\n",
    "- Entität (entity)\n",
    "- Datenbank (database)"
   ]
  },
  {
   "cell_type": "code",
   "execution_count": null,
   "metadata": {},
   "outputs": [],
   "source": [
    "%%plantuml b1\n",
    "\n",
    "@startuml\n",
    "\n",
    "actor Foo1\n",
    "boundary Foo2\n",
    "control Foo3\n",
    "entity Foo4\n",
    "database Foo5\n",
    "Foo1 -> Foo2 : To boundary\n",
    "Foo1 -> Foo3 : To control\n",
    "Foo1 -> Foo4 : To entity\n",
    "Foo1 -> Foo5 : To database\n",
    "Foo1 -> Foo6 : To participant\n",
    "\n",
    "title figure\n",
    "@enduml"
   ]
  },
  {
   "cell_type": "markdown",
   "metadata": {},
   "source": [
    "- Für Teilnehmer können Aliasnamen deklariert werden (`as`). \n",
    "- Teilnehmer können farblich markiert werden. \n",
    "- Teilnehmernamen können nicht alphanumerische Zeichen enthalten."
   ]
  },
  {
   "cell_type": "code",
   "execution_count": null,
   "metadata": {},
   "outputs": [],
   "source": [
    "%%plantuml\n",
    "\n",
    "@startuml\n",
    "\n",
    "actor Foo1 #red\n",
    "boundary Foo2 as B\n",
    "control Foo3\n",
    "entity Foo4\n",
    "participant \"Alice()\" as A #yellow\n",
    "database Foo5 #blue\n",
    "participant E as \"Ich habe einen langen Namen\" #99FF99\n",
    "Foo1 -> B : to boundary\n",
    "Foo1 -> Foo3 : to control\n",
    "Foo1 -> Foo4 : to entity\n",
    "Foo1 -> Foo5 : to database\n",
    "Foo1 -> Foo6 : to participant\n",
    "Foo1 -> A : to Alice\n",
    "A -> E : to long name\n",
    "\n",
    "@enduml"
   ]
  },
  {
   "cell_type": "markdown",
   "metadata": {},
   "source": [
    "#### Nachrichten an sich selbst"
   ]
  },
  {
   "cell_type": "code",
   "execution_count": null,
   "metadata": {},
   "outputs": [],
   "source": [
    "%%plantuml\n",
    "\n",
    "@startuml\n",
    "\n",
    "actor Foo1\n",
    "Foo1 -> Foo1 : eine lange mehrzeilige\\n Nachricht an \\n sich selbst\n",
    "\n",
    "@enduml"
   ]
  },
  {
   "cell_type": "markdown",
   "metadata": {},
   "source": [
    "#### verschiedene Nachrichten"
   ]
  },
  {
   "cell_type": "code",
   "execution_count": null,
   "metadata": {
    "scrolled": false
   },
   "outputs": [],
   "source": [
    "%%plantuml\n",
    "@startuml\n",
    "participant \"Alice\" as P1\n",
    "[o->> P1 : gefundene Nachricht\n",
    "P1 ->>o] : verlorene Nachricht\n",
    "Bob -> P1 : synchrone Nachricht\n",
    "Bob ->> P1 : asynchrone Nachricht\n",
    "Bob <<-- P1 : Antwortnachricht\n",
    "@enduml"
   ]
  },
  {
   "cell_type": "markdown",
   "metadata": {},
   "source": [
    "#### Titel, Legenden und Notizen"
   ]
  },
  {
   "cell_type": "code",
   "execution_count": null,
   "metadata": {},
   "outputs": [],
   "source": [
    "%%plantuml\n",
    "\n",
    "@startuml\n",
    "\n",
    "title Titel: einfaches Kommunikationsbeispiel\n",
    "\n",
    "Alice -> Bob: Authentication Request\n",
    "Bob --> Alice: Authentication Response\n",
    "legend right\n",
    "  kurze Legende\n",
    "endlegend\n",
    "    \n",
    "@enduml"
   ]
  },
  {
   "cell_type": "markdown",
   "metadata": {},
   "source": [
    "#### Notizen\n",
    "Ein- und mehrzeilige Notizen können rechts und links von Lebenslinien angeordnet werden."
   ]
  },
  {
   "cell_type": "code",
   "execution_count": null,
   "metadata": {},
   "outputs": [],
   "source": [
    "%%plantuml\n",
    "\n",
    "@startuml\n",
    "\n",
    "Alice -> Bob: Authentication Request\n",
    "note right of Bob: Bob denkt darueber nach\n",
    "Bob->Bob : ich denke\n",
    "note left\n",
    "    eine Notiz\n",
    "    kann auch ueber mehrere\n",
    "    Zeilen gehen\n",
    "end note\n",
    "Bob --> Alice: Authentication Response\n",
    "note left of Alice: Bob antwortete   \n",
    "@enduml"
   ]
  },
  {
   "cell_type": "markdown",
   "metadata": {},
   "source": [
    "#### Gruppierung von Nachrichten\n",
    "Mit dieser Technologie können kombinierte Fragmente zur Realisierung von Kontrollstrukturen umgesetzt werden. Als Beispiel ist ein alternativer Ablauf mit 3 Operanden umgesetzt."
   ]
  },
  {
   "cell_type": "code",
   "execution_count": null,
   "metadata": {},
   "outputs": [],
   "source": [
    "%%plantuml\n",
    "\n",
    "@startuml\n",
    "A ->> B: Authentifizierungsanfrage\n",
    "\n",
    "alt erfolgreich\n",
    "\n",
    "    B -->> A: Authentifizierung akzeptiert\n",
    "    \n",
    "else Fehlerfall\n",
    "\n",
    "    B -->> A: Authentifizierungsfehler\n",
    "    \n",
    "else anderer Fehler\n",
    "\n",
    "   B -->> A: Bitte wiederholen\n",
    "   \n",
    "end\n",
    "@enduml"
   ]
  },
  {
   "cell_type": "code",
   "execution_count": null,
   "metadata": {},
   "outputs": [],
   "source": [
    "%%plantuml\n",
    "@startuml\n",
    "participant \":Student\" as A\n",
    "participant \":Studentenverwaltung\" as B\n",
    "participant \":Datenbank\" as C\n",
    "\n",
    "loop 1,3\n",
    "    A ->  B : login(name, pw)\n",
    "    B ->  C : pruefe(name, pw)\n",
    "    end\n",
    "    \n",
    "break falsches Passwort\n",
    "    B -> A : fehlermeldung\n",
    "    end\n",
    "\n",
    "A -> B : anmelden(matrNr, uebung)\n",
    "B -> C : eintragen(matrNr, uebung)\n",
    "@enduml"
   ]
  },
  {
   "cell_type": "code",
   "execution_count": null,
   "metadata": {},
   "outputs": [],
   "source": [
    "%%plantuml\n",
    "@startuml\n",
    "participant \":Student\" as A\n",
    "participant \":Studentenverwaltung\" as B\n",
    "\n",
    "group ref einloggen\n",
    "end\n",
    "A -> B : anmelden(pruefung)\n",
    "@enduml"
   ]
  },
  {
   "cell_type": "markdown",
   "metadata": {},
   "source": [
    "Die Nachrichtenfolge kann inhaltlich qualifiziert werden."
   ]
  },
  {
   "cell_type": "code",
   "execution_count": null,
   "metadata": {},
   "outputs": [],
   "source": [
    "%%plantuml\n",
    "\n",
    "@startuml\n",
    "\n",
    "== Initialization ==\n",
    "\n",
    "Alice -> Bob: Authentication Request\n",
    "Bob --> Alice: Authentication Response\n",
    "\n",
    "== Repetition ==\n",
    "\n",
    "Alice -> Bob: Another authentication Request\n",
    "Alice <-- Bob: another authentication Response\n",
    "\n",
    "@enduml"
   ]
  },
  {
   "cell_type": "markdown",
   "metadata": {},
   "source": [
    "#### Aktivierung und Deaktivierung der Lebenslinie\n",
    "Mit den Befehlen `activate` und `deactivate` können die Teilnehmer aktiviert und deaktiviert werden. Wenn ein Teilnehmer aktiviert wurde, dann erscheint seine Lebenlinie.\n",
    "\n",
    "Die Befehle `activate` und `deactivate` wirken nach der vorhergehenden Nachricht.\n",
    "\n",
    "Der Befehl `destroy` beendet die Lebenslinie eines Teilnehmers. "
   ]
  },
  {
   "cell_type": "code",
   "execution_count": null,
   "metadata": {},
   "outputs": [],
   "source": [
    "%%plantuml\n",
    "\n",
    "@startuml\n",
    "participant \":Applikation\" as A\n",
    "participant \":Datenbank\" as D\n",
    "\n",
    "note left of A: Sendeereignis\n",
    "A -> D: getDaten()\n",
    "activate A\n",
    "activate D\n",
    "\n",
    "note right of D: Ausfuehrungsspezifikation\n",
    "D --> A: x = getDaten(i):TRUE\n",
    "\n",
    "note left of A: Empfangsereignis\n",
    "\n",
    "deactivate D\n",
    "\n",
    "\n",
    "A -> A: verarbeiteDaten()\n",
    "activate A\n",
    "A --> A:\n",
    "deactivate A\n",
    "[o-> A: found\n",
    "A ->o]: lost\n",
    "destroy A\n",
    "destroy D\n",
    "@enduml"
   ]
  },
  {
   "cell_type": "markdown",
   "metadata": {
    "collapsed": true
   },
   "source": [
    "### Aufgabe Sequenzdiagramm\n",
    "Ein Student möchte sich zu einer Übung anmelden. Dabei können folgende Fälle eintreten:\n",
    "- Es ist ein Platz frei, den der Student erhält.\n",
    "- Es ist ein Platz in der Warteliste frei, den der Student nehmen kann.\n",
    "- Es ist auch in der Warteliste kein Platz frei. Der Student kann sich nicht anmelden.\n",
    "\n",
    "Erweiterung:\n",
    "Ein Student möchte sich bei der Studentenverwaltung zu einer Übung anmelden. Die Studentenverwaltung verfügt über eine\n",
    "Datenbank zur Verwaltung von Studenten und Übungsplätzen.\n",
    "\n",
    "Geben Sie das Sequenzdiagramm dafür an!"
   ]
  },
  {
   "cell_type": "markdown",
   "metadata": {},
   "source": [
    "### Weitere Aufgaben zu Sequenzdiagrammen"
   ]
  },
  {
   "cell_type": "markdown",
   "metadata": {},
   "source": [
    "[** Aufgabe 1 **](sequenz_uebung-a1.ipynb)\n",
    "\n",
    "[** Aufgabe 2 **](sequenz_uebung-a2.ipynb)\n",
    "\n",
    "[** Aufgabe 3 **](sequenz_uebung-a3.ipynb)\n",
    "\n",
    "[** Aufgabe 4 **](sequenz_uebung-a4.ipynb)\n",
    "\n",
    "[** Aufgabe 5 **](sequenz_uebung-a5.ipynb)\n",
    "\n",
    "[** Aufgabe 6 **](sequenz_uebung-a6.ipynb)\n",
    "\n",
    "[** Aufgabe 7 **](sequenz_uebung-a7.ipynb)"
   ]
  },
  {
   "cell_type": "markdown",
   "metadata": {},
   "source": [
    "#### Aufräumen des Verzeichnisses"
   ]
  },
  {
   "cell_type": "code",
   "execution_count": null,
   "metadata": {},
   "outputs": [],
   "source": [
    "!del *.plt\n",
    "!del *.svg"
   ]
  }
 ],
 "metadata": {
  "kernelspec": {
   "display_name": "Python 3",
   "language": "python",
   "name": "python3"
  },
  "language_info": {
   "codemirror_mode": {
    "name": "ipython",
    "version": 3
   },
   "file_extension": ".py",
   "mimetype": "text/x-python",
   "name": "python",
   "nbconvert_exporter": "python",
   "pygments_lexer": "ipython3",
   "version": "3.6.5"
  }
 },
 "nbformat": 4,
 "nbformat_minor": 1
}
