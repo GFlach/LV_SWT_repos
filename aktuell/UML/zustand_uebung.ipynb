{
 "cells": [
  {
   "cell_type": "markdown",
   "metadata": {},
   "source": [
    "[Aufgaben](klasse_uebung.ipynb)"
   ]
  },
  {
   "cell_type": "code",
   "execution_count": null,
   "metadata": {},
   "outputs": [],
   "source": [
    "%load_ext plantuml"
   ]
  },
  {
   "cell_type": "code",
   "execution_count": null,
   "metadata": {},
   "outputs": [],
   "source": [
    "import glob\n",
    "glob.glob(r'./*.jar')"
   ]
  },
  {
   "cell_type": "markdown",
   "metadata": {
    "collapsed": true
   },
   "source": [
    "### Erstellen von Zustandsdiagrammen"
   ]
  },
  {
   "cell_type": "code",
   "execution_count": null,
   "metadata": {},
   "outputs": [],
   "source": [
    "%%plantuml bild1\n",
    "@startuml\n",
    "left to right direction\n",
    "state \"nicht angemeldet\" as S1\n",
    "state \"angemeldet\" as S2\n",
    "\n",
    "S1 : neuer Termin/Termin pruefen\n",
    "\n",
    "S2 : entry/Termin eintragen\n",
    "S2 : do/fuer Pruefung lernen\n",
    "S2 : problem/mit Kollegen diskutieren\n",
    "S2 : exit/Termin loeschen\n",
    "\n",
    "S1 --> S2 : anmelden[Anmeldung moeglich]\n",
    "S2 --> S1 : abmelden[Abmeldung moeglich]\n",
    "\n",
    "@enduml"
   ]
  },
  {
   "cell_type": "markdown",
   "metadata": {},
   "source": [
    "[**Aufgabe 1**](zustand_uebung-a1.ipynb)\n",
    "\n",
    "[**Lösung**](zustand_uebung-a1-loesung.ipynb)\n",
    "\n",
    "[**Aufgabe 2**](zustand_uebung-a2.ipynb)\n",
    "\n",
    "[**Lösung**](zustand_uebung-a2-loesung.ipynb)\n",
    "\n",
    "[**Aufgabe 3**](zustand_uebung-a3.ipynb)\n",
    "\n",
    "[**Lösung**](zustand_uebung-a3-loesung.ipynb)\n",
    "\n",
    "[**Aufgabe 4**](zustand_uebung-a4.ipynb)\n",
    "\n",
    "[**Lösung**](zustand_uebung-a4-loesung.ipynb)"
   ]
  },
  {
   "cell_type": "markdown",
   "metadata": {},
   "source": [
    "Aufräumen des Verzeichnisses\n",
    "\n",
    "Die erzeugten Scripte und Bilder werden gelöscht."
   ]
  },
  {
   "cell_type": "code",
   "execution_count": 2,
   "metadata": {},
   "outputs": [],
   "source": [
    "!del *.plt\n",
    "!del *.svg"
   ]
  }
 ],
 "metadata": {
  "kernelspec": {
   "display_name": "Python 3",
   "language": "python",
   "name": "python3"
  },
  "language_info": {
   "codemirror_mode": {
    "name": "ipython",
    "version": 3
   },
   "file_extension": ".py",
   "mimetype": "text/x-python",
   "name": "python",
   "nbconvert_exporter": "python",
   "pygments_lexer": "ipython3",
   "version": "3.7.1"
  }
 },
 "nbformat": 4,
 "nbformat_minor": 1
}
