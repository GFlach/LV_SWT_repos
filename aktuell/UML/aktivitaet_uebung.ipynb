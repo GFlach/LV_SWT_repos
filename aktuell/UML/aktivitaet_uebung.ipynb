{
 "cells": [
  {
   "cell_type": "markdown",
   "metadata": {},
   "source": [
    "[Table of Contents](uml_table_of_contents.ipynb)"
   ]
  },
  {
   "cell_type": "code",
   "execution_count": null,
   "metadata": {
    "collapsed": true
   },
   "outputs": [],
   "source": [
    "%load_ext plantuml"
   ]
  },
  {
   "cell_type": "code",
   "execution_count": null,
   "metadata": {
    "collapsed": true
   },
   "outputs": [],
   "source": [
    "import glob\n",
    "glob.glob(r'./*.jar')"
   ]
  },
  {
   "cell_type": "markdown",
   "metadata": {},
   "source": [
    "### Übung zu Aktivitätsdiagrammen\n",
    "Im Folgenden werden einige Grundlagen aus PlantUML zur Erstellung von Aktivitätsdiagrammen zusammengestellt. Diese werden zur Erstellung eines beispielhaften Aktivitätsdiagramms (Ausstellen eines Studentenausweises) genutzt.\n",
    "- Ein Diagramm muss mit `%%plantuml` beginnen.\n",
    "- Das Diagramm kann unter dem nach `%%plantuml` angegebenen Namen als .svg-Datei gespeichert werden.\n",
    "- Der eigentliche Inhalt muss von `@startuml` und `@enduml` eingeschlossen werden."
   ]
  },
  {
   "cell_type": "code",
   "execution_count": null,
   "metadata": {
    "collapsed": true
   },
   "outputs": [],
   "source": [
    "%%plantuml\n",
    "@startuml\n",
    "start\n",
    ":Pruefung ablegen;\n",
    ":Zeugnis ausstellen\\n;\n",
    "stop\n",
    "@enduml"
   ]
  },
  {
   "cell_type": "code",
   "execution_count": null,
   "metadata": {
    "collapsed": true
   },
   "outputs": [],
   "source": [
    "%%plantuml\n",
    "@startuml\n",
    "partition \"Vorlesung durchfuehren\" {\n",
    "    \n",
    "    split\n",
    "    start\n",
    "    :Anmelden;\n",
    "    :Vorlesung besuchen;\n",
    "    split again\n",
    "    start\n",
    "    :Vorlesung vorbereiten;\n",
    "    :Vorlesung halten;\n",
    "    end split\n",
    "    :Pruefung\\nschreiben;\n",
    "    stop\n",
    "    }\n",
    "@enduml"
   ]
  },
  {
   "cell_type": "code",
   "execution_count": null,
   "metadata": {
    "collapsed": true
   },
   "outputs": [],
   "source": [
    "%%plantuml\n",
    "@startuml\n",
    ":Aktion1;\n",
    ":Aktion2;\n",
    "@enduml"
   ]
  },
  {
   "cell_type": "code",
   "execution_count": null,
   "metadata": {
    "collapsed": true
   },
   "outputs": [],
   "source": [
    "%%plantuml\n",
    "@startuml\n",
    ":Anmelden;\n",
    "if (test) then\n",
    "  -> [Platz frei];\n",
    "  :Gruppe auswaehlen;\n",
    "else\n",
    "  -> [kein Platz frei];\n",
    "  :In Warteliste eintragen;\n",
    "@enduml"
   ]
  },
  {
   "cell_type": "code",
   "execution_count": null,
   "metadata": {
    "collapsed": true
   },
   "outputs": [],
   "source": [
    "%%plantuml assoziation\n",
    "\n",
    "@startuml\n",
    "(Anwendungsfall 1) as AF1\n",
    ":wiss.MA: as MA\n",
    "actor Hugo\n",
    "actor Franz        \n",
    "MA -- AF1\n",
    "Hugo -- AF1 : Beschreibung\n",
    "Franz - AF1\n",
    "@enduml"
   ]
  },
  {
   "cell_type": "code",
   "execution_count": null,
   "metadata": {
    "collapsed": true
   },
   "outputs": [],
   "source": [
    "%%plantuml\n",
    "@startuml\n",
    "start\n",
    ":Vorlesung besuchen;\n",
    "if () then \n",
    ":Pruefung schreiben;\n",
    "endif\n",
    "    if () then\n",
    "    ->[note!=5]\n",
    "    stop\n",
    "    else\n",
    "    -> [Note==5]\n",
    "    :Pruefung schreiben;\n",
    "endif\n",
    "@enduml"
   ]
  },
  {
   "cell_type": "code",
   "execution_count": null,
   "metadata": {
    "collapsed": true
   },
   "outputs": [],
   "source": [
    "%%plantuml\n",
    "@startuml\n",
    "\n",
    "(*) --> \"Aktivitaet1\" \n",
    "--> ===B1=== \n",
    "--> \"Aktivitaet2\"\n",
    "--> ===B2===\n",
    "\n",
    "===B1=== --> \"Aktivitaet3\"\n",
    "--> ===B2===\n",
    "\n",
    "--> (*)\n",
    "\n",
    "@enduml"
   ]
  },
  {
   "cell_type": "code",
   "execution_count": null,
   "metadata": {
    "collapsed": true
   },
   "outputs": [],
   "source": [
    "%%plantuml\n",
    "\n",
    "@startuml\n",
    ":Ready;\n",
    ":next(o)|\n",
    ":Receiving;\n",
    "split\n",
    " :nak(i)<\n",
    " :ack(o)>\n",
    "split again\n",
    " :ack(i)<\n",
    " :next(o)\n",
    " on several line|\n",
    " :i := i + 1]\n",
    " :ack(o)>\n",
    "split again\n",
    " :err(i)<\n",
    " :nak(o)>\n",
    "split again\n",
    " :foo/\n",
    "split again\n",
    " :i > 5}\n",
    "stop\n",
    "end split\n",
    ":finish;\n",
    "@enduml"
   ]
  },
  {
   "cell_type": "markdown",
   "metadata": {},
   "source": [
    "#### Problembeschreibung\n",
    "Um einen Studentenausweis zu erhalten, muss ein Student diesen Ausweis bei einem Mitarbeiter der Studienabteilung beantragen. Der Mitarbeiter übergibt dem Studenten die Formulare, die für die Anmeldung an der Hochschule ausgefüllt werden müssen. Der Studentenausweis selbst ist als kleines Kärtchen aus Karton bei den Formularen enthalten. Auf diesen muss der Student seine Daten eintragen und der Mitarbeiter bestätigt diese mit einem Stempel, wenn er sie anhand einiger Dokumente überprüft hat. Der Studentenausweis ist erst gültig, wenn eine aktuelle Semestermarke eingeklebt wurde. Nachdem der Student die Formulare ausgefüllt hat, gibt er diese an den Mitarbeiter der Studienabteilung zurück und übergibt ihm Dokumente wie seinen Personalausweis, sein Abiturzeugnis, seine Meldebestätigung und seine Geburtsurkunde. Der Mitarbeiter prüft die Dokument. Sollten die Dokumente unvollständig sein oder ist der Student nicht berechtigt, einen Studentenausweis der Hochschule zu bekommen, wird der Prozess sofort abgebrochen. Sind die Dokumente in Ordnung, wird überprüft, ob der Student den Studentenausweis korrekt ausgefüllt hat. Ist hierbei ein Fehler passiert, wird der Ausweis vernichtet und der Student muss diesen erneut ausfüllen. Ansonsten wird der Ausweis gestempelt. Der Ausweis ist allerdings erst dann gültig, wenn der Student die Semestermarke eingeklebt hat, die er per Post zugeschickt bekommt."
   ]
  },
  {
   "cell_type": "markdown",
   "metadata": {},
   "source": [
    "[Aufgaben zu Aktivitätsdiagrammen](aktivitaet_uebung-a1.ipynb)"
   ]
  },
  {
   "cell_type": "markdown",
   "metadata": {},
   "source": [
    "#### Aufräumen des Verzeichnisses\n",
    "Die erzeugten Scripte und Bilder werden gelöscht."
   ]
  },
  {
   "cell_type": "code",
   "execution_count": null,
   "metadata": {
    "collapsed": true
   },
   "outputs": [],
   "source": [
    "!del *.svg\n",
    "!del *.plt"
   ]
  }
 ],
 "metadata": {
  "kernelspec": {
   "display_name": "Python 3",
   "language": "python",
   "name": "python3"
  },
  "language_info": {
   "codemirror_mode": {
    "name": "ipython",
    "version": 3
   },
   "file_extension": ".py",
   "mimetype": "text/x-python",
   "name": "python",
   "nbconvert_exporter": "python",
   "pygments_lexer": "ipython3",
   "version": "3.6.3"
  }
 },
 "nbformat": 4,
 "nbformat_minor": 1
}
