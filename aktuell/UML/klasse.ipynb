{
 "cells": [
  {
   "cell_type": "markdown",
   "metadata": {},
   "source": [
    "[Table of Contents](uml_table_of_contents.ipynb)"
   ]
  },
  {
   "cell_type": "markdown",
   "metadata": {},
   "source": [
    "### 3.3 Klassendiagramm\n",
    "#### 3.3.1 Objekt\n",
    "<img src=\"images/objektdiagramm1.jpg\" height=\"200\" width = \"500\">"
   ]
  },
  {
   "cell_type": "markdown",
   "metadata": {},
   "source": [
    "<img src=\"images/objektdiagramm2.jpg\" height=\"200\" width = \"150\">\n",
    "<img src=\"images/objektdiagramm3.jpg\" height=\"200\" width = \"150\">\n",
    "<img src=\"images/objektdiagramm4.jpg\" height=\"200\" width = \"150\">"
   ]
  },
  {
   "cell_type": "markdown",
   "metadata": {},
   "source": [
    "#### 3.3.2 Klasse\n",
    "<img src=\"images/klassendiagramm2.jpg\" height=\"200\" width = \"500\">\n",
    "#### 3.3.3 Assoziation und Assoziationsklasse\n",
    "<img src=\"images/kd_assoziation1.jpg\" height=\"200\" width = \"300\">\n",
    "<img src=\"images/kd_assoziation2.jpg\" height=\"200\" width = \"300\">\n",
    "#### 3.3.4 Aggregation\n",
    "<img src=\"images/kd_aggregation1.jpg\" height=\"200\" width = \"300\">\n",
    "<img src=\"images/kd_aggregation2.jpg\" height=\"200\" width = \"300\">\n",
    "#### 3.3.5 Generalisierung\n",
    "<img src=\"images/kd_generalisierung1.jpg\" height=\"200\" width = \"500\">\n",
    "<img src=\"images/kd_generalisierung2.jpg\" height=\"200\" width = \"800\">\n",
    "#### 3.3.6 Erstellen eines Klassendiagramms\n",
    "<img src=\"images/kd_bsp1.jpg\" height=\"200\" width = \"400\">\n",
    "<img src=\"images/kd_bsp2.jpg\" height=\"200\" width = \"400\">\n",
    "<img src=\"images/kd_bsp3.jpg\" height=\"200\" width = \"400\">\n",
    "<img src=\"images/kd_bsp4.jpg\" height=\"200\" width = \"600\">\n",
    "#### 3.3.7 Zusammenfassung\n",
    "<img src=\"images/klasse_zusammenfassung1.jpg\" height=\"200\" width = \"500\">\n",
    "<img src=\"images/klasse_zusammenfassung2.jpg\" height=\"200\" width = \"500\">\n",
    "<img src=\"images/klasse_zusammenfassung3.jpg\" height=\"200\" width = \"500\">"
   ]
  },
  {
   "cell_type": "markdown",
   "metadata": {},
   "source": [
    "[**3.3.7 Übung zu Klassen**](klasse_uebung.ipynb)"
   ]
  }
 ],
 "metadata": {
  "kernelspec": {
   "display_name": "Python 3",
   "language": "python",
   "name": "python3"
  },
  "language_info": {
   "codemirror_mode": {
    "name": "ipython",
    "version": 3
   },
   "file_extension": ".py",
   "mimetype": "text/x-python",
   "name": "python",
   "nbconvert_exporter": "python",
   "pygments_lexer": "ipython3",
   "version": "3.6.3"
  }
 },
 "nbformat": 4,
 "nbformat_minor": 1
}
