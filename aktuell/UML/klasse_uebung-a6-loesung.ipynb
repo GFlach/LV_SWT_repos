{
 "cells": [
  {
   "cell_type": "markdown",
   "metadata": {},
   "source": [
    "[Aufgaben](klasse_uebung.ipynb)"
   ]
  },
  {
   "cell_type": "code",
   "execution_count": null,
   "metadata": {
    "collapsed": true
   },
   "outputs": [],
   "source": [
    "%load_ext plantuml"
   ]
  },
  {
   "cell_type": "code",
   "execution_count": null,
   "metadata": {
    "collapsed": false
   },
   "outputs": [],
   "source": [
    "import glob\n",
    "glob.glob(r'./*.jar')"
   ]
  },
  {
   "cell_type": "markdown",
   "metadata": {
    "collapsed": true
   },
   "source": [
    "#### Aufgabe 6\n",
    "\n",
    "Entwerfen Sie ein UML2-Klassendiagramm basierend auf folgender Spezifikation für ein Computerspiel:\n",
    "\n",
    "Wieder einmal ist der Weltraum zu klein geworden. Menschen und Aliens können auf Grund von territorialen Streitigkeiten nicht in Frieden zusammenleben. Und das, obwohl sich Menschen und Aliens eigentlich gar nicht so stark unterscheiden. Beide werden durch Name, Größe, Alter und Lebensenergie charakterisiert. Allerdings gibt es gelbe, violette und orange Aliens. Von jedem Lebewesen ist bekannt, in welcher Stadt oder zumindest auf welchem Planet es lebt. Menschen sowie auch Aliens schließen sich zu Verbänden zusammen, die einen Namen und einen Anführer haben. Natürlich ist der Anführer eines Menschenverbands ein Mensch, und der Anführer eines Alienverbandes ist ein Alien. Verbände können untereinander alliiert sein, wobei manchmal sogar Allianzen zwischen Menschen und Aliens geschlossen werden. Viele Verbände sind jedoch verfeindet; allerdings sind Menschen nie mit Menschen und Aliens nie mit Aliens verfeindet. Der Grund der Feindseligkeiten ist immer auf einen Streit um die Vorherrschaft in einer oder mehreren Städten zurückzuführen. Der Beginn der Streitereien kann immer genau datiert werden. Um mobil zu sein, haben die Verbände Geld zusammengelegt und sich diverse Fahrzeuge angeschafft. Dies können herkömmliche Bodenfahrzeuge, aber auch Raumschiffe sein. Von jedem Fahrzeug ist neben seiner Bezeichnung auch seine Höchstgeschwindigkeit bekannt. Die Aliens haben Fahrzeuge entwickelt, die sowohl als Raumschiff als auch als Bodenfahrzeug verwendet werden können.\n"
   ]
  },
  {
   "cell_type": "markdown",
   "metadata": {},
   "source": [
    "#### Identifikation von Klassen"
   ]
  },
  {
   "cell_type": "markdown",
   "metadata": {},
   "source": [
    "#### <font color=\"#0000f0\">Verbale Beschreibung Klassen</font>"
   ]
  },
  {
   "cell_type": "markdown",
   "metadata": {},
   "source": [
    "#### <font color=\"#0000f0\">Diagrammelemente</font>"
   ]
  },
  {
   "cell_type": "markdown",
   "metadata": {},
   "source": [
    "#### Identifikation der Attribute"
   ]
  },
  {
   "cell_type": "markdown",
   "metadata": {},
   "source": [
    "#### <font color=\"#0000f0\">Verbale Beschreibung Klassen + Attribute</font>"
   ]
  },
  {
   "cell_type": "markdown",
   "metadata": {},
   "source": [
    "#### <font color=\"#0000f0\">Diagrammelemente</font>"
   ]
  },
  {
   "cell_type": "markdown",
   "metadata": {},
   "source": [
    "#### Identifikation der Beziehungen zwischen Klassen\n",
    "Nutzen Sie hierbei nach Möglichkeit auch Generalisierung und Aggregation."
   ]
  },
  {
   "cell_type": "markdown",
   "metadata": {},
   "source": [
    "#### <font color=\"#0000f0\">Verbale Beschreibung Klassenbeziehungen</font>"
   ]
  },
  {
   "cell_type": "markdown",
   "metadata": {},
   "source": [
    "#### Aufräumen des Verzeichnisses\n",
    "Die erzeugten Scripte und Bilder werden gelöscht."
   ]
  },
  {
   "cell_type": "code",
   "execution_count": null,
   "metadata": {
    "collapsed": true
   },
   "outputs": [],
   "source": [
    "!del *.plt\n",
    "!del *.svg"
   ]
  }
 ],
 "metadata": {
  "kernelspec": {
   "display_name": "Python 3",
   "language": "python",
   "name": "python3"
  },
  "language_info": {
   "codemirror_mode": {
    "name": "ipython",
    "version": 3
   },
   "file_extension": ".py",
   "mimetype": "text/x-python",
   "name": "python",
   "nbconvert_exporter": "python",
   "pygments_lexer": "ipython3",
   "version": "3.6.0"
  }
 },
 "nbformat": 4,
 "nbformat_minor": 1
}
