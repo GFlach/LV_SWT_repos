{
 "cells": [
  {
   "cell_type": "markdown",
   "metadata": {},
   "source": [
    "[Table of Contents](uml_table_of_contents.ipynb)"
   ]
  },
  {
   "cell_type": "markdown",
   "metadata": {},
   "source": [
    "### 3 Projektentwicklung mit UML\n",
    "Zur Darstellung von UML-Diagrammen ist Folgendes erforderlich:\n",
    "- JRE muss zur Verfügung stehen\n",
    "- *graphviz* muss installiert sein\n",
    "\n",
    "Die erzeugten Diagramme werden automatisch als `*.svg`-Datei im aktuellen Verzeichnis abgelegt. Diese können mit einem Bildverarbeitungsprogramm (z. B. GIMP) verarbeitet werden."
   ]
  }
 ],
 "metadata": {
  "kernelspec": {
   "display_name": "Python 3",
   "language": "python",
   "name": "python3"
  },
  "language_info": {
   "codemirror_mode": {
    "name": "ipython",
    "version": 3
   },
   "file_extension": ".py",
   "mimetype": "text/x-python",
   "name": "python",
   "nbconvert_exporter": "python",
   "pygments_lexer": "ipython3",
   "version": "3.6.0"
  }
 },
 "nbformat": 4,
 "nbformat_minor": 1
}
