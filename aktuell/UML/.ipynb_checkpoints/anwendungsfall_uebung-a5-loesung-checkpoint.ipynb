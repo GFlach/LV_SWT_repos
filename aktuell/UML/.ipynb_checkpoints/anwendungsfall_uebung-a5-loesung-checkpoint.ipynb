{
 "cells": [
  {
   "cell_type": "markdown",
   "metadata": {},
   "source": [
    "[Aufgaben](anwendungsfall_uebung.ipynb)"
   ]
  },
  {
   "cell_type": "code",
   "execution_count": null,
   "metadata": {
    "collapsed": true
   },
   "outputs": [],
   "source": [
    "%load_ext plantuml"
   ]
  },
  {
   "cell_type": "code",
   "execution_count": null,
   "metadata": {
    "collapsed": false
   },
   "outputs": [],
   "source": [
    "import glob\n",
    "glob.glob(r'./*.jar')"
   ]
  },
  {
   "cell_type": "markdown",
   "metadata": {},
   "source": [
    "#### Aufgabe 5\n",
    "Entwerfen Sie ein Anwendungsfalldiagramm zu der folgenden Beschreibung:\n",
    "\n",
    "Zu  Werbezwecken  erstellt  eine  Firma  eine  Zeitung. Beim  Zeitschriftenumlauf  wird  jede  neu erstellte  Zeitschrift  zunächst  von  der Bibliothek   registriert.   Dann   werten   die   Mitarbeiter die   Zeitschrift   inhaltlich   aus.   Welche Mitarbeiter  die  Zeitschrift  Korrektur  gelesen  haben,  soll  auf  einem  Laufzettel  vermerkt  werden. Dieser wird im Sekretariat erstellt. Wenn der letzte Leser die Zeitschrift gelesen hat, wird diese in der   Bibliothek   archiviert.   Dies   dient   zur   Dokumentation   des   Werbeerfolgs."
   ]
  },
  {
   "cell_type": "markdown",
   "metadata": {},
   "source": [
    "#### Identifikation von Akteuren"
   ]
  },
  {
   "cell_type": "markdown",
   "metadata": {},
   "source": [
    "#### <font color=\"#0000f0\">Verbale Beschreibung Akteure</font>\n",
    "\n",
    "- Bibliothek\n",
    "- Mitarbeiter\n",
    "- Sekretariat"
   ]
  },
  {
   "cell_type": "markdown",
   "metadata": {},
   "source": [
    "#### <font color=\"#0000f0\">Diagrammelemente</font>"
   ]
  },
  {
   "cell_type": "code",
   "execution_count": null,
   "metadata": {
    "collapsed": false
   },
   "outputs": [],
   "source": [
    "%%plantuml akteure\n",
    "@startuml\n",
    ":Bibliothek:\n",
    ":Mitarbeiter:\n",
    ":Sekretariat:\n",
    "@enduml"
   ]
  },
  {
   "cell_type": "markdown",
   "metadata": {},
   "source": [
    "#### Identifikation von Anwendungsfällen"
   ]
  },
  {
   "cell_type": "markdown",
   "metadata": {},
   "source": [
    "#### <font color=\"#0000f0\">Verbale Beschreibung Anwendungsfälle</font>\n",
    "- Zeitschrift registrieren\n",
    "- Zeitschrift auswerten\n",
    "- Korrektur lesen\n",
    "- Laufzettel erstellen\n",
    "- Zeitschrift archivieren"
   ]
  },
  {
   "cell_type": "markdown",
   "metadata": {},
   "source": [
    "#### <font color=\"#0000f0\">Diagrammelemente</font>"
   ]
  },
  {
   "cell_type": "code",
   "execution_count": null,
   "metadata": {
    "collapsed": false
   },
   "outputs": [],
   "source": [
    "%%plantuml anwendungsfaelle\n",
    "@startuml\n",
    "(Zeitschrift registrieren)\n",
    "(Zeitschrift auswerten)\n",
    "(Korrektur lesen)\n",
    "(Laufzettel erstellen)\n",
    "(Zeitschrift archivieren)\n",
    "@enduml"
   ]
  },
  {
   "cell_type": "markdown",
   "metadata": {},
   "source": [
    "#### Identifikation von Assoziationen"
   ]
  },
  {
   "cell_type": "markdown",
   "metadata": {},
   "source": [
    "#### <font color=\"#0000f0\">Verbale Beschreibung</font>\n",
    "- Bibliothek - Zeitschrift registrieren\n",
    "- Bibliothek - Zeitschrift archivieren\n",
    "- Mitarbeiter - Zeitschrift auswerten\n",
    "- Mitarbeiter - Korrektur lesen\n",
    "- Sekretariat - Laufzettel erstellen"
   ]
  },
  {
   "cell_type": "markdown",
   "metadata": {},
   "source": [
    "#### Anwendungsfalldiagramm"
   ]
  },
  {
   "cell_type": "code",
   "execution_count": null,
   "metadata": {
    "collapsed": false
   },
   "outputs": [],
   "source": [
    "%%plantuml anwendungsfalldiagramm\n",
    "@startuml\n",
    "left to right direction\n",
    ":Mitarbeiter: as M\n",
    ":Bibliothek: as B\n",
    ":Sekretariat: as S\n",
    "\n",
    "rectangle \"Dokumentation Werbeerfolg\" {\n",
    "(Zeitschrift registrieren) as ZR\n",
    "(Zeitschrift archivieren) as ZA\n",
    "(Zeitschrift auswerten) as ZB\n",
    "(Korrektur lesen) as KL\n",
    "(Laufzettel erstellen) as LE\n",
    "\n",
    "M -- ZB\n",
    "M -- KL\n",
    "\n",
    "B -- ZR\n",
    "B -- ZA\n",
    "    \n",
    "S -- LE\n",
    "\n",
    "}\n",
    "@enduml"
   ]
  },
  {
   "cell_type": "markdown",
   "metadata": {},
   "source": [
    "#### Beschreibung von Anwendungsfällen\n",
    "(Kopieren Sie die folgende Tabelle für jeden Anwendungsfall.)"
   ]
  },
  {
   "cell_type": "markdown",
   "metadata": {},
   "source": [
    "Name: | Korrektur lesen\n",
    ":-------------|:-------------|\n",
    "Kurzbeschreibung: | Zeitschrift wird geprüft\n",
    "Vorbedingung: | Zeitschrift vorhanden, Laufzettel vorhanden\n",
    "Nachbedingung: | Laufzettel vervollständigt\n",
    "Fehlersituation: | kein Laufzettel\n",
    "Systemzustand im Fehlerfall: | keine Bestätigung \n",
    "Akteure: | Testleser\n",
    "Trigger: | Zeitschrift + Laufzettel übergeben\n",
    "Standardablauf: |  Testleser liest Zeitschrift, füllt Laufzettel aus\n",
    "Alternativabläufe: | keine"
   ]
  },
  {
   "cell_type": "markdown",
   "metadata": {},
   "source": [
    "Name: | Zeitschrift auswerten\n",
    ":-------------|:-------------|\n",
    "Kurzbeschreibung: | \n",
    "Vorbedingung: | \n",
    "Nachbedingung: | \n",
    "Fehlersituation: | \n",
    "Systemzustand im Fehlerfall: | \n",
    "Akteure: | \n",
    "Trigger: | \n",
    "Standardablauf: |  \n",
    "Alternativabläufe: | "
   ]
  },
  {
   "cell_type": "markdown",
   "metadata": {},
   "source": [
    "Name: | Zeitschrift archivieren\n",
    ":-------------|:-------------|\n",
    "Kurzbeschreibung: | \n",
    "Vorbedingung: | \n",
    "Nachbedingung: | \n",
    "Fehlersituation: | \n",
    "Systemzustand im Fehlerfall: | \n",
    "Akteure: | \n",
    "Trigger: | \n",
    "Standardablauf: |  \n",
    "Alternativabläufe: | "
   ]
  },
  {
   "cell_type": "markdown",
   "metadata": {},
   "source": [
    "Name: | Zeitschrift registrieren\n",
    ":-------------|:-------------|\n",
    "Kurzbeschreibung: | \n",
    "Vorbedingung: | \n",
    "Nachbedingung: | \n",
    "Fehlersituation: | \n",
    "Systemzustand im Fehlerfall: | \n",
    "Akteure: | \n",
    "Trigger: | \n",
    "Standardablauf: |  \n",
    "Alternativabläufe: | "
   ]
  },
  {
   "cell_type": "markdown",
   "metadata": {},
   "source": [
    "Name: | Laufzettel erstellen\n",
    ":-------------|:-------------|\n",
    "Kurzbeschreibung: | \n",
    "Vorbedingung: | \n",
    "Nachbedingung: | \n",
    "Fehlersituation: | \n",
    "Systemzustand im Fehlerfall: | \n",
    "Akteure: | \n",
    "Trigger: | \n",
    "Standardablauf: |  \n",
    "Alternativabläufe: | "
   ]
  },
  {
   "cell_type": "markdown",
   "metadata": {},
   "source": [
    "#### Aufräumen des Verzeichnisses\n",
    "Die erzeugten Scripte und Bilder werden gelöscht."
   ]
  },
  {
   "cell_type": "code",
   "execution_count": null,
   "metadata": {
    "collapsed": false
   },
   "outputs": [],
   "source": [
    "%%cmd\n",
    "del *.plt\n",
    "del *.svg"
   ]
  }
 ],
 "metadata": {
  "kernelspec": {
   "display_name": "Python 3",
   "language": "python",
   "name": "python3"
  },
  "language_info": {
   "codemirror_mode": {
    "name": "ipython",
    "version": 3
   },
   "file_extension": ".py",
   "mimetype": "text/x-python",
   "name": "python",
   "nbconvert_exporter": "python",
   "pygments_lexer": "ipython3",
   "version": "3.6.0"
  }
 },
 "nbformat": 4,
 "nbformat_minor": 1
}
