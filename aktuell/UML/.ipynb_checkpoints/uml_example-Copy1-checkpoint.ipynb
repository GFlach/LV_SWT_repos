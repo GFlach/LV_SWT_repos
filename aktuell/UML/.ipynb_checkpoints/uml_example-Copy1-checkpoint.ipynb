{
 "cells": [
  {
   "cell_type": "markdown",
   "metadata": {},
   "source": [
    "[Table of Contents](uml_table_of_contents.ipynb)"
   ]
  },
  {
   "cell_type": "markdown",
   "metadata": {},
   "source": [
    "### 3.7 Zusammenfassendes Beispiel\n",
    "Für die Anwendung `Automatische Kasse` sollen beispielhaft UML-Diagramme entwickelt werden. Als Basis soll zunächst eine Projektspezifikation erstellt werden.\n",
    "\n",
    "### Aufgabe 0: Vorüberlegungen zum Projekt  `Automatische Kasse`\n",
    "\n",
    "#### Anforderungen\n",
    "1 Artikel (einscannen) ermitteln und wiegen\n",
    "\n",
    "2 Warenkorb anlegen und bearbeiten\n",
    "\n",
    "3 Bild- und Sprachausgabe\n",
    "\n",
    "4 an Kasse bezahlen\n",
    "\n",
    "5 Gutscheincode einscannen\n",
    "\n",
    "6 Artikel suchen\n",
    "\n",
    "7 Spracheingabe\n",
    "\n",
    "8 behindertengerecht\n",
    "\n",
    "#### Hardware\n",
    "Display, Touchscreen, BARCODE-Scanner, Kamera, Waage, Drucker, Computer, Bargeldmanagement, Kartenleser, Lautsprecher, Mikrofon, Statusanzeige, Bluetooth, Scanner, Kartenleser\n",
    "\n",
    "#### Nutzung der Hardware\n",
    "\n",
    "Anforderung | genutzte Hardware\n",
    ":------------|:-----------\n",
    "1 | Scanner/Kamera, Touchscreen, Waage, Bluetooth\n",
    "2 | Touchscreen\n",
    "3 | Touchscreen, Lautsprecher\n",
    "4 | Bargeldmanagement, Kartenleser, Touchscreen, Drucker, Bluetooth\n",
    "5 | Scanner, Touchscreen, Ablage, Bluetooth\n",
    "6 | Mikrofon, Touchscreen, Kamera, Bluetooth\n",
    "7 | Mikrofon\n",
    "8 | Lautsprecher"
   ]
  }
 ],
 "metadata": {
  "kernelspec": {
   "display_name": "Python 3",
   "language": "python",
   "name": "python3"
  },
  "language_info": {
   "codemirror_mode": {
    "name": "ipython",
    "version": 3
   },
   "file_extension": ".py",
   "mimetype": "text/x-python",
   "name": "python",
   "nbconvert_exporter": "python",
   "pygments_lexer": "ipython3",
   "version": "3.6.5"
  }
 },
 "nbformat": 4,
 "nbformat_minor": 1
}
