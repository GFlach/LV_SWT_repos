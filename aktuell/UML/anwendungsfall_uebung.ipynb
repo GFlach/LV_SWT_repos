{
 "cells": [
  {
   "cell_type": "markdown",
   "metadata": {},
   "source": [
    "[Table of Contents](uml_table_of_contents.ipynb)"
   ]
  },
  {
   "cell_type": "code",
   "execution_count": null,
   "metadata": {},
   "outputs": [],
   "source": [
    "%load_ext plantuml"
   ]
  },
  {
   "cell_type": "code",
   "execution_count": null,
   "metadata": {},
   "outputs": [],
   "source": [
    "import glob\n",
    "glob.glob(r'./*.jar')"
   ]
  },
  {
   "cell_type": "markdown",
   "metadata": {},
   "source": [
    "### Übung zu Anwendungsfällen\n",
    "\n",
    "Im Folgenden werden einige Grundlagen aus PlantUML zur Erstellung von Anwendungsfalldiagrammen zusammengestellt. Diese werden zur Erstellung eines beispielhaften Anwendungsfalldiagramms (Studienabteilung) genutzt.\n",
    "- Ein Diagramm muss mit `%%plantuml` beginnen.\n",
    "- Das Diagramm kann unter dem nach `%%plantuml` angegebenen Namen als .svg-Datei gespeichert werden.\n",
    "- Der eigentliche Inhalt muss von `@startuml` und `@enduml` eingeschlossen werden."
   ]
  },
  {
   "cell_type": "markdown",
   "metadata": {},
   "source": [
    "#### Anwendungsfall\n",
    "Ein Anwendungsfall wird \n",
    "- über seinen in Klammern eingeschlossenen Namen oder\n",
    "- mit dem Schlüsselwort `usecase`\n",
    "\n",
    "definiert. \n",
    "\n",
    "Mit dem Schlüsselwort `as` kann ein Alias definiert werden."
   ]
  },
  {
   "cell_type": "code",
   "execution_count": null,
   "metadata": {},
   "outputs": [],
   "source": [
    "%%plantuml anwendungsfall\n",
    "\n",
    "@startuml\n",
    "(Anwendungsfall v)\n",
    "usecase Daten_abfragen1\n",
    "usecase (Daten abfragen2)\n",
    "usecase (Pruefung planen) as PP\n",
    "@enduml"
   ]
  },
  {
   "cell_type": "markdown",
   "metadata": {},
   "source": [
    "#### Akteure\n",
    "Ein Akteur wird \n",
    "- über seinen zwischen Doppelpunkte geschriebenen Namen oder\n",
    "- mit dem Schlüsselwort `actor`\n",
    "definiert.\n",
    "\n",
    "Mit dem Schlüsselwort `as` kann ein Alias definiert werden."
   ]
  },
  {
   "cell_type": "code",
   "execution_count": null,
   "metadata": {},
   "outputs": [],
   "source": [
    "%%plantuml akteur\n",
    "\n",
    "@startuml\n",
    "actor Pauline\n",
    "actor Pauline_Meier\n",
    ":Paul Meier:\n",
    ":Paul_Maier:\n",
    "\n",
    "@enduml"
   ]
  },
  {
   "cell_type": "markdown",
   "metadata": {
    "collapsed": true
   },
   "source": [
    "#### Assoziationen\n",
    "Assoziationen zwischen Akteuren und Anwendungsfällen werden über das Symbol `-` realisiert. Die Anzahl der Minuszeichen bestimmt die Länge. Mit einem Doppelpunkt kann eine Beschreibung hinzugefügt werden. "
   ]
  },
  {
   "cell_type": "code",
   "execution_count": null,
   "metadata": {},
   "outputs": [],
   "source": [
    "%%plantuml assoziation\n",
    "\n",
    "@startuml\n",
    "(Anwendungsfall 1) as AF1\n",
    ":wiss.MA: as MA\n",
    "actor Hugo\n",
    "actor Franz        \n",
    "MA -- AF1\n",
    "Hugo -- AF1 : Beschreibung\n",
    "Franz - AF1\n",
    "@enduml"
   ]
  },
  {
   "cell_type": "markdown",
   "metadata": {},
   "source": [
    "#### Generalisierung von Akteuren"
   ]
  },
  {
   "cell_type": "code",
   "execution_count": null,
   "metadata": {},
   "outputs": [],
   "source": [
    "%%plantuml generalisierung1\n",
    "\n",
    "@startuml\n",
    ":wiss.MA: as MA\n",
    ":Professor: as P\n",
    "        \n",
    ":Nutzer: <|-- MA\n",
    ":Nutzer: <|-- P\n",
    "@enduml"
   ]
  },
  {
   "cell_type": "markdown",
   "metadata": {},
   "source": [
    "#### Generalisierung von Anwendungsfällen"
   ]
  },
  {
   "cell_type": "code",
   "execution_count": null,
   "metadata": {},
   "outputs": [],
   "source": [
    "%%plantuml generalisierung2\n",
    "@startuml\n",
    "(Start) <|-- (Use1)\n",
    "(Start) <|-- (Use2)\n",
    "@enduml"
   ]
  },
  {
   "cell_type": "markdown",
   "metadata": {},
   "source": [
    "#### Beschreibung von Anwendungsfällen\n",
    "Innerhalb der Diagramme können Anwendungsfälle mit unterschiedlichen Stilmitteln beschrieben werden."
   ]
  },
  {
   "cell_type": "code",
   "execution_count": null,
   "metadata": {},
   "outputs": [],
   "source": [
    "%%plantuml beschreibung\n",
    "@startuml\n",
    "\n",
    "usecase UC1 as \"Sie können mehrere \n",
    "Zeilen zur Beschreibung verwenden.\n",
    "Sie können Separatoren verwenden.\n",
    "--\n",
    "Mehrere Separatoren sind möglich.\n",
    "==\n",
    "Sie können Titel hinzufügen:\n",
    "..Folgerung..\n",
    "Das ermöglicht ausführliche Beschreibungen.\"\n",
    "\n",
    "@enduml"
   ]
  },
  {
   "cell_type": "code",
   "execution_count": null,
   "metadata": {},
   "outputs": [],
   "source": [
    "%%plantuml\n",
    "@startuml\n",
    "\n",
    "usecase UC1 as \"LVA anlegen\n",
    "--\n",
    "extension points\n",
    "Hörsaal auswählen\n",
    "\"\n",
    "\n",
    "@enduml"
   ]
  },
  {
   "cell_type": "markdown",
   "metadata": {},
   "source": [
    "#### Verwenden von Notizen\n",
    "Notizen können folgendermaßen an Akteure oder Anwendungsfälle gebunden werden:\n",
    "\n",
    "`note right/left/top/bottom of` Name des Akteurs bzw. Anwendungsfalls `: notiz` \n",
    "\n",
    "Notizen können eigene Objekte darstellen, die mit mit `note` gekennzeichnet werden. Mit dem Symbol `..` werden sie Akteuren oder Anwendungsfällen zugeordnet."
   ]
  },
  {
   "cell_type": "code",
   "execution_count": null,
   "metadata": {},
   "outputs": [],
   "source": [
    "%%plantuml notizen\n",
    "@startuml\n",
    ":Main Admin: as Admin\n",
    "(Use the application) as (Use)\n",
    "\n",
    "User -- (Start)\n",
    "User -- (Use)\n",
    "\n",
    "Admin -- (Use)\n",
    "\n",
    "note left of Admin : Das ist ein Beispiel.\n",
    "\n",
    "note top of (Start)\n",
    "  Eine Notiz kann\n",
    "  mehrzeilig sein\n",
    "end note\n",
    "\n",
    "note \"Diese Notiz gehört zu mehreren Anwendungsfällen.\" as N2\n",
    "(Start) .. N2\n",
    " N2 .. (Use)\n",
    "@enduml"
   ]
  },
  {
   "cell_type": "markdown",
   "metadata": {},
   "source": [
    "#### Ändern der Pfeilart und Richtung\n",
    "Länge und Linienart kann durch die Anzahl der Minuszeichen bzw. durch Verwendung des Punktes gesteuert werden. Assoziationen können mit Pfeilspitzen versehen werden. Die Anordnung der Anwndungsfälle kann mit den Schlüsselworten `left/right/up/down` gesteuert werden."
   ]
  },
  {
   "cell_type": "code",
   "execution_count": null,
   "metadata": {},
   "outputs": [],
   "source": [
    "%%plantuml pfeile\n",
    "\n",
    "@startuml\n",
    "        \n",
    ":user1: -- (Usecase 3)\n",
    ":user1: -- (Usecase 4)\n",
    "\n",
    ":user2: - (Usecase 5)\n",
    ":user2: -- (Usecase 6)\n",
    "        \n",
    ":user3: -left- (Left) \n",
    ":user3: -right- (Right)\n",
    ":user3: -up- (Up)\n",
    ":user3: .down. (Down)\n",
    "        \n",
    ":user: -up- (Usecase 1)\n",
    ":user: -up- (Usecase 2)\n",
    "\n",
    "@enduml"
   ]
  },
  {
   "cell_type": "code",
   "execution_count": null,
   "metadata": {},
   "outputs": [],
   "source": [
    "%%plantuml pfeile1\n",
    "@startuml\n",
    "@startuml\n",
    ":user1: .left. (Left) \n",
    ":user1: -right-> (Right) \n",
    ":user1: -up-> (Up)\n",
    ":user1: .down. (Down)\n",
    "        \n",
    ":user2: -left- (AW1) \n",
    ":user2: -right- (AW2) \n",
    "@enduml"
   ]
  },
  {
   "cell_type": "markdown",
   "metadata": {},
   "source": [
    "#### Titel\n",
    "Eine plantUML-Darstellung kann mit einem Titel versehen werden. Dies ist jedoch nicht der Name des zu beschreibenden Systems. Das muss durch ein Rechteck um die Anwendungsfälle gekennzeichnet werden, in dem der Name aufgeführt werden kann."
   ]
  },
  {
   "cell_type": "code",
   "execution_count": null,
   "metadata": {},
   "outputs": [],
   "source": [
    "%%plantuml titel\n",
    "@startuml\n",
    "title Einfacher <b>Anwendungsfall</b>\\nmit einem Akteur\n",
    "\n",
    "\"Anwendungsfall 1\" as (AF)\n",
    ":Nutzer: -- (AF)\n",
    "\n",
    "@enduml"
   ]
  },
  {
   "cell_type": "code",
   "execution_count": null,
   "metadata": {},
   "outputs": [],
   "source": [
    "%%plantuml\n",
    "\n",
    "@startuml\n",
    "left to right direction\n",
    "skinparam packageStyle rect\n",
    "'title Simple <b>Usecase</b>\\nwith one actor\n",
    "actor User\n",
    "rectangle \"System\" {\n",
    "usecase AF1 as \"Anwendungsfall 1\"\n",
    "usecase AF2 as \"Anwendungsfall 2\"\n",
    "User -- AF1\n",
    "User -- AF2\n",
    "}\n",
    "@enduml"
   ]
  },
  {
   "cell_type": "code",
   "execution_count": null,
   "metadata": {},
   "outputs": [],
   "source": [
    "%%plantuml pruefung\n",
    "\n",
    "@startuml\n",
    "left to right direction\n",
    "skinparam packageStyle rect\n",
    "actor Kunde as K\n",
    "actor Neukunde as NK\n",
    "actor Bestandskunde as BK\n",
    "NK --|> K\n",
    "BK --|> K\n",
    "rectangle \"Online Shop\" {\n",
    "usecase AF1 as \"Artikel auswaehlen\"\n",
    "usecase AF2 as \"Anschrift eingeben\"\n",
    "usecase AF3 as \"Anschrift pruefen\"\n",
    "usecase AF4 as \"Zahlungsmethode waehlen\n",
    "    --\n",
    "    extension points\n",
    "    Bankeinzug\n",
    "    \"\n",
    "usecase AF5 as \"Bestellung absenden\"\n",
    "usecase AF6 as \"Daten fuer Bezahlung eingeben\"\n",
    "usecase AF7 as \"Kundennummer eingeben\"\n",
    "usecase AF8 as \"Guthaben verwalten\"\n",
    "usecase AF9 as \"Guthaben anzeigen\"\n",
    "K -- AF1\n",
    "NK -- AF2\n",
    "AF2 --> AF3 : <<include>>\n",
    "K -- AF4\n",
    "K -- AF5\n",
    "AF4 <-- AF6 : <<extend>>\n",
    "BK -- AF7 \n",
    "BK -- AF8\n",
    "AF7 --> AF9 : <<include>>\n",
    "}\n",
    "@enduml"
   ]
  },
  {
   "cell_type": "markdown",
   "metadata": {},
   "source": [
    "#### Anordnung der Objekte\n",
    "Die voreingestellte Anordnung der Objekte bei der Erstellung des Diagramms ist von oben nach unten. Dies lässt sich durch die Verwendung des `left to right direction` Befehls verändern. Oft ist das Ergebnis mit dieser Einstellung besser. "
   ]
  },
  {
   "cell_type": "code",
   "execution_count": null,
   "metadata": {},
   "outputs": [],
   "source": [
    "%%plantuml anordnung\n",
    "@startuml\n",
    "user1 -- (Usecase 1)\n",
    "user2 -- (Usecase 2)\n",
    "@enduml"
   ]
  },
  {
   "cell_type": "code",
   "execution_count": null,
   "metadata": {},
   "outputs": [],
   "source": [
    "%%plantuml anordnung\n",
    "@startuml\n",
    "left to right direction\n",
    "user3 -- (Usecase 3)\n",
    "user3 -- (Usecase 4)\n",
    "\n",
    "@enduml"
   ]
  },
  {
   "cell_type": "markdown",
   "metadata": {},
   "source": [
    "#### Beipiel"
   ]
  },
  {
   "cell_type": "code",
   "execution_count": null,
   "metadata": {},
   "outputs": [],
   "source": [
    "%%plantuml beispiel\n",
    "@startuml\n",
    "left to right direction\n",
    "skinparam packageStyle rect\n",
    "actor customer\n",
    "actor clerk\n",
    "rectangle checkout {\n",
    "  customer -- (checkout)\n",
    "  customer -- (ringing)\n",
    "  (checkout) --> (payment) : <<include>>\n",
    "  (checkout) <-- (minibar)   : <<extends>>\n",
    "    clerk -- (checkout)\n",
    "}\n",
    "@enduml"
   ]
  },
  {
   "cell_type": "markdown",
   "metadata": {},
   "source": [
    "#### \"Trick\" zur Anordnung von Anwendungsfällen\n",
    "Entfernen der Kommentarzeichen am Ende des Beispiels"
   ]
  },
  {
   "cell_type": "code",
   "execution_count": null,
   "metadata": {},
   "outputs": [],
   "source": [
    "%%plantuml beispiel1\n",
    "@startuml\n",
    "left to right direction\n",
    "title Anwendungsfalldiagramm\n",
    "\n",
    "skinparam packageStyle rect\n",
    " \n",
    ":User A: as A\n",
    ":User B: as B\n",
    ":User C: as C\n",
    "rectangle \"Marks amazing system\" {\n",
    " A -- (UC 1)\n",
    " A -- (UC 2)\n",
    " A -- (UC 3)\n",
    " A -- (UC 4)\n",
    " A -- (UC 5)\n",
    " A -- (UC 6)\n",
    " A -- (UC 7)\n",
    "\n",
    " (UC 8) -- B \n",
    " (UC 9) -- B \n",
    " (UC 10) -- B \n",
    " \n",
    "'C -- (UC 11)\n",
    "'C -- (UC 12)\n",
    "'C -- (UC 13)\n",
    "'C -- (UC 14) \n",
    "(UC 11) -- C \n",
    "(UC 12) -- C \n",
    "(UC 13) -- C \n",
    "(UC 14) -- C \n",
    "     \n",
    "(UC 1) -[hidden]- (UC 8)\n",
    "(UC 2) -[hidden]- (UC 9)\n",
    "(UC 3) -[hidden]- (UC 10)\n",
    "(UC 4) -[hidden]- (UC 11)\n",
    "(UC 5) -[hidden]- (UC 12)\n",
    "(UC 6) -[hidden]- (UC 13)\n",
    "(UC 7) -- (UC 14)\n",
    "\n",
    "}\n",
    "@enduml"
   ]
  },
  {
   "cell_type": "code",
   "execution_count": null,
   "metadata": {},
   "outputs": [],
   "source": [
    "%%plantuml beispiel\n",
    "\n",
    "@startuml\n",
    "left to right direction\n",
    ":Gast: as G\n",
    ":Gastgeber: as GG\n",
    ":Polizei: as P\n",
    "rectangle \"Einweihungsfeier\" {\n",
    "usecase \"Tanzen\" as T\n",
    "usecase \"Unterhalten\" as U\n",
    "usecase \"Gäste\\nhinausbegleiten\" as GB\n",
    "usecase \"Nachschub ordern\" as NO\n",
    "usecase \"Feier auflösen\" as FA\n",
    "}\n",
    "G <|- GG\n",
    "G - T\n",
    "G - U\n",
    "P - FA\n",
    "GG - NO\n",
    "G - GB\n",
    "FA <-- GB   : <<extends>>\n",
    "@enduml"
   ]
  },
  {
   "cell_type": "markdown",
   "metadata": {
    "scrolled": true
   },
   "source": [
    "### Beispiel Anwendungsfalldiagramm\n",
    "#### Funktionalität des Informationssystems einer Studienabteilung"
   ]
  },
  {
   "cell_type": "markdown",
   "metadata": {
    "collapsed": true
   },
   "source": [
    "#### Spezifikation\n",
    "Viele wichtige Verwaltungstätigkeiten einer Hochschule werden über eine Studienabteilung abgewickelt. Studenten können sich hier für einen Studiengang immatrikulieren, für Module einschreiben und  exmatrikulieren. \n",
    "\n",
    "Studenten erhalten von der Studienabteilung ihre Zeugnisse, die von einem Mitarbeiter gedruckt werden. Zeugnisrelevante Daten werden durch Lehrende bereitgestellt. Die Studenten werden automatisch benachrichtigt, wenn ein Zeugnis bereit liegt.\n",
    "\n",
    "Es gibt 2 Arten von Mitarbeitern in der Studienabteilung:\n",
    "- Mitarbeiter, die ausschließlich Aufgaben zur Verwaltung der Studentendaten wahrnehmen\n",
    "- Mitarbeiter, die restliche Aufgaben wahrnehmen\n",
    "\n",
    "Alle Mitarbeiter können Auskünfte erteilen.\n",
    "\n",
    "Verwaltungsmitarbeiter stellen Zeugnisse aus, sobald der Student sie abholt. Zu den Verwaltungsaufgaben zählen das Erfassen von Lehrveranstaltungen, dabei kann ein Hörsaal reserviert werden."
   ]
  },
  {
   "cell_type": "markdown",
   "metadata": {},
   "source": [
    "Zur Erstellung des Anwendungsfalldiagramms sind folgende Teilaufgaben zu realisieren:\n",
    "\n",
    "- eine kurze verbale Beschreibung der Akteure und Anwendungsfälle\n",
    "- visualisieren der Elemente bzw. (Teil-)Systeme"
   ]
  },
  {
   "cell_type": "markdown",
   "metadata": {},
   "source": [
    "#### Identifikation von Akteuren"
   ]
  },
  {
   "cell_type": "markdown",
   "metadata": {},
   "source": [
    "#### <font color=\"#0000f0\">Verbale Beschreibung Akteure</font>\n",
    "- Student\n",
    "- Mitarbeiter Studentendaten\n",
    "- Mitarbeiter sonstiges\n",
    "- Lehrender\n",
    "- Benachrichtigungssystem"
   ]
  },
  {
   "cell_type": "markdown",
   "metadata": {},
   "source": [
    "#### <font color=\"#0000f0\">Diagrammelemente</font>"
   ]
  },
  {
   "cell_type": "code",
   "execution_count": null,
   "metadata": {},
   "outputs": [],
   "source": [
    "%%plantuml akteure\n",
    "@startuml\n",
    ":Student:\n",
    ":Mitarbeiter Studentendaten:\n",
    ":Mitarbeiter sonstiges:\n",
    ":Lehrender:\n",
    ":Benachrichtigungssystem:\n",
    "@enduml"
   ]
  },
  {
   "cell_type": "markdown",
   "metadata": {},
   "source": [
    "#### Identifikation von Anwendungsfällen"
   ]
  },
  {
   "cell_type": "markdown",
   "metadata": {},
   "source": [
    "#### <font color=\"#0000f0\">Verbale Beschreibung Anwendungsfälle</font>\n",
    "- immatrikulieren\n",
    "- Modul einschreiben\n",
    "- exmatrikulieren\n",
    "- Zeugnis drucken\n",
    "- zeugnisrelevante Daten bereitstellen\n",
    "- Student informieren\n",
    "- Auskunft erteilen\n",
    "- LV erfassen\n",
    "- Hörsaal reservieren"
   ]
  },
  {
   "cell_type": "markdown",
   "metadata": {},
   "source": [
    "#### <font color=\"#0000f0\">Diagrammelemente</font>"
   ]
  },
  {
   "cell_type": "code",
   "execution_count": null,
   "metadata": {},
   "outputs": [],
   "source": [
    "%%plantuml anwendungsfaelle\n",
    "@startuml\n",
    "(immatrikulieren )\n",
    "(Modul einschreiben)\n",
    "(exmatrikulieren)\n",
    "(Zeugnis drucken)\n",
    "(zeugnisrelevante Daten bereitstellen)\n",
    "(Student informieren)\n",
    "(Auskunft erteilen)\n",
    "(LV erfassen)\n",
    "(Hoersaal reservieren)\n",
    "@enduml"
   ]
  },
  {
   "cell_type": "markdown",
   "metadata": {},
   "source": [
    "#### Identifikation von Assoziationen"
   ]
  },
  {
   "cell_type": "markdown",
   "metadata": {},
   "source": [
    "#### <font color=\"#0000f0\">Verbale Beschreibung</font>\n",
    "- immatrikulieren - Mitarbeiter Studentendaten\n",
    "- Modul einschreiben - Mitarbeiter Studentendaten\n",
    "- exmatrikulieren - Mitarbeiter Studentendaten\n",
    "- Zeugnis drucken - Mitarbeiter sonstiges\n",
    "- zeugnisrelevante Daten bereitstellen - Lehrender\n",
    "- Student informieren - Benachrichtigungssystem\n",
    "- Auskunft erteilen - Mitarbeiter Studentendaten, Mitarbeiter sonstiges\n",
    "- LV erfassen - Mitarbeiter sonstiges\n",
    "- Hörsaal reservieren - ..."
   ]
  },
  {
   "cell_type": "markdown",
   "metadata": {},
   "source": [
    "#### Anwendungsfalldiagramm"
   ]
  },
  {
   "cell_type": "code",
   "execution_count": null,
   "metadata": {},
   "outputs": [],
   "source": [
    "%%plantuml anwendungsfalldiagramm\n",
    "@startuml\n",
    "left to right direction\n",
    ":Mitarbeiter Studentendaten: as MS\n",
    ":Mitarbeiter sonstiges: as Ms\n",
    ":Lehrender: as L\n",
    ":Benachrichtigungssystem: as BS\n",
    ":Supermitarbeiter: as SM\n",
    "\n",
    "rectangle \"Informationssystem\" {\n",
    "(immatrikulieren) as AF1\n",
    "(Modul einschreiben) as AF2\n",
    "(exmatrikulieren) as AF3\n",
    "(Zeugnis drucken) as AF4\n",
    "(zeugnisrelevante Daten bereitstellen) as AF5\n",
    "(Student informieren) as AF6\n",
    "(Auskunft erteilen) as AF7\n",
    "(LV erfassen) as AF8\n",
    "(Hörsaal reservieren) as AF9\n",
    "\n",
    "MS -- AF1\n",
    "MS -- AF2\n",
    "MS -- AF3\n",
    "\n",
    "Ms -- AF4\n",
    "Ms -- AF8\n",
    "\n",
    "L -- AF5\n",
    "\n",
    "BS -- AF6\n",
    "\n",
    "SM <|-- MS\n",
    "SM <|-- Ms\n",
    "SM  -- AF7\n",
    "\n",
    "AF8 <-- AF9:<<extend>>\n",
    "}\n",
    "@enduml"
   ]
  },
  {
   "cell_type": "markdown",
   "metadata": {},
   "source": [
    "#### Beschreibung von Anwendungsfällen"
   ]
  },
  {
   "cell_type": "markdown",
   "metadata": {},
   "source": [
    "Name: | immatrikulieren\n",
    ":-------------|:-------------|\n",
    "Kurzbeschreibung: | MS soll Daten des Studenten einpflegen\n",
    "Vorbedingung: | genehmigter Imma-Antrag liegt vor\n",
    "Nachbedingung: | Student ist im System bekannt\n",
    "Fehlersituation: | Student bereits bekannt\n",
    "Systemzustand im Fehlerfall: | Rückweisung\n",
    "Akteure: | MS\n",
    "Trigger: | genehmigter Imma-Antrag liegt vor\n",
    "Standardablauf: | 1. Identifizieren 2. Daten eingeben(Tastatur) 3. Daten prüfen 4a. Speichern, schließen, abmelden, 4b. Abbruch\n",
    "Alternativabläufe: | 1. Identifizieren 2. Daten eingeben(Scanner) 3. Daten prüfen 4a. Speichern, schließen, abmelden, 4b. Abbruch"
   ]
  },
  {
   "cell_type": "markdown",
   "metadata": {},
   "source": [
    "Name: | Modul einschreiben\n",
    ":-------------|:-------------|\n",
    "Kurzbeschreibung: | MS soll Student in LV eintragen\n",
    "Vorbedingung: | Teilnahme möglich (immatrikuliert, freie Plätze, Vorleistungen)\n",
    "Nachbedingung: | Student ist eigeschrieben, 1 Platz weniger\n",
    "Fehlersituation: | Teilnahme nicht möglich\n",
    "Systemzustand im Fehlerfall: | Rückweisung\n",
    "Akteure: | MS\n",
    "Trigger: | Antrag auf Einschreibung liegt vor\n",
    "Standardablauf: | 1. Identifizieren 2. Daten eingeben 3. Speichern, schließen, abmelden             \n",
    "Alternativabläufe: |"
   ]
  },
  {
   "cell_type": "markdown",
   "metadata": {},
   "source": [
    "Name: | exmatrikulieren\n",
    ":-------------|:-------------|\n",
    "Kurzbeschreibung: | MS soll Student auf Status exmatrikuliert setzen\n",
    "Vorbedingung: | Student ist im System vermerkt\n",
    "Nachbedingung: | Student hat Status exmatrikuliert\n",
    "Fehlersituation: | Student ist nicht im System vermerkt\n",
    "Systemzustand im Fehlerfall: | Rückweisung\n",
    "Akteure: | MS\n",
    "Trigger: | Exmatrikulationsantrag\n",
    "Standardablauf: | 1. Identifizieren 2. Status ändern 3. Speichern, schließen, abmelden \n",
    "Alternativabläufe: | -"
   ]
  },
  {
   "cell_type": "markdown",
   "metadata": {},
   "source": [
    "Name: | Zeugnis drucken\n",
    ":-------------|:-------------|\n",
    "Kurzbeschreibung: | Drucken des Zeugnisses für einen Studenten\n",
    "Vorbedingung: | Zeugnisdaten liegen vor\n",
    "Nachbedingung: | Zeugnis ist gedruckt\n",
    "Fehlersituation: | Drucker defekt\n",
    "Systemzustand im Fehlerfall: | Zeugnis nicht gedruckt\n",
    "Akteure: | Ms\n",
    "Trigger: | Anforderung eines Zeugnisses\n",
    "Standardablauf: | 1. Identifizieren 2. Student auswählen 3. Drucker auswählen 4. schließen, abmelden \n",
    "Alternativabläufe: | 1. Identifizieren 2. Student auswählen 3. Zeugnis per email versenden 4. schließen, abmelden"
   ]
  },
  {
   "cell_type": "markdown",
   "metadata": {},
   "source": [
    "Name: | LV erfassen\n",
    ":-------------|:-------------|\n",
    "Kurzbeschreibung: | (neue) LV in das System eingeben\n",
    "Vorbedingung: | LV beschrieben und genehmigt\n",
    "Nachbedingung: | LV im System vorhanden\n",
    "Fehlersituation: | Vorbedingung nicht erfüllt\n",
    "Systemzustand im Fehlerfall: | Rückweisung\n",
    "Akteure: | Ms\n",
    "Trigger: | LV genehmigt\n",
    "Standardablauf: |  1. Identifizieren 2. Daten eingeben 3. speichern schließen, abmelden\n",
    "Alternativabläufe: | -"
   ]
  },
  {
   "cell_type": "markdown",
   "metadata": {},
   "source": [
    "Name: | Auskunft erteilen\n",
    ":-------------|:-------------|\n",
    "Kurzbeschreibung: | gewünschte Information wird im System gesucht\n",
    "Vorbedingung: | passende Informationsanfrage\n",
    "Nachbedingung: | -\n",
    "Fehlersituation: | passende Informationsanfrage\n",
    "Systemzustand im Fehlerfall: | Rückweisung\n",
    "Akteure: | MS oder Ms\n",
    "Trigger: | passende Informationsanfrage liegt vor\n",
    "Standardablauf: | 1. Identifizieren 2. Suchanfrage stellen 3. Information mündlich weiterleiten 4. schließen, abmelden \n",
    "Alternativabläufe: | 1. Identifizieren 2. Suchanfrage stellen 3. Information per email weiterleiten 4. schließen, abmelden"
   ]
  },
  {
   "cell_type": "markdown",
   "metadata": {},
   "source": [
    "Name: | zeugnisrelevante Daten eingeben\n",
    ":-------------|:-------------|\n",
    "Kurzbeschreibung: | zeugnisrelevante Daten werden im System hinterlegt\n",
    "Vorbedingung: | neue zeugnisrelevante Daten liegen vor\n",
    "Nachbedingung: | zeugnisrelevante Daten sind aktualisiert\n",
    "Fehlersituation: | Student unbekannt\n",
    "Systemzustand im Fehlerfall: | Meldung an Prüfungsamt\n",
    "Akteure: | L\n",
    "Trigger: | neue zeugnisrelevante Daten liegen vor\n",
    "Standardablauf: |  1. Identifizieren 2. Daten eingeben 3. speichern, schließen, abmelden\n",
    "Alternativabläufe: | 1. Identifizieren 2. Daten eingeben 3. Daten drucken 4.speichern, schließen, abmelden"
   ]
  },
  {
   "cell_type": "markdown",
   "metadata": {},
   "source": [
    "Name: | Student informieren\n",
    ":-------------|:-------------|\n",
    "Kurzbeschreibung: | Student wird über Vorliegen des Zeugnisses informiert\n",
    "Vorbedingung: | Zeugnis liegt vor\n",
    "Nachbedingung: | Zeugnis ist abgeholt\n",
    "Fehlersituation: | -\n",
    "Systemzustand im Fehlerfall: | -\n",
    "Akteure: | BS\n",
    "Trigger: | Student hat Zeugnis angefordert\n",
    "Standardablauf: | Student wird per email informiert \n",
    "Alternativabläufe: | -\n",
    "\n",
    "Hier ist zu überlegen, ob ein extra Akteur und Anwendungsfall nötig ist, oder die Information beim Druck des Zeugnisses mit abgesetzt werden kann."
   ]
  },
  {
   "cell_type": "markdown",
   "metadata": {},
   "source": [
    "Name: | Hörsaal reservieren\n",
    ":-------------|:-------------|\n",
    "Kurzbeschreibung: | zu LV wird Hörsaal angefordert\n",
    "Vorbedingung: | LV liegt vor\n",
    "Nachbedingung: | LV mit Hörsaal versehen\n",
    "Fehlersituation: | kein Hörsaal frei\n",
    "Systemzustand im Fehlerfall: | LV ohne Hörsaal\n",
    "Akteure: | Ms\n",
    "Trigger: | LV wird angelegt\n",
    "Standardablauf: | 1. Identifizieren 2. LV ermitteln 3. Bedarf ermitteln 4. Hörsaal suchen 5. LV und Hörsaal verknüpfen 6. speichern, schließen, abmelden\n",
    "Alternativabläufe: | -"
   ]
  },
  {
   "cell_type": "markdown",
   "metadata": {},
   "source": [
    "### Weitere Aufgaben zu Anwendungsfällen"
   ]
  },
  {
   "cell_type": "markdown",
   "metadata": {},
   "source": [
    "[**Aufgabe 1**](anwendungsfall_uebung-a1.ipynb) \n",
    "\n",
    "[**Lösung**](anwendungsfall_uebung-a1-loesung.ipynb)"
   ]
  },
  {
   "cell_type": "markdown",
   "metadata": {},
   "source": [
    "[**Aufgabe 2**](anwendungsfall_uebung-a2.ipynb)\n",
    "\n",
    "[**Lösung**](anwendungsfall_uebung-a2-loesung.ipynb)"
   ]
  },
  {
   "cell_type": "markdown",
   "metadata": {},
   "source": [
    "[**Aufgabe 3**](anwendungsfall_uebung-a3.ipynb)\n",
    "\n",
    "[**Lösung**](anwendungsfall_uebung-a3-loesung.ipynb)"
   ]
  },
  {
   "cell_type": "markdown",
   "metadata": {},
   "source": [
    "[**Aufgabe 4**](anwendungsfall_uebung-a4.ipynb)\n",
    "\n",
    "[**Lösung**](anwendungsfall_uebung-a4-loesung.ipynb)"
   ]
  },
  {
   "cell_type": "markdown",
   "metadata": {},
   "source": [
    "[**Aufgabe 5**](anwendungsfall_uebung-a5.ipynb)\n",
    "\n",
    "[**Lösung**](anwendungsfall_uebung-a5-loesung.ipynb)"
   ]
  },
  {
   "cell_type": "markdown",
   "metadata": {},
   "source": [
    "#### Aufräumen des Verzeichnisses\n",
    "Die erzeugten Scripte und Bilder werden gelöscht."
   ]
  },
  {
   "cell_type": "code",
   "execution_count": 43,
   "metadata": {},
   "outputs": [],
   "source": [
    "!del *.svg\n",
    "!del *.plt"
   ]
  }
 ],
 "metadata": {
  "kernelspec": {
   "display_name": "Python 3",
   "language": "python",
   "name": "python3"
  },
  "language_info": {
   "codemirror_mode": {
    "name": "ipython",
    "version": 3
   },
   "file_extension": ".py",
   "mimetype": "text/x-python",
   "name": "python",
   "nbconvert_exporter": "python",
   "pygments_lexer": "ipython3",
   "version": "3.6.5"
  }
 },
 "nbformat": 4,
 "nbformat_minor": 1
}
