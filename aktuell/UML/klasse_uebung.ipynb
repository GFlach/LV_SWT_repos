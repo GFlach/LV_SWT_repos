{
 "cells": [
  {
   "cell_type": "markdown",
   "metadata": {},
   "source": [
    "[Table of Contents](uml_table_of_contents.ipynb)"
   ]
  },
  {
   "cell_type": "code",
   "execution_count": null,
   "metadata": {},
   "outputs": [],
   "source": [
    "%load_ext plantuml"
   ]
  },
  {
   "cell_type": "code",
   "execution_count": null,
   "metadata": {},
   "outputs": [],
   "source": [
    "import glob\n",
    "glob.glob(r'./*.jar')"
   ]
  },
  {
   "cell_type": "markdown",
   "metadata": {
    "collapsed": true
   },
   "source": [
    "### Übung zu Klassen\n",
    "Im Folgenden werden einige Grundlagen aus PlantUML zur Erstellung von Klassendiagrammen zusammengestellt. Diese werden zur Erstellung eines beispielhaften Klassendiagramms  genutzt.\n",
    "- Ein Diagramm muss mit `%%plantuml` beginnen.\n",
    "- Das Diagramm kann unter dem nach `%%plantuml` angegebenen Namen als .svg-Datei gespeichert werden.\n",
    "- Der eigentliche Inhalt muss von `@startuml` und `@enduml` eingeschlossen werden."
   ]
  },
  {
   "cell_type": "markdown",
   "metadata": {},
   "source": [
    "#### Objektdiagramm\n",
    "In Objektdiagrammen werden konkrete Instanzen der Klassen dargestellt. Objekte werden über einen Namen (und die Klasse) oder nur die Klasse (abstraktes Objekt) beschrieben. Die Attribute haben konkrete Werte."
   ]
  },
  {
   "cell_type": "code",
   "execution_count": null,
   "metadata": {},
   "outputs": [],
   "source": [
    "%%plantuml beispiel_objekt\n",
    "@startuml\n",
    "object \"<u><b>heidiLeitha:Student\" as o1\n",
    "o1 : vorname = \"Heidi\"\n",
    "o1 : nachname = \"Leitha\"\n",
    "o1 : gebDat = 04-02-1980\n",
    "o1 : matrNr = \"9824321\"\n",
    "@enduml"
   ]
  },
  {
   "cell_type": "markdown",
   "metadata": {},
   "source": [
    "#### Klassen\n",
    "Die Klassen repräsentieren die Bestandteile der Domäne. Sie haben einen Namen, Attribute und Methoden. Für Klassen können alias-Namen festgelegt werden. In plantUML werden Klassen standardmäßig durch das Symbol (C) gekennzeichnet. Mit `hide` kann das Symbol und auch der Attribut- bzw. Methodenabschnitt unterdrückt werden. Die Darstellungsform der Sichtbarkeit kann mit `skinparam classAttributeIconSize 0` beeinflusst werden. Diese Form gilt für alle Klassen des aktuellen Diagramms.\n"
   ]
  },
  {
   "cell_type": "code",
   "execution_count": null,
   "metadata": {},
   "outputs": [],
   "source": [
    "%%plantuml klassen\n",
    "@startuml\n",
    "left to right direction\n",
    "class \"<b>Lehrveranstaltung\" as c1\n",
    "class \"<b>Lehrveranstaltung\" as c2 {\n",
    "    name\n",
    "    semester\n",
    "    stunden\n",
    "    getEcts()\n",
    "    getLehrende()\n",
    "    getNotendurchschnitt()\n",
    "}\n",
    "class \"<b>Lehrveranstaltung\" as c3 {\n",
    "    +name:String\n",
    "    +semester:SemesterTyp\n",
    "    -stunden:float\n",
    "    -/ects:int\n",
    "    +getEcts():int\n",
    "    +getLehrende():Vortragende\n",
    "    +getNotendurchschnitt():float\n",
    "    +getStunden():float\n",
    "    +setStunden(stunde:float):void\n",
    "}\n",
    "hide c1 circle\n",
    "hide c1 fields\n",
    "hide c1 methods\n",
    "hide c2 circle \n",
    "skinparam classAttributeIconSize 0\n",
    "@enduml"
   ]
  },
  {
   "cell_type": "markdown",
   "metadata": {},
   "source": [
    "#### Beziehungen\n",
    "Zwischen Klassen werden Beziehungen definiert. Hierbei wird zwischen\n",
    " - einfacher Beziehung\n",
    " - navigierbarer Beziehung\n",
    " - starker Aggregation\n",
    " - schwacher Aggregation\n",
    " - Generalisierung \n",
    " \n",
    "unterschieden."
   ]
  },
  {
   "cell_type": "code",
   "execution_count": null,
   "metadata": {},
   "outputs": [],
   "source": [
    "%%plantuml beziehungen\n",
    "@startuml\n",
    "class01 <|-- class02: Generalisierung\n",
    "class03 *-- class04: starke Aggregation\n",
    "class05 o-- class06: schwache Aggregation\n",
    "class07 -- class08: einfache Beziehung\n",
    "class09 --> class10: navigierbare Beziehung\n",
    "hide circle\n",
    "hide fields\n",
    "hide methods\n",
    "@enduml"
   ]
  },
  {
   "cell_type": "markdown",
   "metadata": {},
   "source": [
    "Beziehungen können mit weiteren Informationen versehen werden.\n",
    "- Name\n",
    "- Leserichtung\n",
    "- Multiplizität\n",
    "- Rolle"
   ]
  },
  {
   "cell_type": "code",
   "execution_count": null,
   "metadata": {},
   "outputs": [],
   "source": [
    "%%plantuml beziehung_erweitert\n",
    "@startuml\n",
    "left to right direction\n",
    "class \"<u><b>Professor\" as p1\n",
    "class \"<u><b>Student\" as s1\n",
    "\n",
    "hide circle \n",
    "hide fields\n",
    "hide methods\n",
    "s1 \"*\" --> \"*\\n+vortragender\" p1 : < haeltVortragFuer\n",
    "@enduml"
   ]
  },
  {
   "cell_type": "markdown",
   "metadata": {},
   "source": [
    "Eine Beziehung kann auch als Klasse modelliert werden."
   ]
  },
  {
   "cell_type": "code",
   "execution_count": null,
   "metadata": {},
   "outputs": [],
   "source": [
    "%%plantuml beziehung_klasse\n",
    "@startuml\n",
    "left to right direction\n",
    "class \"<u><b>Studium\" as s1\n",
    "class \"<u><b>Student\" as s2\n",
    "class \"<u><b>Einschreibung\" as s3 {\n",
    "    +beginnDatum: Date\n",
    "    }\n",
    "\n",
    "hide circle \n",
    "hide s1 fields\n",
    "hide s2 fields\n",
    "hide methods\n",
    "\n",
    "s1 \"1..*\" -- \"*\" s2\n",
    "(s1,s2) .. s3\n",
    "@enduml"
   ]
  },
  {
   "cell_type": "markdown",
   "metadata": {},
   "source": [
    "### Aufgabe Klassendiagramm\n",
    "Klassen innerhalb eines Informationssystems einer Hochschule"
   ]
  },
  {
   "cell_type": "markdown",
   "metadata": {},
   "source": [
    "#### Spezifikation\n",
    "- Eine Hochschule besteht aus mehreren Fakultäten, zu denen Professuren gehören können. Jede Fakultät und jede Professur besitzt eine Bezeichnung. Für die Hochschule ist eine Adresse bekannt.\n",
    "- Jede Fakultät wird von einem Mitarbeiter der Fakultät (Dekan) geleitet.\n",
    "- Die Anzahl der Mitarbeiter ist bekannt. Ein Mitarbeiter hat einen Namen, eine email-Adresse und eine Sozialversicherungsnummer. Es gibt wissenschaftliches und nichtwissenschaftliches Personal.\n",
    "- Wissenschaftliche Mitarbeiter sind zumindest einer Professur zugeordnet. Wissenschaftliche Mitarbeiter können eine Anzahl von Stunden an Projekten mit Name, Start- und Enddatum arbeiten. Manche wissenschaftliche Mitarbeiter führen als Vortragende Lehrveranstaltungen durch.\n",
    "- Lehrveranstaltungen haben eine eindeutige Nummer, einen Namen, eine Stunden- und eine Creditanzahl. "
   ]
  },
  {
   "cell_type": "markdown",
   "metadata": {},
   "source": [
    "Zur Erstellung des Klassendiagramms sind folgende Teilaufgaben zu realisieren:\n",
    "\n",
    "Geben Sie dazu zunächst eine kurze verbale Beschreibung an (durch Einfügen einer Markdown-Zelle) und visualisieren Sie im Anschluss die Elemente bzw. (Teil-)Systeme.\n"
   ]
  },
  {
   "cell_type": "markdown",
   "metadata": {},
   "source": [
    "#### Identifikation von Klassen"
   ]
  },
  {
   "cell_type": "markdown",
   "metadata": {},
   "source": [
    "#### <font color=\"#0000f0\">Verbale Beschreibung Klassen</font>\n",
    "- Fakultät\n",
    "- Professur\n",
    "- Mitarbeiter (wissenschaftlich, nichtwissenschaftlich)\n",
    "- Lehrveranstaltung\n",
    "- Projekt\n",
    "- Hochschule"
   ]
  },
  {
   "cell_type": "markdown",
   "metadata": {},
   "source": [
    "#### <font color=\"#0000f0\">Diagrammelemente</font>"
   ]
  },
  {
   "cell_type": "code",
   "execution_count": null,
   "metadata": {},
   "outputs": [],
   "source": [
    "%%plantuml\n",
    "@startuml\n",
    "left to right direction\n",
    "class \"Fakultaet\" as F\n",
    "class \"Professur\" as P \n",
    "class \"Mitarbeiter\" as M \n",
    "class \"wissenschaftlicher Mitarbeiter\" as WM \n",
    "class \"nichtwissenschaftlicher Mitarbeiter\" as NM \n",
    "class \"Lehrveranstaltung\" as L \n",
    "class \"Projekt\" as PR\n",
    "class \"Hochschule\" as H\n",
    "hide circle\n",
    "hide fields\n",
    "hide methods\n",
    "@enduml"
   ]
  },
  {
   "cell_type": "markdown",
   "metadata": {},
   "source": [
    "#### Identifikation der Attribute"
   ]
  },
  {
   "cell_type": "markdown",
   "metadata": {},
   "source": [
    "#### <font color=\"#0000f0\">Verbale Beschreibung Klassen + Attribute</font>\n",
    "- Fakultät (Bezeichnung, Anzahl_Mitarbeiter)\n",
    "- Professur (Bezeichnung)\n",
    "- Mitarbeiter (Name, email, SV-Nr)\n",
    "- wissenschaftlicher Mitarbeiter (Name, email, SV-Nr)\n",
    "- nichtwissenschaftlicher Mitarbeiter (Name, email, SV-Nr)\n",
    "- Lehrveranstaltung (Nummer, Name, Stundenanzahl, Credits)\n",
    "- Projekt (Name, Start, Ende)\n",
    "- Hochschule (Adresse)"
   ]
  },
  {
   "cell_type": "markdown",
   "metadata": {},
   "source": [
    "#### <font color=\"#0000f0\">Diagrammelemente</font>"
   ]
  },
  {
   "cell_type": "code",
   "execution_count": null,
   "metadata": {},
   "outputs": [],
   "source": [
    "%%plantuml\n",
    "@startuml\n",
    "left to right direction\n",
    "class \"Fakultaet\" as F {\n",
    "    Bezeichnung: string\n",
    "    Anzahl_Mitarbeiter: int\n",
    "}\n",
    "class \"Professur\" as P {\n",
    "    Bezeichnung: string    \n",
    "} \n",
    "class \"Mitarbeiter\" as M {\n",
    "    Name: string\n",
    "    email: string\n",
    "    SV-Nr: string\n",
    "}\n",
    "class \"wissenschaftlicher Mitarbeiter\" as WM {\n",
    "    Name: string\n",
    "    email: string\n",
    "    SV-Nr: string\n",
    "}\n",
    "class \"nichtwissenschaftlicher Mitarbeiter\" as NM {\n",
    "    Name: string\n",
    "    email: string\n",
    "    SV-Nr: string\n",
    "}\n",
    "class \"Lehrveranstaltung\" as L {\n",
    "    Nummer: int\n",
    "    Name: string\n",
    "    Studentenzahl: int\n",
    "    Credits: float\n",
    "}\n",
    "class \"Projekt\" as PR {\n",
    "    Name: string\n",
    "    Start: Datum\n",
    "    Ende: Datum\n",
    "}\n",
    "class \"Hochschule\" as H {\n",
    "    Adresse: string\n",
    "}\n",
    "hide circle\n",
    "hide methods\n",
    "@enduml"
   ]
  },
  {
   "cell_type": "markdown",
   "metadata": {},
   "source": [
    "#### Identifikation der Beziehungen zwischen Klassen\n",
    "Nutzen Sie hierbei nach Möglichkeit auch Generalisierung und Aggregation."
   ]
  },
  {
   "cell_type": "markdown",
   "metadata": {},
   "source": [
    "#### <font color=\"#0000f0\">Verbale Beschreibung Klassenbeziehungen</font>\n",
    "- Hochschule besteht aus Fakultäten\n",
    "- Professur gehört zu Fakultät\n",
    "- Fakultät wird von Mitarbeiter in der Rolle Dekan geleitet\n",
    "- zu Mitarbeitern gehört wissenschaftliches und nichtwissenschaftliches Personal\n",
    "- abstrakte Klasse Mitarbeiter (Name, email, SV-Nr)\n",
    "- wissenschaftliche Mitarbeiter sind Professur zugeordnet\n",
    "- wissenschftliche Mitarbeiter können an Projekten mitarbeiten (Stundenzahl)\n",
    "- wissenschftliche Mitarbeiter können in der Rolle Votragender Lehrveranstaltungen durchführen"
   ]
  },
  {
   "cell_type": "markdown",
   "metadata": {},
   "source": [
    "#### <font color=\"#0000f0\">vollständiges Klassendiagramm in UML</font>"
   ]
  },
  {
   "cell_type": "code",
   "execution_count": null,
   "metadata": {},
   "outputs": [],
   "source": [
    "%%plantuml\n",
    "@startuml\n",
    "class \"Fakultaet\" as F {\n",
    "    Bezeichnung: string\n",
    "    Anzahl_Mitarbeiter: int\n",
    "}\n",
    "class \"Professur\" as P {\n",
    "    Bezeichnung: string    \n",
    "} \n",
    "class \"Mitarbeiter\" as M {\n",
    "    Name: string\n",
    "    email: string\n",
    "    SV-Nr: string\n",
    "}\n",
    "class \"wissenschaftlicher Mitarbeiter\" as WM {\n",
    "}\n",
    "class \"nichtwissenschaftlicher Mitarbeiter\" as NM {\n",
    "}\n",
    "class \"Lehrveranstaltung\" as L {\n",
    "    Nummer: int\n",
    "    Name: string\n",
    "    Studentenzahl: int\n",
    "    Credits: float\n",
    "}\n",
    "class \"Projekt\" as PR {\n",
    "    Name: string\n",
    "    Start: Datum\n",
    "    Ende: Datum\n",
    "}\n",
    "class \"Hochschule\" as H {\n",
    "    Adresse: string\n",
    "}\n",
    "class \"Beteiligung\" as B {\n",
    "    Stunden: float\n",
    "}\n",
    "hide circle\n",
    "hide methods\n",
    "H \"1\" -- \"1...*\" F : > besteht aus\n",
    "F \"1\" -- \"*\" P\n",
    "M <|-- WM\n",
    "M <|-- NM\n",
    "F \"1\" -- \"1\\n+ Dekan\" M : < leitet\n",
    "WM \"1...* \\n+ Vortragender\" --- \"*\" L : > führt durch\n",
    "WM \"*\" -- \"*\" PR : > arbeitet an\n",
    "(WM, PR) .. B    \n",
    "@enduml"
   ]
  },
  {
   "cell_type": "markdown",
   "metadata": {},
   "source": [
    "#### <font color=\"#0000f0\">vollständiges Klassendiagramm zur Umsetzung</font>"
   ]
  },
  {
   "cell_type": "code",
   "execution_count": null,
   "metadata": {},
   "outputs": [],
   "source": [
    "%%plantuml\n",
    "@startuml\n",
    "class \"Fakultaet\" as F {\n",
    "    Bezeichnung: string\n",
    "    Adresse_Hochschule: string\n",
    "    Anzahl_Mitarbeiter: int\n",
    "    Dekan: Mitarbeiter_SV-Nr: string\n",
    "    set_attr(attr)\n",
    "    get_attr(attr)\n",
    "}\n",
    "class \"Professur\" as P {\n",
    "    Bezeichnung: string  \n",
    "    Fakultät_Bezeichnung: string\n",
    "    set_attr(attr)\n",
    "    get_attr(attr)\n",
    "} \n",
    "class \"Mitarbeiter\" as M {\n",
    "    Name: string\n",
    "    email: string\n",
    "    SV-Nr: string\n",
    "    set_attr(attr)\n",
    "    get_attr(attr)\n",
    "}\n",
    "class \"wissenschaftlicher Mitarbeiter\" as WM {\n",
    "    LV_durchführen(Lehrveranstaltung_Nummer)\n",
    "    Projektmitarbeit(Projekt_Name, Stunden)\n",
    "}\n",
    "class \"nichtwissenschaftlicher Mitarbeiter\" as NM {\n",
    "}\n",
    "class \"Lehrveranstaltung\" as L {\n",
    "    Nummer: int\n",
    "    Name: string\n",
    "    Studentenzahl: int\n",
    "    Credits: float\n",
    "    set_attr(attr)\n",
    "    get_attr(attr)\n",
    "}\n",
    "class \"Projekt\" as PR {\n",
    "    Name: string\n",
    "    Start: Datum\n",
    "    Ende: Datum\n",
    "    set_attr(attr)\n",
    "    get_attr(attr)\n",
    "}\n",
    "class \"Hochschule\" as H {\n",
    "    Adresse: string\n",
    "    set_attr(attr)\n",
    "    get_attr(attr)\n",
    "}\n",
    "hide circle\n",
    "M <|-- WM\n",
    "M <|-- NM\n",
    "@enduml"
   ]
  },
  {
   "cell_type": "markdown",
   "metadata": {},
   "source": [
    "### Weitere Aufgaben zu Klassendiagrammen"
   ]
  },
  {
   "cell_type": "markdown",
   "metadata": {
    "collapsed": true
   },
   "source": [
    "[** Aufgabe 1 **](klasse_uebung-a1.ipynb)\n",
    "\n",
    "[** Lösung **](klasse_uebung-a1-loesung.ipynb)\n",
    "\n",
    "[** Aufgabe 2 **](klasse_uebung-a2.ipynb)\n",
    "\n",
    "[** Lösung **](klasse_uebung-a2-loesung.ipynb)\n",
    "\n",
    "[** Aufgabe 3 **](klasse_uebung-a3.ipynb)\n",
    "\n",
    "[** Lösung **](klasse_uebung-a3-loesung.ipynb)\n",
    "\n",
    "[** Aufgabe 4 **](klasse_uebung-a4.ipynb)\n",
    "\n",
    "[** Lösung **](klasse_uebung-a4-loesung.ipynb)\n",
    "\n",
    "[** Aufgabe 5 **](klasse_uebung-a5.ipynb)\n",
    "\n",
    "[** Lösung **](klasse_uebung-a5-loesung.ipynb)\n",
    "\n",
    "[** Aufgabe 6 **](klasse_uebung-a6.ipynb)\n",
    "\n",
    "[** Lösung **](klasse_uebung-a6-loesung.ipynb)\n",
    "\n",
    "[** Aufgabe 7 **](klasse_uebung-a7.ipynb)\n",
    "\n",
    "[** Lösung **](klasse_uebung-a7-loesung.ipynb)\n",
    "\n",
    "[** Aufgabe 8 **](klasse_uebung-a8.ipynb)\n",
    "\n",
    "[** Lösung **](klasse_uebung-a8-loesung.ipynb)\n",
    "\n",
    "[** Aufgabe 9 **](klasse_uebung-a9.ipynb)\n",
    "\n",
    "[** Lösung **](klasse_uebung-a9-loesung.ipynb)\n"
   ]
  },
  {
   "cell_type": "markdown",
   "metadata": {},
   "source": [
    "#### Aufräumen des Verzeichnisses\n",
    "Die erzeugten Scripte und Bilder werden gelöscht."
   ]
  },
  {
   "cell_type": "code",
   "execution_count": null,
   "metadata": {},
   "outputs": [],
   "source": [
    "!del *.plt\n",
    "!del *.svg"
   ]
  }
 ],
 "metadata": {
  "kernelspec": {
   "display_name": "Python 3",
   "language": "python",
   "name": "python3"
  },
  "language_info": {
   "codemirror_mode": {
    "name": "ipython",
    "version": 3
   },
   "file_extension": ".py",
   "mimetype": "text/x-python",
   "name": "python",
   "nbconvert_exporter": "python",
   "pygments_lexer": "ipython3",
   "version": "3.6.5"
  }
 },
 "nbformat": 4,
 "nbformat_minor": 1
}
