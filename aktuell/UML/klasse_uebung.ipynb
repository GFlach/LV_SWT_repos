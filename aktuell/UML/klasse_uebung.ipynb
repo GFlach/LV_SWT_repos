{
 "cells": [
  {
   "cell_type": "markdown",
   "metadata": {},
   "source": [
    "[Table of Contents](uml_table_of_contents.ipynb)"
   ]
  },
  {
   "cell_type": "code",
   "execution_count": 1,
   "metadata": {},
   "outputs": [],
   "source": [
    "%load_ext plantuml"
   ]
  },
  {
   "cell_type": "code",
   "execution_count": 2,
   "metadata": {},
   "outputs": [
    {
     "data": {
      "text/plain": [
       "['.\\\\plantuml.jar']"
      ]
     },
     "execution_count": 2,
     "metadata": {},
     "output_type": "execute_result"
    }
   ],
   "source": [
    "import glob\n",
    "glob.glob(r'./*.jar')"
   ]
  },
  {
   "cell_type": "markdown",
   "metadata": {
    "collapsed": true
   },
   "source": [
    "### Übung zu Klassen\n",
    "Im Folgenden werden einige Grundlagen aus PlantUML zur Erstellung von Klassendiagrammen zusammengestellt. Diese werden zur Erstellung eines beispielhaften Klassendiagramms  genutzt.\n",
    "- Ein Diagramm muss mit `%%plantuml` beginnen.\n",
    "- Das Diagramm kann unter dem nach `%%plantuml` angegebenen Namen als .svg-Datei gespeichert werden.\n",
    "- Der eigentliche Inhalt muss von `@startuml` und `@enduml` eingeschlossen werden."
   ]
  },
  {
   "cell_type": "markdown",
   "metadata": {},
   "source": [
    "#### Objektdiagramm\n",
    "In Objektdiagrammen werden konkrete Instanzen der Klassen dargestellt. Objekte werden über einen Namen (und die Klasse) oder nur die Klasse (abstraktes Objekt) beschrieben. Die Attribute haben konkrete Werte."
   ]
  },
  {
   "cell_type": "code",
   "execution_count": null,
   "metadata": {},
   "outputs": [],
   "source": [
    "%%plantuml beispiel_objekt\n",
    "@startuml\n",
    "object \"<u><b>heidiLeitha:Student\" as o1\n",
    "o1 : vorname = \"Heidi\"\n",
    "o1 : nachname = \"Leitha\"\n",
    "o1 : gebDat = 04-02-1980\n",
    "o1 : matrNr = \"9824321\"\n",
    "@enduml"
   ]
  },
  {
   "cell_type": "markdown",
   "metadata": {},
   "source": [
    "#### Klassen\n",
    "Die Klassen repräsentieren die Bestandteile der Domäne. Sie haben einen Namen, Attribute und Methoden. Für Klassen können alias-Namen festgelegt werden. In plantUML werden Klassen standardmäßig durch das Symbol (C) gekennzeichnet. Mit `hide` kann das Symbol und auch der Attribut- bzw. Methodenabschnitt unterdrückt werden. Die Darstellungsform der Sichtbarkeit kann mit `skinparam classAttributeIconSize 0` beeinflusst werden. Diese Form gilt für alle Klassen des aktuellen Diagramms.\n"
   ]
  },
  {
   "cell_type": "code",
   "execution_count": null,
   "metadata": {},
   "outputs": [],
   "source": [
    "%%plantuml klassen\n",
    "@startuml\n",
    "left to right direction\n",
    "class \"<b>Lehrveranstaltung\" as c1\n",
    "class \"<b>Lehrveranstaltung\" as c2 {\n",
    "    name\n",
    "    semester\n",
    "    stunden\n",
    "    getEcts()\n",
    "    getLehrende()\n",
    "    getNotendurchschnitt()\n",
    "}\n",
    "class \"<b>Lehrveranstaltung\" as c3 {\n",
    "    +name:String\n",
    "    +semester:SemesterTyp\n",
    "    -stunden:float\n",
    "    -/ects:int\n",
    "    +getEcts():int\n",
    "    +getLehrende():Vortragende\n",
    "    +getNotendurchschnitt():float\n",
    "    +getStunden():float\n",
    "    +setStunden(stunde:float):void\n",
    "}\n",
    "hide c1 circle\n",
    "hide c1 fields\n",
    "hide c1 methods\n",
    "hide c2 circle \n",
    "skinparam classAttributeIconSize 0\n",
    "@enduml"
   ]
  },
  {
   "cell_type": "markdown",
   "metadata": {},
   "source": [
    "#### Beziehungen\n",
    "Zwischen Klassen werden Beziehungen definiert. Hierbei wird zwischen\n",
    " - einfacher Beziehung\n",
    " - navigierbarer Beziehung\n",
    " - starker Aggregation\n",
    " - schwacher Aggregation\n",
    " - Generalisierung \n",
    " \n",
    "unterschieden."
   ]
  },
  {
   "cell_type": "code",
   "execution_count": null,
   "metadata": {},
   "outputs": [],
   "source": [
    "%%plantuml beziehungen\n",
    "@startuml\n",
    "class01 <|-- class02: Generalisierung\n",
    "class03 *-- class04: starke Aggregation\n",
    "class05 o-- class06: schwache Aggregation\n",
    "class07 -- class08: einfache Beziehung\n",
    "class09 --> class10: navigierbare Beziehung\n",
    "hide circle\n",
    "hide fields\n",
    "hide methods\n",
    "@enduml"
   ]
  },
  {
   "cell_type": "markdown",
   "metadata": {},
   "source": [
    "Beziehungen können mit weiteren Informationen versehen werden.\n",
    "- Name\n",
    "- Leserichtung\n",
    "- Multiplizität\n",
    "- Rolle"
   ]
  },
  {
   "cell_type": "code",
   "execution_count": null,
   "metadata": {},
   "outputs": [],
   "source": [
    "%%plantuml beziehung_erweitert\n",
    "@startuml\n",
    "left to right direction\n",
    "class \"<u><b>Professor\" as p1\n",
    "class \"<u><b>Student\" as s1\n",
    "\n",
    "hide circle \n",
    "hide fields\n",
    "hide methods\n",
    "s1 \"*\" --> \"*\\n+vortragender\" p1 : < haeltVortragFuer\n",
    "@enduml"
   ]
  },
  {
   "cell_type": "markdown",
   "metadata": {},
   "source": [
    "Eine Beziehung kann auch als Klasse modelliert werden."
   ]
  },
  {
   "cell_type": "code",
   "execution_count": null,
   "metadata": {},
   "outputs": [],
   "source": [
    "%%plantuml beziehung_klasse\n",
    "@startuml\n",
    "left to right direction\n",
    "class \"<u><b>Studium\" as s1\n",
    "class \"<u><b>Student\" as s2\n",
    "class \"<u><b>Einschreibung\" as s3 {\n",
    "    +beginnDatum: Date\n",
    "    }\n",
    "\n",
    "hide circle \n",
    "hide s1 fields\n",
    "hide s2 fields\n",
    "hide methods\n",
    "\n",
    "s1 \"1..*\" -- \"*\" s2\n",
    "(s1,s2) .. s3\n",
    "@enduml"
   ]
  },
  {
   "cell_type": "markdown",
   "metadata": {},
   "source": [
    "### Aufgabe Klassendiagramm\n",
    "Klassen innerhalb eines Informationssystems einer Hochschule"
   ]
  },
  {
   "cell_type": "markdown",
   "metadata": {},
   "source": [
    "#### Spezifikation\n",
    "- Eine Hochschule besteht aus mehreren Fakultäten, zu denen Professuren gehören können. Jede Fakultät und jede Professur besitzt eine Bezeichnung. Für die Hochschule ist eine Adresse bekannt.\n",
    "- Jede Fakultät wird von einem Mitarbeiter der Fakultät (Dekan) geleitet.\n",
    "- Die Anzahl der Mitarbeiter ist bekannt. Ein Mitarbeiter hat einen Namen, eine email-Adresse und eine Sozialversicherungsnummer. Es gibt wissenschaftliches und nichtwissenschaftliches Personal.\n",
    "- Wissenschaftliche Mitarbeiter sind zumindest einer Professur zugeordnet. Wissenschaftliche Mitarbeiter können eine Anzahl von Stunden an Projekten mit Name, Start- und Enddatum arbeiten. Manche wissenschaftliche Mitarbeiter führen als Vortragende Lehrveranstaltungen durch.\n",
    "- Lehrveranstaltungen haben eine eindeutige Nummer, einen Namen, eine Stunden- und eine Creditanzahl. "
   ]
  },
  {
   "cell_type": "markdown",
   "metadata": {},
   "source": [
    "Zur Erstellung des Klassendiagramms sind folgende Teilaufgaben zu realisieren:\n",
    "\n",
    "Geben Sie dazu zunächst eine kurze verbale Beschreibung an (durch Einfügen einer Markdown-Zelle) und visualisieren Sie im Anschluss die Elemente bzw. (Teil-)Systeme.\n"
   ]
  },
  {
   "cell_type": "markdown",
   "metadata": {},
   "source": [
    "#### Identifikation von Klassen"
   ]
  },
  {
   "cell_type": "markdown",
   "metadata": {},
   "source": [
    "#### <font color=\"#0000f0\">Verbale Beschreibung Klassen</font>\n",
    "- Fakultät\n",
    "- Professur\n",
    "- Mitarbeiter (wissenschaftlich, nichtwissenschaftlich)\n",
    "- Lehrveranstaltung\n",
    "- Projekt\n",
    "- Hochschule"
   ]
  },
  {
   "cell_type": "markdown",
   "metadata": {},
   "source": [
    "#### <font color=\"#0000f0\">Diagrammelemente</font>"
   ]
  },
  {
   "cell_type": "code",
   "execution_count": 3,
   "metadata": {},
   "outputs": [
    {
     "data": {
      "image/svg+xml": [
       "<svg height=\"162px\" style=\"width:465px;height:162px;\" version=\"1.1\" viewBox=\"0 0 465 162\" width=\"465px\" xmlns=\"http://www.w3.org/2000/svg\" xmlns:xlink=\"http://www.w3.org/1999/xlink\"><defs><filter height=\"300%\" id=\"f1\" width=\"300%\" x=\"-1\" y=\"-1\"><feGaussianBlur result=\"blurOut\" stdDeviation=\"2.0\"/><feColorMatrix in=\"blurOut\" result=\"blurOut2\" type=\"matrix\" values=\"0 0 0 0 0 0 0 0 0 0 0 0 0 0 0 0 0 0 .4 0\"/><feOffset dx=\"4.0\" dy=\"4.0\" in=\"blurOut2\" result=\"blurOut3\"/><feBlend in=\"SourceGraphic\" in2=\"blurOut3\" mode=\"normal\"/></filter></defs><g><rect fill=\"#FEFECE\" filter=\"url(#f1)\" height=\"25.0938\" style=\"stroke: #A80036; stroke-width: 1.5;\" width=\"56\" x=\"9.5\" y=\"8\"/><text fill=\"#000000\" font-family=\"sans-serif\" font-size=\"12\" lengthAdjust=\"spacingAndGlyphs\" textLength=\"50\" x=\"12.5\" y=\"25.457\">Fakultaet</text><rect fill=\"#FEFECE\" filter=\"url(#f1)\" height=\"25.0938\" style=\"stroke: #A80036; stroke-width: 1.5;\" width=\"60\" x=\"7.5\" y=\"68\"/><text fill=\"#000000\" font-family=\"sans-serif\" font-size=\"12\" lengthAdjust=\"spacingAndGlyphs\" textLength=\"54\" x=\"10.5\" y=\"85.457\">Professur</text><rect fill=\"#FEFECE\" filter=\"url(#f1)\" height=\"25.0938\" style=\"stroke: #A80036; stroke-width: 1.5;\" width=\"63\" x=\"6\" y=\"128\"/><text fill=\"#000000\" font-family=\"sans-serif\" font-size=\"12\" lengthAdjust=\"spacingAndGlyphs\" textLength=\"57\" x=\"9\" y=\"145.457\">Mitarbeiter</text><rect fill=\"#FEFECE\" filter=\"url(#f1)\" height=\"25.0938\" style=\"stroke: #A80036; stroke-width: 1.5;\" width=\"169\" x=\"142\" y=\"8\"/><text fill=\"#000000\" font-family=\"sans-serif\" font-size=\"12\" lengthAdjust=\"spacingAndGlyphs\" textLength=\"163\" x=\"145\" y=\"25.457\">wissenschaftlicher Mitarbeiter</text><rect fill=\"#FEFECE\" filter=\"url(#f1)\" height=\"25.0938\" style=\"stroke: #A80036; stroke-width: 1.5;\" width=\"195\" x=\"129\" y=\"68\"/><text fill=\"#000000\" font-family=\"sans-serif\" font-size=\"12\" lengthAdjust=\"spacingAndGlyphs\" textLength=\"189\" x=\"132\" y=\"85.457\">nichtwissenschaftlicher Mitarbeiter</text><rect fill=\"#FEFECE\" filter=\"url(#f1)\" height=\"25.0938\" style=\"stroke: #A80036; stroke-width: 1.5;\" width=\"105\" x=\"174\" y=\"128\"/><text fill=\"#000000\" font-family=\"sans-serif\" font-size=\"12\" lengthAdjust=\"spacingAndGlyphs\" textLength=\"99\" x=\"177\" y=\"145.457\">Lehrveranstaltung</text><rect fill=\"#FEFECE\" filter=\"url(#f1)\" height=\"25.0938\" style=\"stroke: #A80036; stroke-width: 1.5;\" width=\"44\" x=\"398\" y=\"8\"/><text fill=\"#000000\" font-family=\"sans-serif\" font-size=\"12\" lengthAdjust=\"spacingAndGlyphs\" textLength=\"38\" x=\"401\" y=\"25.457\">Projekt</text><rect fill=\"#FEFECE\" filter=\"url(#f1)\" height=\"25.0938\" style=\"stroke: #A80036; stroke-width: 1.5;\" width=\"72\" x=\"384\" y=\"68\"/><text fill=\"#000000\" font-family=\"sans-serif\" font-size=\"12\" lengthAdjust=\"spacingAndGlyphs\" textLength=\"66\" x=\"387\" y=\"85.457\">Hochschule</text></g></svg>"
      ],
      "text/plain": [
       "<IPython.core.display.SVG object>"
      ]
     },
     "execution_count": 3,
     "metadata": {},
     "output_type": "execute_result"
    }
   ],
   "source": [
    "%%plantuml\n",
    "@startuml\n",
    "left to right direction\n",
    "class \"Fakultaet\" as F\n",
    "class \"Professur\" as P \n",
    "class \"Mitarbeiter\" as M \n",
    "class \"wissenschaftlicher Mitarbeiter\" as WM \n",
    "class \"nichtwissenschaftlicher Mitarbeiter\" as NM \n",
    "class \"Lehrveranstaltung\" as L \n",
    "class \"Projekt\" as PR\n",
    "class \"Hochschule\" as H\n",
    "hide circle\n",
    "hide fields\n",
    "hide methods\n",
    "@enduml"
   ]
  },
  {
   "cell_type": "markdown",
   "metadata": {},
   "source": [
    "#### Identifikation der Attribute"
   ]
  },
  {
   "cell_type": "markdown",
   "metadata": {},
   "source": [
    "#### <font color=\"#0000f0\">Verbale Beschreibung Klassen + Attribute</font>\n",
    "- Fakultät (Bezeichnung, Anzahl_Mitarbeiter)\n",
    "- Professur (Bezeichnung)\n",
    "- Mitarbeiter (Name, email, SV-Nr)\n",
    "- wissenschaftlicher Mitarbeiter (Name, email, SV-Nr)\n",
    "- nichtwissenschaftlicher Mitarbeiter (Name, email, SV-Nr)\n",
    "- Lehrveranstaltung (Nummer, Name, Stundenanzahl, Credits)\n",
    "- Projekt (Name, Start, Ende)\n",
    "- Hochschule (Adresse)"
   ]
  },
  {
   "cell_type": "markdown",
   "metadata": {},
   "source": [
    "#### <font color=\"#0000f0\">Diagrammelemente</font>"
   ]
  },
  {
   "cell_type": "code",
   "execution_count": 4,
   "metadata": {},
   "outputs": [
    {
     "data": {
      "image/svg+xml": [
       "<svg height=\"326px\" style=\"width:537px;height:326px;\" version=\"1.1\" viewBox=\"0 0 537 326\" width=\"537px\" xmlns=\"http://www.w3.org/2000/svg\" xmlns:xlink=\"http://www.w3.org/1999/xlink\"><defs><filter height=\"300%\" id=\"f1\" width=\"300%\" x=\"-1\" y=\"-1\"><feGaussianBlur result=\"blurOut\" stdDeviation=\"2.0\"/><feColorMatrix in=\"blurOut\" result=\"blurOut2\" type=\"matrix\" values=\"0 0 0 0 0 0 0 0 0 0 0 0 0 0 0 0 0 0 .4 0\"/><feOffset dx=\"4.0\" dy=\"4.0\" in=\"blurOut2\" result=\"blurOut3\"/><feBlend in=\"SourceGraphic\" in2=\"blurOut3\" mode=\"normal\"/></filter></defs><g><rect fill=\"#FEFECE\" filter=\"url(#f1)\" height=\"60.7656\" style=\"stroke: #A80036; stroke-width: 1.5;\" width=\"119\" x=\"6.5\" y=\"15.5\"/><text fill=\"#000000\" font-family=\"sans-serif\" font-size=\"12\" lengthAdjust=\"spacingAndGlyphs\" textLength=\"50\" x=\"41\" y=\"32.957\">Fakultaet</text><line style=\"stroke: #A80036; stroke-width: 1.5;\" x1=\"7.5\" x2=\"124.5\" y1=\"40.5938\" y2=\"40.5938\"/><text fill=\"#000000\" font-family=\"sans-serif\" font-size=\"11\" lengthAdjust=\"spacingAndGlyphs\" textLength=\"96\" x=\"12.5\" y=\"56.0127\">Bezeichnung: string</text><text fill=\"#000000\" font-family=\"sans-serif\" font-size=\"11\" lengthAdjust=\"spacingAndGlyphs\" textLength=\"107\" x=\"12.5\" y=\"69.8486\">Anzahl_Mitarbeiter: int</text><rect fill=\"#FEFECE\" filter=\"url(#f1)\" height=\"46.9297\" style=\"stroke: #A80036; stroke-width: 1.5;\" width=\"120\" x=\"6\" y=\"111.5\"/><text fill=\"#000000\" font-family=\"sans-serif\" font-size=\"12\" lengthAdjust=\"spacingAndGlyphs\" textLength=\"54\" x=\"39\" y=\"128.957\">Professur</text><line style=\"stroke: #A80036; stroke-width: 1.5;\" x1=\"7\" x2=\"125\" y1=\"136.5938\" y2=\"136.5938\"/><text fill=\"#000000\" font-family=\"sans-serif\" font-size=\"11\" lengthAdjust=\"spacingAndGlyphs\" textLength=\"96\" x=\"12\" y=\"152.0127\">Bezeichnung: string</text><rect fill=\"#FEFECE\" filter=\"url(#f1)\" height=\"74.6016\" style=\"stroke: #A80036; stroke-width: 1.5;\" width=\"75\" x=\"28.5\" y=\"193.5\"/><text fill=\"#000000\" font-family=\"sans-serif\" font-size=\"12\" lengthAdjust=\"spacingAndGlyphs\" textLength=\"57\" x=\"37.5\" y=\"210.957\">Mitarbeiter</text><line style=\"stroke: #A80036; stroke-width: 1.5;\" x1=\"29.5\" x2=\"102.5\" y1=\"218.5938\" y2=\"218.5938\"/><text fill=\"#000000\" font-family=\"sans-serif\" font-size=\"11\" lengthAdjust=\"spacingAndGlyphs\" textLength=\"60\" x=\"34.5\" y=\"234.0127\">Name: string</text><text fill=\"#000000\" font-family=\"sans-serif\" font-size=\"11\" lengthAdjust=\"spacingAndGlyphs\" textLength=\"57\" x=\"34.5\" y=\"247.8486\">email: string</text><text fill=\"#000000\" font-family=\"sans-serif\" font-size=\"11\" lengthAdjust=\"spacingAndGlyphs\" textLength=\"63\" x=\"34.5\" y=\"261.6846\">SV-Nr: string</text><rect fill=\"#FEFECE\" filter=\"url(#f1)\" height=\"74.6016\" style=\"stroke: #A80036; stroke-width: 1.5;\" width=\"169\" x=\"199\" y=\"8.5\"/><text fill=\"#000000\" font-family=\"sans-serif\" font-size=\"12\" lengthAdjust=\"spacingAndGlyphs\" textLength=\"163\" x=\"202\" y=\"25.957\">wissenschaftlicher Mitarbeiter</text><line style=\"stroke: #A80036; stroke-width: 1.5;\" x1=\"200\" x2=\"367\" y1=\"33.5938\" y2=\"33.5938\"/><text fill=\"#000000\" font-family=\"sans-serif\" font-size=\"11\" lengthAdjust=\"spacingAndGlyphs\" textLength=\"60\" x=\"205\" y=\"49.0127\">Name: string</text><text fill=\"#000000\" font-family=\"sans-serif\" font-size=\"11\" lengthAdjust=\"spacingAndGlyphs\" textLength=\"57\" x=\"205\" y=\"62.8486\">email: string</text><text fill=\"#000000\" font-family=\"sans-serif\" font-size=\"11\" lengthAdjust=\"spacingAndGlyphs\" textLength=\"63\" x=\"205\" y=\"76.6846\">SV-Nr: string</text><rect fill=\"#FEFECE\" filter=\"url(#f1)\" height=\"74.6016\" style=\"stroke: #A80036; stroke-width: 1.5;\" width=\"195\" x=\"186\" y=\"118.5\"/><text fill=\"#000000\" font-family=\"sans-serif\" font-size=\"12\" lengthAdjust=\"spacingAndGlyphs\" textLength=\"189\" x=\"189\" y=\"135.957\">nichtwissenschaftlicher Mitarbeiter</text><line style=\"stroke: #A80036; stroke-width: 1.5;\" x1=\"187\" x2=\"380\" y1=\"143.5938\" y2=\"143.5938\"/><text fill=\"#000000\" font-family=\"sans-serif\" font-size=\"11\" lengthAdjust=\"spacingAndGlyphs\" textLength=\"60\" x=\"192\" y=\"159.0127\">Name: string</text><text fill=\"#000000\" font-family=\"sans-serif\" font-size=\"11\" lengthAdjust=\"spacingAndGlyphs\" textLength=\"57\" x=\"192\" y=\"172.8486\">email: string</text><text fill=\"#000000\" font-family=\"sans-serif\" font-size=\"11\" lengthAdjust=\"spacingAndGlyphs\" textLength=\"63\" x=\"192\" y=\"186.6846\">SV-Nr: string</text><rect fill=\"#FEFECE\" filter=\"url(#f1)\" height=\"88.4375\" style=\"stroke: #A80036; stroke-width: 1.5;\" width=\"105\" x=\"231\" y=\"229\"/><text fill=\"#000000\" font-family=\"sans-serif\" font-size=\"12\" lengthAdjust=\"spacingAndGlyphs\" textLength=\"99\" x=\"234\" y=\"246.457\">Lehrveranstaltung</text><line style=\"stroke: #A80036; stroke-width: 1.5;\" x1=\"232\" x2=\"335\" y1=\"254.0938\" y2=\"254.0938\"/><text fill=\"#000000\" font-family=\"sans-serif\" font-size=\"11\" lengthAdjust=\"spacingAndGlyphs\" textLength=\"56\" x=\"237\" y=\"269.5127\">Nummer: int</text><text fill=\"#000000\" font-family=\"sans-serif\" font-size=\"11\" lengthAdjust=\"spacingAndGlyphs\" textLength=\"60\" x=\"237\" y=\"283.3486\">Name: string</text><text fill=\"#000000\" font-family=\"sans-serif\" font-size=\"11\" lengthAdjust=\"spacingAndGlyphs\" textLength=\"86\" x=\"237\" y=\"297.1846\">Studentenzahl: int</text><text fill=\"#000000\" font-family=\"sans-serif\" font-size=\"11\" lengthAdjust=\"spacingAndGlyphs\" textLength=\"61\" x=\"237\" y=\"311.0205\">Credits: float</text><rect fill=\"#FEFECE\" filter=\"url(#f1)\" height=\"74.6016\" style=\"stroke: #A80036; stroke-width: 1.5;\" width=\"72\" x=\"448.5\" y=\"8.5\"/><text fill=\"#000000\" font-family=\"sans-serif\" font-size=\"12\" lengthAdjust=\"spacingAndGlyphs\" textLength=\"38\" x=\"465.5\" y=\"25.957\">Projekt</text><line style=\"stroke: #A80036; stroke-width: 1.5;\" x1=\"449.5\" x2=\"519.5\" y1=\"33.5938\" y2=\"33.5938\"/><text fill=\"#000000\" font-family=\"sans-serif\" font-size=\"11\" lengthAdjust=\"spacingAndGlyphs\" textLength=\"60\" x=\"454.5\" y=\"49.0127\">Name: string</text><text fill=\"#000000\" font-family=\"sans-serif\" font-size=\"11\" lengthAdjust=\"spacingAndGlyphs\" textLength=\"59\" x=\"454.5\" y=\"62.8486\">Start: Datum</text><text fill=\"#000000\" font-family=\"sans-serif\" font-size=\"11\" lengthAdjust=\"spacingAndGlyphs\" textLength=\"60\" x=\"454.5\" y=\"76.6846\">Ende: Datum</text><rect fill=\"#FEFECE\" filter=\"url(#f1)\" height=\"46.9297\" style=\"stroke: #A80036; stroke-width: 1.5;\" width=\"87\" x=\"441\" y=\"118.5\"/><text fill=\"#000000\" font-family=\"sans-serif\" font-size=\"12\" lengthAdjust=\"spacingAndGlyphs\" textLength=\"66\" x=\"451.5\" y=\"135.957\">Hochschule</text><line style=\"stroke: #A80036; stroke-width: 1.5;\" x1=\"442\" x2=\"527\" y1=\"143.5938\" y2=\"143.5938\"/><text fill=\"#000000\" font-family=\"sans-serif\" font-size=\"11\" lengthAdjust=\"spacingAndGlyphs\" textLength=\"75\" x=\"447\" y=\"159.0127\">Adresse: string</text></g></svg>"
      ],
      "text/plain": [
       "<IPython.core.display.SVG object>"
      ]
     },
     "execution_count": 4,
     "metadata": {},
     "output_type": "execute_result"
    }
   ],
   "source": [
    "%%plantuml\n",
    "@startuml\n",
    "left to right direction\n",
    "class \"Fakultaet\" as F {\n",
    "    Bezeichnung: string\n",
    "    Anzahl_Mitarbeiter: int\n",
    "}\n",
    "class \"Professur\" as P {\n",
    "    Bezeichnung: string    \n",
    "} \n",
    "class \"Mitarbeiter\" as M {\n",
    "    Name: string\n",
    "    email: string\n",
    "    SV-Nr: string\n",
    "}\n",
    "class \"wissenschaftlicher Mitarbeiter\" as WM {\n",
    "    Name: string\n",
    "    email: string\n",
    "    SV-Nr: string\n",
    "}\n",
    "class \"nichtwissenschaftlicher Mitarbeiter\" as NM {\n",
    "    Name: string\n",
    "    email: string\n",
    "    SV-Nr: string\n",
    "}\n",
    "class \"Lehrveranstaltung\" as L {\n",
    "    Nummer: int\n",
    "    Name: string\n",
    "    Studentenzahl: int\n",
    "    Credits: float\n",
    "}\n",
    "class \"Projekt\" as PR {\n",
    "    Name: string\n",
    "    Start: Datum\n",
    "    Ende: Datum\n",
    "}\n",
    "class \"Hochschule\" as H {\n",
    "    Adresse: string\n",
    "}\n",
    "hide circle\n",
    "hide methods\n",
    "@enduml"
   ]
  },
  {
   "cell_type": "markdown",
   "metadata": {},
   "source": [
    "#### Identifikation der Beziehungen zwischen Klassen\n",
    "Nutzen Sie hierbei nach Möglichkeit auch Generalisierung und Aggregation."
   ]
  },
  {
   "cell_type": "markdown",
   "metadata": {},
   "source": [
    "#### <font color=\"#0000f0\">Verbale Beschreibung Klassenbeziehungen</font>\n",
    "- Hochschule besteht aus Fakultäten\n",
    "- Professur gehört zu Fakultät\n",
    "- Fakultät wird von Mitarbeiter in der Rolle Dekan geleitet\n",
    "- zu Mitarbeitern gehört wissenschaftliches und nichtwissenschaftliches Personal\n",
    "- abstrakte Klasse Mitarbeiter (Name, email, SV-Nr)\n",
    "- wissenschaftliche Mitarbeiter sind Professur zugeordnet\n",
    "- wissenschftliche Mitarbeiter können an Projekten mitarbeiten (Stundenzahl)\n",
    "- wissenschftliche Mitarbeiter können in der Rolle Votragender Lehrveranstaltungen durchführen"
   ]
  },
  {
   "cell_type": "markdown",
   "metadata": {},
   "source": [
    "#### <font color=\"#0000f0\">vollständiges Klassendiagramm in UML</font>"
   ]
  },
  {
   "cell_type": "code",
   "execution_count": 6,
   "metadata": {},
   "outputs": [
    {
     "data": {
      "image/svg+xml": [
       "<svg height=\"724px\" style=\"width:530px;height:724px;\" version=\"1.1\" viewBox=\"0 0 530 724\" width=\"530px\" xmlns=\"http://www.w3.org/2000/svg\" xmlns:xlink=\"http://www.w3.org/1999/xlink\"><defs><filter height=\"300%\" id=\"f1\" width=\"300%\" x=\"-1\" y=\"-1\"><feGaussianBlur result=\"blurOut\" stdDeviation=\"2.0\"/><feColorMatrix in=\"blurOut\" result=\"blurOut2\" type=\"matrix\" values=\"0 0 0 0 0 0 0 0 0 0 0 0 0 0 0 0 0 0 .4 0\"/><feOffset dx=\"4.0\" dy=\"4.0\" in=\"blurOut2\" result=\"blurOut3\"/><feBlend in=\"SourceGraphic\" in2=\"blurOut3\" mode=\"normal\"/></filter></defs><g><rect fill=\"#FEFECE\" filter=\"url(#f1)\" height=\"60.7656\" style=\"stroke: #A80036; stroke-width: 1.5;\" width=\"119\" x=\"205.5\" y=\"133\"/><text fill=\"#000000\" font-family=\"sans-serif\" font-size=\"12\" lengthAdjust=\"spacingAndGlyphs\" textLength=\"50\" x=\"240\" y=\"150.457\">Fakultaet</text><line style=\"stroke: #A80036; stroke-width: 1.5;\" x1=\"206.5\" x2=\"323.5\" y1=\"158.0938\" y2=\"158.0938\"/><text fill=\"#000000\" font-family=\"sans-serif\" font-size=\"11\" lengthAdjust=\"spacingAndGlyphs\" textLength=\"96\" x=\"211.5\" y=\"173.5127\">Bezeichnung: string</text><text fill=\"#000000\" font-family=\"sans-serif\" font-size=\"11\" lengthAdjust=\"spacingAndGlyphs\" textLength=\"107\" x=\"211.5\" y=\"187.3486\">Anzahl_Mitarbeiter: int</text><rect fill=\"#FEFECE\" filter=\"url(#f1)\" height=\"46.9297\" style=\"stroke: #A80036; stroke-width: 1.5;\" width=\"120\" x=\"176\" y=\"286\"/><text fill=\"#000000\" font-family=\"sans-serif\" font-size=\"12\" lengthAdjust=\"spacingAndGlyphs\" textLength=\"54\" x=\"209\" y=\"303.457\">Professur</text><line style=\"stroke: #A80036; stroke-width: 1.5;\" x1=\"177\" x2=\"295\" y1=\"311.0938\" y2=\"311.0938\"/><text fill=\"#000000\" font-family=\"sans-serif\" font-size=\"11\" lengthAdjust=\"spacingAndGlyphs\" textLength=\"96\" x=\"182\" y=\"326.5127\">Bezeichnung: string</text><rect fill=\"#FEFECE\" filter=\"url(#f1)\" height=\"74.6016\" style=\"stroke: #A80036; stroke-width: 1.5;\" width=\"75\" x=\"331.5\" y=\"272\"/><text fill=\"#000000\" font-family=\"sans-serif\" font-size=\"12\" lengthAdjust=\"spacingAndGlyphs\" textLength=\"57\" x=\"340.5\" y=\"289.457\">Mitarbeiter</text><line style=\"stroke: #A80036; stroke-width: 1.5;\" x1=\"332.5\" x2=\"405.5\" y1=\"297.0938\" y2=\"297.0938\"/><text fill=\"#000000\" font-family=\"sans-serif\" font-size=\"11\" lengthAdjust=\"spacingAndGlyphs\" textLength=\"60\" x=\"337.5\" y=\"312.5127\">Name: string</text><text fill=\"#000000\" font-family=\"sans-serif\" font-size=\"11\" lengthAdjust=\"spacingAndGlyphs\" textLength=\"57\" x=\"337.5\" y=\"326.3486\">email: string</text><text fill=\"#000000\" font-family=\"sans-serif\" font-size=\"11\" lengthAdjust=\"spacingAndGlyphs\" textLength=\"63\" x=\"337.5\" y=\"340.1846\">SV-Nr: string</text><rect fill=\"#FEFECE\" filter=\"url(#f1)\" height=\"33.0938\" style=\"stroke: #A80036; stroke-width: 1.5;\" width=\"169\" x=\"122.5\" y=\"408\"/><text fill=\"#000000\" font-family=\"sans-serif\" font-size=\"12\" lengthAdjust=\"spacingAndGlyphs\" textLength=\"163\" x=\"125.5\" y=\"425.457\">wissenschaftlicher Mitarbeiter</text><line style=\"stroke: #A80036; stroke-width: 1.5;\" x1=\"123.5\" x2=\"290.5\" y1=\"433.0938\" y2=\"433.0938\"/><rect fill=\"#FEFECE\" filter=\"url(#f1)\" height=\"33.0938\" style=\"stroke: #A80036; stroke-width: 1.5;\" width=\"195\" x=\"326.5\" y=\"408\"/><text fill=\"#000000\" font-family=\"sans-serif\" font-size=\"12\" lengthAdjust=\"spacingAndGlyphs\" textLength=\"189\" x=\"329.5\" y=\"425.457\">nichtwissenschaftlicher Mitarbeiter</text><line style=\"stroke: #A80036; stroke-width: 1.5;\" x1=\"327.5\" x2=\"520.5\" y1=\"433.0938\" y2=\"433.0938\"/><rect fill=\"#FEFECE\" filter=\"url(#f1)\" height=\"88.4375\" style=\"stroke: #A80036; stroke-width: 1.5;\" width=\"105\" x=\"210.5\" y=\"627\"/><text fill=\"#000000\" font-family=\"sans-serif\" font-size=\"12\" lengthAdjust=\"spacingAndGlyphs\" textLength=\"99\" x=\"213.5\" y=\"644.457\">Lehrveranstaltung</text><line style=\"stroke: #A80036; stroke-width: 1.5;\" x1=\"211.5\" x2=\"314.5\" y1=\"652.0938\" y2=\"652.0938\"/><text fill=\"#000000\" font-family=\"sans-serif\" font-size=\"11\" lengthAdjust=\"spacingAndGlyphs\" textLength=\"56\" x=\"216.5\" y=\"667.5127\">Nummer: int</text><text fill=\"#000000\" font-family=\"sans-serif\" font-size=\"11\" lengthAdjust=\"spacingAndGlyphs\" textLength=\"60\" x=\"216.5\" y=\"681.3486\">Name: string</text><text fill=\"#000000\" font-family=\"sans-serif\" font-size=\"11\" lengthAdjust=\"spacingAndGlyphs\" textLength=\"86\" x=\"216.5\" y=\"695.1846\">Studentenzahl: int</text><text fill=\"#000000\" font-family=\"sans-serif\" font-size=\"11\" lengthAdjust=\"spacingAndGlyphs\" textLength=\"61\" x=\"216.5\" y=\"709.0205\">Credits: float</text><rect fill=\"#FEFECE\" filter=\"url(#f1)\" height=\"74.6016\" style=\"stroke: #A80036; stroke-width: 1.5;\" width=\"72\" x=\"6\" y=\"633.5\"/><text fill=\"#000000\" font-family=\"sans-serif\" font-size=\"12\" lengthAdjust=\"spacingAndGlyphs\" textLength=\"38\" x=\"23\" y=\"650.957\">Projekt</text><line style=\"stroke: #A80036; stroke-width: 1.5;\" x1=\"7\" x2=\"77\" y1=\"658.5938\" y2=\"658.5938\"/><text fill=\"#000000\" font-family=\"sans-serif\" font-size=\"11\" lengthAdjust=\"spacingAndGlyphs\" textLength=\"60\" x=\"12\" y=\"674.0127\">Name: string</text><text fill=\"#000000\" font-family=\"sans-serif\" font-size=\"11\" lengthAdjust=\"spacingAndGlyphs\" textLength=\"59\" x=\"12\" y=\"687.8486\">Start: Datum</text><text fill=\"#000000\" font-family=\"sans-serif\" font-size=\"11\" lengthAdjust=\"spacingAndGlyphs\" textLength=\"60\" x=\"12\" y=\"701.6846\">Ende: Datum</text><rect fill=\"#FEFECE\" filter=\"url(#f1)\" height=\"46.9297\" style=\"stroke: #A80036; stroke-width: 1.5;\" width=\"87\" x=\"221.5\" y=\"8\"/><text fill=\"#000000\" font-family=\"sans-serif\" font-size=\"12\" lengthAdjust=\"spacingAndGlyphs\" textLength=\"66\" x=\"232\" y=\"25.457\">Hochschule</text><line style=\"stroke: #A80036; stroke-width: 1.5;\" x1=\"222.5\" x2=\"307.5\" y1=\"33.0938\" y2=\"33.0938\"/><text fill=\"#000000\" font-family=\"sans-serif\" font-size=\"11\" lengthAdjust=\"spacingAndGlyphs\" textLength=\"75\" x=\"227.5\" y=\"48.5127\">Adresse: string</text><rect fill=\"#FEFECE\" filter=\"url(#f1)\" height=\"46.9297\" style=\"stroke: #A80036; stroke-width: 1.5;\" width=\"79\" x=\"113.5\" y=\"519\"/><text fill=\"#000000\" font-family=\"sans-serif\" font-size=\"12\" lengthAdjust=\"spacingAndGlyphs\" textLength=\"62\" x=\"122\" y=\"536.457\">Beteiligung</text><line style=\"stroke: #A80036; stroke-width: 1.5;\" x1=\"114.5\" x2=\"191.5\" y1=\"544.0938\" y2=\"544.0938\"/><text fill=\"#000000\" font-family=\"sans-serif\" font-size=\"11\" lengthAdjust=\"spacingAndGlyphs\" textLength=\"67\" x=\"119.5\" y=\"559.5127\">Stunden: float</text><ellipse cx=\"42\" cy=\"542.5\" fill=\"#000000\" rx=\"2\" ry=\"2\" style=\"stroke: none; stroke-width: 1.0;\"/><path d=\"M265,55.144 C265,76.677 265,109.194 265,132.798 \" fill=\"none\" style=\"stroke: #A80036; stroke-width: 1.0;\"/><text fill=\"#000000\" font-family=\"sans-serif\" font-size=\"13\" lengthAdjust=\"spacingAndGlyphs\" textLength=\"68\" x=\"266\" y=\"99.4951\">besteht aus</text><polygon fill=\"#000000\" points=\"295.5,108.3516,298.5,114.3516,301.5,108.3516,295.5,108.3516\" style=\"stroke: #000000; stroke-width: 1.0;\"/><text fill=\"#000000\" font-family=\"sans-serif\" font-size=\"13\" lengthAdjust=\"spacingAndGlyphs\" textLength=\"7\" x=\"257.1469\" y=\"76.4038\">1</text><text fill=\"#000000\" font-family=\"sans-serif\" font-size=\"13\" lengthAdjust=\"spacingAndGlyphs\" textLength=\"24\" x=\"238.525\" y=\"122.3713\">1...*</text><path d=\"M258.991,194.337 C253.516,221.522 245.548,261.09 240.575,285.785 \" fill=\"none\" style=\"stroke: #A80036; stroke-width: 1.0;\"/><text fill=\"#000000\" font-family=\"sans-serif\" font-size=\"13\" lengthAdjust=\"spacingAndGlyphs\" textLength=\"7\" x=\"250.1783\" y=\"215.2913\">1</text><text fill=\"#000000\" font-family=\"sans-serif\" font-size=\"13\" lengthAdjust=\"spacingAndGlyphs\" textLength=\"5\" x=\"236.1067\" y=\"275.2072\">*</text><path d=\"M315,348.166 C285.84,368.507 251.408,392.524 229.398,407.877 \" fill=\"none\" style=\"stroke: #A80036; stroke-width: 1.0;\"/><polygon fill=\"none\" points=\"311.018,342.409,331.427,336.708,319.028,353.892,311.018,342.409\" style=\"stroke: #A80036; stroke-width: 1.0;\"/><path d=\"M395.718,365.392 C403.274,380.918 410.91,396.606 416.339,407.761 \" fill=\"none\" style=\"stroke: #A80036; stroke-width: 1.0;\"/><polygon fill=\"none\" points=\"389.316,368.234,386.857,347.188,401.904,362.107,389.316,368.234\" style=\"stroke: #A80036; stroke-width: 1.0;\"/><path d=\"M286.549,194.337 C302.791,216.827 325.154,247.79 342.493,271.797 \" fill=\"none\" style=\"stroke: #A80036; stroke-width: 1.0;\"/><polygon fill=\"#000000\" points=\"331.5,235,334.5,229,337.5,235,331.5,235\" style=\"stroke: #000000; stroke-width: 1.0;\"/><text fill=\"#000000\" font-family=\"sans-serif\" font-size=\"13\" lengthAdjust=\"spacingAndGlyphs\" textLength=\"28\" x=\"322\" y=\"251.4951\">leitet</text><text fill=\"#000000\" font-family=\"sans-serif\" font-size=\"13\" lengthAdjust=\"spacingAndGlyphs\" textLength=\"7\" x=\"282.9896\" y=\"215.2913\">1</text><text fill=\"#000000\" font-family=\"sans-serif\" font-size=\"13\" lengthAdjust=\"spacingAndGlyphs\" textLength=\"7\" x=\"363.1731\" y=\"244.821\">1</text><text fill=\"#000000\" font-family=\"sans-serif\" font-size=\"13\" lengthAdjust=\"spacingAndGlyphs\" textLength=\"49\" x=\"342.1731\" y=\"261.1725\">+ Dekan</text><path d=\"M213.629,441.29 C217.078,449.948 221.155,460.938 224,471 C238.943,523.849 250.156,586.185 256.637,626.8202 \" fill=\"none\" style=\"stroke: #A80036; stroke-width: 1.0;\"/><text fill=\"#000000\" font-family=\"sans-serif\" font-size=\"13\" lengthAdjust=\"spacingAndGlyphs\" textLength=\"61\" x=\"247\" y=\"547.9951\">führt durch</text><polygon fill=\"#000000\" points=\"273,556.8516,276,562.8516,279,556.8516,273,556.8516\" style=\"stroke: #000000; stroke-width: 1.0;\"/><text fill=\"#000000\" font-family=\"sans-serif\" font-size=\"13\" lengthAdjust=\"spacingAndGlyphs\" textLength=\"24\" x=\"254.1057\" y=\"462.4383\">1...*</text><text fill=\"#000000\" font-family=\"sans-serif\" font-size=\"13\" lengthAdjust=\"spacingAndGlyphs\" textLength=\"86\" x=\"225.1057\" y=\"478.7898\">+ Vortragender</text><text fill=\"#000000\" font-family=\"sans-serif\" font-size=\"13\" lengthAdjust=\"spacingAndGlyphs\" textLength=\"5\" x=\"250.2245\" y=\"615.9921\">*</text><path d=\"M184.747,441.144 C142.524,470.828 54.0079,533.058 43.1083,540.721 \" fill=\"none\" style=\"stroke: #A80036; stroke-width: 1.0;\"/><polygon fill=\"#000000\" points=\"148,478.6758,142,481.6758,148,484.6758,148,478.6758\" style=\"stroke: #000000; stroke-width: 1.0;\"/><text fill=\"#000000\" font-family=\"sans-serif\" font-size=\"13\" lengthAdjust=\"spacingAndGlyphs\" textLength=\"61\" x=\"154\" y=\"485.4951\">arbeitet an</text><text fill=\"#000000\" font-family=\"sans-serif\" font-size=\"13\" lengthAdjust=\"spacingAndGlyphs\" textLength=\"5\" x=\"171.857\" y=\"462.5355\">*</text><path d=\"M42,544.921 C42,553.552 42,599.712 42,633.4534 \" fill=\"none\" style=\"stroke: #A80036; stroke-width: 1.0;\"/><text fill=\"#000000\" font-family=\"sans-serif\" font-size=\"13\" lengthAdjust=\"spacingAndGlyphs\" textLength=\"5\" x=\"36.5391\" y=\"622.62\">*</text><path d=\"M44.168,542.5 C67.2664,542.5 90.3649,542.5 113.463,542.5 \" fill=\"none\" style=\"stroke: #A80036; stroke-width: 1.0; stroke-dasharray: 7.0,7.0;\"/></g></svg>"
      ],
      "text/plain": [
       "<IPython.core.display.SVG object>"
      ]
     },
     "execution_count": 6,
     "metadata": {},
     "output_type": "execute_result"
    }
   ],
   "source": [
    "%%plantuml\n",
    "@startuml\n",
    "class \"Fakultaet\" as F {\n",
    "    Bezeichnung: string\n",
    "    Anzahl_Mitarbeiter: int\n",
    "}\n",
    "class \"Professur\" as P {\n",
    "    Bezeichnung: string    \n",
    "} \n",
    "class \"Mitarbeiter\" as M {\n",
    "    Name: string\n",
    "    email: string\n",
    "    SV-Nr: string\n",
    "}\n",
    "class \"wissenschaftlicher Mitarbeiter\" as WM {\n",
    "}\n",
    "class \"nichtwissenschaftlicher Mitarbeiter\" as NM {\n",
    "}\n",
    "class \"Lehrveranstaltung\" as L {\n",
    "    Nummer: int\n",
    "    Name: string\n",
    "    Studentenzahl: int\n",
    "    Credits: float\n",
    "}\n",
    "class \"Projekt\" as PR {\n",
    "    Name: string\n",
    "    Start: Datum\n",
    "    Ende: Datum\n",
    "}\n",
    "class \"Hochschule\" as H {\n",
    "    Adresse: string\n",
    "}\n",
    "class \"Beteiligung\" as B {\n",
    "    Stunden: float\n",
    "}\n",
    "hide circle\n",
    "hide methods\n",
    "H \"1\" -- \"1...*\" F : > besteht aus\n",
    "F \"1\" -- \"*\" P\n",
    "M <|-- WM\n",
    "M <|-- NM\n",
    "F \"1\" -- \"1\\n+ Dekan\" M : < leitet\n",
    "WM \"1...* \\n+ Vortragender\" --- \"*\" L : > führt durch\n",
    "WM \"*\" -- \"*\" PR : > arbeitet an\n",
    "(WM, PR) .. B    \n",
    "@enduml"
   ]
  },
  {
   "cell_type": "markdown",
   "metadata": {},
   "source": [
    "#### <font color=\"#0000f0\">vollständiges Klassendiagramm zur Umsetzung</font>"
   ]
  },
  {
   "cell_type": "code",
   "execution_count": 7,
   "metadata": {},
   "outputs": [
    {
     "data": {
      "image/svg+xml": [
       "<svg height=\"311px\" style=\"width:860px;height:311px;\" version=\"1.1\" viewBox=\"0 0 860 311\" width=\"860px\" xmlns=\"http://www.w3.org/2000/svg\" xmlns:xlink=\"http://www.w3.org/1999/xlink\"><defs><filter height=\"300%\" id=\"f1\" width=\"300%\" x=\"-1\" y=\"-1\"><feGaussianBlur result=\"blurOut\" stdDeviation=\"2.0\"/><feColorMatrix in=\"blurOut\" result=\"blurOut2\" type=\"matrix\" values=\"0 0 0 0 0 0 0 0 0 0 0 0 0 0 0 0 0 0 .4 0\"/><feOffset dx=\"4.0\" dy=\"4.0\" in=\"blurOut2\" result=\"blurOut3\"/><feBlend in=\"SourceGraphic\" in2=\"blurOut3\" mode=\"normal\"/></filter></defs><g><rect fill=\"#FEFECE\" filter=\"url(#f1)\" height=\"124.1094\" style=\"stroke: #A80036; stroke-width: 1.5;\" width=\"167\" x=\"6\" y=\"8\"/><text fill=\"#000000\" font-family=\"sans-serif\" font-size=\"12\" lengthAdjust=\"spacingAndGlyphs\" textLength=\"50\" x=\"64.5\" y=\"25.457\">Fakultaet</text><line style=\"stroke: #A80036; stroke-width: 1.5;\" x1=\"7\" x2=\"172\" y1=\"33.0938\" y2=\"33.0938\"/><text fill=\"#000000\" font-family=\"sans-serif\" font-size=\"11\" lengthAdjust=\"spacingAndGlyphs\" textLength=\"96\" x=\"12\" y=\"48.5127\">Bezeichnung: string</text><text fill=\"#000000\" font-family=\"sans-serif\" font-size=\"11\" lengthAdjust=\"spacingAndGlyphs\" textLength=\"138\" x=\"12\" y=\"62.3486\">Adresse_Hochschule: string</text><text fill=\"#000000\" font-family=\"sans-serif\" font-size=\"11\" lengthAdjust=\"spacingAndGlyphs\" textLength=\"107\" x=\"12\" y=\"76.1846\">Anzahl_Mitarbeiter: int</text><text fill=\"#000000\" font-family=\"sans-serif\" font-size=\"11\" lengthAdjust=\"spacingAndGlyphs\" textLength=\"155\" x=\"12\" y=\"90.0205\">Dekan: Mitarbeiter_SV-Nr: string</text><line style=\"stroke: #A80036; stroke-width: 1.5;\" x1=\"7\" x2=\"172\" y1=\"96.4375\" y2=\"96.4375\"/><text fill=\"#000000\" font-family=\"sans-serif\" font-size=\"11\" lengthAdjust=\"spacingAndGlyphs\" textLength=\"61\" x=\"12\" y=\"111.8564\">set_attr(attr)</text><text fill=\"#000000\" font-family=\"sans-serif\" font-size=\"11\" lengthAdjust=\"spacingAndGlyphs\" textLength=\"61\" x=\"12\" y=\"125.6924\">get_attr(attr)</text><rect fill=\"#FEFECE\" filter=\"url(#f1)\" height=\"96.4375\" style=\"stroke: #A80036; stroke-width: 1.5;\" width=\"151\" x=\"208\" y=\"22\"/><text fill=\"#000000\" font-family=\"sans-serif\" font-size=\"12\" lengthAdjust=\"spacingAndGlyphs\" textLength=\"54\" x=\"256.5\" y=\"39.457\">Professur</text><line style=\"stroke: #A80036; stroke-width: 1.5;\" x1=\"209\" x2=\"358\" y1=\"47.0938\" y2=\"47.0938\"/><text fill=\"#000000\" font-family=\"sans-serif\" font-size=\"11\" lengthAdjust=\"spacingAndGlyphs\" textLength=\"96\" x=\"214\" y=\"62.5127\">Bezeichnung: string</text><text fill=\"#000000\" font-family=\"sans-serif\" font-size=\"11\" lengthAdjust=\"spacingAndGlyphs\" textLength=\"139\" x=\"214\" y=\"76.3486\">Fakultät_Bezeichnung: string</text><line style=\"stroke: #A80036; stroke-width: 1.5;\" x1=\"209\" x2=\"358\" y1=\"82.7656\" y2=\"82.7656\"/><text fill=\"#000000\" font-family=\"sans-serif\" font-size=\"11\" lengthAdjust=\"spacingAndGlyphs\" textLength=\"61\" x=\"214\" y=\"98.1846\">set_attr(attr)</text><text fill=\"#000000\" font-family=\"sans-serif\" font-size=\"11\" lengthAdjust=\"spacingAndGlyphs\" textLength=\"61\" x=\"214\" y=\"112.0205\">get_attr(attr)</text><rect fill=\"#FEFECE\" filter=\"url(#f1)\" height=\"110.2734\" style=\"stroke: #A80036; stroke-width: 1.5;\" width=\"75\" x=\"572\" y=\"15\"/><text fill=\"#000000\" font-family=\"sans-serif\" font-size=\"12\" lengthAdjust=\"spacingAndGlyphs\" textLength=\"57\" x=\"581\" y=\"32.457\">Mitarbeiter</text><line style=\"stroke: #A80036; stroke-width: 1.5;\" x1=\"573\" x2=\"646\" y1=\"40.0938\" y2=\"40.0938\"/><text fill=\"#000000\" font-family=\"sans-serif\" font-size=\"11\" lengthAdjust=\"spacingAndGlyphs\" textLength=\"60\" x=\"578\" y=\"55.5127\">Name: string</text><text fill=\"#000000\" font-family=\"sans-serif\" font-size=\"11\" lengthAdjust=\"spacingAndGlyphs\" textLength=\"57\" x=\"578\" y=\"69.3486\">email: string</text><text fill=\"#000000\" font-family=\"sans-serif\" font-size=\"11\" lengthAdjust=\"spacingAndGlyphs\" textLength=\"63\" x=\"578\" y=\"83.1846\">SV-Nr: string</text><line style=\"stroke: #A80036; stroke-width: 1.5;\" x1=\"573\" x2=\"646\" y1=\"89.6016\" y2=\"89.6016\"/><text fill=\"#000000\" font-family=\"sans-serif\" font-size=\"11\" lengthAdjust=\"spacingAndGlyphs\" textLength=\"61\" x=\"578\" y=\"105.0205\">set_attr(attr)</text><text fill=\"#000000\" font-family=\"sans-serif\" font-size=\"11\" lengthAdjust=\"spacingAndGlyphs\" textLength=\"61\" x=\"578\" y=\"118.8564\">get_attr(attr)</text><rect fill=\"#FEFECE\" filter=\"url(#f1)\" height=\"68.7656\" style=\"stroke: #A80036; stroke-width: 1.5;\" width=\"233\" x=\"388\" y=\"212.5\"/><text fill=\"#000000\" font-family=\"sans-serif\" font-size=\"12\" lengthAdjust=\"spacingAndGlyphs\" textLength=\"163\" x=\"423\" y=\"229.957\">wissenschaftlicher Mitarbeiter</text><line style=\"stroke: #A80036; stroke-width: 1.5;\" x1=\"389\" x2=\"620\" y1=\"237.5938\" y2=\"237.5938\"/><line style=\"stroke: #A80036; stroke-width: 1.5;\" x1=\"389\" x2=\"620\" y1=\"245.5938\" y2=\"245.5938\"/><text fill=\"#000000\" font-family=\"sans-serif\" font-size=\"11\" lengthAdjust=\"spacingAndGlyphs\" textLength=\"221\" x=\"394\" y=\"261.0127\">LV_durchführen(Lehrveranstaltung_Nummer)</text><text fill=\"#000000\" font-family=\"sans-serif\" font-size=\"11\" lengthAdjust=\"spacingAndGlyphs\" textLength=\"191\" x=\"394\" y=\"274.8486\">Projektmitarbeit(Projekt_Name, Stunden)</text><rect fill=\"#FEFECE\" filter=\"url(#f1)\" height=\"41.0938\" style=\"stroke: #A80036; stroke-width: 1.5;\" width=\"195\" x=\"656\" y=\"226.5\"/><text fill=\"#000000\" font-family=\"sans-serif\" font-size=\"12\" lengthAdjust=\"spacingAndGlyphs\" textLength=\"189\" x=\"659\" y=\"243.957\">nichtwissenschaftlicher Mitarbeiter</text><line style=\"stroke: #A80036; stroke-width: 1.5;\" x1=\"657\" x2=\"850\" y1=\"251.5938\" y2=\"251.5938\"/><line style=\"stroke: #A80036; stroke-width: 1.5;\" x1=\"657\" x2=\"850\" y1=\"259.5938\" y2=\"259.5938\"/><rect fill=\"#FEFECE\" filter=\"url(#f1)\" height=\"124.1094\" style=\"stroke: #A80036; stroke-width: 1.5;\" width=\"105\" x=\"394\" y=\"8\"/><text fill=\"#000000\" font-family=\"sans-serif\" font-size=\"12\" lengthAdjust=\"spacingAndGlyphs\" textLength=\"99\" x=\"397\" y=\"25.457\">Lehrveranstaltung</text><line style=\"stroke: #A80036; stroke-width: 1.5;\" x1=\"395\" x2=\"498\" y1=\"33.0938\" y2=\"33.0938\"/><text fill=\"#000000\" font-family=\"sans-serif\" font-size=\"11\" lengthAdjust=\"spacingAndGlyphs\" textLength=\"56\" x=\"400\" y=\"48.5127\">Nummer: int</text><text fill=\"#000000\" font-family=\"sans-serif\" font-size=\"11\" lengthAdjust=\"spacingAndGlyphs\" textLength=\"60\" x=\"400\" y=\"62.3486\">Name: string</text><text fill=\"#000000\" font-family=\"sans-serif\" font-size=\"11\" lengthAdjust=\"spacingAndGlyphs\" textLength=\"86\" x=\"400\" y=\"76.1846\">Studentenzahl: int</text><text fill=\"#000000\" font-family=\"sans-serif\" font-size=\"11\" lengthAdjust=\"spacingAndGlyphs\" textLength=\"61\" x=\"400\" y=\"90.0205\">Credits: float</text><line style=\"stroke: #A80036; stroke-width: 1.5;\" x1=\"395\" x2=\"498\" y1=\"96.4375\" y2=\"96.4375\"/><text fill=\"#000000\" font-family=\"sans-serif\" font-size=\"11\" lengthAdjust=\"spacingAndGlyphs\" textLength=\"61\" x=\"400\" y=\"111.8564\">set_attr(attr)</text><text fill=\"#000000\" font-family=\"sans-serif\" font-size=\"11\" lengthAdjust=\"spacingAndGlyphs\" textLength=\"61\" x=\"400\" y=\"125.6924\">get_attr(attr)</text><rect fill=\"#FEFECE\" filter=\"url(#f1)\" height=\"110.2734\" style=\"stroke: #A80036; stroke-width: 1.5;\" width=\"73\" x=\"53\" y=\"192\"/><text fill=\"#000000\" font-family=\"sans-serif\" font-size=\"12\" lengthAdjust=\"spacingAndGlyphs\" textLength=\"38\" x=\"70.5\" y=\"209.457\">Projekt</text><line style=\"stroke: #A80036; stroke-width: 1.5;\" x1=\"54\" x2=\"125\" y1=\"217.0938\" y2=\"217.0938\"/><text fill=\"#000000\" font-family=\"sans-serif\" font-size=\"11\" lengthAdjust=\"spacingAndGlyphs\" textLength=\"60\" x=\"59\" y=\"232.5127\">Name: string</text><text fill=\"#000000\" font-family=\"sans-serif\" font-size=\"11\" lengthAdjust=\"spacingAndGlyphs\" textLength=\"59\" x=\"59\" y=\"246.3486\">Start: Datum</text><text fill=\"#000000\" font-family=\"sans-serif\" font-size=\"11\" lengthAdjust=\"spacingAndGlyphs\" textLength=\"60\" x=\"59\" y=\"260.1846\">Ende: Datum</text><line style=\"stroke: #A80036; stroke-width: 1.5;\" x1=\"54\" x2=\"125\" y1=\"266.6016\" y2=\"266.6016\"/><text fill=\"#000000\" font-family=\"sans-serif\" font-size=\"11\" lengthAdjust=\"spacingAndGlyphs\" textLength=\"61\" x=\"59\" y=\"282.0205\">set_attr(attr)</text><text fill=\"#000000\" font-family=\"sans-serif\" font-size=\"11\" lengthAdjust=\"spacingAndGlyphs\" textLength=\"61\" x=\"59\" y=\"295.8564\">get_attr(attr)</text><rect fill=\"#FEFECE\" filter=\"url(#f1)\" height=\"82.6016\" style=\"stroke: #A80036; stroke-width: 1.5;\" width=\"87\" x=\"161\" y=\"205.5\"/><text fill=\"#000000\" font-family=\"sans-serif\" font-size=\"12\" lengthAdjust=\"spacingAndGlyphs\" textLength=\"66\" x=\"171.5\" y=\"222.957\">Hochschule</text><line style=\"stroke: #A80036; stroke-width: 1.5;\" x1=\"162\" x2=\"247\" y1=\"230.5938\" y2=\"230.5938\"/><text fill=\"#000000\" font-family=\"sans-serif\" font-size=\"11\" lengthAdjust=\"spacingAndGlyphs\" textLength=\"75\" x=\"167\" y=\"246.0127\">Adresse: string</text><line style=\"stroke: #A80036; stroke-width: 1.5;\" x1=\"162\" x2=\"247\" y1=\"252.4297\" y2=\"252.4297\"/><text fill=\"#000000\" font-family=\"sans-serif\" font-size=\"11\" lengthAdjust=\"spacingAndGlyphs\" textLength=\"61\" x=\"167\" y=\"267.8486\">set_attr(attr)</text><text fill=\"#000000\" font-family=\"sans-serif\" font-size=\"11\" lengthAdjust=\"spacingAndGlyphs\" textLength=\"61\" x=\"167\" y=\"281.6846\">get_attr(attr)</text><path d=\"M566.562,142.564 C552.095,166.675 536.626,192.457 524.75,212.2501 \" fill=\"none\" style=\"stroke: #A80036; stroke-width: 1.0;\"/><polygon fill=\"none\" points=\"560.56,138.96,576.853,125.412,572.565,146.163,560.56,138.96\" style=\"stroke: #A80036; stroke-width: 1.0;\"/><path d=\"M660.141,132.543 C687.101,165.306 718.453,203.4082 737.1,226.0691 \" fill=\"none\" style=\"stroke: #A80036; stroke-width: 1.0;\"/><polygon fill=\"none\" points=\"654.637,136.871,647.334,116.979,665.448,127.975,654.637,136.871\" style=\"stroke: #A80036; stroke-width: 1.0;\"/></g></svg>"
      ],
      "text/plain": [
       "<IPython.core.display.SVG object>"
      ]
     },
     "execution_count": 7,
     "metadata": {},
     "output_type": "execute_result"
    }
   ],
   "source": [
    "%%plantuml\n",
    "@startuml\n",
    "class \"Fakultaet\" as F {\n",
    "    Bezeichnung: string\n",
    "    Adresse_Hochschule: string\n",
    "    Anzahl_Mitarbeiter: int\n",
    "    Dekan: Mitarbeiter_SV-Nr: string\n",
    "    set_attr(attr)\n",
    "    get_attr(attr)\n",
    "}\n",
    "class \"Professur\" as P {\n",
    "    Bezeichnung: string  \n",
    "    Fakultät_Bezeichnung: string\n",
    "    set_attr(attr)\n",
    "    get_attr(attr)\n",
    "} \n",
    "class \"Mitarbeiter\" as M {\n",
    "    Name: string\n",
    "    email: string\n",
    "    SV-Nr: string\n",
    "    set_attr(attr)\n",
    "    get_attr(attr)\n",
    "}\n",
    "class \"wissenschaftlicher Mitarbeiter\" as WM {\n",
    "    LV_durchführen(Lehrveranstaltung_Nummer)\n",
    "    Projektmitarbeit(Projekt_Name, Stunden)\n",
    "}\n",
    "class \"nichtwissenschaftlicher Mitarbeiter\" as NM {\n",
    "}\n",
    "class \"Lehrveranstaltung\" as L {\n",
    "    Nummer: int\n",
    "    Name: string\n",
    "    Studentenzahl: int\n",
    "    Credits: float\n",
    "    set_attr(attr)\n",
    "    get_attr(attr)\n",
    "}\n",
    "class \"Projekt\" as PR {\n",
    "    Name: string\n",
    "    Start: Datum\n",
    "    Ende: Datum\n",
    "    set_attr(attr)\n",
    "    get_attr(attr)\n",
    "}\n",
    "class \"Hochschule\" as H {\n",
    "    Adresse: string\n",
    "    set_attr(attr)\n",
    "    get_attr(attr)\n",
    "}\n",
    "hide circle\n",
    "M <|-- WM\n",
    "M <|-- NM\n",
    "@enduml"
   ]
  },
  {
   "cell_type": "markdown",
   "metadata": {},
   "source": [
    "### Weitere Aufgaben zu Klassendiagrammen"
   ]
  },
  {
   "cell_type": "markdown",
   "metadata": {
    "collapsed": true
   },
   "source": [
    "[**Aufgabe 1**](klasse_uebung-a1.ipynb)\n",
    "\n",
    "[**Lösung**](klasse_uebung-a1-loesung.ipynb)\n",
    "\n",
    "[**Aufgabe 2**](klasse_uebung-a2.ipynb)\n",
    "\n",
    "[**Lösung**](klasse_uebung-a2-loesung.ipynb)\n",
    "\n",
    "[**Aufgabe 3**](klasse_uebung-a3.ipynb)\n",
    "\n",
    "[**Lösung**](klasse_uebung-a3-loesung.ipynb)\n",
    "\n",
    "[**Aufgabe 4**](klasse_uebung-a4.ipynb)\n",
    "\n",
    "[**Lösung**](klasse_uebung-a4-loesung.ipynb)\n",
    "\n",
    "[**Aufgabe 5**](klasse_uebung-a5.ipynb)\n",
    "\n",
    "[**Lösung**](klasse_uebung-a5-loesung.ipynb)\n",
    "\n",
    "[**Aufgabe 6**](klasse_uebung-a6.ipynb)\n",
    "\n",
    "[**Lösung**](klasse_uebung-a6-loesung.ipynb)\n",
    "\n",
    "[**Aufgabe 7**](klasse_uebung-a7.ipynb)\n",
    "\n",
    "[**Lösung**](klasse_uebung-a7-loesung.ipynb)\n",
    "\n",
    "[**Aufgabe 8**](klasse_uebung-a8.ipynb)\n",
    "\n",
    "[**Lösung**](klasse_uebung-a8-loesung.ipynb)\n",
    "\n",
    "[**Aufgabe 9**](klasse_uebung-a9.ipynb)\n",
    "\n",
    "[**Lösung**](klasse_uebung-a9-loesung.ipynb)\n"
   ]
  },
  {
   "cell_type": "markdown",
   "metadata": {},
   "source": [
    "#### Aufräumen des Verzeichnisses\n",
    "Die erzeugten Scripte und Bilder werden gelöscht."
   ]
  },
  {
   "cell_type": "code",
   "execution_count": null,
   "metadata": {},
   "outputs": [],
   "source": [
    "!del *.plt\n",
    "!del *.svg"
   ]
  }
 ],
 "metadata": {
  "kernelspec": {
   "display_name": "Python 3",
   "language": "python",
   "name": "python3"
  },
  "language_info": {
   "codemirror_mode": {
    "name": "ipython",
    "version": 3
   },
   "file_extension": ".py",
   "mimetype": "text/x-python",
   "name": "python",
   "nbconvert_exporter": "python",
   "pygments_lexer": "ipython3",
   "version": "3.6.5"
  }
 },
 "nbformat": 4,
 "nbformat_minor": 1
}
