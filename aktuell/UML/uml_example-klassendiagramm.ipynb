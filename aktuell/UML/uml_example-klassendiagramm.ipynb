{
 "cells": [
  {
   "cell_type": "markdown",
   "metadata": {},
   "source": [
    "[Table of Contents](uml_table_of_contents.ipynb)"
   ]
  },
  {
   "cell_type": "code",
   "execution_count": null,
   "metadata": {},
   "outputs": [],
   "source": [
    "%load_ext plantuml"
   ]
  },
  {
   "cell_type": "code",
   "execution_count": null,
   "metadata": {},
   "outputs": [],
   "source": [
    "import glob\n",
    "glob.glob(r'./*.jar')"
   ]
  },
  {
   "cell_type": "markdown",
   "metadata": {},
   "source": [
    "### Klassendiagramm `Automatische Kasse`"
   ]
  },
  {
   "cell_type": "markdown",
   "metadata": {},
   "source": [
    "Klassen:\n",
    "- Scanner\n",
    "- Touchscreen\n",
    "- Waage\n",
    "- Drucker\n",
    "- (Bar-)geldmanipulation\n",
    "- Kartenleser\n",
    "- Warenkorb\n",
    "- DB Konto (Schnittstelle erforderlich)\n",
    "- DB Waren (Schnittstelle erforderlich)"
   ]
  },
  {
   "cell_type": "code",
   "execution_count": null,
   "metadata": {},
   "outputs": [],
   "source": [
    "%%plantuml aut-kasse-KD\n",
    "@startuml\n",
    "left to right direction\n",
    "class \"<b>Scanner\" as c1 {\n",
    "    articleCode\n",
    "    weight\n",
    "    getWeight()\n",
    "    sendAC(articleCode)\n",
    "    sendW(weight)\n",
    "}\n",
    "class \"<b>Touchscreen\" as c2 {\n",
    "    articleCode\n",
    "    weight\n",
    "    getWeight()\n",
    "    sendAC(articleCode)\n",
    "    sendW(weight)\n",
    "    find(articleCode)\n",
    "}\n",
    "class \"<b>Waage\" as c3 {\n",
    "    weight\n",
    "    getWeight()\n",
    "    sendW(weight)\n",
    "}\n",
    "class \"<b>Drucker\" as c4 {\n",
    "    bill\n",
    "    getBill()\n",
    "    printBill(bill)\n",
    "}\n",
    "class \"<b>(Bar-)geldmanipulation\" as c5 {\n",
    "    bill\n",
    "    kontoDaten\n",
    "    bargeldIn\n",
    "    bargeldOut\n",
    "    getBill(bill)\n",
    "    sendBill(bill)\n",
    "    get(kontoDaten)\n",
    "    send(kontoDaten)\n",
    "    show(bargeldIn)\n",
    "    calc(bargeldOut)\n",
    "    paycash(bargeldOut)\n",
    "}\n",
    "class \"<b>Kartenleser\" as c6 {\n",
    "    kontoDaten\n",
    "    read(kontoDaten)\n",
    "    send(kontoDaten)\n",
    "}\n",
    "\n",
    "class \"<b>Warenkorb\" as c7 {\n",
    "    price\n",
    "    bill\n",
    "    articleCode\n",
    "    weight\n",
    "    createBill()\n",
    "    sendBill(bill)\n",
    "    getPrice(articleCode, weight)\n",
    "}\n",
    "class \"<b>DB-Waren\" as c8 {\n",
    "    articleCode\n",
    "    price\n",
    "    weight\n",
    "    getPrice(articleCode, weight)\n",
    "    sendPrice(price)\n",
    "}\n",
    "class \"<b>DB-Konto\" as c9 {\n",
    "    kontoDaten\n",
    "    get(kontoDaten)\n",
    "    send(kontoDaten)\n",
    "}\n",
    "hide circle\n",
    "skinparam classAttributeIconSize 0\n",
    "\n",
    "c1 -- c7\n",
    "c5 -- c7\n",
    "c5 -- c6\n",
    "c2 -- c7\n",
    "c2 -- c3\n",
    "c5 -- c4\n",
    "c5 -- c9\n",
    "c7 -- c8\n",
    "@enduml"
   ]
  },
  {
   "cell_type": "markdown",
   "metadata": {},
   "source": [
    "Vorschlag Klassendiagramm\n",
    "<img src = \"images/aut-kasse_KD.jpg\">"
   ]
  },
  {
   "cell_type": "code",
   "execution_count": null,
   "metadata": {},
   "outputs": [],
   "source": [
    "!del *.plt\n",
    "!del *.svg"
   ]
  }
 ],
 "metadata": {
  "kernelspec": {
   "display_name": "Python 3",
   "language": "python",
   "name": "python3"
  },
  "language_info": {
   "codemirror_mode": {
    "name": "ipython",
    "version": 3
   },
   "file_extension": ".py",
   "mimetype": "text/x-python",
   "name": "python",
   "nbconvert_exporter": "python",
   "pygments_lexer": "ipython3",
   "version": "3.6.5"
  }
 },
 "nbformat": 4,
 "nbformat_minor": 1
}
