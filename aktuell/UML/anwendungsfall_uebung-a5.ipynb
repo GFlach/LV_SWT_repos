{
 "cells": [
  {
   "cell_type": "markdown",
   "metadata": {},
   "source": [
    "[Aufgaben](anwendungsfall_uebung.ipynb)"
   ]
  },
  {
   "cell_type": "markdown",
   "metadata": {},
   "source": [
    "#### Aufgabe 5\n",
    "Entwerfen Sie ein Anwendungsfalldiagramm zu der folgenden Beschreibung:\n",
    "\n",
    "Zu  Werbezwecken  erstellt  eine  Firma  eine  Zeitung. Beim  Zeitschriftenumlauf  wird  jede  neu erstellte  Zeitschrift  zunächst  von  der Bibliothek   registriert.   Dann   werten   die   Mitarbeiter die   Zeitschrift   inhaltlich   aus.   Welche Mitarbeiter  die  Zeitschrift  Korrektur  gelesen  haben,  soll  auf  einem  Laufzettel  vermerkt  werden. Dieser wird im Sekretariat erstellt. Wenn der letzte Leser die Zeitschrift gelesen hat, wird diese in der   Bibliothek   archiviert.   Dies   dient   zur   Dokumentation   des   Werbeerfolgs."
   ]
  }
 ],
 "metadata": {
  "kernelspec": {
   "display_name": "Python 3",
   "language": "python",
   "name": "python3"
  },
  "language_info": {
   "codemirror_mode": {
    "name": "ipython",
    "version": 3
   },
   "file_extension": ".py",
   "mimetype": "text/x-python",
   "name": "python",
   "nbconvert_exporter": "python",
   "pygments_lexer": "ipython3",
   "version": "3.6.0"
  }
 },
 "nbformat": 4,
 "nbformat_minor": 1
}
