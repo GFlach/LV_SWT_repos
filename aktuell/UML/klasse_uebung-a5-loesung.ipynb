{
 "cells": [
  {
   "cell_type": "markdown",
   "metadata": {},
   "source": [
    "[Aufgaben](klasse_uebung.ipynb)"
   ]
  },
  {
   "cell_type": "code",
   "execution_count": null,
   "metadata": {
    "collapsed": true
   },
   "outputs": [],
   "source": [
    "%load_ext plantuml"
   ]
  },
  {
   "cell_type": "code",
   "execution_count": null,
   "metadata": {
    "collapsed": false
   },
   "outputs": [],
   "source": [
    "import glob\n",
    "glob.glob(r'./*.jar')"
   ]
  },
  {
   "cell_type": "markdown",
   "metadata": {
    "collapsed": true
   },
   "source": [
    "#### Aufgabe 5\n",
    "Entwickeln Sie ein Klassendiagramm für folgende Domäne:\n",
    "\n",
    "Sie entwickeln Software für ein Computer-Schachspiel. Die konkrete Aufgabe ist der Entwurf des Spielbretts mit den Figuren. \n",
    "Die folgenden Informationen sollen dargestellt werden:\n",
    "- Ein Schach-Spiel besteht aus einem Schachbrett und 2 Mannschaften.\n",
    "- Das Schachbrett besteht aus 64 Feldern, die jeweils eine x- und eine y-Koordinate haben.\n",
    "- Die Mannschaften unterscheiden sich durch die Farbe.\n",
    "- Jede Mannschaft besteht aus insgesamt 16 Figuren. Das sind 8 Bauern, 2 Türme, 2 Läufer, 2 Springer, 1 Dame und 1 König.\n",
    "\n",
    "Die folgenden Informationen sollen weiterhin im Modell enthalten sein: \n",
    "- Jede Figur steht entweder auf einem Feld oder wurde bereits geschlagen.\n",
    "- Jede Figur weiß, zu welcher Mannschaft sie gehört.\n",
    "- Umgekehrt kennt auch jede Mannschaft ihre Figuren.\n",
    "\n",
    "Stellen Sie im Klassendiagramm dar, dass\n",
    "- eine Figur entweder ein Bauer, eine Dame, ein Turm, oder... ist \n",
    "- jedes Feld weiß, ob es durch eine Figur besetzt ist - und wenn ja mit welcher \n",
    "- jede Figur eine Methode *moveTo* bieten soll  die es erlaubt die Figur auf ein anderes Zielfeld zu bewegen."
   ]
  },
  {
   "cell_type": "markdown",
   "metadata": {},
   "source": [
    "#### Identifikation von Klassen"
   ]
  },
  {
   "cell_type": "markdown",
   "metadata": {},
   "source": [
    "#### <font color=\"#0000f0\">Verbale Beschreibung Klassen</font>"
   ]
  },
  {
   "cell_type": "markdown",
   "metadata": {},
   "source": [
    "#### <font color=\"#0000f0\">Diagrammelemente</font>"
   ]
  },
  {
   "cell_type": "markdown",
   "metadata": {},
   "source": [
    "#### Identifikation der Attribute"
   ]
  },
  {
   "cell_type": "markdown",
   "metadata": {},
   "source": [
    "#### <font color=\"#0000f0\">Verbale Beschreibung Klassen + Attribute</font>"
   ]
  },
  {
   "cell_type": "markdown",
   "metadata": {},
   "source": [
    "#### <font color=\"#0000f0\">Diagrammelemente</font>"
   ]
  },
  {
   "cell_type": "markdown",
   "metadata": {},
   "source": [
    "#### Identifikation der Beziehungen zwischen Klassen\n",
    "Nutzen Sie hierbei nach Möglichkeit auch Generalisierung und Aggregation."
   ]
  },
  {
   "cell_type": "markdown",
   "metadata": {},
   "source": [
    "#### <font color=\"#0000f0\">Verbale Beschreibung Klassenbeziehungen</font>"
   ]
  },
  {
   "cell_type": "markdown",
   "metadata": {},
   "source": [
    "#### Aufräumen des Verzeichnisses\n",
    "Die erzeugten Scripte und Bilder werden gelöscht."
   ]
  },
  {
   "cell_type": "code",
   "execution_count": null,
   "metadata": {
    "collapsed": true
   },
   "outputs": [],
   "source": [
    "!del *.plt\n",
    "!del *.svg"
   ]
  }
 ],
 "metadata": {
  "kernelspec": {
   "display_name": "Python 3",
   "language": "python",
   "name": "python3"
  },
  "language_info": {
   "codemirror_mode": {
    "name": "ipython",
    "version": 3
   },
   "file_extension": ".py",
   "mimetype": "text/x-python",
   "name": "python",
   "nbconvert_exporter": "python",
   "pygments_lexer": "ipython3",
   "version": "3.6.0"
  }
 },
 "nbformat": 4,
 "nbformat_minor": 1
}
