{
 "cells": [
  {
   "cell_type": "markdown",
   "metadata": {},
   "source": [
    "[Aufgaben](klasse_uebung.ipynb)"
   ]
  },
  {
   "cell_type": "code",
   "execution_count": 1,
   "metadata": {
    "collapsed": true
   },
   "outputs": [],
   "source": [
    "%load_ext plantuml"
   ]
  },
  {
   "cell_type": "code",
   "execution_count": 2,
   "metadata": {},
   "outputs": [
    {
     "data": {
      "text/plain": [
       "['.\\\\plantuml.jar']"
      ]
     },
     "execution_count": 2,
     "metadata": {},
     "output_type": "execute_result"
    }
   ],
   "source": [
    "import glob\n",
    "glob.glob(r'./*.jar')"
   ]
  },
  {
   "cell_type": "markdown",
   "metadata": {
    "collapsed": true
   },
   "source": [
    "### Aufgabe 1"
   ]
  },
  {
   "cell_type": "markdown",
   "metadata": {},
   "source": [
    "Quelle: Fachdidaktik der Informatik; Jörg Depner, Kathrin Gaißer   \n",
    "\n",
    "Max und Sarah haben ein Ziel. Jeder Gast, der ihr Restaurant, das „fleißige Bienchen“ besucht, soll so schnell wie möglich satt werden. Um das zu erreichen arbeiten sie auf Hochtouren. Wenn ein Gast sein Essen bestellt, wird das sofort in der Küche gehört. Max fängt direkt an das Gericht zuzubereiten. Man hat es noch nicht bewiesen, aber wahrscheinlich ist er der schnellste Koch der Welt und dementsprechend dauert das Kochen nur wenige Minuten. Ist das Gericht fertig rennt Sarah zu den Gästen und serviert es. Manchmal verliert sie dabei, weil sie so schnell rennt, Teile des Essens. Dann muss sie zurück in die Küche, in der das Gericht neu zubereitet wird. Wenn aber alles gut gegangen ist, kann der Gast schnell essen. Gäste mit kleinem Hunger sind nach dem Essen satt. Hungrige Gäste bestellen noch einen Nachtisch der schon bereit steht, damit keine Zeit verloren geht. Ist dieser aufgegessen sind auch die hungrigsten Gäste satt. Sarah und Max haben herausgefunden, dass die Gäste beim Bezahlen der Rechnung viel mehr Trinkgeld geben, wenn sie innerhalb von einer halben Stunde satt sind. Aber egal, wie viel Geld sie bekommen. Max und Sarah sind glücklich über jeden Gast der sie besucht. "
   ]
  },
  {
   "cell_type": "markdown",
   "metadata": {},
   "source": [
    "### Lösung\n",
    "<img src = \"images/zustand-a2-loes.jpg\">"
   ]
  }
 ],
 "metadata": {
  "kernelspec": {
   "display_name": "Python 3",
   "language": "python",
   "name": "python3"
  },
  "language_info": {
   "codemirror_mode": {
    "name": "ipython",
    "version": 3
   },
   "file_extension": ".py",
   "mimetype": "text/x-python",
   "name": "python",
   "nbconvert_exporter": "python",
   "pygments_lexer": "ipython3",
   "version": "3.7.1"
  }
 },
 "nbformat": 4,
 "nbformat_minor": 1
}
