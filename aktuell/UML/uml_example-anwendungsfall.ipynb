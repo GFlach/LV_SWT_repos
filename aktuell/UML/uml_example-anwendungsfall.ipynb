{
 "cells": [
  {
   "cell_type": "markdown",
   "metadata": {},
   "source": [
    "[Table of Contents](uml_table_of_contents.ipynb)"
   ]
  },
  {
   "cell_type": "code",
   "execution_count": null,
   "metadata": {},
   "outputs": [],
   "source": [
    "%load_ext plantuml"
   ]
  },
  {
   "cell_type": "code",
   "execution_count": null,
   "metadata": {},
   "outputs": [],
   "source": [
    "import glob\n",
    "glob.glob(r'./*.jar')"
   ]
  },
  {
   "cell_type": "markdown",
   "metadata": {},
   "source": [
    "### Anwendungsfalldiagramm `Automatische Kasse`"
   ]
  },
  {
   "cell_type": "code",
   "execution_count": null,
   "metadata": {},
   "outputs": [],
   "source": [
    "%%plantuml aut-kasse_AD\n",
    "\n",
    "@startuml\n",
    "left to right direction\n",
    "\n",
    ":Kunde: as N\n",
    ":Servicepersonal: as S\n",
    ":DB-Waren: as DBW\n",
    ":DB-Konto: as DBK\n",
    "\n",
    "rectangle \"Automatische Kasse\" {\n",
    "usecase (Artikel erfassen) as AE\n",
    "usecase (Warenkorb manipulieren) as WKM\n",
    "usecase (Bezahlen) as B\n",
    "usecase (Kasse räumen) as KR\n",
    "usecase (Wartung/Service) as W\n",
    "\n",
    "AE --> WKM : <<include>>\n",
    "B --> WKM : <<include>>\n",
    "W <-- WKM : <<extend>>\n",
    "KR --> WKM : <<include>>\n",
    "\n",
    "N -- AE\n",
    "N -- WKM\n",
    "N -- B\n",
    "N -- KR\n",
    "\n",
    "AE -- DBW\n",
    "B -- DBK\n",
    "    \n",
    "S -- WKM\n",
    "S -- W\n",
    "    \n",
    "W -- DBW\n",
    "}\n",
    "@enduml"
   ]
  },
  {
   "cell_type": "markdown",
   "metadata": {},
   "source": [
    "Vorschlag Anwendungsfalldiagramm\n",
    "<img src = \"images/aut-kasse_AD.jpg\">"
   ]
  },
  {
   "cell_type": "markdown",
   "metadata": {},
   "source": [
    "#### Anwendungsfallbeschreibungen\n",
    "formale Beschreibung der Anwendungsfälle\n",
    "\n",
    "Nummer | AK01\n",
    "-------| --------\n",
    "Titel |\tArtikel erfassen\n",
    "Kurzbeschreibung | Artikel werden durch Scannen oder Einzeleingabe erfasst\n",
    "Vorbedingungen | Kasse im Startzustand\n",
    "Beschreibung des Ablaufs | Artikel werden einzeln gescannt bzw. in der Warendatenbank gesucht, im Warenkorb eingtragen und in der Einpackstation abgelegt\n",
    "Auswirkungen | Artikel im Warenkorb und in Einpackstation\n",
    "Anmerkungen | keine\n",
    "\n",
    "Nummer | AK02\n",
    "--------|--------|\n",
    "Titel |\tWarenkorb manipulieren\n",
    "Kurzbeschreibung | Warenkorbinhalt  wird verändert\n",
    "Vorbedingungen | Warenkorb vorhanden\n",
    "Beschreibung des Ablaufs | Servicepersonal und Kunde verändern Inhalt des Warenkorbes durch Löschen von Artikeln\n",
    "Auswirkungen | Warenkorb verändert\n",
    "Anmerkungen |  keine\n",
    "\n",
    "Nummer | AK03\n",
    "--------|--------|\n",
    "Titel |\tBezahlen\n",
    "Kurzbeschreibung | eingescannte Waren werden bezahlt\n",
    "Vorbedingungen | Scanvorgang abgeschlossen, Warenkorb gefüllt, Gutscheincodes verrechnet\n",
    "Beschreibung des Ablaufs | Kunde wählt Zahlungsart, bei elektronischer Zahlung evtl. PIN-Eingabe, Aufforderung zum Einpacken\n",
    "Auswirkungen | Warenkorb zum Löschen freigegeben\n",
    "Anmerkungen |  keine\n",
    "\n",
    "Nummer | AK04\n",
    "--------|--------|\n",
    "Titel |\tKasse räumen\n",
    "Kurzbeschreibung | Waren aus Einpackstation räumen \n",
    "Vorbedingungen | Ware bezahlt\n",
    "Beschreibung des Ablaufs | Kunde entnimmt Artikel, nach Entnahme des letzten Artikels wird Warenkorb gelöscht\n",
    "Auswirkungen | Kasse im Startzustand\n",
    "Anmerkungen |  keine\n"
   ]
  },
  {
   "cell_type": "markdown",
   "metadata": {},
   "source": [
    "\n",
    "Nummer | AK05\n",
    "--------|:--------|\n",
    "Titel | Service\n",
    "Kurzbeschreibung | regelmäßige bzw. spontane Wartung des Systems\n",
    "Vorbedingungen | Intervall abgelaufen, externes Ereignis eingetreten\n",
    "Beschreibung des Ablaufs | Servicpersonal meldet sich an weiter, mit: Bearbeitung des Servicefalls Software update\n",
    " |  alternativ: Bearbeitung des Servicefalls Fehlerzustand\n",
    "Auswirkungen | keine\n",
    "Anmerkungen |  keine\n",
    "\n",
    "Nummer | AK05-01\n",
    "--------|--------|\n",
    "Titel | Software update\n",
    "Kurzbeschreibung | Software update einspielen\n",
    "Vorbedingungen | Aufforderung zum update\n",
    "Beschreibung des Ablaufs | Servicepersonal meldet sich an, wählt Software update aus, startet update Prozess, wartet Ergebnis ab und startet bei positivem Ergebnis Kasse neu\n",
    "Auswirkungen | Kasse im Startzustand \n",
    " | alternativ: Kasse gestoppt\n",
    "Anmerkungen |  keine\n",
    "\n",
    "Nummer | AK05-02\n",
    "--------|--------|\n",
    "Titel | Fehlerzustand beseitigen\n",
    "Kurzbeschreibung | Fehlerzustand wird behoben\n",
    "Vorbedingungen |  Fehlerzustand klassifiziert\n",
    "Beschreibung des Ablaufs | bei Fehlerzustand undefinierter Abbruch wird durch das Servicepersonal Warenkorb und Einpackstation geleert, Kasse wird neu gestartet\n",
    " | alternativ: bei Fehlerzustand keine Funktion wird der Fehlercode ausgewählt und den Handlungsanweisungen gefolgt, Kasse wird neu gestartet oder außer Betrieb genommen\n",
    "  | alternativ: bei Fehlerzustand Stau wird der Stau beseitigt, Kasse wird neu gestartet oder außer Betrieb genommen\n",
    "Auswirkungen | Kasse im Startzustand\n",
    " | alternativ: Kasse gestoppt\n",
    "Anmerkungen |  keine"
   ]
  },
  {
   "cell_type": "code",
   "execution_count": null,
   "metadata": {},
   "outputs": [],
   "source": [
    "!del *.plt\n",
    "!del *.svg"
   ]
  }
 ],
 "metadata": {
  "kernelspec": {
   "display_name": "Python 3",
   "language": "python",
   "name": "python3"
  },
  "language_info": {
   "codemirror_mode": {
    "name": "ipython",
    "version": 3
   },
   "file_extension": ".py",
   "mimetype": "text/x-python",
   "name": "python",
   "nbconvert_exporter": "python",
   "pygments_lexer": "ipython3",
   "version": "3.6.5"
  }
 },
 "nbformat": 4,
 "nbformat_minor": 1
}
