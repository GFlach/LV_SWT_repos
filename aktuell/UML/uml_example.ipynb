{
 "cells": [
  {
   "cell_type": "markdown",
   "metadata": {},
   "source": [
    "[Table of Contents](uml_table_of_contents.ipynb)"
   ]
  },
  {
   "cell_type": "code",
   "execution_count": 2,
   "metadata": {},
   "outputs": [],
   "source": [
    "%load_ext plantuml"
   ]
  },
  {
   "cell_type": "code",
   "execution_count": 3,
   "metadata": {},
   "outputs": [
    {
     "data": {
      "text/plain": [
       "['.\\\\plantuml.jar']"
      ]
     },
     "execution_count": 3,
     "metadata": {},
     "output_type": "execute_result"
    }
   ],
   "source": [
    "import glob\n",
    "glob.glob(r'./*.jar')"
   ]
  },
  {
   "cell_type": "markdown",
   "metadata": {},
   "source": [
    "### 3.7 Zusammenfassendes Beispiel\n",
    "Für die Anwendung `Automatische Kasse` sollen beispielhaft UML-Diagramme entwickelt werden. Als Basis soll zunächst eine Projektspezifikation erstellt werden.\n",
    "\n",
    "### Aufgabe 0: Vorüberlegungen zum Projekt  `Automatische Kasse`\n",
    "#### Anforderungen\n",
    "1 Artikel (einscannen) ermitteln und wiegen\n",
    "\n",
    "2 Warenkorb anlegen und bearbeiten\n",
    "\n",
    "3 Bild- und Sprachausgabe\n",
    "\n",
    "4 an Kasse bezahlen\n",
    "\n",
    "5 Gutscheincode einscannen\n",
    "\n",
    "6 Artikel suchen\n",
    "\n",
    "7 Spracheingabe\n",
    "\n",
    "8 behindertengerecht\n",
    "\n",
    "#### Hardware\n",
    "Display, Touchscreen, BARCODE-Scanner, Kamera, Waage, Drucker, Computer, Bargeldmanagement, Kartenleser, Lautsprecher, Mikrofon, Statusanzeige, Bluetooth, Scanner, Kartenleser\n",
    "\n",
    "#### Nutzung der Hardware\n",
    "Anforderung | genutzte Hardware\n",
    ":------------|:-----------\n",
    "1 | Scanner/Kamera, Touchscreen, Waage, Bluetooth\n",
    "2 | Touchscreen\n",
    "2 | Touchscreen, Lautsprecher\n",
    "4 | Bargeldmanagement, Kartenleser, Touchscreen, Drucker, Bluetooth\n",
    "5 | Scanner, Touchscreen, Ablage, Bluetooth\n",
    "6 | Mikrofon, Touchscreen, Kamera, Bluetooth\n",
    "7 | Mikrofon \n",
    "8 | Lautsprecher\n",
    "\n",
    "\n",
    "### Aufgabe 1: Projektspezifikation\n",
    "Erstellen Sie anhand des Beispiels `Geldautomat` eine Projektspezifikation für die `Automatische Kasse`. \n",
    "\n",
    "### Geldautomat\n",
    "Für einen Geldautomaten soll eine Projektspezifikation realisiert werden. Dazu sind folgende Bestandteile der Anforderungsanalyse umzusetzen:\n",
    "\n",
    "-\tSystembeschreibung: Welchen Funktionsumfang  soll das zu entwickelnde Gerät haben? (Auftraggebersicht)\n",
    "\n",
    "-\tBegriffsverzeichnis: Zusammenstellung und Erklärung der in dem Zusammenhang wichtigen Fachtermini\n",
    "\n",
    "-\tAktorenliste: Zusammenstellung aller „Nutzer“ des Systems\n",
    "\n",
    "-\tAnwendungsfalldiagramm: Beschreibung des Zusammenhangs der festgelegten Anwendungsfälle\n",
    "\n",
    "-\tAnwendungsfallbeschreibungen: Beschreibung der einzelnen Nutzungsszenarien\n",
    "\n",
    "-\tAnalyseprototyp: Entwurf einer Benutzeroberfläche\n",
    "\n",
    "#### Systembeschreibung\n",
    "Ein Geldautomat ist eine technische Einrichtung zur Bargeldausgabe. Der Bargeldbezug an dem Geldausgabeautomaten soll typischerweise wie folgt verlaufen:\n",
    "\n",
    "-\tDie Karte wird eingeschoben.\n",
    "\n",
    "-\tDie Option \"Bargeld abheben\" wird gewählt (andere Menüpunkte sind Sprache, Kontostandabfrage, Karten-Ladung)\n",
    "\n",
    "-\tDie persönliche (kartengebundene) Geheimzahl (auch: PIN) wird eingegeben und bestätigt.\n",
    "\n",
    "-\tDer Betrag wird gewählt und bestätigt.\n",
    "\n",
    "-\tDie Karte wird zurückgegeben und kann entnommen werden.\n",
    "\n",
    "-\tDas Geld wird ausgezahlt und kann entnommen werden.\n",
    "\n",
    "Die Vorgänge können durch Betätigung der `Abbruch`-Taste unterbrochen werden. Wird das Geld nicht innerhalb einer Sekundenfrist entnommen, wird es zur Eigentumssicherung einbehalten.\n",
    "Der Betreiber des Geldausgabeautomaten ist für die Funktionsvielfalt (und Schrittfolge) auf dem Endgerät verantwortlich. Typische (meist landesspezifische) weitere Funktionen sind Sprachauswahl, Quittungsdruck, Kontoauszug, Kontoüberweisung, Aufladen der elektronischen Geldbörse, Aufladen von Guthabenkarten für Mobiltelefone usw.\n",
    "\n",
    "#### Begriffsverzeichnis\n",
    "PIN, Geheimzahl, Verschlüsselung,\n",
    "Geld, Währung, Girokonto, Kreditkartenkonto, Scheckkarte, \n",
    "Kreditkarte,\n",
    "Bildschirm, Touchscreen, Tastatur,\n",
    "Busschnittstelle, Encrypting PIN Pad (EPP), Auszahlmodul, Kartenleser, Videokamera,\n",
    "Bargeldausgabe, Kontostand, Transaktion (online, offline), Quittungsdruck, Sprachauswahl, elektronische Geldbörse, Guthabenkarte,\n",
    "Kreditinstitut, Kunde, Gebühren,\n",
    "Softkeys, Betriebssystem, Gerätetreiber, Industrie-PC\n",
    "\n",
    "\n",
    "#### Anwendungsfalldiagramm"
   ]
  },
  {
   "cell_type": "code",
   "execution_count": null,
   "metadata": {},
   "outputs": [],
   "source": [
    "%%plantuml anwendungsfall\n",
    "\n",
    "@startuml\n",
    "left to right direction\n",
    "\n",
    "actor Nutzer\n",
    "actor Service\n",
    "actor DB\n",
    "\n",
    "rectangle \"Geldautomat\" {\n",
    "usecase (Bargeld abheben) as BA\n",
    "usecase (Kontostand abfragen) as KA\n",
    "usecase (Geldbörse laden) as GL\n",
    "usecase (Sprache auswählen) as SW\n",
    "usecase (Wartung) as W\n",
    "\n",
    "Nutzer -- BA\n",
    "Nutzer -- KA\n",
    "Nutzer -- GL\n",
    "Nutzer -- SW\n",
    "\n",
    "BA -- DB\n",
    "KA -- DB\n",
    "GL -- DB\n",
    "\n",
    "Service -- W\n",
    "}\n",
    "@enduml"
   ]
  },
  {
   "cell_type": "markdown",
   "metadata": {},
   "source": [
    "#### Anwendungsfallbeschreibungen\n",
    "formale Beschreibung des Anwendungsfalls\n",
    "\n",
    "Nummer | ID0815\n",
    "--------|--------|\n",
    "Titel |\tBargeld_abheben\n",
    "Kurzbeschreibung | Nutzer hebt von dem zur Geldkarte gehörenden Konto einen Betrag ab. Dieser wird bar ausgezahlt.\n",
    "Vorbedingungen | Automat im Zustand `Automat wartet`\n",
    "Beschreibung des Ablaufs | - Die Karte wird eingeschoben.\n",
    " | - Die Option `Bargeld abheben` wird gewählt. Die persönliche (kartengebundene) Geheimzahl (auch: PIN) wird eingegeben und bestätigt.\n",
    " | - Der Betrag wird gewählt und bestätigt.\n",
    " | - Die Karte wird zurückgegeben und kann entnommen werden.\n",
    " | - Das Geld wird ausgezahlt und kann entnommen werden.\n",
    "Auswirkungen | Kontostand ändern, Auszahldatum, Auszahlbetrag vermerken\n",
    "Anmerkungen |  keine\n",
    "\n",
    "#### Analyseprototyp\n",
    "- GUI Startbildschirm\n",
    "- GUI Karte eingeben\n",
    "- GUI PIN_abfragen\n",
    "- GUI Betrag_abfragen\n",
    "- GUI Auszahlung\n",
    "- GUI Erfolg\n",
    "- GUI Einzug Karte\n",
    "- GUI Einzug Geld\n",
    "- GUI Fehlerzustand\n"
   ]
  },
  {
   "cell_type": "markdown",
   "metadata": {},
   "source": [
    "### Lösung Aufgabe 1 - Projektspezifikation `Automatische Kasse`"
   ]
  },
  {
   "cell_type": "markdown",
   "metadata": {
    "collapsed": true
   },
   "source": [
    "#### Systembeschreibung\n",
    "Eine `Automatische Kasse` ist eine technische Einrichtung zur Erfassung und Bezahlung von Waren. Der Vorgang soll typischerweise wie folgt verlaufen:\n",
    "\n",
    "-\tWare mit Code wird gescannt.\n",
    "\n",
    "-\tWare ohne Code wird in der Datenbank gesucht.\n",
    "\n",
    "-\tGutscheincodes (z. B. Pfand) wird eingegeben.\n",
    "\n",
    "-\tWare wird bezahlt.\n",
    "\n",
    "-\tWare wird eingepackt.\n",
    "\n",
    "Die Vorgänge können durch Betätigung der `Abbruch`-Taste unterbrochen werden. Es wird ein Warenkorb angelegt, der manipuliert werden kann.  \n",
    "Der Betreiber der `Automatischen Kasse` ist für die Funktionsvielfalt (und Schrittfolge) auf dem Endgerät verantwortlich. Weitere Funktionen sind Sprachauswahl, Nutzung von Smartphonfunktionen.\n",
    "\n",
    "#### Begriffsverzeichnis\n",
    "Kunde, Service\n",
    "\n",
    "Geld, Währung\n",
    "\n",
    "Touchscreen, Tastatur, Auszahlmodul, Kartenleser, Videokamera, Bargeldausgabe\n",
    "\n",
    "Quittungsdruck, Sprachauswahl\n",
    "\n",
    "PIN, Geheimzahl, Verschlüsselung, Encrypting PIN Pad (EPP), Transaktion (online, offline)\n",
    "\n",
    "Softkeys, Betriebssystem, Gerätetreiber, Industrie-PC, Datenbank, Busschnittstelle\n",
    "\n",
    "#### Aktorenliste\n",
    "\n",
    "-\tKunde (Ware scannen, Ware suchen, PIN eingeben, Funktion auswählen, Korrigieren, Bestätigen, Abbrechen)\n",
    "-\tService (Servicekarte eingeben, PIN eingeben, Zustand abfragen, Korrektur, Bestätigung, Abbrechen, Zustand ändern, Fernwartung)\n",
    "-\tDatenbank (Warenbestand, Warenkorb, Kreditinstitut)\n",
    "\n",
    "#### Anwendungsfalldiagramm"
   ]
  },
  {
   "cell_type": "code",
   "execution_count": 4,
   "metadata": {},
   "outputs": [
    {
     "data": {
      "image/svg+xml": [
       "<svg height=\"394px\" style=\"width:452px;height:394px;\" version=\"1.1\" viewBox=\"0 0 452 394\" width=\"452px\" xmlns=\"http://www.w3.org/2000/svg\" xmlns:xlink=\"http://www.w3.org/1999/xlink\"><defs><filter height=\"300%\" id=\"f1\" width=\"300%\" x=\"-1\" y=\"-1\"><feGaussianBlur result=\"blurOut\" stdDeviation=\"2.0\"/><feColorMatrix in=\"blurOut\" result=\"blurOut2\" type=\"matrix\" values=\"0 0 0 0 0 0 0 0 0 0 0 0 0 0 0 0 0 0 .4 0\"/><feOffset dx=\"4.0\" dy=\"4.0\" in=\"blurOut2\" result=\"blurOut3\"/><feBlend in=\"SourceGraphic\" in2=\"blurOut3\" mode=\"normal\"/></filter></defs><g><rect fill=\"#FFFFFF\" filter=\"url(#f1)\" height=\"362\" style=\"stroke: #000000; stroke-width: 2.0;\" width=\"216\" x=\"97\" y=\"25\"/><text fill=\"#000000\" font-family=\"sans-serif\" font-size=\"14\" font-weight=\"bold\" lengthAdjust=\"spacingAndGlyphs\" textLength=\"142\" x=\"134\" y=\"41.5332\">Automatische Kasse</text><ellipse cx=\"204.8716\" cy=\"144.1743\" fill=\"#FEFECE\" filter=\"url(#f1)\" rx=\"68.8716\" ry=\"16.1743\" style=\"stroke: #A80036; stroke-width: 1.5;\"/><text fill=\"#000000\" font-family=\"sans-serif\" font-size=\"14\" lengthAdjust=\"spacingAndGlyphs\" textLength=\"98\" x=\"155.8716\" y=\"149.479\">Artikel erfassen</text><ellipse cx=\"205.1309\" cy=\"282.8262\" fill=\"#FEFECE\" filter=\"url(#f1)\" rx=\"92.1309\" ry=\"20.8262\" style=\"stroke: #A80036; stroke-width: 1.5;\"/><text fill=\"#000000\" font-family=\"sans-serif\" font-size=\"14\" lengthAdjust=\"spacingAndGlyphs\" textLength=\"155\" x=\"127.6309\" y=\"288.1309\">Warenkorb manipulieren</text><ellipse cx=\"205.0122\" cy=\"76.9517\" fill=\"#FEFECE\" filter=\"url(#f1)\" rx=\"44.0122\" ry=\"15.4517\" style=\"stroke: #A80036; stroke-width: 1.5;\"/><text fill=\"#000000\" font-family=\"sans-serif\" font-size=\"14\" lengthAdjust=\"spacingAndGlyphs\" textLength=\"58\" x=\"176.0122\" y=\"82.2564\">Bezahlen</text><ellipse cx=\"204.8112\" cy=\"211.1622\" fill=\"#FEFECE\" filter=\"url(#f1)\" rx=\"66.3112\" ry=\"15.6622\" style=\"stroke: #A80036; stroke-width: 1.5;\"/><text fill=\"#000000\" font-family=\"sans-serif\" font-size=\"14\" lengthAdjust=\"spacingAndGlyphs\" textLength=\"91\" x=\"159.3112\" y=\"216.4669\">Kasse räumen</text><ellipse cx=\"205.1838\" cy=\"354.9517\" fill=\"#FEFECE\" filter=\"url(#f1)\" rx=\"41.1838\" ry=\"15.4517\" style=\"stroke: #A80036; stroke-width: 1.5;\"/><text fill=\"#000000\" font-family=\"sans-serif\" font-size=\"14\" lengthAdjust=\"spacingAndGlyphs\" textLength=\"54\" x=\"178.1838\" y=\"360.2564\">Wartung</text><ellipse cx=\"29.5\" cy=\"148.5\" fill=\"#FEFECE\" filter=\"url(#f1)\" rx=\"8\" ry=\"8\" style=\"stroke: #A80036; stroke-width: 2.0;\"/><path d=\"M29.5,156.5 L29.5,183.5 M16.5,164.5 L42.5,164.5 M29.5,183.5 L16.5,198.5 M29.5,183.5 L42.5,198.5 \" fill=\"#FEFECE\" filter=\"url(#f1)\" style=\"stroke: #A80036; stroke-width: 2.0;\"/><text fill=\"#000000\" font-family=\"sans-serif\" font-size=\"14\" lengthAdjust=\"spacingAndGlyphs\" textLength=\"41\" x=\"9\" y=\"220.0332\">Kunde</text><ellipse cx=\"29.5\" cy=\"280.5\" fill=\"#FEFECE\" filter=\"url(#f1)\" rx=\"8\" ry=\"8\" style=\"stroke: #A80036; stroke-width: 2.0;\"/><path d=\"M29.5,288.5 L29.5,315.5 M16.5,296.5 L42.5,296.5 M29.5,315.5 L16.5,330.5 M29.5,315.5 L42.5,330.5 \" fill=\"#FEFECE\" filter=\"url(#f1)\" style=\"stroke: #A80036; stroke-width: 2.0;\"/><text fill=\"#000000\" font-family=\"sans-serif\" font-size=\"14\" lengthAdjust=\"spacingAndGlyphs\" textLength=\"47\" x=\"6\" y=\"352.0332\">Service</text><ellipse cx=\"404\" cy=\"277.5\" fill=\"#FEFECE\" filter=\"url(#f1)\" rx=\"8\" ry=\"8\" style=\"stroke: #A80036; stroke-width: 2.0;\"/><path d=\"M404,285.5 L404,312.5 M391,293.5 L417,293.5 M404,312.5 L391,327.5 M404,312.5 L417,327.5 \" fill=\"#FEFECE\" filter=\"url(#f1)\" style=\"stroke: #A80036; stroke-width: 2.0;\"/><text fill=\"#000000\" font-family=\"sans-serif\" font-size=\"14\" lengthAdjust=\"spacingAndGlyphs\" textLength=\"66\" x=\"371\" y=\"349.0332\">DB-Waren</text><ellipse cx=\"404\" cy=\"138.5\" fill=\"#FEFECE\" filter=\"url(#f1)\" rx=\"8\" ry=\"8\" style=\"stroke: #A80036; stroke-width: 2.0;\"/><path d=\"M404,146.5 L404,173.5 M391,154.5 L417,154.5 M404,173.5 L391,188.5 M404,173.5 L417,188.5 \" fill=\"#FEFECE\" filter=\"url(#f1)\" style=\"stroke: #A80036; stroke-width: 2.0;\"/><text fill=\"#000000\" font-family=\"sans-serif\" font-size=\"14\" lengthAdjust=\"spacingAndGlyphs\" textLength=\"94\" x=\"357\" y=\"210.0332\">DB-Warenkorb</text><ellipse cx=\"404\" cy=\"18.5\" fill=\"#FEFECE\" filter=\"url(#f1)\" rx=\"8\" ry=\"8\" style=\"stroke: #A80036; stroke-width: 2.0;\"/><path d=\"M404,26.5 L404,53.5 M391,34.5 L417,34.5 M404,53.5 L391,68.5 M404,53.5 L417,68.5 \" fill=\"#FEFECE\" filter=\"url(#f1)\" style=\"stroke: #A80036; stroke-width: 2.0;\"/><text fill=\"#000000\" font-family=\"sans-serif\" font-size=\"14\" lengthAdjust=\"spacingAndGlyphs\" textLength=\"61\" x=\"373.5\" y=\"90.0332\">DB-Konto</text><path d=\"M50.0654,176.828 C74.9683,171.517 118.903,162.147 153.479,154.774 \" fill=\"none\" style=\"stroke: #A80036; stroke-width: 1.0;\"/><path d=\"M50.0209,207.522 C60.4026,220.053 74.0915,234.345 89,244 C104.6606,254.142 123.237,261.932 140.842,267.785 \" fill=\"none\" style=\"stroke: #A80036; stroke-width: 1.0;\"/><path d=\"M50.2136,149.278 C60.2769,135.425 73.6419,120.074 89,110 C111.405,95.304 140.431,87.039 163.716,82.456 \" fill=\"none\" style=\"stroke: #A80036; stroke-width: 1.0;\"/><path d=\"M50.0654,184.383 C74.3479,188.582 116.726,195.909 150.878,201.815 \" fill=\"none\" style=\"stroke: #A80036; stroke-width: 1.0;\"/><path d=\"M263.914,152.506 C283.483,157.512 304.524,165.444 321,178 C329.288,184.316 357.439,231.087 378.459,267.182 \" fill=\"none\" style=\"stroke: #A80036; stroke-width: 1.0;\"/><path d=\"M264.84,152.064 C294.318,156.104 329.485,160.924 356.962,164.69 \" fill=\"none\" style=\"stroke: #A80036; stroke-width: 1.0;\"/><path d=\"M266.777,267.407 C284.884,261.454 304.329,253.705 321,244 C335.331,235.657 349.392,224.554 361.711,213.53 \" fill=\"none\" style=\"stroke: #A80036; stroke-width: 1.0;\"/><path d=\"M246.341,71.676 C284.052,66.699 339.481,59.383 373.298,54.92 \" fill=\"none\" style=\"stroke: #A80036; stroke-width: 1.0;\"/><path d=\"M244.036,84.288 C267.071,89.574 296.613,97.932 321,110 C333.245,116.059 345.542,123.992 356.753,132.124 \" fill=\"none\" style=\"stroke: #A80036; stroke-width: 1.0;\"/><path d=\"M53.1821,309.078 C73.0226,305.6474 102.965,300.47 130.955,295.63 \" fill=\"none\" style=\"stroke: #A80036; stroke-width: 1.0;\"/><path d=\"M53.1821,318.4908 C82.9428,325.6951 135.433,338.4016 169.968,346.7616 \" fill=\"none\" style=\"stroke: #A80036; stroke-width: 1.0;\"/><path d=\"M240.766,347.0585 C277.549,338.6563 335.112,325.5075 370.865,317.3406 \" fill=\"none\" style=\"stroke: #A80036; stroke-width: 1.0;\"/></g></svg>"
      ],
      "text/plain": [
       "<IPython.core.display.SVG object>"
      ]
     },
     "execution_count": 4,
     "metadata": {},
     "output_type": "execute_result"
    }
   ],
   "source": [
    "%%plantuml anwendungsfall\n",
    "\n",
    "@startuml\n",
    "left to right direction\n",
    "\n",
    ":Kunde: as N\n",
    ":Service: as S\n",
    ":DB-Waren: as DBW\n",
    ":DB-Warenkorb: as DBWK\n",
    ":DB-Konto: as DBK\n",
    "\n",
    "rectangle \"Automatische Kasse\" {\n",
    "usecase (Artikel erfassen) as AE\n",
    "usecase (Warenkorb manipulieren) as WKM\n",
    "usecase (Bezahlen) as B\n",
    "usecase (Kasse räumen) as KR\n",
    "usecase (Wartung) as W\n",
    "\n",
    "N -- AE\n",
    "N -- WKM\n",
    "N -- B\n",
    "N -- KR\n",
    "\n",
    "AE -- DBW\n",
    "AE -- DBWK\n",
    "WKM --DBWK\n",
    "B -- DBK\n",
    "B -- DBWK\n",
    "    \n",
    "S -- WKM\n",
    "S -- W\n",
    "    \n",
    "W -- DBW\n",
    "}\n",
    "@enduml"
   ]
  },
  {
   "cell_type": "markdown",
   "metadata": {},
   "source": [
    "#### Anwendungsfallbeschreibungen\n",
    "formale Beschreibung der Anwendungsfälle\n",
    "\n",
    "Nummer | AK01\n",
    "--------|--------|\n",
    "Titel |\tArtikel erfassen\n",
    "Kurzbeschreibung | \n",
    "Vorbedingungen | \n",
    "Beschreibung des Ablaufs | \n",
    "Auswirkungen | \n",
    "Anmerkungen | \n",
    "\n",
    "Nummer | AK02\n",
    "--------|--------|\n",
    "Titel |\tWarenkorb manipulieren\n",
    "Kurzbeschreibung | \n",
    "Vorbedingungen | \n",
    "Beschreibung des Ablaufs | \n",
    "Auswirkungen | \n",
    "Anmerkungen |  \n",
    "\n",
    "Nummer | AK03\n",
    "--------|--------|\n",
    "Titel |\tBezahlen\n",
    "Kurzbeschreibung | \n",
    "Vorbedingungen | \n",
    "Beschreibung des Ablaufs | \n",
    "Auswirkungen | \n",
    "Anmerkungen |  \n",
    "\n",
    "Nummer | AK04\n",
    "--------|--------|\n",
    "Titel |\tKasse räumen\n",
    "Kurzbeschreibung | \n",
    "Vorbedingungen | \n",
    "Beschreibung des Ablaufs | \n",
    "Auswirkungen | \n",
    "Anmerkungen |  \n"
   ]
  },
  {
   "cell_type": "markdown",
   "metadata": {},
   "source": [
    "\n",
    "Nummer | AK05\n",
    "--------|:--------|\n",
    "Titel | Wartung\n",
    "Kurzbeschreibung | regelmäßige bzw. spontane Wartung des Systems\n",
    "Vorbedingungen | Intervall abgelaufen, externes Ereignis eingetreten\n",
    "Beschreibung des Ablaufs | Bearbeitung des Servicefalls Software update\n",
    " |  alternativ:Bearbeitung des Servicefalls Software update\n",
    "Auswirkungen | update realisiert oder Fehlerfall behoben und Kasse neu gestartet\n",
    " | Fehler besteht und Kasse außer Betrieb\n",
    "Anmerkungen |  keine\n",
    "\n",
    "Nummer | AK05-01\n",
    "--------|--------|\n",
    "Titel | Software update\n",
    "Kurzbeschreibung | \n",
    "Vorbedingungen | \n",
    "Beschreibung des Ablaufs | \n",
    "Auswirkungen | \n",
    "Anmerkungen |  \n",
    "\n",
    "Nummer | AK05-02\n",
    "--------|--------|\n",
    "Titel | Fehlerzustand beseitigen\n",
    "Kurzbeschreibung | \n",
    "Vorbedingungen | \n",
    "Beschreibung des Ablaufs | \n",
    "Auswirkungen | \n",
    "Anmerkungen |  \n"
   ]
  },
  {
   "cell_type": "markdown",
   "metadata": {},
   "source": [
    "#### Analyseprototyp\n",
    "- GUI Startbildschirm\n",
    "- GUI Artikel erfassen (scannen, suchen, ...)\n",
    "- GUI Kasse (Zahlungsart, PIN, Rückgeld, ...)\n",
    "- GUI Warenkorb manipulieren\n",
    "- GUI Wartung"
   ]
  },
  {
   "cell_type": "markdown",
   "metadata": {},
   "source": [
    "- GUI Wartung"
   ]
  },
  {
   "cell_type": "markdown",
   "metadata": {},
   "source": [
    "### Aufgabe 2: Klassendiagramm\n",
    "Erstellen Sie ein Klassendiagramm für die Anwendung `Automatische Kasse`!\n"
   ]
  },
  {
   "cell_type": "code",
   "execution_count": null,
   "metadata": {},
   "outputs": [],
   "source": []
  }
 ],
 "metadata": {
  "kernelspec": {
   "display_name": "Python 3",
   "language": "python",
   "name": "python3"
  },
  "language_info": {
   "codemirror_mode": {
    "name": "ipython",
    "version": 3
   },
   "file_extension": ".py",
   "mimetype": "text/x-python",
   "name": "python",
   "nbconvert_exporter": "python",
   "pygments_lexer": "ipython3",
   "version": "3.6.5"
  }
 },
 "nbformat": 4,
 "nbformat_minor": 1
}
