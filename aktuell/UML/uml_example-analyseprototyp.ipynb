{
 "cells": [
  {
   "cell_type": "markdown",
   "metadata": {},
   "source": [
    "[Table of Contents](uml_table_of_contents.ipynb)"
   ]
  },
  {
   "cell_type": "code",
   "execution_count": null,
   "metadata": {},
   "outputs": [],
   "source": [
    "%load_ext plantuml"
   ]
  },
  {
   "cell_type": "code",
   "execution_count": null,
   "metadata": {},
   "outputs": [],
   "source": [
    "import glob\n",
    "glob.glob(r'./*.jar')"
   ]
  },
  {
   "cell_type": "markdown",
   "metadata": {},
   "source": [
    "### Analyseprototyp `Automatische Kasse`"
   ]
  },
  {
   "cell_type": "markdown",
   "metadata": {},
   "source": [
    "#### Analyseprototyp\n",
    "- GUI Startbildschirm\n",
    "- GUI Artikel erfassen (scannen, suchen, ...)\n",
    "- GUI Kasse (Zahlungsart, PIN, Rückgeld, ...)\n",
    "- GUI Warenkorb manipulieren"
   ]
  },
  {
   "cell_type": "markdown",
   "metadata": {},
   "source": [
    "- GUI Wartung\n",
    "<img src = \"images/gui_service_1.jpg\" width = \"400\">\n",
    "***\n",
    "<img src = \"images/gui_service_2.jpg\" width = \"400\">\n",
    "***\n",
    "<img src = \"images/gui_service_3.jpg\" width = \"400\">\n",
    "***\n",
    "<img src = \"images/gui_service_4.jpg\" width = \"400\">\n",
    "***\n",
    "<img src = \"images/gui_service_5.jpg\" width = \"400\">\n",
    "***\n",
    "<img src = \"images/gui_service_6.jpg\" width = \"400\">\n",
    "***\n",
    "<img src = \"images/gui_service_7.jpg\" width = \"400\">\n",
    "***\n",
    "<img src = \"images/gui_service_8.jpg\" width = \"400\">\n",
    "***\n",
    "<img src = \"images/gui_service_9.jpg\" width = \"400\">\n",
    "***"
   ]
  },
  {
   "cell_type": "code",
   "execution_count": null,
   "metadata": {},
   "outputs": [],
   "source": [
    "!del *.plt\n",
    "!del *.svg"
   ]
  }
 ],
 "metadata": {
  "kernelspec": {
   "display_name": "Python 3",
   "language": "python",
   "name": "python3"
  },
  "language_info": {
   "codemirror_mode": {
    "name": "ipython",
    "version": 3
   },
   "file_extension": ".py",
   "mimetype": "text/x-python",
   "name": "python",
   "nbconvert_exporter": "python",
   "pygments_lexer": "ipython3",
   "version": "3.6.5"
  }
 },
 "nbformat": 4,
 "nbformat_minor": 1
}
