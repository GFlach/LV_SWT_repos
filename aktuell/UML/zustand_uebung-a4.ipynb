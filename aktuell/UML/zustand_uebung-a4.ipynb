{
 "cells": [
  {
   "cell_type": "markdown",
   "metadata": {},
   "source": [
    "[Aufgaben](klasse_uebung.ipynb)"
   ]
  },
  {
   "cell_type": "code",
   "execution_count": 1,
   "metadata": {
    "collapsed": true
   },
   "outputs": [],
   "source": [
    "%load_ext plantuml"
   ]
  },
  {
   "cell_type": "code",
   "execution_count": 2,
   "metadata": {},
   "outputs": [
    {
     "data": {
      "text/plain": [
       "['.\\\\plantuml.jar']"
      ]
     },
     "execution_count": 2,
     "metadata": {},
     "output_type": "execute_result"
    }
   ],
   "source": [
    "import glob\n",
    "glob.glob(r'./*.jar')"
   ]
  },
  {
   "cell_type": "markdown",
   "metadata": {
    "collapsed": true
   },
   "source": [
    "### Aufgabe 4"
   ]
  },
  {
   "cell_type": "markdown",
   "metadata": {},
   "source": [
    "Quelle: Übungen Software Engineering; I. Schaefer\n",
    "\n",
    "Beschreiben Sie das folgende Verhalten eines Anrufbeantworters mit Hilfe eines UML-Zustandsdiagramms. \n",
    "\n",
    "Der Anrufbeantworter wartet auf Anrufe. Wenn ein Anruf ankommt, wird der Anruf angenommen. Danach wird entweder\n",
    "Ansage 1 oder Ansage 2 abgespielt. Wenn noch nicht die maximale Anzahl an Nachrichten gespeichert ist, wird\n",
    "Ansage 1 abgespielt. Wenn die maximale Anzahl an Nachrichten gespeichert ist, wird Ansage 2 abgespielt. Nach dem Ende von\n",
    "Ansage 1 wird die Aufnahme gestartet. Wenn danach der Anrufer auflegt, wird die Verbindung getrennt. Nach dem Ende von Ansage 2 wird die Verbindung ohne Aufnahme getrennt.\n",
    "\n",
    "Folgende Abkürzungen werden vereinbart:\n",
    "\n",
    "Ereignisse:\n",
    "- Anruf kommt an (AK)\n",
    "- Anrufer legt auf (AL)\n",
    "- Knopf zur Wiedergabe drücken (WD)\n",
    "- Stopp- Knopf drücken (SD)\n",
    "\n",
    "Bedingungen:\n",
    "- gespeicherte Nachricht < max (<max)\n",
    "- gespeicherte Nachricht = max (=max)\n",
    "- mindestens eine Nachricht gespeichert (EN)\n",
    "- keine Nachricht gespeichert (KN)\n",
    "- alle Nachrichten abgespielt (AN)\n",
    "\n",
    "Aktionen:\n",
    "- Anruf annehmen (AA)\n",
    "- Ansage 1 abspielen (A1)\n",
    "- Ansage 2 abspielen (A2)\n",
    "- Aufnahme starten (AS)\n",
    "- Verbindung trennen (VT)\n",
    "- gespeicherte Nachrichten abspielen (NA)\n",
    "- Wiedergabe stoppen (WS)"
   ]
  }
 ],
 "metadata": {
  "kernelspec": {
   "display_name": "Python 3",
   "language": "python",
   "name": "python3"
  },
  "language_info": {
   "codemirror_mode": {
    "name": "ipython",
    "version": 3
   },
   "file_extension": ".py",
   "mimetype": "text/x-python",
   "name": "python",
   "nbconvert_exporter": "python",
   "pygments_lexer": "ipython3",
   "version": "3.7.1"
  }
 },
 "nbformat": 4,
 "nbformat_minor": 1
}
