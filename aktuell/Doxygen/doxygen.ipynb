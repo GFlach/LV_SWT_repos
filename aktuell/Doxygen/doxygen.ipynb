{
 "cells": [
  {
   "cell_type": "markdown",
   "metadata": {},
   "source": [
    "[Table of Contents](table_of_contents.ipynb)"
   ]
  },
  {
   "cell_type": "markdown",
   "metadata": {},
   "source": [
    "## 6 Dokumentation\n",
    "verwendete Quellen: \n",
    "- Juhl, D.;  Technische Dokumentation; Springer 2005\n",
    "\n",
    "\n",
    "### 6.1 Erstellung einer Dokumentation\n",
    "5 Inhalte einer Dokumentation (1-3 ausreichend bei einfachen Geräten)\n",
    "<img src=\"images/dok_inhalte.jpg\" height=\"200\" width = \"500\">"
   ]
  },
  {
   "cell_type": "markdown",
   "metadata": {},
   "source": [
    "#### Leistungsbeschreibung\n",
    "<img src=\"images/dok_leistungsbeschreibung.jpg\" height=\"200\" width = \"400\">"
   ]
  },
  {
   "cell_type": "markdown",
   "metadata": {},
   "source": [
    "#### Gerätebeschreibung\n",
    "<img src=\"images/dok_geraetebeschreibung.jpg\" height=\"200\" width = \"400\">"
   ]
  },
  {
   "cell_type": "markdown",
   "metadata": {},
   "source": [
    "#### Tätigkeitsbeschreibung\n",
    "<img src=\"images/dok_handlungsanweisung1.jpg\" height=\"200\" width = \"400\">\n",
    "<img src=\"images/dok_handlungsanweisung2.jpg\" height=\"200\" width = \"400\">"
   ]
  },
  {
   "cell_type": "markdown",
   "metadata": {},
   "source": [
    "### 6.2 Checkliste für die Erstellung\n",
    "[Beispiel für eine Checkliste](images/checkliste_dokumentation.docx)\n",
    "### 6.3 Standardisierungsansätze\n",
    "<img src=\"images/dok_standard.jpg\" height=\"200\" width = \"400\">\n",
    "\n",
    "#### Originaltext\n",
    "Place the water heater in a clean, dry location as near as practical to the area of greatest heated water demand. Long uninsulated hot water lines can waste energy and water. Clearance for accessibility to permit inspection and servicing such as removing heating elements or checking controls must be provided.\n",
    "\n",
    "#### Text in Simplified English\n",
    "Put the water heater in a clean, dry location near the area where you use the most hot water. If the hot water lines are long and they do not have insulation, you will use too much energy and water. Make sure you have access to the heating elements and the controls for inspection and servicing.\n",
    "\n",
    "#### Standardisierung von Warnhinweisen\n",
    "<img src=\"images/dok_warnung1.jpg\" height=\"200\" width = \"500\">"
   ]
  },
  {
   "cell_type": "markdown",
   "metadata": {},
   "source": [
    "<img src=\"images/dok_warnung2.jpg\" height=\"200\" width = \"500\">"
   ]
  },
  {
   "cell_type": "markdown",
   "metadata": {},
   "source": [
    "<img src=\"images/dok_warnung3.jpg\" height=\"200\" width = \"500\">"
   ]
  },
  {
   "cell_type": "markdown",
   "metadata": {},
   "source": [
    "### 6.4 Abschätzung des Aufwandes\n",
    "<img src=\"images/dok_aufwand.jpg\" height=\"200\" width = \"500\">"
   ]
  },
  {
   "cell_type": "markdown",
   "metadata": {},
   "source": [
    "### 6.5 Doxygen\n",
    "#### 6.5.1 Überblick\n",
    "<img src=\"images/dok_doxygen.jpg\">\n",
    "\n",
    "#### 6.5.2 Beispiel"
   ]
  },
  {
   "cell_type": "code",
   "execution_count": null,
   "metadata": {
    "collapsed": true
   },
   "outputs": [],
   "source": []
  }
 ],
 "metadata": {
  "kernelspec": {
   "display_name": "Python 3",
   "language": "python",
   "name": "python3"
  },
  "language_info": {
   "codemirror_mode": {
    "name": "ipython",
    "version": 3
   },
   "file_extension": ".py",
   "mimetype": "text/x-python",
   "name": "python",
   "nbconvert_exporter": "python",
   "pygments_lexer": "ipython3",
   "version": "3.6.5"
  }
 },
 "nbformat": 4,
 "nbformat_minor": 1
}
