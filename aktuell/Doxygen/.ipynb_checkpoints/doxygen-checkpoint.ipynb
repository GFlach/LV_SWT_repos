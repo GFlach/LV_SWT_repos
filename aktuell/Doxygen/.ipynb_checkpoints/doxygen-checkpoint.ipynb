{
 "cells": [
  {
   "cell_type": "markdown",
   "metadata": {},
   "source": [
    "[Table of Contents](table_of_contents.ipynb)"
   ]
  },
  {
   "cell_type": "markdown",
   "metadata": {},
   "source": [
    "## 6 Dokumentation\n",
    "\n",
    "### 6.1 Erstellung einer Dokumentation\n",
    "### 6.2 Checkliste für die Erstellung\n",
    "### 6.3 Standardisierungsansätze\n",
    "<img src=\"images/dok_standard.jpg\" height=\"200\" width = \"400\">\n",
    "### 6.4 Abschätzung des Aufwandes\n",
    "### 6.5 Doxygen\n",
    "#### 6.5.1 Überblick\n",
    "#### 6.5.2 Beispiel"
   ]
  }
 ],
 "metadata": {
  "kernelspec": {
   "display_name": "Python 3",
   "language": "python",
   "name": "python3"
  },
  "language_info": {
   "codemirror_mode": {
    "name": "ipython",
    "version": 3
   },
   "file_extension": ".py",
   "mimetype": "text/x-python",
   "name": "python",
   "nbconvert_exporter": "python",
   "pygments_lexer": "ipython3",
   "version": "3.6.0"
  }
 },
 "nbformat": 4,
 "nbformat_minor": 1
}
