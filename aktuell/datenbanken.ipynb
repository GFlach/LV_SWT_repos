{
 "cells": [
  {
   "cell_type": "markdown",
   "metadata": {},
   "source": [
    "[Table of Contents](table_of_contents.ipynb)"
   ]
  },
  {
   "cell_type": "markdown",
   "metadata": {},
   "source": [
    "## 4 Datenbanken\n",
    "### 4.1 Grundkonzepte\n",
    "#### 4.1.1 Datenbanken und Datenbankbenutzer\n",
    "#### 4.1.2 Systemkonzepte und Architektur\n",
    "<img src = \"images\\3_ebenen.jpg\" width = \"500\">\n",
    "\n",
    "Schemadiagramm:\n",
    "\n",
    "<img src = \"images\\schemadiagramm.jpg\" width = \"500\">"
   ]
  },
  {
   "cell_type": "markdown",
   "metadata": {},
   "source": [
    "#### 4.1.3 Datenmodellierung mit Hilfe des Entity-Relationship-Modells\n",
    "<img src = \"images\\bsp_erm.jpg\" width = \"500\">"
   ]
  },
  {
   "cell_type": "markdown",
   "metadata": {},
   "source": [
    "### 4.2 Datenmodelle\n",
    "#### 4.2.1 Relationales Datenmodell\n",
    "<img src = \"images\\relation_1.jpg\" width = \"500\">"
   ]
  },
  {
   "cell_type": "markdown",
   "metadata": {},
   "source": [
    "#### 4.2.2 Relationale Algebra\n",
    "Vereinigung\n",
    "<img src = \"images\\relation_vereinigung.jpg\" width = \"300\">\n",
    "***\n",
    "Differenz\n",
    "<img src = \"images\\relation_differenz.jpg\" width = \"300\">\n",
    "***\n",
    "Projektion\n",
    "<img src = \"images\\relation_projektion.jpg\" width = \"300\">\n",
    "***\n",
    "Selektion\n",
    "<img src = \"images\\relation_selekt.jpg\" width = \"300\">\n",
    "***\n",
    "Kreuzprodukt\n",
    "<img src = \"images\\relation_kartprod.jpg\" width = \"300\">\n",
    "***\n",
    "Umbenennung\n",
    "<img src = \"images\\relation_umbenenn.jpg\" width = \"200\">\n",
    "***\n",
    "Join\n",
    "<img src = \"images\\relation_join.jpg\" width = \"400\">\n",
    "***\n",
    "Equi-Join\n",
    "<img src = \"images\\relation_equijoin.jpg\" width = \"400\">\n",
    "***\n",
    "Natural-Join\n",
    "<img src = \"images\\relation_natjoin.jpg\" width = \"300\">\n",
    "***\n",
    "Semi-Join\n",
    "<img src = \"images\\relation_semijoin.jpg\" width = \"300\">\n",
    "***\n",
    "Outer-Join\n",
    "<img src = \"images\\relation_outerjoin.jpg\" width = \"300\">"
   ]
  },
  {
   "cell_type": "markdown",
   "metadata": {},
   "source": [
    "#### 4.2.3 Schlüssel\n",
    "#### 4.2.4 abbildung von ER-Modellen in das relationale Modell\n",
    "#### 4.2.5 Normalisierung\n",
    "1. Normalform\n",
    "<img src = \"images\\nf1-1.jpg\" width = \"400\">\n",
    "<img src = \"images\\nf1-2.jpg\" width = \"400\">\n",
    "***\n",
    "2. Normalform\n",
    "<img src = \"images\\nf2.jpg\" width = \"400\">\n",
    "***\n",
    "3. Normalform\n",
    "<img src = \"images\\nf3.jpg\" width = \"400\">"
   ]
  },
  {
   "cell_type": "markdown",
   "metadata": {},
   "source": [
    "### 4.3 Datenbanksprachen - SQL"
   ]
  }
 ],
 "metadata": {
  "kernelspec": {
   "display_name": "Python 3",
   "language": "python",
   "name": "python3"
  },
  "language_info": {
   "codemirror_mode": {
    "name": "ipython",
    "version": 3
   },
   "file_extension": ".py",
   "mimetype": "text/x-python",
   "name": "python",
   "nbconvert_exporter": "python",
   "pygments_lexer": "ipython3",
   "version": "3.6.5"
  }
 },
 "nbformat": 4,
 "nbformat_minor": 1
}
