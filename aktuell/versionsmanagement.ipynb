{
 "cells": [
  {
   "cell_type": "markdown",
   "metadata": {},
   "source": [
    "[Table of Contents](table_of_contents.ipynb)"
   ]
  },
  {
   "cell_type": "markdown",
   "metadata": {},
   "source": [
    "## 5 Versionsmanagement\n",
    "(Die enthaltenen Abbildungen sind http://svnbook.red-bean.com/de/1.5/svn.basic.html und https://git-scm.com/book/de/v1/Los-geht%E2%80%99s entnommen.)\n",
    "\n",
    "### 5.1 Probleme und Lösungsmöglichkeiten\n",
    "<img src=\"images/svn_ueberschreiben.jpg\" height=\"200\" width = \"400\" style=\"float: left;\">"
   ]
  },
    {
   "cell_type": "markdown",
   "metadata": {},
   "source": [
    "## 5 Versionsmanagement\n",
    "(Die enthaltenen Abbildungen sind http://svnbook.red-bean.com/de/1.5/svn.basic.html und https://git-scm.com/book/de/v1/Los-geht%E2%80%99s entnommen.)\n",
    "\n",
    "### 5.1 Probleme und Lösungsmöglichkeiten\n",
    "<img src=\"images/svn_ueberschreiben.jpg\" height=\"200\" width = \"400\" style=\"float: left;\">"
   ]
  },
  {
   "cell_type": "markdown",
   "metadata": {},
   "source": [
    "<img src=\"images/svn_lock.jpg\" height=\"200\" width = \"400\" style=\"float: left;\">"
   ]
  },
  {
   "cell_type": "markdown",
   "metadata": {},
   "source": [
    "<img src=\"images/svn_kontrolle1.jpg\" height=\"200\" width = \"400\" style=\"float: left;\">"
   ]
  },
  {
   "cell_type": "markdown",
   "metadata": {},
   "source": [
    "<img src=\"images/svn_kontrolle2.jpg\" height=\"200\" width = \"400\" style=\"float: left;\">"
   ]
  },
  {
   "cell_type": "markdown",
   "metadata": {},
   "source": [
    "### 5.2 Grundlegende Konzepte\n",
    "#### 5.2.1 Architektur\n",
    "<img src=\"images/svn_architektur.jpg\" height=\"200\" width = \"400\" style=\"float: left;\">"
   ]
  },
  {
   "cell_type": "markdown",
   "metadata": {},
   "source": [
    "### 5.3 Arbeit mit Git\n",
    "Speicherung von Änderungen\n",
    "\n",
    "<img src=\"images/prinzip1.jpg\" height=\"200\" width = \"400\" style=\"float: left;\">"
   ]
  },
  {
   "cell_type": "markdown",
   "metadata": {},
   "source": [
    "Speicherung des Gesamtprojektes\n",
    "\n",
    "<img src=\"images/prinzip2.jpg\" height=\"200\" width = \"400\" style=\"float: left;\">"
   ]
  },
  {
   "cell_type": "markdown",
   "metadata": {},
   "source": [
    "#### 5.3.1 Dateistatus bei Versionskontrolle\n",
    "<img src=\"images/workflow_git.png\" height=\"200\" width = \"400\" style=\"float: left;\">"
   ]
  },
  {
   "cell_type": "markdown",
   "metadata": {},
   "source": [
    "lokale Versionskontrolle\n",
    "\n",
    "<img src=\"images/prinzip3.jpg\" height=\"200\" width = \"300\" style=\"float: left;\">"
   ]
  },
  {
   "cell_type": "markdown",
   "metadata": {},
   "source": [
    "#### 5.3.2 Aufbau des Projektarchivs\n",
    "<img src=\"images/git1.jpg\" height=\"200\" width = \"400\" style=\"float: left;\">"
   ]
  },
  {
   "cell_type": "markdown",
   "metadata": {},
   "source": [
    "<img src=\"images/git2.jpg\" height=\"200\" width = \"400\" style=\"float: left;\">"
   ]
  },
  {
   "cell_type": "markdown",
   "metadata": {},
   "source": [
    "### 5.4 Branches\n",
    "<img src=\"images/branch1.jpg\" height=\"200\" width = \"300\" style=\"float: left;\">"
   ]
  },
  {
   "cell_type": "markdown",
   "metadata": {},
   "source": [
    "Erzeugen eines Branches\n",
    "\n",
    "<img src=\"images/branch2.jpg\" height=\"200\" width = \"300\" style=\"float: left;\">"
   ]
  },
  {
   "cell_type": "markdown",
   "metadata": {},
   "source": [
    "Auswahl eines Branches\n",
    "\n",
    "<img src=\"images/git3.jpg\" height=\"200\" width = \"300\" style=\"float: left;\">\n",
    "<img src=\"images/git4.jpg\" height=\"200\" width = \"250\" style=\"float: right;\">"
   ]
  },
  {
   "cell_type": "markdown",
   "metadata": {},
   "source": [
    "neuer commit und Wechsel in anderen Zweig\n",
    "\n",
    "<img src=\"images/branch4.jpg\" height=\"200\" width = \"400\" style=\"float: left;\">\n",
    "<img src=\"images/branch5.jpg\" height=\"200\" width = \"400\" style=\"float: right;\">"
   ]
  },
  {
   "cell_type": "markdown",
   "metadata": {},
   "source": [
    "Das ist meine Erklärung. Mal sehen, was passiert."
   ]
  },
  {
   "cell_type": "markdown",
   "metadata": {},
   "source": [
    "Verzweigte Entwicklung\n",
    "\n",
    "<img src=\"images/branch6.jpg\" height=\"200\" width = \"400\" style=\"float: left;\">"
   ]
  }
 ],
 "metadata": {
  "kernelspec": {
   "display_name": "Python 3",
   "language": "python",
   "name": "python3"
  },
  "language_info": {
   "codemirror_mode": {
    "name": "ipython",
    "version": 3
   },
   "file_extension": ".py",
   "mimetype": "text/x-python",
   "name": "python",
   "nbconvert_exporter": "python",
   "pygments_lexer": "ipython3",
   "version": "3.6.5"
  }
 },
 "nbformat": 4,
 "nbformat_minor": 1
}
