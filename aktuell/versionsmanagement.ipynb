{
 "cells": [
  {
   "cell_type": "markdown",
   "metadata": {},
   "source": [
    "[Table of Contents](table_of_contents.ipynb)"
   ]
  },
  {
   "cell_type": "markdown",
   "metadata": {},
   "source": [
    "## 5 Versionsmanagement\n",
    "(Die enthaltenen Abbildungen sind http://svnbook.red-bean.com/de/1.5/svn.basic.html und https://git-scm.com/book/de/v1/Los-geht%E2%80%99s entnommen.)\n",
    "\n",
    "### 5.1 Probleme und Lösungsmöglichkeiten\n",
    "<img src=\"images/svn_ueberschreiben.jpg\" height=\"200\" width = \"400\" style=\"float: left;\">"
   ]
  },
  {
   "cell_type": "markdown",
   "metadata": {},
   "source": [
    "<img src=\"images/svn_lock.jpg\" height=\"200\" width = \"400\" style=\"float: left;\">"
   ]
  },
  {
   "cell_type": "markdown",
   "metadata": {},
   "source": [
    "<img src=\"images/svn_kontrolle1.jpg\" height=\"200\" width = \"400\" style=\"float: left;\">"
   ]
  },
  {
   "cell_type": "markdown",
   "metadata": {},
   "source": [
    "<img src=\"images/svn_kontrolle2.jpg\" height=\"200\" width = \"400\" style=\"float: left;\">"
   ]
  },
  {
   "cell_type": "markdown",
   "metadata": {},
   "source": [
    "### 5.2 Grundlegende Konzepte\n",
    "#### 5.2.1 Architektur\n",
    "<img src=\"images/svn_architektur.jpg\" height=\"200\" width = \"400\" style=\"float: left;\">"
   ]
  },
  {
   "cell_type": "markdown",
   "metadata": {},
   "source": [
    "#### 5.2.2 Projektarchiv\n",
    "<img src=\"images/svn_client_server.jpg\" height=\"200\" width = \"200\" style=\"float: left;\">"
   ]
  },
  {
   "cell_type": "markdown",
   "metadata": {},
   "source": [
    "<img src=\"images/svn_projektarchiv_dateisystem.jpg\" height=\"200\" width = \"200\" style=\"float: left;\">"
   ]
  },
  {
   "cell_type": "markdown",
   "metadata": {},
   "source": [
    "#### 5.2.3 Dateisystem des Projektarchivs\n",
    "#### 5.2.4 Arbeitskopien\n",
    "### 5.3 Arbeitszyklus bei Versionsmanagement\n",
    "### 5.4 Branches\n",
    "<img src=\"images/branch1.jpg\" height=\"200\" width = \"300\" style=\"float: left;\">"
   ]
  },
  {
   "cell_type": "markdown",
   "metadata": {},
   "source": [
    "<img src=\"images/branch2.jpg\" height=\"200\" width = \"300\" style=\"float: left;\">"
   ]
  },
  {
   "cell_type": "markdown",
   "metadata": {},
   "source": [
    "<img src=\"images/branch3.jpg\" height=\"200\" width = \"300\" style=\"float: left;\">"
   ]
  },
  {
   "cell_type": "markdown",
   "metadata": {},
   "source": [
    "<img src=\"images/branch4.jpg\" height=\"200\" width = \"300\" style=\"float: left;\">"
   ]
  },
  {
   "cell_type": "markdown",
   "metadata": {},
   "source": [
    "### 5.5 Arbeit mit Git\n",
    "<img src=\"images/prinzip1.jpg\" height=\"200\" width = \"400\" style=\"float: left;\">"
   ]
  },
  {
   "cell_type": "markdown",
   "metadata": {},
   "source": [
    "<img src=\"images/prinzip2.jpg\" height=\"200\" width = \"400\" style=\"float: left;\">"
   ]
  },
  {
   "cell_type": "markdown",
   "metadata": {},
   "source": [
    "<img src=\"images/prinzip3.jpg\" height=\"200\" width = \"400\" style=\"float: left;\">"
   ]
  },
  {
   "cell_type": "code",
   "execution_count": null,
   "metadata": {},
   "outputs": [],
   "source": []
  }
 ],
 "metadata": {
  "kernelspec": {
   "display_name": "Python 3",
   "language": "python",
   "name": "python3"
  },
  "language_info": {
   "codemirror_mode": {
    "name": "ipython",
    "version": 3
   },
   "file_extension": ".py",
   "mimetype": "text/x-python",
   "name": "python",
   "nbconvert_exporter": "python",
   "pygments_lexer": "ipython3",
   "version": "3.6.5"
  }
 },
 "nbformat": 4,
 "nbformat_minor": 1
}
