{
 "cells": [
  {
   "cell_type": "markdown",
   "metadata": {},
   "source": [
    "[Table of Contents](table_of_contents.ipynb)"
   ]
  },
  {
   "cell_type": "markdown",
   "metadata": {},
   "source": [
    "## 2 Grundlagen der Softwareentwicklung\n",
    "\n",
    "### 2.1 Begriffe\n",
    "\n",
    "### 2.2 Qualitätskriterien"
   ]
  },
  {
   "cell_type": "markdown",
   "metadata": {},
   "source": [
    "### 2.3 Phasenmodell\n",
    "#### Phasenmodell\n",
    "<img src=\"images/Image7.jpg\" height=\"200\" width = \"400\" style=\"float: left;\">\n"
   ]
  },
  {
   "cell_type": "markdown",
   "metadata": {},
   "source": [
    "### 2.4 Vorgehensmodelle\n",
    "\n",
    "#### Build-and-Fix-Cycle\n",
    "<img src=\"images/Image11.jpg\" height=\"200\" width = \"400\" style=\"float: left;\">"
   ]
  },
  {
   "cell_type": "markdown",
   "metadata": {},
   "source": [
    "#### Software-Life-Cycle\n",
    "<img src=\"images/Image10.jpg\" height=\"200\" width = \"400\" style=\"float: left;\">"
   ]
  },
  {
   "cell_type": "markdown",
   "metadata": {},
   "source": [
    "#### Wasserfallmodell\n",
    "<img src=\"images/Image9.jpg\" height=\"200\" width = \"400\" style=\"float: left;\">"
   ]
  },
  {
   "cell_type": "markdown",
   "metadata": {},
   "source": [
    "#### V-Modell\n",
    "<img src=\"images/Image8.jpg\" height=\"200\" width = \"400\" style=\"float: left;\">"
   ]
  },
  {
   "cell_type": "markdown",
   "metadata": {},
   "source": [
    "#### Spiralmodell\n",
    "<img src=\"images/spiralmodell.jpg\" height=\"200\" width = \"400\" style=\"float: left;\">"
   ]
  },
  {
   "cell_type": "markdown",
   "metadata": {},
   "source": [
    "#### Prototyping\n",
    "<img src=\"images/Image13.jpg\" height=\"200\" width = \"400\" style=\"float: left;\">"
   ]
  },
  {
   "cell_type": "markdown",
   "metadata": {
    "collapsed": true
   },
   "source": [
    "### 2.5 Darstellungsmittel für Programmabläufe\n",
    "\n",
    "#### genormte Symbole\n",
    "<img src=\"images/pap.jpg\" height=\"200\" width = \"400\" style=\"float: left;\">"
   ]
  },
  {
   "cell_type": "markdown",
   "metadata": {
    "collapsed": true
   },
   "source": [
    "#### Beispiel PAP\n",
    "<img src=\"images/beispiel_pap.jpg\" height=\"200\" width = \"400\" style=\"float: left;\">"
   ]
  },
  {
   "cell_type": "markdown",
   "metadata": {},
   "source": [
    "#### Struktogramme\n",
    "<img src=\"images/struktogramme1.jpg\" height=\"200\" width = \"400\" style=\"float: left;\">\n",
    "<img src=\"images/struktogramme2.jpg\" height=\"200\" width = \"400\" style=\"float: left;\">\n",
    "<img src=\"images/beispiel_struktogramm.jpg\" height=\"200\" width = \"400\" style=\"float: left;\">"
   ]
  },
  {
   "cell_type": "markdown",
   "metadata": {},
   "source": [
    "#### Pseudocode\n",
    "<img src=\"images/beispiel_pseudocode.jpg\" height=\"200\" width = \"400\" style=\"float: left;\">"
   ]
  },
  {
   "cell_type": "markdown",
   "metadata": {},
   "source": [
    "#### Entscheidungstabellen\n",
    "<img src=\"images/entscheidungstabelle1.jpg\" height=\"200\" width = \"400\" style=\"float: left;\">"
   ]
  },
  {
   "cell_type": "markdown",
   "metadata": {
    "collapsed": true
   },
   "source": [
    "Beispiel:\n",
    "\n",
    "<img src=\"images/beispiel_entscheidungstabelle.jpg\" height=\"200\" width = \"400\" style=\"float: left;\">"
   ]
  }
 ],
 "metadata": {
  "kernelspec": {
   "display_name": "Python 3",
   "language": "python",
   "name": "python3"
  },
  "language_info": {
   "codemirror_mode": {
    "name": "ipython",
    "version": 3
   },
   "file_extension": ".py",
   "mimetype": "text/x-python",
   "name": "python",
   "nbconvert_exporter": "python",
   "pygments_lexer": "ipython3",
   "version": "3.7.1"
  }
 },
 "nbformat": 4,
 "nbformat_minor": 1
}
