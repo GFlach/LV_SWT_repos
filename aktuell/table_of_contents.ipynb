{
 "cells": [
  {
   "cell_type": "markdown",
   "metadata": {},
   "source": [
    "<center><h1>Softwaretechnologie</h1></center>\n",
    "\n",
    "## Inhaltsverzeichnis\n",
    "\n",
    "[**1 Einführung**](einfuehrung.ipynb)\n",
    "\n",
    "[**2 Grundlagen der Softwareentwicklung**](basis_swt.ipynb)\n",
    "\n",
    "[**3 Projektentwicklung mit UML**](UML/uml_table_of_contents.ipynb)\n",
    "\n",
    "[**4 Datenbanken**](DB/databases.ipynb)\n",
    "\n",
    "[**5 Versionsmanagement**](versionsmanagement.ipynb)\n",
    "\n",
    "[**6 Dokumentation**](Doxygen/doxygen.ipynb)\n",
    "\n",
    "**(7 WEB-Entwicklung mit CMS)**\n"
   ]
  }
 ],
 "metadata": {
  "kernelspec": {
   "display_name": "Python 3",
   "language": "python",
   "name": "python3"
  },
  "language_info": {
   "codemirror_mode": {
    "name": "ipython",
    "version": 3
   },
   "file_extension": ".py",
   "mimetype": "text/x-python",
   "name": "python",
   "nbconvert_exporter": "python",
   "pygments_lexer": "ipython3",
   "version": "3.6.5"
  }
 },
 "nbformat": 4,
 "nbformat_minor": 1
}
