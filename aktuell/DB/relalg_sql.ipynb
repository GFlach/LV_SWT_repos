{
 "cells": [
  {
   "cell_type": "markdown",
   "metadata": {
    "slideshow": {
     "slide_type": "-"
    }
   },
   "source": [
    "### Relationale Algebra und SQL"
   ]
  },
  {
   "cell_type": "code",
   "execution_count": 1,
   "metadata": {},
   "outputs": [],
   "source": [
    "import sqlite3\n",
    "import os.path\n",
    "import PrettyTable as pt # muss bereitgestellt werden"
   ]
  },
  {
   "cell_type": "markdown",
   "metadata": {},
   "source": [
    "Hilfsfunktionen"
   ]
  },
  {
   "cell_type": "code",
   "execution_count": 2,
   "metadata": {},
   "outputs": [],
   "source": [
    "def readData(file_name):\n",
    "    f = open(file_name, 'r')\n",
    "    with f:\n",
    "        data = f.read()\n",
    "        return data\n",
    "def create_or_open_db(filename):\n",
    "    file_exists = os.path.isfile(filename)\n",
    "    conn = sqlite3.connect(filename)\n",
    "    if file_exists:\n",
    "        print(''' \"{}\" database successfully opened '''.format(filename))\n",
    "    else:\n",
    "        print(''' \"{}\" database successfully created '''.format(filename))\n",
    "    return conn"
   ]
  },
  {
   "cell_type": "markdown",
   "metadata": {},
   "source": [
    "#### Anlegen bzw. Öffnen einer Datenbank"
   ]
  },
  {
   "cell_type": "code",
   "execution_count": 3,
   "metadata": {},
   "outputs": [
    {
     "name": "stdout",
     "output_type": "stream",
     "text": [
      " \"relalg_sql.db\" database successfully created \n"
     ]
    }
   ],
   "source": [
    "db_name = 'relalg_sql.db'\n",
    "conn = create_or_open_db(db_name)\n",
    "c = conn.cursor()"
   ]
  },
  {
   "cell_type": "markdown",
   "metadata": {},
   "source": [
    "#### Erzeugen von Tabellen in der Datenbank"
   ]
  },
  {
   "cell_type": "code",
   "execution_count": 8,
   "metadata": {},
   "outputs": [],
   "source": [
    "file_name = 'projekte.sql'   # mitarbeiter.sql, kunden.sql, projekte.sql"
   ]
  },
  {
   "cell_type": "code",
   "execution_count": 9,
   "metadata": {},
   "outputs": [],
   "source": [
    "with conn:   \n",
    "    sql = readData(file_name)\n",
    "    c.executescript(sql)"
   ]
  },
  {
   "cell_type": "markdown",
   "metadata": {},
   "source": [
    "#### Tabellen anzeigen"
   ]
  },
  {
   "cell_type": "code",
   "execution_count": 10,
   "metadata": {},
   "outputs": [],
   "source": [
    "tab_name = 'Kunden'       # Mitarbeiter, Kunden, Projekte"
   ]
  },
  {
   "cell_type": "code",
   "execution_count": 11,
   "metadata": {},
   "outputs": [
    {
     "data": {
      "text/html": [
       "<table><tr><td>Name</td><td>Vorname</td><td>Anmeldung</td></tr><tr><td>Lehmann</td><td>Paul</td><td>2015-01-09</td></tr><tr><td>Baier</td><td>Kurt</td><td>2017-11-12</td></tr><tr><td>Gesch</td><td>Martin</td><td>2010-12-06</td></tr></table>"
      ],
      "text/latex": [
       "\\begin{longtable}[c]{@{}lll@{}}\n",
       "\\toprule\\addlinespace\n",
       "Name & Vorname & Anmeldung\\\\\\addlinespace \n",
       "\\midrule\\endhead\n",
       "Lehmann & Paul & 2015-01-09\\\\\\addlinespace \n",
       "Baier & Kurt & 2017-11-12\\\\\\addlinespace \n",
       "Gesch & Martin & 2010-12-06\\\\\\addlinespace \n",
       "\\bottomrule \n",
       " \\end{longtable}"
      ],
      "text/plain": [
       "[['Name', 'Vorname', 'Anmeldung'],\n",
       " ('Lehmann', 'Paul', '2015-01-09'),\n",
       " ('Baier', 'Kurt', '2017-11-12'),\n",
       " ('Gesch', 'Martin', '2010-12-06')]"
      ]
     },
     "execution_count": 11,
     "metadata": {},
     "output_type": "execute_result"
    }
   ],
   "source": [
    "command = \"SELECT * FROM %s\" % tab_name\n",
    "c.execute(command)\n",
    "rows = c.fetchall()    \n",
    "res_list = []\n",
    "for row in rows:\n",
    "    res_list.append(row)\n",
    "head = []\n",
    "for i in range(0,len(c.description)):\n",
    "    head.append(c.description[i][0])\n",
    "pt.PrettyTable(res_list, head)"
   ]
  },
  {
   "cell_type": "markdown",
   "metadata": {},
   "source": [
    "#### Selektion\n",
    "Wählt Zeilen aus einer Tabelle aus, die einer bestimmten Bedingung genügen.\n",
    "\n",
    "`SELECT * FROM Mitarbeiter WHERE Nachname = 'Mustermann'`"
   ]
  },
  {
   "cell_type": "code",
   "execution_count": null,
   "metadata": {},
   "outputs": [],
   "source": [
    "command = \"SELECT * FROM Mitarbeiter WHERE Name = 'Mustermann'\"\n",
    "c.execute(command)\n",
    "rows = c.fetchall()    \n",
    "res_list = []\n",
    "for row in rows:\n",
    "    res_list.append(row)\n",
    "head = []\n",
    "for i in range(0,len(c.description)):\n",
    "    head.append(c.description[i][0])\n",
    "pt.PrettyTable(res_list, head)"
   ]
  },
  {
   "cell_type": "markdown",
   "metadata": {},
   "source": [
    "#### Projektion\n",
    "Wählt bestimmte Spalten einer Tabelle aus.\n",
    "\n",
    "`SELECT Name, Geburtsdatum FROM Mitarbeiter`"
   ]
  },
  {
   "cell_type": "code",
   "execution_count": null,
   "metadata": {},
   "outputs": [],
   "source": [
    "command = \"SELECT Name, Geburtsdatum FROM Mitarbeiter\"\n",
    "c.execute(command)\n",
    "rows = c.fetchall()    \n",
    "res_list = []\n",
    "for row in rows:\n",
    "    res_list.append(row)\n",
    "head = []\n",
    "for i in range(0,len(c.description)):\n",
    "    head.append(c.description[i][0])\n",
    "pt.PrettyTable(res_list, head)"
   ]
  },
  {
   "cell_type": "markdown",
   "metadata": {},
   "source": [
    "#### Vereinigung\n",
    "Fügt die Zeilen zweier Tabellen mit gleicher Spaltenzahl in einer Tabelle zusammen. Die Namen der jeweiligen Spalten der zwei Tabellen müssen nicht identisch sein, lediglich der Datentyp bzw. Wertebereich des Inhalts. Doppelte Zeilen werden automatisch unterdrückt.\n",
    "\n",
    "`SELECT * FROM Mitarbeiter UNION SELECT * FROM Kunden`"
   ]
  },
  {
   "cell_type": "code",
   "execution_count": null,
   "metadata": {},
   "outputs": [],
   "source": [
    "command = \"SELECT * FROM Kunden UNION SELECT * FROM Mitarbeiter\"\n",
    "c.execute(command)\n",
    "rows = c.fetchall()    \n",
    "res_list = []\n",
    "for row in rows:\n",
    "    res_list.append(row)\n",
    "head = []\n",
    "for i in range(0,len(c.description)):\n",
    "    head.append(c.description[i][0])\n",
    "pt.PrettyTable(res_list, head)"
   ]
  }
 ],
 "metadata": {
  "kernelspec": {
   "display_name": "Python 3",
   "language": "python",
   "name": "python3"
  },
  "language_info": {
   "codemirror_mode": {
    "name": "ipython",
    "version": 3
   },
   "file_extension": ".py",
   "mimetype": "text/x-python",
   "name": "python",
   "nbconvert_exporter": "python",
   "pygments_lexer": "ipython3",
   "version": "3.6.5"
  }
 },
 "nbformat": 4,
 "nbformat_minor": 1
}
