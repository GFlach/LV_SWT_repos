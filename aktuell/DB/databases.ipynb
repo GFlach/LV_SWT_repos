{
 "cells": [
  {
   "cell_type": "markdown",
   "metadata": {},
   "source": [
    "[Table of Contents](table_of_contents.ipynb)"
   ]
  },
  {
   "cell_type": "markdown",
   "metadata": {},
   "source": [
    "## 4 Datenbanken\n",
    "\n",
    "### 4.1 Grundkonzepte\n",
    "#### 4.1.1 Datenbanken und Datenbankbenutzer\n",
    "#### 4.1.2 Systemkonzepte und Architektur\n",
    "<img src=\"images/3_ebenen.jpg\" height=\"200\" width = \"400\">\n",
    "<img src=\"images/schemadiagramm.jpg\" height=\"200\" width = \"400\">"
   ]
  },
  {
   "cell_type": "markdown",
   "metadata": {
    "collapsed": true
   },
   "source": [
    "#### 4.1.3 Datenmodellierung mit Hilfe des Entity-Relationship-Modells\n",
    "<img src=\"images/bsp_erm.jpg\" height=\"200\" width = \"600\">"
   ]
  },
  {
   "cell_type": "markdown",
   "metadata": {},
   "source": [
    "### 4.2 Datenmodellierung\n",
    "#### 4.2.1 Relationales Datenmodell\n",
    "<img src=\"images/relation_1.jpg\" height=\"200\" width = \"600\">"
   ]
  },
  {
   "cell_type": "markdown",
   "metadata": {},
   "source": [
    "#### 4.2.2 Relationale Algebra\n",
    "#### Vereinigung\n",
    "<img src=\"images/relation_vereinigung.jpg\" height=\"200\" width = \"250\">\n",
    "#### Differenz\n",
    "<img src=\"images/relation_differenz.jpg\" height=\"200\" width = \"250\">\n",
    "#### Projektion\n",
    "<img src=\"images/relation_projektion.jpg\" height=\"200\" width = \"200\">\n",
    "#### Selektion\n",
    "<img src=\"images/relation_selekt.jpg\" height=\"200\" width = \"300\">\n",
    "#### Kreuzprodukt\n",
    "<img src=\"images/relation_kartprod.jpg\" height=\"200\" width = \"400\">\n",
    "#### Umbenennung\n",
    "<img src=\"images/relation_umbenenn.jpg\" height=\"200\" width = \"200\">\n",
    "#### Join\n",
    "JOIN dient der Kombination von Informationen aus mehreren Tabellen. Es wird zunächst das Kreuzprodukt aus allen Zeilen gebildet, danach werden alle Zeilen ausgesucht, die der gestellten Bedingung genügen. \n",
    "<img src=\"images/relation_join.jpg\" height=\"200\" width = \"500\">\n",
    "#### Equi-Join\n",
    "JOIN in dem die Bedingung die Übereinstimmung fordert (Spezialfall von JOIN).\n",
    "<img src=\"images/relation_equijoin.jpg\" height=\"200\" width = \"500\">\n",
    "#### Natural-Join\n",
    "JOIN für Tabellen mit gleichen Spaltennamen (deren Werte müssen übereinstimmen).\n",
    "<img src=\"images/relation_natjoin.jpg\" height=\"200\" width = \"300\">\n",
    "#### Semi-Join\n",
    "JOIN, bei dem nur die Zeilen einer Tabelle verwendet werden.\n",
    "<img src=\"images/relation_semijoin.jpg\" height=\"200\" width = \"300\">\n",
    "#### Outer-Join\n",
    "Hier werden Tabelleninhalte verknüpft, bei denen die Testbedingung wahr ist. Weiterhin werden aus der \"linken\" Tabelle die Zeilen übernommen, zu denen es in der rechten keine Ergänzungen gibt.\n",
    "<img src=\"images/relation_outerjoin.jpg\" height=\"200\" width = \"400\">"
   ]
  },
  {
   "cell_type": "markdown",
   "metadata": {},
   "source": [
    "#### 4.2.3 Schlüssel\n",
    "#### 4.2.4 Abbildung von ER-Modellen in das relationale Modell\n",
    "#### 4.2.5 Normalisierung\n",
    "#### 1. Normalform\n",
    "<img src=\"images/nf1-1.jpg\" height=\"200\" width = \"400\">\n",
    "<img src=\"images/nf1-2.jpg\" height=\"200\" width = \"400\">\n",
    "#### 2. Normalform\n",
    "<img src=\"images/nf2.jpg\" height=\"200\" width = \"400\">\n",
    "#### 3. Normalform\n",
    "<img src=\"images/nf3.jpg\" height=\"200\" width = \"400\">"
   ]
  },
  {
   "cell_type": "markdown",
   "metadata": {},
   "source": [
    "### 4.3 Datenbanksprachen SQL\n",
    "#### 4.3.1 Datenbankadministration\n",
    "#### 4.3.2 Arbeiten mit Datenbanken\n",
    "- [Relationale Algebra und SQL](relalg_sql.ipynb)\n",
    "- [Anlegen und grundlegende Abfragen](create.ipynb)\n",
    "- [Übung zu Datenbankabfragen](create_views.ipynb)\n",
    "- [Übungsaufgaben](db_aufgaben.ipynb)"
   ]
  },
  {
   "cell_type": "code",
   "execution_count": null,
   "metadata": {
    "collapsed": true
   },
   "outputs": [],
   "source": []
  }
 ],
 "metadata": {
  "kernelspec": {
   "display_name": "Python 3",
   "language": "python",
   "name": "python3"
  },
  "language_info": {
   "codemirror_mode": {
    "name": "ipython",
    "version": 3
   },
   "file_extension": ".py",
   "mimetype": "text/x-python",
   "name": "python",
   "nbconvert_exporter": "python",
   "pygments_lexer": "ipython3",
   "version": "3.6.3"
  }
 },
 "nbformat": 4,
 "nbformat_minor": 1
}
