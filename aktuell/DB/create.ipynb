{
 "cells": [
  {
   "cell_type": "markdown",
   "metadata": {
    "slideshow": {
     "slide_type": "-"
    }
   },
   "source": [
    "### Erzeugen von Datenbanken"
   ]
  },
  {
   "cell_type": "code",
   "execution_count": 1,
   "metadata": {
    "collapsed": true
   },
   "outputs": [],
   "source": [
    "import sqlite3\n",
    "import os.path\n",
    "import PrettyTable as pt # muss bereitgestellt werden"
   ]
  },
  {
   "cell_type": "markdown",
   "metadata": {},
   "source": [
    "Hilfsfunktion zum Einlesen eines Files. Hier beschreiben die Files das Anlegen von Datenbanktabellen als sqlite3-Kommandos."
   ]
  },
  {
   "cell_type": "code",
   "execution_count": 2,
   "metadata": {
    "collapsed": true
   },
   "outputs": [],
   "source": [
    "def readData(file_name):\n",
    "    f = open(file_name, 'r')\n",
    "    with f:\n",
    "        data = f.read()\n",
    "        return data"
   ]
  },
  {
   "cell_type": "markdown",
   "metadata": {},
   "source": [
    "#### Anlegen bzw. Öffnen einer Datenbank"
   ]
  },
  {
   "cell_type": "code",
   "execution_count": 3,
   "metadata": {},
   "outputs": [
    {
     "name": "stdout",
     "output_type": "stream",
     "text": [
      " \"uebung.db\" database successfully opened \n"
     ]
    }
   ],
   "source": [
    "db_name = 'uebung.db'\n",
    "conn = sqlite3.connect(db_name)\n",
    "c = conn.cursor()\n",
    "def create_or_open_db(filename):\n",
    "    file_exists = os.path.isfile(filename)\n",
    "    conn = sqlite3.connect(filename)\n",
    "    if file_exists:\n",
    "        print(''' \"{}\" database successfully opened '''.format(filename))\n",
    "    else:\n",
    "        print(''' \"{}\" database successfully created '''.format(filename))\n",
    "    return conn\n",
    "conn = create_or_open_db(db_name)\n",
    "c = conn.cursor()"
   ]
  },
  {
   "cell_type": "markdown",
   "metadata": {},
   "source": [
    "#### Erzeugen von Tabellen in der Datenbank"
   ]
  },
  {
   "cell_type": "code",
   "execution_count": 13,
   "metadata": {
    "collapsed": true
   },
   "outputs": [],
   "source": [
    "file_name = 'speciality.sql'   # doctors.sql, speciality.sql, visits.sql"
   ]
  },
  {
   "cell_type": "code",
   "execution_count": 14,
   "metadata": {
    "collapsed": true
   },
   "outputs": [],
   "source": [
    "with conn:   \n",
    "    sql = readData(file_name)\n",
    "    c.executescript(sql)"
   ]
  },
  {
   "cell_type": "markdown",
   "metadata": {},
   "source": [
    "#### Tabellen anzeigen"
   ]
  },
  {
   "cell_type": "code",
   "execution_count": 15,
   "metadata": {
    "collapsed": true
   },
   "outputs": [],
   "source": [
    "tab_name = 'VISITS'       # DOCTORS, SPECIALITY, VISITS"
   ]
  },
  {
   "cell_type": "code",
   "execution_count": 16,
   "metadata": {},
   "outputs": [
    {
     "data": {
      "text/html": [
       "<table><tr><td>doctor_id</td><td>patient_name</td><td>vdate</td></tr><tr><td>210</td><td>Julia Nayer</td><td>2013-10-15</td></tr><tr><td>214</td><td>TJ Olson</td><td>2013-10-14</td></tr><tr><td>215</td><td>John Seo</td><td>2013-10-15</td></tr><tr><td>212</td><td>James Marlow</td><td>2013-10-16</td></tr><tr><td>212</td><td>Jason Mallin</td><td>2013-10-12</td></tr></table>"
      ],
      "text/latex": [
       "\\begin{longtable}[c]{@{}lll@{}}\n",
       "\\toprule\\addlinespace\n",
       "doctor_id & patient_name & vdate\\\\\\addlinespace \n",
       "\\midrule\\endhead\n",
       "210 & Julia Nayer & 2013-10-15\\\\\\addlinespace \n",
       "214 & TJ Olson & 2013-10-14\\\\\\addlinespace \n",
       "215 & John Seo & 2013-10-15\\\\\\addlinespace \n",
       "212 & James Marlow & 2013-10-16\\\\\\addlinespace \n",
       "212 & Jason Mallin & 2013-10-12\\\\\\addlinespace \n",
       "\\bottomrule \n",
       " \\end{longtable}"
      ],
      "text/plain": [
       "[['doctor_id', 'patient_name', 'vdate'],\n",
       " (210, 'Julia Nayer', '2013-10-15'),\n",
       " (214, 'TJ Olson', '2013-10-14'),\n",
       " (215, 'John Seo', '2013-10-15'),\n",
       " (212, 'James Marlow', '2013-10-16'),\n",
       " (212, 'Jason Mallin', '2013-10-12')]"
      ]
     },
     "execution_count": 16,
     "metadata": {},
     "output_type": "execute_result"
    }
   ],
   "source": [
    "command = \"SELECT * FROM %s\" % tab_name\n",
    "c.execute(command)\n",
    "rows = c.fetchall()    \n",
    "res_list = []\n",
    "for row in rows:\n",
    "    res_list.append(row)\n",
    "head = []\n",
    "for i in range(0,len(c.description)):\n",
    "    head.append(c.description[i][0])\n",
    "pt.PrettyTable(res_list, head)"
   ]
  },
  {
   "cell_type": "markdown",
   "metadata": {},
   "source": [
    "#### Kreuzprodukt"
   ]
  },
  {
   "cell_type": "code",
   "execution_count": 17,
   "metadata": {},
   "outputs": [
    {
     "data": {
      "text/html": [
       "<table><tr><td>doctor_id</td><td>patient_name</td><td>vdate</td><td>spl_id</td><td>spl_descrip</td><td>doctor_id</td></tr><tr><td>210</td><td>Julia Nayer</td><td>2013-10-15</td><td>1</td><td>CARDIO</td><td>211</td></tr><tr><td>210</td><td>Julia Nayer</td><td>2013-10-15</td><td>2</td><td>NEURO</td><td>213</td></tr><tr><td>210</td><td>Julia Nayer</td><td>2013-10-15</td><td>3</td><td>ARTHO</td><td>212</td></tr><tr><td>210</td><td>Julia Nayer</td><td>2013-10-15</td><td>4</td><td>GYNO</td><td>210</td></tr><tr><td>214</td><td>TJ Olson</td><td>2013-10-14</td><td>1</td><td>CARDIO</td><td>211</td></tr><tr><td>214</td><td>TJ Olson</td><td>2013-10-14</td><td>2</td><td>NEURO</td><td>213</td></tr><tr><td>214</td><td>TJ Olson</td><td>2013-10-14</td><td>3</td><td>ARTHO</td><td>212</td></tr><tr><td>214</td><td>TJ Olson</td><td>2013-10-14</td><td>4</td><td>GYNO</td><td>210</td></tr><tr><td>215</td><td>John Seo</td><td>2013-10-15</td><td>1</td><td>CARDIO</td><td>211</td></tr><tr><td>215</td><td>John Seo</td><td>2013-10-15</td><td>2</td><td>NEURO</td><td>213</td></tr><tr><td>215</td><td>John Seo</td><td>2013-10-15</td><td>3</td><td>ARTHO</td><td>212</td></tr><tr><td>215</td><td>John Seo</td><td>2013-10-15</td><td>4</td><td>GYNO</td><td>210</td></tr><tr><td>212</td><td>James Marlow</td><td>2013-10-16</td><td>1</td><td>CARDIO</td><td>211</td></tr><tr><td>212</td><td>James Marlow</td><td>2013-10-16</td><td>2</td><td>NEURO</td><td>213</td></tr><tr><td>212</td><td>James Marlow</td><td>2013-10-16</td><td>3</td><td>ARTHO</td><td>212</td></tr><tr><td>212</td><td>James Marlow</td><td>2013-10-16</td><td>4</td><td>GYNO</td><td>210</td></tr><tr><td>212</td><td>Jason Mallin</td><td>2013-10-12</td><td>1</td><td>CARDIO</td><td>211</td></tr><tr><td>212</td><td>Jason Mallin</td><td>2013-10-12</td><td>2</td><td>NEURO</td><td>213</td></tr><tr><td>212</td><td>Jason Mallin</td><td>2013-10-12</td><td>3</td><td>ARTHO</td><td>212</td></tr><tr><td>212</td><td>Jason Mallin</td><td>2013-10-12</td><td>4</td><td>GYNO</td><td>210</td></tr></table>"
      ],
      "text/latex": [
       "\\begin{longtable}[c]{@{}llllll@{}}\n",
       "\\toprule\\addlinespace\n",
       "doctor_id & patient_name & vdate & spl_id & spl_descrip & doctor_id\\\\\\addlinespace \n",
       "\\midrule\\endhead\n",
       "210 & Julia Nayer & 2013-10-15 & 1 & CARDIO & 211\\\\\\addlinespace \n",
       "210 & Julia Nayer & 2013-10-15 & 2 & NEURO & 213\\\\\\addlinespace \n",
       "210 & Julia Nayer & 2013-10-15 & 3 & ARTHO & 212\\\\\\addlinespace \n",
       "210 & Julia Nayer & 2013-10-15 & 4 & GYNO & 210\\\\\\addlinespace \n",
       "214 & TJ Olson & 2013-10-14 & 1 & CARDIO & 211\\\\\\addlinespace \n",
       "214 & TJ Olson & 2013-10-14 & 2 & NEURO & 213\\\\\\addlinespace \n",
       "214 & TJ Olson & 2013-10-14 & 3 & ARTHO & 212\\\\\\addlinespace \n",
       "214 & TJ Olson & 2013-10-14 & 4 & GYNO & 210\\\\\\addlinespace \n",
       "215 & John Seo & 2013-10-15 & 1 & CARDIO & 211\\\\\\addlinespace \n",
       "215 & John Seo & 2013-10-15 & 2 & NEURO & 213\\\\\\addlinespace \n",
       "215 & John Seo & 2013-10-15 & 3 & ARTHO & 212\\\\\\addlinespace \n",
       "215 & John Seo & 2013-10-15 & 4 & GYNO & 210\\\\\\addlinespace \n",
       "212 & James Marlow & 2013-10-16 & 1 & CARDIO & 211\\\\\\addlinespace \n",
       "212 & James Marlow & 2013-10-16 & 2 & NEURO & 213\\\\\\addlinespace \n",
       "212 & James Marlow & 2013-10-16 & 3 & ARTHO & 212\\\\\\addlinespace \n",
       "212 & James Marlow & 2013-10-16 & 4 & GYNO & 210\\\\\\addlinespace \n",
       "212 & Jason Mallin & 2013-10-12 & 1 & CARDIO & 211\\\\\\addlinespace \n",
       "212 & Jason Mallin & 2013-10-12 & 2 & NEURO & 213\\\\\\addlinespace \n",
       "212 & Jason Mallin & 2013-10-12 & 3 & ARTHO & 212\\\\\\addlinespace \n",
       "212 & Jason Mallin & 2013-10-12 & 4 & GYNO & 210\\\\\\addlinespace \n",
       "\\bottomrule \n",
       " \\end{longtable}"
      ],
      "text/plain": [
       "[['doctor_id', 'patient_name', 'vdate', 'spl_id', 'spl_descrip', 'doctor_id'],\n",
       " (210, 'Julia Nayer', '2013-10-15', 1, 'CARDIO', 211),\n",
       " (210, 'Julia Nayer', '2013-10-15', 2, 'NEURO', 213),\n",
       " (210, 'Julia Nayer', '2013-10-15', 3, 'ARTHO', 212),\n",
       " (210, 'Julia Nayer', '2013-10-15', 4, 'GYNO', 210),\n",
       " (214, 'TJ Olson', '2013-10-14', 1, 'CARDIO', 211),\n",
       " (214, 'TJ Olson', '2013-10-14', 2, 'NEURO', 213),\n",
       " (214, 'TJ Olson', '2013-10-14', 3, 'ARTHO', 212),\n",
       " (214, 'TJ Olson', '2013-10-14', 4, 'GYNO', 210),\n",
       " (215, 'John Seo', '2013-10-15', 1, 'CARDIO', 211),\n",
       " (215, 'John Seo', '2013-10-15', 2, 'NEURO', 213),\n",
       " (215, 'John Seo', '2013-10-15', 3, 'ARTHO', 212),\n",
       " (215, 'John Seo', '2013-10-15', 4, 'GYNO', 210),\n",
       " (212, 'James Marlow', '2013-10-16', 1, 'CARDIO', 211),\n",
       " (212, 'James Marlow', '2013-10-16', 2, 'NEURO', 213),\n",
       " (212, 'James Marlow', '2013-10-16', 3, 'ARTHO', 212),\n",
       " (212, 'James Marlow', '2013-10-16', 4, 'GYNO', 210),\n",
       " (212, 'Jason Mallin', '2013-10-12', 1, 'CARDIO', 211),\n",
       " (212, 'Jason Mallin', '2013-10-12', 2, 'NEURO', 213),\n",
       " (212, 'Jason Mallin', '2013-10-12', 3, 'ARTHO', 212),\n",
       " (212, 'Jason Mallin', '2013-10-12', 4, 'GYNO', 210)]"
      ]
     },
     "execution_count": 17,
     "metadata": {},
     "output_type": "execute_result"
    }
   ],
   "source": [
    "tab_name1 = 'VISITS'\n",
    "tab_name2 = 'SPECIALITY'\n",
    "command = \"SELECT * FROM %s\"  % tab_name1 + ',' + tab_name2\n",
    "c.execute(command)\n",
    "rows = c.fetchall()    \n",
    "res_list = []\n",
    "for row in rows:\n",
    "    res_list.append(row)\n",
    "head = []\n",
    "for i in range(0,len(c.description)):\n",
    "    head.append(c.description[i][0])\n",
    "pt.PrettyTable(res_list, head)"
   ]
  },
  {
   "cell_type": "markdown",
   "metadata": {},
   "source": [
    "#### Join, Natural Join, Cross Join"
   ]
  },
  {
   "cell_type": "code",
   "execution_count": 18,
   "metadata": {},
   "outputs": [
    {
     "name": "stdout",
     "output_type": "stream",
     "text": [
      "SELECT DOCTORS.* FROM DOCTORS, VISITS WHERE DOCTORS.doctor_id = VISITS.doctor_id\n"
     ]
    }
   ],
   "source": [
    "tab_name1 = 'DOCTORS'\n",
    "tab_name2 = 'VISITS'\n",
    "cond = 'DOCTORS.doctor_id = VISITS.doctor_id'\n",
    "command = \"SELECT %s.* FROM %s\"  % (tab_name1, tab_name1 + ', ' + tab_name2 + ' WHERE ' + cond)\n",
    "print(command)"
   ]
  },
  {
   "cell_type": "code",
   "execution_count": 19,
   "metadata": {},
   "outputs": [
    {
     "data": {
      "text/html": [
       "<table><tr><td>doctor_id</td><td>doctor_name</td><td>degree</td></tr><tr><td>210</td><td>Dr. John Linga</td><td>MD</td></tr><tr><td>212</td><td>Dr. Ke Gee</td><td>MD</td></tr><tr><td>212</td><td>Dr. Ke Gee</td><td>MD</td></tr></table>"
      ],
      "text/latex": [
       "\\begin{longtable}[c]{@{}lll@{}}\n",
       "\\toprule\\addlinespace\n",
       "doctor_id & doctor_name & degree\\\\\\addlinespace \n",
       "\\midrule\\endhead\n",
       "210 & Dr. John Linga & MD\\\\\\addlinespace \n",
       "212 & Dr. Ke Gee & MD\\\\\\addlinespace \n",
       "212 & Dr. Ke Gee & MD\\\\\\addlinespace \n",
       "\\bottomrule \n",
       " \\end{longtable}"
      ],
      "text/plain": [
       "[['doctor_id', 'doctor_name', 'degree'],\n",
       " (210, 'Dr. John Linga', 'MD'),\n",
       " (212, 'Dr. Ke Gee', 'MD'),\n",
       " (212, 'Dr. Ke Gee', 'MD')]"
      ]
     },
     "execution_count": 19,
     "metadata": {},
     "output_type": "execute_result"
    }
   ],
   "source": [
    "c.execute(command)\n",
    "rows = c.fetchall()    \n",
    "res_list = []\n",
    "for row in rows:\n",
    "    res_list.append(row)\n",
    "head = []\n",
    "for i in range(0,len(c.description)):\n",
    "    head.append(c.description[i][0])\n",
    "pt.PrettyTable(res_list, head)"
   ]
  },
  {
   "cell_type": "code",
   "execution_count": 20,
   "metadata": {},
   "outputs": [
    {
     "name": "stdout",
     "output_type": "stream",
     "text": [
      "SELECT DOCTORS.doctor_id,DOCTORS.doctor_name,VISITS.patient_name FROM DOCTORS INNER JOIN VISITS ON DOCTORS.doctor_id=VISITS.doctor_id WHERE DOCTORS.degree='MD'\n"
     ]
    }
   ],
   "source": [
    "command = \"SELECT DOCTORS.doctor_id,DOCTORS.doctor_name,VISITS.patient_name \\\n",
    "FROM DOCTORS INNER JOIN VISITS \\\n",
    "ON DOCTORS.doctor_id=VISITS.doctor_id \\\n",
    "WHERE DOCTORS.degree='MD'\"\n",
    "print(command)"
   ]
  },
  {
   "cell_type": "code",
   "execution_count": 21,
   "metadata": {},
   "outputs": [
    {
     "data": {
      "text/html": [
       "<table><tr><td>doctor_id</td><td>doctor_name</td><td>patient_name</td></tr><tr><td>210</td><td>Dr. John Linga</td><td>Julia Nayer</td></tr><tr><td>212</td><td>Dr. Ke Gee</td><td>James Marlow</td></tr><tr><td>212</td><td>Dr. Ke Gee</td><td>Jason Mallin</td></tr></table>"
      ],
      "text/latex": [
       "\\begin{longtable}[c]{@{}lll@{}}\n",
       "\\toprule\\addlinespace\n",
       "doctor_id & doctor_name & patient_name\\\\\\addlinespace \n",
       "\\midrule\\endhead\n",
       "210 & Dr. John Linga & Julia Nayer\\\\\\addlinespace \n",
       "212 & Dr. Ke Gee & James Marlow\\\\\\addlinespace \n",
       "212 & Dr. Ke Gee & Jason Mallin\\\\\\addlinespace \n",
       "\\bottomrule \n",
       " \\end{longtable}"
      ],
      "text/plain": [
       "[['doctor_id', 'doctor_name', 'patient_name'],\n",
       " (210, 'Dr. John Linga', 'Julia Nayer'),\n",
       " (212, 'Dr. Ke Gee', 'James Marlow'),\n",
       " (212, 'Dr. Ke Gee', 'Jason Mallin')]"
      ]
     },
     "execution_count": 21,
     "metadata": {},
     "output_type": "execute_result"
    }
   ],
   "source": [
    "c.execute(command)\n",
    "rows = c.fetchall()    \n",
    "res_list = []\n",
    "for row in rows:\n",
    "    res_list.append(row)\n",
    "head = []\n",
    "for i in range(0,len(c.description)):\n",
    "    head.append(c.description[i][0])\n",
    "pt.PrettyTable(res_list, head)"
   ]
  },
  {
   "cell_type": "code",
   "execution_count": 22,
   "metadata": {},
   "outputs": [
    {
     "name": "stdout",
     "output_type": "stream",
     "text": [
      "SELECT DOCTORS.doctor_id,DOCTORS.doctor_name,VISITS.patient_name FROM DOCTORS INNER JOIN VISITS ON DOCTORS.doctor_id=VISITS.doctor_id\n"
     ]
    }
   ],
   "source": [
    "command = \"SELECT DOCTORS.doctor_id,DOCTORS.doctor_name,VISITS.patient_name \\\n",
    "FROM DOCTORS INNER JOIN VISITS \\\n",
    "ON DOCTORS.doctor_id=VISITS.doctor_id\"\n",
    "print(command)"
   ]
  },
  {
   "cell_type": "code",
   "execution_count": 23,
   "metadata": {},
   "outputs": [
    {
     "data": {
      "text/html": [
       "<table><tr><td>doctor_id</td><td>doctor_name</td><td>patient_name</td></tr><tr><td>210</td><td>Dr. John Linga</td><td>Julia Nayer</td></tr><tr><td>212</td><td>Dr. Ke Gee</td><td>James Marlow</td></tr><tr><td>212</td><td>Dr. Ke Gee</td><td>Jason Mallin</td></tr></table>"
      ],
      "text/latex": [
       "\\begin{longtable}[c]{@{}lll@{}}\n",
       "\\toprule\\addlinespace\n",
       "doctor_id & doctor_name & patient_name\\\\\\addlinespace \n",
       "\\midrule\\endhead\n",
       "210 & Dr. John Linga & Julia Nayer\\\\\\addlinespace \n",
       "212 & Dr. Ke Gee & James Marlow\\\\\\addlinespace \n",
       "212 & Dr. Ke Gee & Jason Mallin\\\\\\addlinespace \n",
       "\\bottomrule \n",
       " \\end{longtable}"
      ],
      "text/plain": [
       "[['doctor_id', 'doctor_name', 'patient_name'],\n",
       " (210, 'Dr. John Linga', 'Julia Nayer'),\n",
       " (212, 'Dr. Ke Gee', 'James Marlow'),\n",
       " (212, 'Dr. Ke Gee', 'Jason Mallin')]"
      ]
     },
     "execution_count": 23,
     "metadata": {},
     "output_type": "execute_result"
    }
   ],
   "source": [
    "c.execute(command)\n",
    "rows = c.fetchall()    \n",
    "res_list = []\n",
    "for row in rows:\n",
    "    res_list.append(row)\n",
    "head = []\n",
    "for i in range(0,len(c.description)):\n",
    "    head.append(c.description[i][0])\n",
    "pt.PrettyTable(res_list, head)"
   ]
  },
  {
   "cell_type": "code",
   "execution_count": 24,
   "metadata": {},
   "outputs": [
    {
     "name": "stdout",
     "output_type": "stream",
     "text": [
      "SELECT DOCTORS.doctor_id,DOCTORS.doctor_name,VISITS.patient_name FROM DOCTORS,VISITS WHERE DOCTORS.doctor_id=VISITS.doctor_id\n"
     ]
    }
   ],
   "source": [
    "command = \"SELECT DOCTORS.doctor_id,DOCTORS.doctor_name,VISITS.patient_name \\\n",
    "FROM DOCTORS,VISITS \\\n",
    "WHERE DOCTORS.doctor_id=VISITS.doctor_id\"\n",
    "print(command)"
   ]
  },
  {
   "cell_type": "code",
   "execution_count": 25,
   "metadata": {},
   "outputs": [
    {
     "data": {
      "text/html": [
       "<table><tr><td>doctor_id</td><td>doctor_name</td><td>patient_name</td></tr><tr><td>210</td><td>Dr. John Linga</td><td>Julia Nayer</td></tr><tr><td>212</td><td>Dr. Ke Gee</td><td>James Marlow</td></tr><tr><td>212</td><td>Dr. Ke Gee</td><td>Jason Mallin</td></tr></table>"
      ],
      "text/latex": [
       "\\begin{longtable}[c]{@{}lll@{}}\n",
       "\\toprule\\addlinespace\n",
       "doctor_id & doctor_name & patient_name\\\\\\addlinespace \n",
       "\\midrule\\endhead\n",
       "210 & Dr. John Linga & Julia Nayer\\\\\\addlinespace \n",
       "212 & Dr. Ke Gee & James Marlow\\\\\\addlinespace \n",
       "212 & Dr. Ke Gee & Jason Mallin\\\\\\addlinespace \n",
       "\\bottomrule \n",
       " \\end{longtable}"
      ],
      "text/plain": [
       "[['doctor_id', 'doctor_name', 'patient_name'],\n",
       " (210, 'Dr. John Linga', 'Julia Nayer'),\n",
       " (212, 'Dr. Ke Gee', 'James Marlow'),\n",
       " (212, 'Dr. Ke Gee', 'Jason Mallin')]"
      ]
     },
     "execution_count": 25,
     "metadata": {},
     "output_type": "execute_result"
    }
   ],
   "source": [
    "c.execute(command)\n",
    "rows = c.fetchall()    \n",
    "res_list = []\n",
    "for row in rows:\n",
    "    res_list.append(row)\n",
    "head = []\n",
    "for i in range(0,len(c.description)):\n",
    "    head.append(c.description[i][0])\n",
    "pt.PrettyTable(res_list, head)"
   ]
  },
  {
   "cell_type": "markdown",
   "metadata": {},
   "source": [
    "#### Abfrage unter Verwendung von 3 Tabellen"
   ]
  },
  {
   "cell_type": "code",
   "execution_count": 26,
   "metadata": {},
   "outputs": [
    {
     "name": "stdout",
     "output_type": "stream",
     "text": [
      "SELECT a.doctor_id,a.doctor_name,b.spl_descrip,c.patient_name,c.vdate FROM doctors a INNER JOIN speciality b ON a.doctor_id=b.doctor_id INNER JOIN visits c ON a.doctor_id=c.doctor_id WHERE a.doctor_id=212 AND c.vdate='2013-10-16'\n"
     ]
    }
   ],
   "source": [
    "command = \"SELECT a.doctor_id,a.doctor_name,b.spl_descrip,c.patient_name,c.vdate \\\n",
    "FROM doctors a \\\n",
    "INNER JOIN speciality b \\\n",
    "ON a.doctor_id=b.doctor_id \\\n",
    "INNER JOIN visits c \\\n",
    "ON a.doctor_id=c.doctor_id \\\n",
    "WHERE a.doctor_id=212 AND c.vdate='2013-10-16'\"\n",
    "print(command)"
   ]
  },
  {
   "cell_type": "code",
   "execution_count": 27,
   "metadata": {},
   "outputs": [
    {
     "data": {
      "text/html": [
       "<table><tr><td>doctor_id</td><td>doctor_name</td><td>spl_descrip</td><td>patient_name</td><td>vdate</td></tr><tr><td>212</td><td>Dr. Ke Gee</td><td>ARTHO</td><td>James Marlow</td><td>2013-10-16</td></tr></table>"
      ],
      "text/latex": [
       "\\begin{longtable}[c]{@{}lllll@{}}\n",
       "\\toprule\\addlinespace\n",
       "doctor_id & doctor_name & spl_descrip & patient_name & vdate\\\\\\addlinespace \n",
       "\\midrule\\endhead\n",
       "212 & Dr. Ke Gee & ARTHO & James Marlow & 2013-10-16\\\\\\addlinespace \n",
       "\\bottomrule \n",
       " \\end{longtable}"
      ],
      "text/plain": [
       "[['doctor_id', 'doctor_name', 'spl_descrip', 'patient_name', 'vdate'],\n",
       " (212, 'Dr. Ke Gee', 'ARTHO', 'James Marlow', '2013-10-16')]"
      ]
     },
     "execution_count": 27,
     "metadata": {},
     "output_type": "execute_result"
    }
   ],
   "source": [
    "c.execute(command)\n",
    "rows = c.fetchall()    \n",
    "res_list = []\n",
    "for row in rows:\n",
    "    res_list.append(row)\n",
    "head = []\n",
    "for i in range(0,len(c.description)):\n",
    "    head.append(c.description[i][0])\n",
    "pt.PrettyTable(res_list, head)"
   ]
  },
  {
   "cell_type": "markdown",
   "metadata": {},
   "source": [
    "#### Equi-Join"
   ]
  },
  {
   "cell_type": "code",
   "execution_count": 28,
   "metadata": {},
   "outputs": [
    {
     "name": "stdout",
     "output_type": "stream",
     "text": [
      "SELECT * FROM DOCTORS,VISITS WHERE DOCTORS.doctor_id = VISITS.doctor_id\n"
     ]
    }
   ],
   "source": [
    "tab_name1 = 'DOCTORS'\n",
    "tab_name2 = 'VISITS'\n",
    "cond = 'DOCTORS.doctor_id = VISITS.doctor_id'\n",
    "command = \"SELECT * FROM %s\"  % tab_name1 + ',' + tab_name2 + ' WHERE ' + cond\n",
    "print(command)"
   ]
  },
  {
   "cell_type": "code",
   "execution_count": 29,
   "metadata": {},
   "outputs": [
    {
     "data": {
      "text/html": [
       "<table><tr><td>doctor_id</td><td>doctor_name</td><td>degree</td><td>doctor_id</td><td>patient_name</td><td>vdate</td></tr><tr><td>210</td><td>Dr. John Linga</td><td>MD</td><td>210</td><td>Julia Nayer</td><td>2013-10-15</td></tr><tr><td>212</td><td>Dr. Ke Gee</td><td>MD</td><td>212</td><td>James Marlow</td><td>2013-10-16</td></tr><tr><td>212</td><td>Dr. Ke Gee</td><td>MD</td><td>212</td><td>Jason Mallin</td><td>2013-10-12</td></tr></table>"
      ],
      "text/latex": [
       "\\begin{longtable}[c]{@{}llllll@{}}\n",
       "\\toprule\\addlinespace\n",
       "doctor_id & doctor_name & degree & doctor_id & patient_name & vdate\\\\\\addlinespace \n",
       "\\midrule\\endhead\n",
       "210 & Dr. John Linga & MD & 210 & Julia Nayer & 2013-10-15\\\\\\addlinespace \n",
       "212 & Dr. Ke Gee & MD & 212 & James Marlow & 2013-10-16\\\\\\addlinespace \n",
       "212 & Dr. Ke Gee & MD & 212 & Jason Mallin & 2013-10-12\\\\\\addlinespace \n",
       "\\bottomrule \n",
       " \\end{longtable}"
      ],
      "text/plain": [
       "[['doctor_id', 'doctor_name', 'degree', 'doctor_id', 'patient_name', 'vdate'],\n",
       " (210, 'Dr. John Linga', 'MD', 210, 'Julia Nayer', '2013-10-15'),\n",
       " (212, 'Dr. Ke Gee', 'MD', 212, 'James Marlow', '2013-10-16'),\n",
       " (212, 'Dr. Ke Gee', 'MD', 212, 'Jason Mallin', '2013-10-12')]"
      ]
     },
     "execution_count": 29,
     "metadata": {},
     "output_type": "execute_result"
    }
   ],
   "source": [
    "c.execute(command)\n",
    "rows = c.fetchall()    \n",
    "res_list = []\n",
    "for row in rows:\n",
    "    res_list.append(row)\n",
    "head = []\n",
    "for i in range(0,len(c.description)):\n",
    "    head.append(c.description[i][0])\n",
    "pt.PrettyTable(res_list, head)"
   ]
  },
  {
   "cell_type": "markdown",
   "metadata": {},
   "source": [
    "#### Semi-Join"
   ]
  },
  {
   "cell_type": "code",
   "execution_count": 30,
   "metadata": {},
   "outputs": [
    {
     "name": "stdout",
     "output_type": "stream",
     "text": [
      "SELECT DOCTORS.* FROM DOCTORS, VISITS WHERE DOCTORS.doctor_id = VISITS.doctor_id\n"
     ]
    }
   ],
   "source": [
    "tab_name1 = 'DOCTORS'\n",
    "tab_name2 = 'VISITS'\n",
    "cond = 'DOCTORS.doctor_id = VISITS.doctor_id'\n",
    "command = \"SELECT DOCTORS.* FROM %s\"  % tab_name1 + ', ' + tab_name2 + ' WHERE ' + cond\n",
    "print(command)"
   ]
  },
  {
   "cell_type": "code",
   "execution_count": 31,
   "metadata": {},
   "outputs": [
    {
     "data": {
      "text/html": [
       "<table><tr><td>doctor_id</td><td>doctor_name</td><td>degree</td></tr><tr><td>210</td><td>Dr. John Linga</td><td>MD</td></tr><tr><td>212</td><td>Dr. Ke Gee</td><td>MD</td></tr><tr><td>212</td><td>Dr. Ke Gee</td><td>MD</td></tr></table>"
      ],
      "text/latex": [
       "\\begin{longtable}[c]{@{}lll@{}}\n",
       "\\toprule\\addlinespace\n",
       "doctor_id & doctor_name & degree\\\\\\addlinespace \n",
       "\\midrule\\endhead\n",
       "210 & Dr. John Linga & MD\\\\\\addlinespace \n",
       "212 & Dr. Ke Gee & MD\\\\\\addlinespace \n",
       "212 & Dr. Ke Gee & MD\\\\\\addlinespace \n",
       "\\bottomrule \n",
       " \\end{longtable}"
      ],
      "text/plain": [
       "[['doctor_id', 'doctor_name', 'degree'],\n",
       " (210, 'Dr. John Linga', 'MD'),\n",
       " (212, 'Dr. Ke Gee', 'MD'),\n",
       " (212, 'Dr. Ke Gee', 'MD')]"
      ]
     },
     "execution_count": 31,
     "metadata": {},
     "output_type": "execute_result"
    }
   ],
   "source": [
    "c.execute(command)\n",
    "rows = c.fetchall()    \n",
    "res_list = []\n",
    "for row in rows:\n",
    "    res_list.append(row)\n",
    "head = []\n",
    "for i in range(0,len(c.description)):\n",
    "    head.append(c.description[i][0])\n",
    "pt.PrettyTable(res_list, head)"
   ]
  },
  {
   "cell_type": "markdown",
   "metadata": {},
   "source": [
    "#### Outer-Join"
   ]
  },
  {
   "cell_type": "code",
   "execution_count": 32,
   "metadata": {},
   "outputs": [
    {
     "name": "stdout",
     "output_type": "stream",
     "text": [
      "SELECT a.doctor_id,a.doctor_name,c.patient_name,c.vdate   FROM doctors a   LEFT JOIN visits c   ON a.doctor_id=c.doctor_id\n"
     ]
    }
   ],
   "source": [
    "command = \"SELECT a.doctor_id,a.doctor_name,c.patient_name,c.vdate \\\n",
    "  FROM doctors a \\\n",
    "  LEFT JOIN visits c \\\n",
    "  ON a.doctor_id=c.doctor_id\"\n",
    "print(command)"
   ]
  },
  {
   "cell_type": "code",
   "execution_count": 33,
   "metadata": {},
   "outputs": [
    {
     "data": {
      "text/html": [
       "<table><tr><td>doctor_id</td><td>doctor_name</td><td>patient_name</td><td>vdate</td></tr><tr><td>210</td><td>Dr. John Linga</td><td>Julia Nayer</td><td>2013-10-15</td></tr><tr><td>211</td><td>Dr. Peter Hall</td><td>None</td><td>None</td></tr><tr><td>212</td><td>Dr. Ke Gee</td><td>James Marlow</td><td>2013-10-16</td></tr><tr><td>212</td><td>Dr. Ke Gee</td><td>Jason Mallin</td><td>2013-10-12</td></tr><tr><td>213</td><td>Dr. Pat Fay</td><td>None</td><td>None</td></tr></table>"
      ],
      "text/latex": [
       "\\begin{longtable}[c]{@{}llll@{}}\n",
       "\\toprule\\addlinespace\n",
       "doctor_id & doctor_name & patient_name & vdate\\\\\\addlinespace \n",
       "\\midrule\\endhead\n",
       "210 & Dr. John Linga & Julia Nayer & 2013-10-15\\\\\\addlinespace \n",
       "211 & Dr. Peter Hall & None & None\\\\\\addlinespace \n",
       "212 & Dr. Ke Gee & James Marlow & 2013-10-16\\\\\\addlinespace \n",
       "212 & Dr. Ke Gee & Jason Mallin & 2013-10-12\\\\\\addlinespace \n",
       "213 & Dr. Pat Fay & None & None\\\\\\addlinespace \n",
       "\\bottomrule \n",
       " \\end{longtable}"
      ],
      "text/plain": [
       "[['doctor_id', 'doctor_name', 'patient_name', 'vdate'],\n",
       " (210, 'Dr. John Linga', 'Julia Nayer', '2013-10-15'),\n",
       " (211, 'Dr. Peter Hall', None, None),\n",
       " (212, 'Dr. Ke Gee', 'James Marlow', '2013-10-16'),\n",
       " (212, 'Dr. Ke Gee', 'Jason Mallin', '2013-10-12'),\n",
       " (213, 'Dr. Pat Fay', None, None)]"
      ]
     },
     "execution_count": 33,
     "metadata": {},
     "output_type": "execute_result"
    }
   ],
   "source": [
    "c.execute(command)\n",
    "rows = c.fetchall()    \n",
    "res_list = []\n",
    "for row in rows:\n",
    "    res_list.append(row)\n",
    "head = []\n",
    "for i in range(0,len(c.description)):\n",
    "    head.append(c.description[i][0])\n",
    "pt.PrettyTable(res_list, head)"
   ]
  },
  {
   "cell_type": "code",
   "execution_count": 34,
   "metadata": {},
   "outputs": [
    {
     "name": "stdout",
     "output_type": "stream",
     "text": [
      "SELECT doctor_id,doctor_name,patient_name,vdate   FROM doctors   NATURAL LEFT OUTER JOIN visits\n"
     ]
    }
   ],
   "source": [
    "command = \"SELECT doctor_id,doctor_name,patient_name,vdate \\\n",
    "  FROM doctors \\\n",
    "  NATURAL LEFT OUTER JOIN visits\"\n",
    "print(command)"
   ]
  },
  {
   "cell_type": "code",
   "execution_count": null,
   "metadata": {
    "collapsed": true
   },
   "outputs": [],
   "source": [
    "c.execute(command)\n",
    "rows = c.fetchall()    \n",
    "res_list = []\n",
    "for row in rows:\n",
    "    res_list.append(row)\n",
    "head = []\n",
    "for i in range(0,len(c.description)):\n",
    "    head.append(c.description[i][0])\n",
    "pt.PrettyTable(res_list, head)"
   ]
  },
  {
   "cell_type": "code",
   "execution_count": null,
   "metadata": {
    "collapsed": true
   },
   "outputs": [],
   "source": []
  }
 ],
 "metadata": {
  "kernelspec": {
   "display_name": "Python 3",
   "language": "python",
   "name": "python3"
  },
  "language_info": {
   "codemirror_mode": {
    "name": "ipython",
    "version": 3
   },
   "file_extension": ".py",
   "mimetype": "text/x-python",
   "name": "python",
   "nbconvert_exporter": "python",
   "pygments_lexer": "ipython3",
   "version": "3.6.1"
  }
 },
 "nbformat": 4,
 "nbformat_minor": 1
}
