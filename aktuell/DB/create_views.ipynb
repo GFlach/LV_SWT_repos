{
 "cells": [
  {
   "cell_type": "code",
   "execution_count": 9,
   "metadata": {
    "collapsed": true
   },
   "outputs": [],
   "source": [
    "import sqlite3\n",
    "import os.path\n",
    "import PrettyTable as pt # muss bereitgestellt werden"
   ]
  },
  {
   "cell_type": "code",
   "execution_count": 10,
   "metadata": {
    "collapsed": true
   },
   "outputs": [],
   "source": [
    "def create_or_open_db(filename):\n",
    "    file_exists = os.path.isfile(filename)\n",
    "    conn = sqlite3.connect(filename)\n",
    "    if file_exists:\n",
    "        print(''' \"{}\" database successfully opened '''.format(filename))\n",
    "    else:\n",
    "        print(''' \"{}\" database successfully created '''.format(filename))\n",
    "    return conn"
   ]
  },
  {
   "cell_type": "code",
   "execution_count": 5,
   "metadata": {
    "collapsed": true
   },
   "outputs": [],
   "source": [
    "conn = sqlite3.connect('uebung.db')\n",
    "c = conn.cursor()"
   ]
  },
  {
   "cell_type": "code",
   "execution_count": 11,
   "metadata": {
    "collapsed": false
   },
   "outputs": [
    {
     "name": "stdout",
     "output_type": "stream",
     "text": [
      " \"uebung.db\" database successfully opened \n"
     ]
    }
   ],
   "source": [
    "db_name = 'uebung.db'\n",
    "#conn = sqlite3.connect(db_name)\n",
    "#c = conn.cursor()\n",
    "conn = create_or_open_db(db_name)\n",
    "c = conn.cursor()"
   ]
  },
  {
   "cell_type": "markdown",
   "metadata": {},
   "source": [
    "### Übung  SQL\n",
    "### Erzeugen von Sichten\n",
    "Datenbanken werden zur Verwaltung, zur Abfrage und zur Gewinnung neuer Informationen (durch Verknüpfung vorhandener Information) genutzt.\n",
    "\n",
    "#### Realitätsausschnitt und Datenbankrepräsentation\n",
    "In der Übung wird die Arbeit mit Datenbanken unter Verwendung von mySQL demonstriert. Der wesentliche Inhalt besteht in der Erzeugung neuer Sichten aus einer bestehenden Datenbank. Die zur Verfügung bestehende Datenbank soll folgenden Realitätsausschnitt repräsentieren:\n",
    "\n",
    "<img src=\"images/sql_1.jpg\" height=\"300\" width=\"700\">\n",
    "\n",
    "Dazu werden folgende Relationsschemata genutzt:\n",
    "\n",
    "<img src=\"images/sql_2.jpg\" height=\"300\" width=\"600\">\n",
    "\n",
    "Die zur Verfügung stehenden Daten sind in der folgenden Abbildung dargestellt:\n",
    "\n",
    "<img src=\"images/sql_3.jpg\" height=\"300\" width=\"700\">\n",
    "\n",
    "Die entsprechenden Datenbanktabellen stehen bereits zur Verfügung.\n",
    "\n",
    "#### Relationsschema und die Datendefinitionen einer Tabelle"
   ]
  },
  {
   "cell_type": "code",
   "execution_count": 12,
   "metadata": {
    "collapsed": true
   },
   "outputs": [],
   "source": [
    "table = 'angehoeriger'\n",
    "with conn:    \n",
    "    c.execute('PRAGMA table_info(%s)' % table)    \n",
    "    data = c.fetchall()    "
   ]
  },
  {
   "cell_type": "code",
   "execution_count": 13,
   "metadata": {
    "collapsed": false,
    "scrolled": true
   },
   "outputs": [
    {
     "ename": "TypeError",
     "evalue": "object of type 'NoneType' has no len()",
     "output_type": "error",
     "traceback": [
      "\u001b[0;31m---------------------------------------------------------------------------\u001b[0m",
      "\u001b[0;31mTypeError\u001b[0m                                 Traceback (most recent call last)",
      "\u001b[0;32m<ipython-input-13-e75f5b6fc52e>\u001b[0m in \u001b[0;36m<module>\u001b[0;34m()\u001b[0m\n\u001b[1;32m      3\u001b[0m     \u001b[0mres_list\u001b[0m\u001b[1;33m.\u001b[0m\u001b[0mappend\u001b[0m\u001b[1;33m(\u001b[0m\u001b[0mrow\u001b[0m\u001b[1;33m)\u001b[0m\u001b[1;33m\u001b[0m\u001b[0m\n\u001b[1;32m      4\u001b[0m \u001b[0mhead\u001b[0m \u001b[1;33m=\u001b[0m \u001b[1;33m[\u001b[0m\u001b[1;33m]\u001b[0m\u001b[1;33m\u001b[0m\u001b[0m\n\u001b[0;32m----> 5\u001b[0;31m \u001b[1;32mfor\u001b[0m \u001b[0mi\u001b[0m \u001b[1;32min\u001b[0m \u001b[0mrange\u001b[0m\u001b[1;33m(\u001b[0m\u001b[1;36m0\u001b[0m\u001b[1;33m,\u001b[0m\u001b[0mlen\u001b[0m\u001b[1;33m(\u001b[0m\u001b[0mc\u001b[0m\u001b[1;33m.\u001b[0m\u001b[0mdescription\u001b[0m\u001b[1;33m)\u001b[0m\u001b[1;33m)\u001b[0m\u001b[1;33m:\u001b[0m\u001b[1;33m\u001b[0m\u001b[0m\n\u001b[0m\u001b[1;32m      6\u001b[0m     \u001b[0mhead\u001b[0m\u001b[1;33m.\u001b[0m\u001b[0mappend\u001b[0m\u001b[1;33m(\u001b[0m\u001b[0mc\u001b[0m\u001b[1;33m.\u001b[0m\u001b[0mdescription\u001b[0m\u001b[1;33m[\u001b[0m\u001b[0mi\u001b[0m\u001b[1;33m]\u001b[0m\u001b[1;33m[\u001b[0m\u001b[1;36m0\u001b[0m\u001b[1;33m]\u001b[0m\u001b[1;33m)\u001b[0m\u001b[1;33m\u001b[0m\u001b[0m\n\u001b[1;32m      7\u001b[0m \u001b[0mpt\u001b[0m\u001b[1;33m.\u001b[0m\u001b[0mPrettyTable\u001b[0m\u001b[1;33m(\u001b[0m\u001b[0mres_list\u001b[0m\u001b[1;33m,\u001b[0m \u001b[0mhead\u001b[0m\u001b[1;33m)\u001b[0m\u001b[1;33m\u001b[0m\u001b[0m\n",
      "\u001b[0;31mTypeError\u001b[0m: object of type 'NoneType' has no len()"
     ]
    }
   ],
   "source": [
    "res_list = []\n",
    "for row in data:\n",
    "    res_list.append(row)\n",
    "head = []\n",
    "for i in range(0,len(c.description)):\n",
    "    head.append(c.description[i][0])\n",
    "pt.PrettyTable(res_list, head)"
   ]
  },
  {
   "cell_type": "markdown",
   "metadata": {},
   "source": [
    "#### Tabelleninhalte"
   ]
  },
  {
   "cell_type": "code",
   "execution_count": 14,
   "metadata": {
    "collapsed": true
   },
   "outputs": [],
   "source": [
    "tab_name = 'arbeitet_an'       # abteilung, angehoeriger, angestellter, arbeitet_an, projekt, standorte"
   ]
  },
  {
   "cell_type": "code",
   "execution_count": 15,
   "metadata": {
    "collapsed": false
   },
   "outputs": [
    {
     "ename": "OperationalError",
     "evalue": "no such table: arbeitet_an",
     "output_type": "error",
     "traceback": [
      "\u001b[0;31m---------------------------------------------------------------------------\u001b[0m",
      "\u001b[0;31mOperationalError\u001b[0m                          Traceback (most recent call last)",
      "\u001b[0;32m<ipython-input-15-696b4fdabbd9>\u001b[0m in \u001b[0;36m<module>\u001b[0;34m()\u001b[0m\n\u001b[1;32m      1\u001b[0m \u001b[0mcommand\u001b[0m \u001b[1;33m=\u001b[0m \u001b[1;34m\"SELECT * FROM %s\"\u001b[0m \u001b[1;33m%\u001b[0m \u001b[0mtab_name\u001b[0m\u001b[1;33m\u001b[0m\u001b[0m\n\u001b[0;32m----> 2\u001b[0;31m \u001b[0mc\u001b[0m\u001b[1;33m.\u001b[0m\u001b[0mexecute\u001b[0m\u001b[1;33m(\u001b[0m\u001b[0mcommand\u001b[0m\u001b[1;33m)\u001b[0m\u001b[1;33m\u001b[0m\u001b[0m\n\u001b[0m\u001b[1;32m      3\u001b[0m \u001b[0mrows\u001b[0m \u001b[1;33m=\u001b[0m \u001b[0mc\u001b[0m\u001b[1;33m.\u001b[0m\u001b[0mfetchall\u001b[0m\u001b[1;33m(\u001b[0m\u001b[1;33m)\u001b[0m\u001b[1;33m\u001b[0m\u001b[0m\n\u001b[1;32m      4\u001b[0m \u001b[0mres_list\u001b[0m \u001b[1;33m=\u001b[0m \u001b[1;33m[\u001b[0m\u001b[1;33m]\u001b[0m\u001b[1;33m\u001b[0m\u001b[0m\n\u001b[1;32m      5\u001b[0m \u001b[1;32mfor\u001b[0m \u001b[0mrow\u001b[0m \u001b[1;32min\u001b[0m \u001b[0mrows\u001b[0m\u001b[1;33m:\u001b[0m\u001b[1;33m\u001b[0m\u001b[0m\n",
      "\u001b[0;31mOperationalError\u001b[0m: no such table: arbeitet_an"
     ]
    }
   ],
   "source": [
    "command = \"SELECT * FROM %s\" % tab_name\n",
    "c.execute(command)\n",
    "rows = c.fetchall()    \n",
    "res_list = []\n",
    "for row in rows:\n",
    "    res_list.append(row)\n",
    "head = []\n",
    "for i in range(0,len(c.description)):\n",
    "    head.append(c.description[i][0])\n",
    "pt.PrettyTable(res_list, head)"
   ]
  },
  {
   "cell_type": "markdown",
   "metadata": {},
   "source": [
    "#### Datenbankanfragen\n",
    "Extrahieren Sie folgende Informationen aus der Datenbank `uebung.db`.\n",
    "##### 1. alle männlichen Mitarbeiter"
   ]
  },
  {
   "cell_type": "code",
   "execution_count": null,
   "metadata": {
    "collapsed": true
   },
   "outputs": [],
   "source": [
    "command = \"select * from angestellter where Geschlecht ='M'\"\n",
    "print(command)"
   ]
  },
  {
   "cell_type": "code",
   "execution_count": null,
   "metadata": {
    "collapsed": true
   },
   "outputs": [],
   "source": [
    "c.execute(command)\n",
    "rows = c.fetchall()    \n",
    "res_list = []\n",
    "for row in rows:\n",
    "    res_list.append(row)\n",
    "head = []\n",
    "for i in range(0,len(c.description)):\n",
    "    head.append(c.description[i][0])\n",
    "pt.PrettyTable(res_list, head)"
   ]
  },
  {
   "cell_type": "markdown",
   "metadata": {},
   "source": [
    "##### 2. Thema und Mitarbeiter der Projekte"
   ]
  },
  {
   "cell_type": "code",
   "execution_count": null,
   "metadata": {
    "collapsed": true
   },
   "outputs": [],
   "source": [
    "command = \"select p.Pname, a.vname, a.nname from projekt p, angestellter a, arbeitet_an aa where p.Pnummer=aa.PNr and a.SSN=aa.Essn order by p.Pname \"\n",
    "print(command)"
   ]
  },
  {
   "cell_type": "code",
   "execution_count": null,
   "metadata": {
    "collapsed": true
   },
   "outputs": [],
   "source": [
    "c.execute(command)\n",
    "rows = c.fetchall()    \n",
    "res_list = []\n",
    "for row in rows:\n",
    "    res_list.append(row)\n",
    "head = []\n",
    "for i in range(0,len(c.description)):\n",
    "    head.append(c.description[i][0])\n",
    "pt.PrettyTable(res_list, head)"
   ]
  },
  {
   "cell_type": "markdown",
   "metadata": {},
   "source": [
    "##### 3. Thema und Mitarbeiter von Projekt 3"
   ]
  },
  {
   "cell_type": "code",
   "execution_count": null,
   "metadata": {
    "collapsed": true
   },
   "outputs": [],
   "source": [
    "command = \"select p.Pname, a.Nname, a.Vname from angestellter a, projekt p where p.Pnummer=3\"\n",
    "print(command)"
   ]
  },
  {
   "cell_type": "code",
   "execution_count": null,
   "metadata": {
    "collapsed": true
   },
   "outputs": [],
   "source": [
    "c.execute(command)\n",
    "rows = c.fetchall()    \n",
    "res_list = []\n",
    "for row in rows:\n",
    "    res_list.append(row)\n",
    "head = []\n",
    "for i in range(0,len(c.description)):\n",
    "    head.append(c.description[i][0])\n",
    "pt.PrettyTable(res_list, head)"
   ]
  },
  {
   "cell_type": "markdown",
   "metadata": {},
   "source": [
    "##### 4. Vorname der Tochter von Mr. Smith"
   ]
  },
  {
   "cell_type": "code",
   "execution_count": null,
   "metadata": {
    "collapsed": true
   },
   "outputs": [],
   "source": [
    "command = \"select ag.Angehoeriger_Name from angehoeriger ag, angestellter a where a.Nname='Smith' and ag.essn=a.ssn and ag.grad='Tochter' \"\n",
    "print(command)"
   ]
  },
  {
   "cell_type": "code",
   "execution_count": null,
   "metadata": {
    "collapsed": true
   },
   "outputs": [],
   "source": [
    "c.execute(command)\n",
    "rows = c.fetchall()    \n",
    "res_list = []\n",
    "for row in rows:\n",
    "    res_list.append(row)\n",
    "head = []\n",
    "for i in range(0,len(c.description)):\n",
    "    head.append(c.description[i][0])\n",
    "pt.PrettyTable(res_list, head)"
   ]
  },
  {
   "cell_type": "markdown",
   "metadata": {},
   "source": [
    "##### 5. Chef der Abteilung 5"
   ]
  },
  {
   "cell_type": "code",
   "execution_count": null,
   "metadata": {
    "collapsed": true
   },
   "outputs": [],
   "source": [
    "command = \"select a.Nname, a.Vname from angestellter a, abteilung ab where ab.Abtnummer=5 and ab.Mngssn=a.Ssn\" \n",
    "print(command)"
   ]
  },
  {
   "cell_type": "code",
   "execution_count": null,
   "metadata": {
    "collapsed": true
   },
   "outputs": [],
   "source": [
    "c.execute(command)\n",
    "rows = c.fetchall()    \n",
    "res_list = []\n",
    "for row in rows:\n",
    "    res_list.append(row)\n",
    "head = []\n",
    "for i in range(0,len(c.description)):\n",
    "    head.append(c.description[i][0])\n",
    "pt.PrettyTable(res_list, head)"
   ]
  },
  {
   "cell_type": "markdown",
   "metadata": {},
   "source": [
    "##### 6. Adresse von Mr. Jabbar"
   ]
  },
  {
   "cell_type": "code",
   "execution_count": null,
   "metadata": {
    "collapsed": true
   },
   "outputs": [],
   "source": [
    "command = \"select a.Adresse from angestellter a where a.Nname='Jabbar'\"\n",
    "print(command)"
   ]
  },
  {
   "cell_type": "code",
   "execution_count": null,
   "metadata": {
    "collapsed": true
   },
   "outputs": [],
   "source": [
    "c.execute(command)\n",
    "rows = c.fetchall()    \n",
    "res_list = []\n",
    "for row in rows:\n",
    "    res_list.append(row)\n",
    "head = []\n",
    "for i in range(0,len(c.description)):\n",
    "    head.append(c.description[i][0])\n",
    "pt.PrettyTable(res_list, head)"
   ]
  },
  {
   "cell_type": "markdown",
   "metadata": {},
   "source": [
    "##### 7. Chef von Mrs. Zelaya"
   ]
  },
  {
   "cell_type": "code",
   "execution_count": null,
   "metadata": {
    "collapsed": true
   },
   "outputs": [],
   "source": [
    "command = \"select a.Nname, a.Vname from angestellter a, angestellter a1 where a1.Nname='Zelaya' and a1.Superssn=a.Ssn\"\n",
    "print(command)"
   ]
  },
  {
   "cell_type": "code",
   "execution_count": null,
   "metadata": {
    "collapsed": true
   },
   "outputs": [],
   "source": [
    "c.execute(command)\n",
    "rows = c.fetchall()    \n",
    "res_list = []\n",
    "for row in rows:\n",
    "    res_list.append(row)\n",
    "head = []\n",
    "for i in range(0,len(c.description)):\n",
    "    head.append(c.description[i][0])\n",
    "pt.PrettyTable(res_list, head)"
   ]
  },
  {
   "cell_type": "markdown",
   "metadata": {},
   "source": [
    "##### 8. Gesamtarbeitsaufwand für Projekt 20"
   ]
  },
  {
   "cell_type": "code",
   "execution_count": null,
   "metadata": {
    "collapsed": true
   },
   "outputs": [],
   "source": [
    "command = \"select sum(aa.Stunden) as Gesamtarbeitsaufwand from arbeitet_an aa where aa.Pnr=20\"\n",
    "print(command)"
   ]
  },
  {
   "cell_type": "code",
   "execution_count": null,
   "metadata": {
    "collapsed": true
   },
   "outputs": [],
   "source": [
    "c.execute(command)\n",
    "rows = c.fetchall()    \n",
    "res_list = []\n",
    "for row in rows:\n",
    "    res_list.append(row)\n",
    "head = []\n",
    "for i in range(0,len(c.description)):\n",
    "    head.append(c.description[i][0])\n",
    "pt.PrettyTable(res_list, head)"
   ]
  },
  {
   "cell_type": "markdown",
   "metadata": {},
   "source": [
    "##### 9. Standort und Mitarbeiter von Abteilung 5"
   ]
  },
  {
   "cell_type": "code",
   "execution_count": null,
   "metadata": {
    "collapsed": true
   },
   "outputs": [],
   "source": [
    "command = \"select a.Nname, a.VName, s.Abtstandort from  angestellter a, standorte s where a.Abt=5 and s.Abtnummer=5 order by s.Abtstandort\"\n",
    "print(command)"
   ]
  },
  {
   "cell_type": "code",
   "execution_count": null,
   "metadata": {
    "collapsed": true
   },
   "outputs": [],
   "source": [
    "c.execute(command)\n",
    "rows = c.fetchall()    \n",
    "res_list = []\n",
    "for row in rows:\n",
    "    res_list.append(row)\n",
    "head = []\n",
    "for i in range(0,len(c.description)):\n",
    "    head.append(c.description[i][0])\n",
    "pt.PrettyTable(res_list, head)"
   ]
  },
  {
   "cell_type": "markdown",
   "metadata": {},
   "source": [
    "##### 10. Durchschnittsgehalt pro Abteilung"
   ]
  },
  {
   "cell_type": "code",
   "execution_count": null,
   "metadata": {
    "collapsed": true
   },
   "outputs": [],
   "source": [
    "command = \"select a.Abt, count(*) as Anz_Mitarbeiter, avg(a.Gehalt) as Durchschnittsgehalt from angestellter a group by a.Abt\"\n",
    "print(command)"
   ]
  },
  {
   "cell_type": "code",
   "execution_count": null,
   "metadata": {
    "collapsed": true
   },
   "outputs": [],
   "source": [
    "c.execute(command)\n",
    "rows = c.fetchall()    \n",
    "res_list = []\n",
    "for row in rows:\n",
    "    res_list.append(row)\n",
    "head = []\n",
    "for i in range(0,len(c.description)):\n",
    "    head.append(c.description[i][0])\n",
    "pt.PrettyTable(res_list, head)"
   ]
  }
 ],
 "metadata": {
  "kernelspec": {
   "display_name": "Python 3",
   "language": "python",
   "name": "python3"
  },
  "language_info": {
   "codemirror_mode": {
    "name": "ipython",
    "version": 3
   },
   "file_extension": ".py",
   "mimetype": "text/x-python",
   "name": "python",
   "nbconvert_exporter": "python",
   "pygments_lexer": "ipython3",
   "version": "3.6.0"
  }
 },
 "nbformat": 4,
 "nbformat_minor": 1
}
