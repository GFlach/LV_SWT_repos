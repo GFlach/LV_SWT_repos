{
 "cells": [
  {
   "cell_type": "code",
   "execution_count": 1,
   "metadata": {},
   "outputs": [],
   "source": [
    "import sqlite3\n",
    "import os.path\n",
    "import PrettyTable as pt # muss bereitgestellt werden"
   ]
  },
  {
   "cell_type": "code",
   "execution_count": 2,
   "metadata": {},
   "outputs": [],
   "source": [
    "def create_or_open_db(filename):\n",
    "    file_exists = os.path.isfile(filename)\n",
    "    conn = sqlite3.connect(filename)\n",
    "    if file_exists:\n",
    "        print(''' \"{}\" database successfully opened '''.format(filename))\n",
    "    else:\n",
    "        print(''' \"{}\" database successfully created '''.format(filename))\n",
    "    return conn"
   ]
  },
  {
   "cell_type": "code",
   "execution_count": 3,
   "metadata": {},
   "outputs": [],
   "source": [
    "conn = sqlite3.connect('uebung.db')\n",
    "c = conn.cursor()"
   ]
  },
  {
   "cell_type": "code",
   "execution_count": 4,
   "metadata": {},
   "outputs": [
    {
     "name": "stdout",
     "output_type": "stream",
     "text": [
      " \"uebung.db\" database successfully opened \n"
     ]
    }
   ],
   "source": [
    "db_name = 'uebung.db'\n",
    "#conn = sqlite3.connect(db_name)\n",
    "#c = conn.cursor()\n",
    "conn = create_or_open_db(db_name)\n",
    "c = conn.cursor()"
   ]
  },
  {
   "cell_type": "markdown",
   "metadata": {},
   "source": [
    "### Übung  SQL\n",
    "### Erzeugen von Sichten\n",
    "Datenbanken werden zur Verwaltung, zur Abfrage und zur Gewinnung neuer Informationen (durch Verknüpfung vorhandener Information) genutzt.\n",
    "\n",
    "#### Realitätsausschnitt und Datenbankrepräsentation\n",
    "In der Übung wird die Arbeit mit Datenbanken unter Verwendung von mySQL demonstriert. Der wesentliche Inhalt besteht in der Erzeugung neuer Sichten aus einer bestehenden Datenbank. Die zur Verfügung bestehende Datenbank soll folgenden Realitätsausschnitt repräsentieren:\n",
    "\n",
    "<img src=\"images/sql_1.jpg\" height=\"300\" width=\"700\">\n",
    "\n",
    "Dazu werden folgende Relationsschemata genutzt:\n",
    "\n",
    "<img src=\"images/sql_2.jpg\" height=\"300\" width=\"600\">\n",
    "\n",
    "Die zur Verfügung stehenden Daten sind in der folgenden Abbildung dargestellt:\n",
    "\n",
    "<img src=\"images/sql_3.jpg\" height=\"300\" width=\"700\">\n",
    "\n",
    "Die entsprechenden Datenbanktabellen stehen bereits zur Verfügung.\n",
    "\n",
    "#### Relationsschema und die Datendefinitionen einer Tabelle"
   ]
  },
  {
   "cell_type": "code",
   "execution_count": 5,
   "metadata": {},
   "outputs": [],
   "source": [
    "table = 'angehoeriger'\n",
    "with conn:    \n",
    "    c.execute('PRAGMA table_info(%s)' % table)    \n",
    "    data = c.fetchall()    "
   ]
  },
  {
   "cell_type": "code",
   "execution_count": 6,
   "metadata": {
    "scrolled": true
   },
   "outputs": [
    {
     "data": {
      "text/html": [
       "<table><tr><td>cid</td><td>name</td><td>type</td><td>notnull</td><td>dflt_value</td><td>pk</td></tr><tr><td>0</td><td>Essn</td><td>INT</td><td>0</td><td>None</td><td>0</td></tr><tr><td>1</td><td>Angehoeriger_Name</td><td>TEXT</td><td>0</td><td>None</td><td>0</td></tr><tr><td>2</td><td>Geschlecht</td><td>TEXT</td><td>0</td><td>None</td><td>0</td></tr><tr><td>3</td><td>Gdatum</td><td>DATE</td><td>0</td><td>None</td><td>0</td></tr><tr><td>4</td><td>Grad</td><td>TEXT</td><td>0</td><td>None</td><td>0</td></tr></table>"
      ],
      "text/latex": [
       "\\begin{longtable}[c]{@{}llllll@{}}\n",
       "\\toprule\\addlinespace\n",
       "cid & name & type & notnull & dflt_value & pk\\\\\\addlinespace \n",
       "\\midrule\\endhead\n",
       "0 & Essn & INT & 0 & None & 0\\\\\\addlinespace \n",
       "1 & Angehoeriger_Name & TEXT & 0 & None & 0\\\\\\addlinespace \n",
       "2 & Geschlecht & TEXT & 0 & None & 0\\\\\\addlinespace \n",
       "3 & Gdatum & DATE & 0 & None & 0\\\\\\addlinespace \n",
       "4 & Grad & TEXT & 0 & None & 0\\\\\\addlinespace \n",
       "\\bottomrule \n",
       " \\end{longtable}"
      ],
      "text/plain": [
       "[['cid', 'name', 'type', 'notnull', 'dflt_value', 'pk'],\n",
       " (0, 'Essn', 'INT', 0, None, 0),\n",
       " (1, 'Angehoeriger_Name', 'TEXT', 0, None, 0),\n",
       " (2, 'Geschlecht', 'TEXT', 0, None, 0),\n",
       " (3, 'Gdatum', 'DATE', 0, None, 0),\n",
       " (4, 'Grad', 'TEXT', 0, None, 0)]"
      ]
     },
     "execution_count": 6,
     "metadata": {},
     "output_type": "execute_result"
    }
   ],
   "source": [
    "res_list = []\n",
    "for row in data:\n",
    "    res_list.append(row)\n",
    "head = []\n",
    "for i in range(0,len(c.description)):\n",
    "    head.append(c.description[i][0])\n",
    "pt.PrettyTable(res_list, head)"
   ]
  },
  {
   "cell_type": "markdown",
   "metadata": {},
   "source": [
    "#### Tabelleninhalte"
   ]
  },
  {
   "cell_type": "code",
   "execution_count": 7,
   "metadata": {},
   "outputs": [],
   "source": [
    "tab_name = 'arbeitet_an'       # abteilung, angehoeriger, angestellter, arbeitet_an, projekt, standorte"
   ]
  },
  {
   "cell_type": "code",
   "execution_count": 8,
   "metadata": {},
   "outputs": [
    {
     "data": {
      "text/html": [
       "<table><tr><td>Essn</td><td>Pnr</td><td>Stunden</td></tr><tr><td>123456789</td><td>1</td><td>32.5</td></tr><tr><td>123456789</td><td>2</td><td>7.5</td></tr><tr><td>666884444</td><td>3</td><td>40.0</td></tr><tr><td>453453453</td><td>1</td><td>20.0</td></tr><tr><td>453453453</td><td>2</td><td>20.0</td></tr><tr><td>333445555</td><td>2</td><td>10.0</td></tr><tr><td>333445555</td><td>3</td><td>10.0</td></tr><tr><td>333445555</td><td>10</td><td>10.0</td></tr><tr><td>333445555</td><td>20</td><td>10.0</td></tr><tr><td>999887777</td><td>30</td><td>30.0</td></tr><tr><td>999887777</td><td>10</td><td>10.0</td></tr><tr><td>987987987</td><td>10</td><td>35.0</td></tr><tr><td>987987987</td><td>30</td><td>5.0</td></tr><tr><td>987654321</td><td>30</td><td>20.0</td></tr><tr><td>987654321</td><td>20</td><td>15.0</td></tr><tr><td>888665555</td><td>20</td><td>None</td></tr></table>"
      ],
      "text/latex": [
       "\\begin{longtable}[c]{@{}lll@{}}\n",
       "\\toprule\\addlinespace\n",
       "Essn & Pnr & Stunden\\\\\\addlinespace \n",
       "\\midrule\\endhead\n",
       "123456789 & 1 & 32.5\\\\\\addlinespace \n",
       "123456789 & 2 & 7.5\\\\\\addlinespace \n",
       "666884444 & 3 & 40.0\\\\\\addlinespace \n",
       "453453453 & 1 & 20.0\\\\\\addlinespace \n",
       "453453453 & 2 & 20.0\\\\\\addlinespace \n",
       "333445555 & 2 & 10.0\\\\\\addlinespace \n",
       "333445555 & 3 & 10.0\\\\\\addlinespace \n",
       "333445555 & 10 & 10.0\\\\\\addlinespace \n",
       "333445555 & 20 & 10.0\\\\\\addlinespace \n",
       "999887777 & 30 & 30.0\\\\\\addlinespace \n",
       "999887777 & 10 & 10.0\\\\\\addlinespace \n",
       "987987987 & 10 & 35.0\\\\\\addlinespace \n",
       "987987987 & 30 & 5.0\\\\\\addlinespace \n",
       "987654321 & 30 & 20.0\\\\\\addlinespace \n",
       "987654321 & 20 & 15.0\\\\\\addlinespace \n",
       "888665555 & 20 & None\\\\\\addlinespace \n",
       "\\bottomrule \n",
       " \\end{longtable}"
      ],
      "text/plain": [
       "[['Essn', 'Pnr', 'Stunden'],\n",
       " (123456789, 1, 32.5),\n",
       " (123456789, 2, 7.5),\n",
       " (666884444, 3, 40.0),\n",
       " (453453453, 1, 20.0),\n",
       " (453453453, 2, 20.0),\n",
       " (333445555, 2, 10.0),\n",
       " (333445555, 3, 10.0),\n",
       " (333445555, 10, 10.0),\n",
       " (333445555, 20, 10.0),\n",
       " (999887777, 30, 30.0),\n",
       " (999887777, 10, 10.0),\n",
       " (987987987, 10, 35.0),\n",
       " (987987987, 30, 5.0),\n",
       " (987654321, 30, 20.0),\n",
       " (987654321, 20, 15.0),\n",
       " (888665555, 20, None)]"
      ]
     },
     "execution_count": 8,
     "metadata": {},
     "output_type": "execute_result"
    }
   ],
   "source": [
    "command = \"SELECT * FROM %s\" % tab_name\n",
    "c.execute(command)\n",
    "rows = c.fetchall()    \n",
    "res_list = []\n",
    "for row in rows:\n",
    "    res_list.append(row)\n",
    "head = []\n",
    "for i in range(0,len(c.description)):\n",
    "    head.append(c.description[i][0])\n",
    "pt.PrettyTable(res_list, head)"
   ]
  },
  {
   "cell_type": "markdown",
   "metadata": {},
   "source": [
    "#### Datenbankanfragen\n",
    "Extrahieren Sie folgende Informationen aus der Datenbank `uebung.db`.\n",
    "##### 1. alle männlichen Mitarbeiter"
   ]
  },
  {
   "cell_type": "code",
   "execution_count": 9,
   "metadata": {},
   "outputs": [
    {
     "name": "stdout",
     "output_type": "stream",
     "text": [
      "select * from angestellter where Geschlecht ='M'\n"
     ]
    }
   ],
   "source": [
    "command = \"select * from angestellter where Geschlecht ='M'\"\n",
    "print(command)"
   ]
  },
  {
   "cell_type": "code",
   "execution_count": 10,
   "metadata": {},
   "outputs": [
    {
     "data": {
      "text/html": [
       "<table><tr><td>Vname</td><td>Initial</td><td>Nname</td><td>Ssn</td><td>Gdatum</td><td>Adresse</td><td>Geschlecht</td><td>Gehalt</td><td>Superssn</td><td>Abt</td></tr><tr><td>John</td><td>B</td><td>Smith</td><td>123456789</td><td>1955</td><td>731 Fondren Housten TX</td><td>M</td><td>30000</td><td>333445555</td><td>5</td></tr><tr><td>Franklin</td><td>T</td><td>Wong</td><td>333445555</td><td>1935</td><td>638 Voss Housten TX</td><td>M</td><td>40000</td><td>888665555</td><td>5</td></tr><tr><td>Ramash</td><td>K</td><td>Narayan</td><td>666884444</td><td>1938</td><td>975 Fire Oak Humble TX</td><td>M</td><td>38000</td><td>333445555</td><td>5</td></tr><tr><td>Ahmad</td><td>V</td><td>Jabbar</td><td>987987987</td><td>1928</td><td>980 Dallas Housten TX</td><td>M</td><td>25000</td><td>987654321</td><td>4</td></tr><tr><td>James</td><td>E</td><td>Borg</td><td>888665555</td><td>1936</td><td>450 Stone Housten TX</td><td>M</td><td>55000</td><td>None</td><td>1</td></tr></table>"
      ],
      "text/latex": [
       "\\begin{longtable}[c]{@{}llllllllll@{}}\n",
       "\\toprule\\addlinespace\n",
       "Vname & Initial & Nname & Ssn & Gdatum & Adresse & Geschlecht & Gehalt & Superssn & Abt\\\\\\addlinespace \n",
       "\\midrule\\endhead\n",
       "John & B & Smith & 123456789 & 1955 & 731 Fondren Housten TX & M & 30000 & 333445555 & 5\\\\\\addlinespace \n",
       "Franklin & T & Wong & 333445555 & 1935 & 638 Voss Housten TX & M & 40000 & 888665555 & 5\\\\\\addlinespace \n",
       "Ramash & K & Narayan & 666884444 & 1938 & 975 Fire Oak Humble TX & M & 38000 & 333445555 & 5\\\\\\addlinespace \n",
       "Ahmad & V & Jabbar & 987987987 & 1928 & 980 Dallas Housten TX & M & 25000 & 987654321 & 4\\\\\\addlinespace \n",
       "James & E & Borg & 888665555 & 1936 & 450 Stone Housten TX & M & 55000 & None & 1\\\\\\addlinespace \n",
       "\\bottomrule \n",
       " \\end{longtable}"
      ],
      "text/plain": [
       "[['Vname',\n",
       "  'Initial',\n",
       "  'Nname',\n",
       "  'Ssn',\n",
       "  'Gdatum',\n",
       "  'Adresse',\n",
       "  'Geschlecht',\n",
       "  'Gehalt',\n",
       "  'Superssn',\n",
       "  'Abt'],\n",
       " ('John',\n",
       "  'B',\n",
       "  'Smith',\n",
       "  123456789,\n",
       "  1955,\n",
       "  '731 Fondren Housten TX',\n",
       "  'M',\n",
       "  30000,\n",
       "  333445555,\n",
       "  5),\n",
       " ('Franklin',\n",
       "  'T',\n",
       "  'Wong',\n",
       "  333445555,\n",
       "  1935,\n",
       "  '638 Voss Housten TX',\n",
       "  'M',\n",
       "  40000,\n",
       "  888665555,\n",
       "  5),\n",
       " ('Ramash',\n",
       "  'K',\n",
       "  'Narayan',\n",
       "  666884444,\n",
       "  1938,\n",
       "  '975 Fire Oak Humble TX',\n",
       "  'M',\n",
       "  38000,\n",
       "  333445555,\n",
       "  5),\n",
       " ('Ahmad',\n",
       "  'V',\n",
       "  'Jabbar',\n",
       "  987987987,\n",
       "  1928,\n",
       "  '980 Dallas Housten TX',\n",
       "  'M',\n",
       "  25000,\n",
       "  987654321,\n",
       "  4),\n",
       " ('James',\n",
       "  'E',\n",
       "  'Borg',\n",
       "  888665555,\n",
       "  1936,\n",
       "  '450 Stone Housten TX',\n",
       "  'M',\n",
       "  55000,\n",
       "  None,\n",
       "  1)]"
      ]
     },
     "execution_count": 10,
     "metadata": {},
     "output_type": "execute_result"
    }
   ],
   "source": [
    "c.execute(command)\n",
    "rows = c.fetchall()    \n",
    "res_list = []\n",
    "for row in rows:\n",
    "    res_list.append(row)\n",
    "head = []\n",
    "for i in range(0,len(c.description)):\n",
    "    head.append(c.description[i][0])\n",
    "pt.PrettyTable(res_list, head)"
   ]
  },
  {
   "cell_type": "markdown",
   "metadata": {},
   "source": [
    "##### 2. Thema und Mitarbeiter der Projekte"
   ]
  },
  {
   "cell_type": "code",
   "execution_count": 11,
   "metadata": {},
   "outputs": [
    {
     "name": "stdout",
     "output_type": "stream",
     "text": [
      "select p.Pname, a.vname, a.nname from projekt p, angestellter a, arbeitet_an aa where p.Pnummer=aa.PNr and a.SSN=aa.Essn order by p.Pname \n"
     ]
    }
   ],
   "source": [
    "command = \"select p.Pname, a.vname, a.nname from projekt p, angestellter a, arbeitet_an aa where p.Pnummer=aa.PNr and a.SSN=aa.Essn order by p.Pname \"\n",
    "print(command)"
   ]
  },
  {
   "cell_type": "code",
   "execution_count": 12,
   "metadata": {},
   "outputs": [
    {
     "data": {
      "text/html": [
       "<table><tr><td>Pname</td><td>Vname</td><td>Nname</td></tr><tr><td>Computerization</td><td>Franklin</td><td>Wong</td></tr><tr><td>Computerization</td><td>Ahmad</td><td>Jabbar</td></tr><tr><td>Computerization</td><td>Alicia</td><td>Zelaya</td></tr><tr><td>Newbenefits</td><td>Jennifer</td><td>Wallace</td></tr><tr><td>Newbenefits</td><td>Ahmad</td><td>Jabbar</td></tr><tr><td>Newbenefits</td><td>Alicia</td><td>Zelaya</td></tr><tr><td>Product2</td><td>Franklin</td><td>Wong</td></tr><tr><td>Product2</td><td>Ramash</td><td>Narayan</td></tr><tr><td>ProductX</td><td>John</td><td>Smith</td></tr><tr><td>ProductX</td><td>Joyce</td><td>English</td></tr><tr><td>ProductY</td><td>John</td><td>Smith</td></tr><tr><td>ProductY</td><td>Franklin</td><td>Wong</td></tr><tr><td>ProductY</td><td>Joyce</td><td>English</td></tr><tr><td>Reorganisation</td><td>Franklin</td><td>Wong</td></tr><tr><td>Reorganisation</td><td>James</td><td>Borg</td></tr><tr><td>Reorganisation</td><td>Jennifer</td><td>Wallace</td></tr></table>"
      ],
      "text/latex": [
       "\\begin{longtable}[c]{@{}lll@{}}\n",
       "\\toprule\\addlinespace\n",
       "Pname & Vname & Nname\\\\\\addlinespace \n",
       "\\midrule\\endhead\n",
       "Computerization & Franklin & Wong\\\\\\addlinespace \n",
       "Computerization & Ahmad & Jabbar\\\\\\addlinespace \n",
       "Computerization & Alicia & Zelaya\\\\\\addlinespace \n",
       "Newbenefits & Jennifer & Wallace\\\\\\addlinespace \n",
       "Newbenefits & Ahmad & Jabbar\\\\\\addlinespace \n",
       "Newbenefits & Alicia & Zelaya\\\\\\addlinespace \n",
       "Product2 & Franklin & Wong\\\\\\addlinespace \n",
       "Product2 & Ramash & Narayan\\\\\\addlinespace \n",
       "ProductX & John & Smith\\\\\\addlinespace \n",
       "ProductX & Joyce & English\\\\\\addlinespace \n",
       "ProductY & John & Smith\\\\\\addlinespace \n",
       "ProductY & Franklin & Wong\\\\\\addlinespace \n",
       "ProductY & Joyce & English\\\\\\addlinespace \n",
       "Reorganisation & Franklin & Wong\\\\\\addlinespace \n",
       "Reorganisation & James & Borg\\\\\\addlinespace \n",
       "Reorganisation & Jennifer & Wallace\\\\\\addlinespace \n",
       "\\bottomrule \n",
       " \\end{longtable}"
      ],
      "text/plain": [
       "[['Pname', 'Vname', 'Nname'],\n",
       " ('Computerization', 'Franklin', 'Wong'),\n",
       " ('Computerization', 'Ahmad', 'Jabbar'),\n",
       " ('Computerization', 'Alicia', 'Zelaya'),\n",
       " ('Newbenefits', 'Jennifer', 'Wallace'),\n",
       " ('Newbenefits', 'Ahmad', 'Jabbar'),\n",
       " ('Newbenefits', 'Alicia', 'Zelaya'),\n",
       " ('Product2', 'Franklin', 'Wong'),\n",
       " ('Product2', 'Ramash', 'Narayan'),\n",
       " ('ProductX', 'John', 'Smith'),\n",
       " ('ProductX', 'Joyce', 'English'),\n",
       " ('ProductY', 'John', 'Smith'),\n",
       " ('ProductY', 'Franklin', 'Wong'),\n",
       " ('ProductY', 'Joyce', 'English'),\n",
       " ('Reorganisation', 'Franklin', 'Wong'),\n",
       " ('Reorganisation', 'James', 'Borg'),\n",
       " ('Reorganisation', 'Jennifer', 'Wallace')]"
      ]
     },
     "execution_count": 12,
     "metadata": {},
     "output_type": "execute_result"
    }
   ],
   "source": [
    "c.execute(command)\n",
    "rows = c.fetchall()    \n",
    "res_list = []\n",
    "for row in rows:\n",
    "    res_list.append(row)\n",
    "head = []\n",
    "for i in range(0,len(c.description)):\n",
    "    head.append(c.description[i][0])\n",
    "pt.PrettyTable(res_list, head)"
   ]
  },
  {
   "cell_type": "markdown",
   "metadata": {},
   "source": [
    "##### 3. Thema und Mitarbeiter von Projekt 3"
   ]
  },
  {
   "cell_type": "code",
   "execution_count": null,
   "metadata": {},
   "outputs": [],
   "source": [
    "command = \"select p.Pname, a.Nname, a.Vname from angestellter a, projekt p where p.Pnummer=3\"\n",
    "print(command)"
   ]
  },
  {
   "cell_type": "code",
   "execution_count": null,
   "metadata": {},
   "outputs": [],
   "source": [
    "c.execute(command)\n",
    "rows = c.fetchall()    \n",
    "res_list = []\n",
    "for row in rows:\n",
    "    res_list.append(row)\n",
    "head = []\n",
    "for i in range(0,len(c.description)):\n",
    "    head.append(c.description[i][0])\n",
    "pt.PrettyTable(res_list, head)"
   ]
  },
  {
   "cell_type": "markdown",
   "metadata": {},
   "source": [
    "##### 4. Vorname der Tochter von Mr. Smith"
   ]
  },
  {
   "cell_type": "code",
   "execution_count": null,
   "metadata": {},
   "outputs": [],
   "source": [
    "command = \"select ag.Angehoeriger_Name from angehoeriger ag, angestellter a where a.Nname='Smith' and ag.essn=a.ssn and ag.grad='Tochter' \"\n",
    "print(command)"
   ]
  },
  {
   "cell_type": "code",
   "execution_count": null,
   "metadata": {},
   "outputs": [],
   "source": [
    "c.execute(command)\n",
    "rows = c.fetchall()    \n",
    "res_list = []\n",
    "for row in rows:\n",
    "    res_list.append(row)\n",
    "head = []\n",
    "for i in range(0,len(c.description)):\n",
    "    head.append(c.description[i][0])\n",
    "pt.PrettyTable(res_list, head)"
   ]
  },
  {
   "cell_type": "markdown",
   "metadata": {},
   "source": [
    "##### 5. Chef der Abteilung 5"
   ]
  },
  {
   "cell_type": "code",
   "execution_count": null,
   "metadata": {},
   "outputs": [],
   "source": [
    "command = \"select a.Nname, a.Vname from angestellter a, abteilung ab where ab.Abtnummer=5 and ab.Mngssn=a.Ssn\" \n",
    "print(command)"
   ]
  },
  {
   "cell_type": "code",
   "execution_count": null,
   "metadata": {},
   "outputs": [],
   "source": [
    "c.execute(command)\n",
    "rows = c.fetchall()    \n",
    "res_list = []\n",
    "for row in rows:\n",
    "    res_list.append(row)\n",
    "head = []\n",
    "for i in range(0,len(c.description)):\n",
    "    head.append(c.description[i][0])\n",
    "pt.PrettyTable(res_list, head)"
   ]
  },
  {
   "cell_type": "markdown",
   "metadata": {},
   "source": [
    "##### 6. Adresse von Mr. Jabbar"
   ]
  },
  {
   "cell_type": "code",
   "execution_count": null,
   "metadata": {},
   "outputs": [],
   "source": [
    "command = \"select a.Adresse from angestellter a where a.Nname='Jabbar'\"\n",
    "print(command)"
   ]
  },
  {
   "cell_type": "code",
   "execution_count": null,
   "metadata": {},
   "outputs": [],
   "source": [
    "c.execute(command)\n",
    "rows = c.fetchall()    \n",
    "res_list = []\n",
    "for row in rows:\n",
    "    res_list.append(row)\n",
    "head = []\n",
    "for i in range(0,len(c.description)):\n",
    "    head.append(c.description[i][0])\n",
    "pt.PrettyTable(res_list, head)"
   ]
  },
  {
   "cell_type": "markdown",
   "metadata": {},
   "source": [
    "##### 7. Chef von Mrs. Zelaya"
   ]
  },
  {
   "cell_type": "code",
   "execution_count": null,
   "metadata": {},
   "outputs": [],
   "source": [
    "command = \"select a.Nname, a.Vname from angestellter a, angestellter a1 where a1.Nname='Zelaya' and a1.Superssn=a.Ssn\"\n",
    "print(command)"
   ]
  },
  {
   "cell_type": "code",
   "execution_count": null,
   "metadata": {},
   "outputs": [],
   "source": [
    "c.execute(command)\n",
    "rows = c.fetchall()    \n",
    "res_list = []\n",
    "for row in rows:\n",
    "    res_list.append(row)\n",
    "head = []\n",
    "for i in range(0,len(c.description)):\n",
    "    head.append(c.description[i][0])\n",
    "pt.PrettyTable(res_list, head)"
   ]
  },
  {
   "cell_type": "markdown",
   "metadata": {},
   "source": [
    "##### 8. Gesamtarbeitsaufwand für Projekt 20"
   ]
  },
  {
   "cell_type": "code",
   "execution_count": null,
   "metadata": {},
   "outputs": [],
   "source": [
    "command = \"select sum(aa.Stunden) as Gesamtarbeitsaufwand from arbeitet_an aa where aa.Pnr=20\"\n",
    "print(command)"
   ]
  },
  {
   "cell_type": "code",
   "execution_count": null,
   "metadata": {},
   "outputs": [],
   "source": [
    "c.execute(command)\n",
    "rows = c.fetchall()    \n",
    "res_list = []\n",
    "for row in rows:\n",
    "    res_list.append(row)\n",
    "head = []\n",
    "for i in range(0,len(c.description)):\n",
    "    head.append(c.description[i][0])\n",
    "pt.PrettyTable(res_list, head)"
   ]
  },
  {
   "cell_type": "markdown",
   "metadata": {},
   "source": [
    "##### 9. Standort und Mitarbeiter von Abteilung 5"
   ]
  },
  {
   "cell_type": "code",
   "execution_count": null,
   "metadata": {},
   "outputs": [],
   "source": [
    "command = \"select a.Nname, a.VName, s.Abtstandort from  angestellter a, standorte s where a.Abt=5 and s.Abtnummer=5 order by s.Abtstandort\"\n",
    "print(command)"
   ]
  },
  {
   "cell_type": "code",
   "execution_count": null,
   "metadata": {},
   "outputs": [],
   "source": [
    "c.execute(command)\n",
    "rows = c.fetchall()    \n",
    "res_list = []\n",
    "for row in rows:\n",
    "    res_list.append(row)\n",
    "head = []\n",
    "for i in range(0,len(c.description)):\n",
    "    head.append(c.description[i][0])\n",
    "pt.PrettyTable(res_list, head)"
   ]
  },
  {
   "cell_type": "markdown",
   "metadata": {},
   "source": [
    "##### 10. Durchschnittsgehalt pro Abteilung"
   ]
  },
  {
   "cell_type": "code",
   "execution_count": null,
   "metadata": {},
   "outputs": [],
   "source": [
    "command = \"select a.Abt, count(*) as Anz_Mitarbeiter, avg(a.Gehalt) as Durchschnittsgehalt from angestellter a group by a.Abt\"\n",
    "print(command)"
   ]
  },
  {
   "cell_type": "code",
   "execution_count": null,
   "metadata": {},
   "outputs": [],
   "source": [
    "c.execute(command)\n",
    "rows = c.fetchall()    \n",
    "res_list = []\n",
    "for row in rows:\n",
    "    res_list.append(row)\n",
    "head = []\n",
    "for i in range(0,len(c.description)):\n",
    "    head.append(c.description[i][0])\n",
    "pt.PrettyTable(res_list, head)"
   ]
  }
 ],
 "metadata": {
  "kernelspec": {
   "display_name": "Python 3",
   "language": "python",
   "name": "python3"
  },
  "language_info": {
   "codemirror_mode": {
    "name": "ipython",
    "version": 3
   },
   "file_extension": ".py",
   "mimetype": "text/x-python",
   "name": "python",
   "nbconvert_exporter": "python",
   "pygments_lexer": "ipython3",
   "version": "3.6.5"
  }
 },
 "nbformat": 4,
 "nbformat_minor": 1
}
