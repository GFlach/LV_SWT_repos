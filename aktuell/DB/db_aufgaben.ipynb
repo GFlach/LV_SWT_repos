{
 "cells": [
  {
   "cell_type": "code",
   "execution_count": null,
   "metadata": {},
   "outputs": [],
   "source": [
    "import sqlite3\n",
    "import os.path\n",
    "import PrettyTable as pt # muss bereitgestellt werden"
   ]
  },
  {
   "cell_type": "markdown",
   "metadata": {},
   "source": [
    "Hilfsfunktion zum Einlesen eines Files. Hier beschreiben die Files das Anlegen von Datenbanktabellen als sqlite3-Kommandos."
   ]
  },
  {
   "cell_type": "code",
   "execution_count": null,
   "metadata": {},
   "outputs": [],
   "source": [
    "def readData(file_name):\n",
    "    f = open(file_name, 'r')\n",
    "    with f:\n",
    "        data = f.read()\n",
    "        return data"
   ]
  },
  {
   "cell_type": "markdown",
   "metadata": {},
   "source": [
    "### Übung  SQL\n",
    "### Entwurf und Anwendung einer Datenbank\n",
    "\n",
    "#### Realitätsausschnitt \n",
    "Es ist eine Datenbank zur Verwaltung von Modulen einer Fakultät zu erstellen. Folgende Beschreibung der Realität liegt vor.\n",
    "\n",
    "- In der Fakultät werden mehrere Module angeboten.\n",
    "- Eine Fakultät hat mehrere Studiengänge, für die mehrere Prüfungsordnungen gelten können.\n",
    "- Ein Modul hat einen Namen und eine bzw. mehrere Kennnummern, die zur Zuordnung des Moduls zu einer Prüfungsordnung erforderlich ist.\n",
    "- Ein Modul hat abhängig von der zugehörigen Prüfungsordnung eine bzw. mehrere (unterschiedliche) Prüfungsleistungen.\n",
    "- Ein Modul hat einen Workload, der sich aus Präsenzstunden (Vorlesung, Übung und Praktikum) und Selbststudienzeit ergibt.\n",
    "- Ein Modul wird im Sommer- und/oder Wintersemester angeboten.\n",
    "- Für jedes Modul gibt es einen oder mehrere Dozenten, einen Modulverantwortlichen, einen Erst- und einen Zweitprüfer.\n",
    "- Modulverantwortliche, Dozenten und Prüfer sind Hochschullehrer bzw. gleichgestellte Personen, für die der Name, Vorname, der akademische Grad und eine email-Adresse bekannt ist.\n",
    "\n",
    "#### Aufgabe\n",
    "\n",
    "Es ist eine Datenbank mit mehreren Tabellen zu entwerfen, die möglichst keine Anomalien aufweist.\n",
    "\n",
    "Die Datenbank soll zur Erstellung einer Prüferliste verwendet werden, die folgende Informationen enthält:\n",
    "\n",
    "- Modulname\n",
    "- Studiengang\n",
    "- Prüfungsordnung\n",
    "- Prüfungsleistung\n",
    "- Name und email-Adresse des Erstprüfers\n",
    "- Name des Zweitprüfers\n"
   ]
  },
  {
   "cell_type": "markdown",
   "metadata": {},
   "source": [
    "#### Anlegen der Datenbank"
   ]
  },
  {
   "cell_type": "markdown",
   "metadata": {},
   "source": [
    "#### <font color=\"#FF0000\">Eingabezelle</font>"
   ]
  },
  {
   "cell_type": "code",
   "execution_count": null,
   "metadata": {},
   "outputs": [],
   "source": [
    "db_name = 'module.db'"
   ]
  },
  {
   "cell_type": "code",
   "execution_count": null,
   "metadata": {},
   "outputs": [],
   "source": [
    "conn = sqlite3.connect(db_name)\n",
    "c = conn.cursor()\n",
    "def create_or_open_db(filename):\n",
    "    file_exists = os.path.isfile(filename)\n",
    "    conn = sqlite3.connect(filename)\n",
    "    if file_exists:\n",
    "        print(''' \"{}\" database successfully opened '''.format(filename))\n",
    "    else:\n",
    "        print(''' \"{}\" database successfully created '''.format(filename))\n",
    "    return conn\n",
    "conn = create_or_open_db(db_name)\n",
    "c = conn.cursor()"
   ]
  },
  {
   "cell_type": "markdown",
   "metadata": {},
   "source": [
    "#### Abfrage des Relationsschemas und der Datendefinitionen einer Tabelle"
   ]
  },
  {
   "cell_type": "markdown",
   "metadata": {},
   "source": [
    "#### <font color=\"#FF0000\">Eingabezelle</font>"
   ]
  },
  {
   "cell_type": "code",
   "execution_count": null,
   "metadata": {},
   "outputs": [],
   "source": [
    "table = 'modul'"
   ]
  },
  {
   "cell_type": "code",
   "execution_count": null,
   "metadata": {},
   "outputs": [],
   "source": [
    "with conn:    \n",
    "    c.execute('PRAGMA table_info(%s)' % table)    \n",
    "    data = c.fetchall()\n",
    "res_list = []\n",
    "for row in data:\n",
    "    res_list.append(row)\n",
    "head = []\n",
    "for i in range(0,len(c.description)):\n",
    "    head.append(c.description[i][0])\n",
    "pt.PrettyTable(res_list, head)"
   ]
  },
  {
   "cell_type": "markdown",
   "metadata": {},
   "source": [
    "#### Anzeige der Tabelleninhalte"
   ]
  },
  {
   "cell_type": "markdown",
   "metadata": {},
   "source": [
    "#### <font color=\"#FF0000\">Eingabezelle</font>"
   ]
  },
  {
   "cell_type": "code",
   "execution_count": null,
   "metadata": {},
   "outputs": [],
   "source": [
    "tab_name = 'studiengang'       "
   ]
  },
  {
   "cell_type": "code",
   "execution_count": null,
   "metadata": {},
   "outputs": [],
   "source": [
    "command = \"SELECT * FROM %s\" % tab_name\n",
    "c.execute(command)\n",
    "rows = c.fetchall()    \n",
    "res_list = []\n",
    "for row in rows:\n",
    "    res_list.append(row)\n",
    "head = []\n",
    "for i in range(0,len(c.description)):\n",
    "    head.append(c.description[i][0])\n",
    "pt.PrettyTable(res_list, head)"
   ]
  },
  {
   "cell_type": "markdown",
   "metadata": {},
   "source": [
    "#### Anlegen der Tabellen\n",
    "\n",
    "Zum Anlegen einer Tabelle im Rahmen des Notebooks ist die Erstellung eines Textfiles nach dem folgendem Beispiel zu empfehlen. Dieses wird unter `tabellenname.sql` gespeichert und mit der Funktion `readData` eingelesen.\n",
    "<img src=\"images/bsp_sql.jpg\" height=\"200\" width = \"400\">"
   ]
  },
  {
   "cell_type": "markdown",
   "metadata": {},
   "source": [
    "#### <font color=\"#FF0000\">Eingabezelle</font>"
   ]
  },
  {
   "cell_type": "code",
   "execution_count": null,
   "metadata": {},
   "outputs": [],
   "source": [
    "file_name = 'studiengang.sql'     # modul, dozent, hsl, kennnummer, studiengang"
   ]
  },
  {
   "cell_type": "code",
   "execution_count": null,
   "metadata": {},
   "outputs": [],
   "source": [
    "with conn:   \n",
    "    sql = readData(file_name)\n",
    "    c.executescript(sql)"
   ]
  },
  {
   "cell_type": "markdown",
   "metadata": {},
   "source": [
    "#### Datenbankabfrage"
   ]
  },
  {
   "cell_type": "code",
   "execution_count": null,
   "metadata": {},
   "outputs": [],
   "source": [
    "command = \"select m.Modulname, s.Name as Studiengang, s.Pruefungsordnung, k.Pruefungsleistung, h.HSL_Name, h.Vorname, h.email from Modul m, Studiengang s, Kennnummer k, hsl h where k.Pruefungsordnung=s.Pruefungsordnung  and m.Modulname=k.Modulname and m.Pruefer_1=h.HSL_Name\"\n",
    "print(command)"
   ]
  },
  {
   "cell_type": "code",
   "execution_count": null,
   "metadata": {
    "scrolled": true
   },
   "outputs": [],
   "source": [
    "c.execute(command)\n",
    "rows = c.fetchall()    \n",
    "res_list = []\n",
    "for row in rows:\n",
    "    res_list.append(row)\n",
    "head = []\n",
    "for i in range(0,len(c.description)):\n",
    "    head.append(c.description[i][0])\n",
    "pt.PrettyTable(res_list, head)"
   ]
  }
 ],
 "metadata": {
  "kernelspec": {
   "display_name": "Python 3",
   "language": "python",
   "name": "python3"
  },
  "language_info": {
   "codemirror_mode": {
    "name": "ipython",
    "version": 3
   },
   "file_extension": ".py",
   "mimetype": "text/x-python",
   "name": "python",
   "nbconvert_exporter": "python",
   "pygments_lexer": "ipython3",
   "version": "3.7.1"
  }
 },
 "nbformat": 4,
 "nbformat_minor": 1
}
