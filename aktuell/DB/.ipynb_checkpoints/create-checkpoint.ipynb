{
 "cells": [
  {
   "cell_type": "markdown",
   "metadata": {
    "slideshow": {
     "slide_type": "-"
    }
   },
   "source": [
    "### Erzeugen von Datenbanken"
   ]
  },
  {
   "cell_type": "code",
   "execution_count": null,
   "metadata": {
    "collapsed": true
   },
   "outputs": [],
   "source": [
    "import sqlite3\n",
    "import os.path\n",
    "import PrettyTable as pt # muss bereitgestellt werden"
   ]
  },
  {
   "cell_type": "markdown",
   "metadata": {},
   "source": [
    "Hilfsfunktion zum Einlesen eines Files. Hier beschreiben die Files das Anlegen von Datenbanktabellen als sqlite3-Kommandos."
   ]
  },
  {
   "cell_type": "code",
   "execution_count": null,
   "metadata": {
    "collapsed": true
   },
   "outputs": [],
   "source": [
    "def readData(file_name):\n",
    "    f = open(file_name, 'r')\n",
    "    with f:\n",
    "        data = f.read()\n",
    "        return data"
   ]
  },
  {
   "cell_type": "markdown",
   "metadata": {},
   "source": [
    "#### Anlegen bzw. Öffnen einer Datenbank"
   ]
  },
  {
   "cell_type": "code",
   "execution_count": null,
   "metadata": {
    "collapsed": false
   },
   "outputs": [],
   "source": [
    "db_name = 'uebung.db'\n",
    "conn = sqlite3.connect(db_name)\n",
    "c = conn.cursor()\n",
    "def create_or_open_db(filename):\n",
    "    file_exists = os.path.isfile(filename)\n",
    "    conn = sqlite3.connect(filename)\n",
    "    if file_exists:\n",
    "        print(''' \"{}\" database successfully opened '''.format(filename))\n",
    "    else:\n",
    "        print(''' \"{}\" database successfully created '''.format(filename))\n",
    "    return conn\n",
    "conn = create_or_open_db(db_name)\n",
    "c = conn.cursor()"
   ]
  },
  {
   "cell_type": "markdown",
   "metadata": {},
   "source": [
    "#### Erzeugen von Tabellen in der Datenbank"
   ]
  },
  {
   "cell_type": "code",
   "execution_count": null,
   "metadata": {
    "collapsed": true
   },
   "outputs": [],
   "source": [
    "file_name = 'speciality.sql'   # doctors.sql, speciality.sql, visits.sql"
   ]
  },
  {
   "cell_type": "code",
   "execution_count": null,
   "metadata": {
    "collapsed": true
   },
   "outputs": [],
   "source": [
    "with conn:   \n",
    "    sql = readData(file_name)\n",
    "    c.executescript(sql)"
   ]
  },
  {
   "cell_type": "markdown",
   "metadata": {},
   "source": [
    "#### Tabellen anzeigen"
   ]
  },
  {
   "cell_type": "code",
   "execution_count": null,
   "metadata": {
    "collapsed": true
   },
   "outputs": [],
   "source": [
    "tab_name = 'SPECIALITY'       # DOCTORS, SPECIALITY, VISITS"
   ]
  },
  {
   "cell_type": "code",
   "execution_count": null,
   "metadata": {
    "collapsed": false
   },
   "outputs": [],
   "source": [
    "command = \"SELECT * FROM %s\" % tab_name\n",
    "c.execute(command)\n",
    "rows = c.fetchall()    \n",
    "res_list = []\n",
    "for row in rows:\n",
    "    res_list.append(row)\n",
    "head = []\n",
    "for i in range(0,len(c.description)):\n",
    "    head.append(c.description[i][0])\n",
    "pt.PrettyTable(res_list, head)"
   ]
  },
  {
   "cell_type": "markdown",
   "metadata": {},
   "source": [
    "#### Kreuzprodukt"
   ]
  },
  {
   "cell_type": "code",
   "execution_count": null,
   "metadata": {
    "collapsed": false
   },
   "outputs": [],
   "source": [
    "tab_name1 = 'VISITS'\n",
    "tab_name2 = 'SPECIALITY'\n",
    "command = \"SELECT * FROM %s\"  % tab_name1 + ',' + tab_name2\n",
    "c.execute(command)\n",
    "rows = c.fetchall()    \n",
    "res_list = []\n",
    "for row in rows:\n",
    "    res_list.append(row)\n",
    "head = []\n",
    "for i in range(0,len(c.description)):\n",
    "    head.append(c.description[i][0])\n",
    "pt.PrettyTable(res_list, head)"
   ]
  },
  {
   "cell_type": "markdown",
   "metadata": {},
   "source": [
    "#### Join, Natural Join, Cross Join"
   ]
  },
  {
   "cell_type": "code",
   "execution_count": null,
   "metadata": {
    "collapsed": false
   },
   "outputs": [],
   "source": [
    "tab_name1 = 'DOCTORS'\n",
    "tab_name2 = 'VISITS'\n",
    "cond = 'DOCTORS.doctor_id = VISITS.doctor_id'\n",
    "command = \"SELECT %s.* FROM %s\"  % (tab_name1, tab_name1 + ', ' + tab_name2 + ' WHERE ' + cond)\n",
    "print(command)"
   ]
  },
  {
   "cell_type": "code",
   "execution_count": null,
   "metadata": {
    "collapsed": false
   },
   "outputs": [],
   "source": [
    "c.execute(command)\n",
    "rows = c.fetchall()    \n",
    "res_list = []\n",
    "for row in rows:\n",
    "    res_list.append(row)\n",
    "head = []\n",
    "for i in range(0,len(c.description)):\n",
    "    head.append(c.description[i][0])\n",
    "pt.PrettyTable(res_list, head)"
   ]
  },
  {
   "cell_type": "code",
   "execution_count": null,
   "metadata": {
    "collapsed": false
   },
   "outputs": [],
   "source": [
    "command = \"SELECT DOCTORS.doctor_id,DOCTORS.doctor_name,VISITS.patient_name \\\n",
    "FROM DOCTORS INNER JOIN VISITS \\\n",
    "ON DOCTORS.doctor_id=VISITS.doctor_id \\\n",
    "WHERE DOCTORS.degree='MD'\"\n",
    "print(command)"
   ]
  },
  {
   "cell_type": "code",
   "execution_count": null,
   "metadata": {
    "collapsed": false
   },
   "outputs": [],
   "source": [
    "c.execute(command)\n",
    "rows = c.fetchall()    \n",
    "res_list = []\n",
    "for row in rows:\n",
    "    res_list.append(row)\n",
    "head = []\n",
    "for i in range(0,len(c.description)):\n",
    "    head.append(c.description[i][0])\n",
    "pt.PrettyTable(res_list, head)"
   ]
  },
  {
   "cell_type": "code",
   "execution_count": null,
   "metadata": {
    "collapsed": false
   },
   "outputs": [],
   "source": [
    "command = \"SELECT DOCTORS.doctor_id,DOCTORS.doctor_name,VISITS.patient_name \\\n",
    "FROM DOCTORS INNER JOIN VISITS \\\n",
    "ON DOCTORS.doctor_id=VISITS.doctor_id\"\n",
    "print(command)"
   ]
  },
  {
   "cell_type": "code",
   "execution_count": null,
   "metadata": {
    "collapsed": false
   },
   "outputs": [],
   "source": [
    "c.execute(command)\n",
    "rows = c.fetchall()    \n",
    "res_list = []\n",
    "for row in rows:\n",
    "    res_list.append(row)\n",
    "head = []\n",
    "for i in range(0,len(c.description)):\n",
    "    head.append(c.description[i][0])\n",
    "pt.PrettyTable(res_list, head)"
   ]
  },
  {
   "cell_type": "code",
   "execution_count": null,
   "metadata": {
    "collapsed": false
   },
   "outputs": [],
   "source": [
    "command = \"SELECT DOCTORS.doctor_id,DOCTORS.doctor_name,VISITS.patient_name \\\n",
    "FROM DOCTORS,VISITS \\\n",
    "WHERE DOCTORS.doctor_id=VISITS.doctor_id\"\n",
    "print(command)"
   ]
  },
  {
   "cell_type": "code",
   "execution_count": null,
   "metadata": {
    "collapsed": false
   },
   "outputs": [],
   "source": [
    "c.execute(command)\n",
    "rows = c.fetchall()    \n",
    "res_list = []\n",
    "for row in rows:\n",
    "    res_list.append(row)\n",
    "head = []\n",
    "for i in range(0,len(c.description)):\n",
    "    head.append(c.description[i][0])\n",
    "pt.PrettyTable(res_list, head)"
   ]
  },
  {
   "cell_type": "markdown",
   "metadata": {},
   "source": [
    "#### Abfrage unter Verwendung von 3 Tabellen"
   ]
  },
  {
   "cell_type": "code",
   "execution_count": null,
   "metadata": {
    "collapsed": false
   },
   "outputs": [],
   "source": [
    "command = \"SELECT a.doctor_id,a.doctor_name,b.spl_descrip,c.patient_name,c.vdate \\\n",
    "FROM doctors a \\\n",
    "INNER JOIN speciality b \\\n",
    "ON a.doctor_id=b.doctor_id \\\n",
    "INNER JOIN visits c \\\n",
    "ON a.doctor_id=c.doctor_id \\\n",
    "WHERE a.doctor_id=212 AND c.vdate='2013-10-16'\"\n",
    "print(command)"
   ]
  },
  {
   "cell_type": "code",
   "execution_count": null,
   "metadata": {
    "collapsed": false
   },
   "outputs": [],
   "source": [
    "c.execute(command)\n",
    "rows = c.fetchall()    \n",
    "res_list = []\n",
    "for row in rows:\n",
    "    res_list.append(row)\n",
    "head = []\n",
    "for i in range(0,len(c.description)):\n",
    "    head.append(c.description[i][0])\n",
    "pt.PrettyTable(res_list, head)"
   ]
  },
  {
   "cell_type": "markdown",
   "metadata": {},
   "source": [
    "#### Equi-Join"
   ]
  },
  {
   "cell_type": "code",
   "execution_count": null,
   "metadata": {
    "collapsed": false
   },
   "outputs": [],
   "source": [
    "tab_name1 = 'DOCTORS'\n",
    "tab_name2 = 'VISITS'\n",
    "cond = 'DOCTORS.doctor_id = VISITS.doctor_id'\n",
    "command = \"SELECT * FROM %s\"  % tab_name1 + ',' + tab_name2 + ' WHERE ' + cond\n",
    "print(command)"
   ]
  },
  {
   "cell_type": "code",
   "execution_count": null,
   "metadata": {
    "collapsed": false
   },
   "outputs": [],
   "source": [
    "c.execute(command)\n",
    "rows = c.fetchall()    \n",
    "res_list = []\n",
    "for row in rows:\n",
    "    res_list.append(row)\n",
    "head = []\n",
    "for i in range(0,len(c.description)):\n",
    "    head.append(c.description[i][0])\n",
    "pt.PrettyTable(res_list, head)"
   ]
  },
  {
   "cell_type": "code",
   "execution_count": null,
   "metadata": {
    "collapsed": true
   },
   "outputs": [],
   "source": [
    "tab_name1 = 'DOCTORS'\n",
    "tab_name2 = 'VISITS'\n",
    "cond = 'DOCTORS.doctor_id = VISITS.doctor_id'\n",
    "command = \"SELECT DOCTORS.* FROM %s\"  % tab_name1 + ', ' + tab_name2 + ' WHERE ' + cond\n",
    "print(command)"
   ]
  },
  {
   "cell_type": "code",
   "execution_count": null,
   "metadata": {
    "collapsed": true
   },
   "outputs": [],
   "source": [
    "c.execute(command)\n",
    "rows = c.fetchall()    \n",
    "res_list = []\n",
    "for row in rows:\n",
    "    res_list.append(row)\n",
    "head = []\n",
    "for i in range(0,len(c.description)):\n",
    "    head.append(c.description[i][0])\n",
    "pt.PrettyTable(res_list, head)"
   ]
  },
  {
   "cell_type": "markdown",
   "metadata": {},
   "source": [
    "#### Semi-Join"
   ]
  },
  {
   "cell_type": "markdown",
   "metadata": {},
   "source": [
    "#### Outer-Join"
   ]
  },
  {
   "cell_type": "code",
   "execution_count": null,
   "metadata": {
    "collapsed": false
   },
   "outputs": [],
   "source": [
    "command = \"SELECT a.doctor_id,a.doctor_name,c.patient_name,c.vdate \\\n",
    "  FROM doctors a \\\n",
    "  LEFT JOIN visits c \\\n",
    "  ON a.doctor_id=c.doctor_id\"\n",
    "print(command)"
   ]
  },
  {
   "cell_type": "code",
   "execution_count": null,
   "metadata": {
    "collapsed": false
   },
   "outputs": [],
   "source": [
    "c.execute(command)\n",
    "rows = c.fetchall()    \n",
    "res_list = []\n",
    "for row in rows:\n",
    "    res_list.append(row)\n",
    "head = []\n",
    "for i in range(0,len(c.description)):\n",
    "    head.append(c.description[i][0])\n",
    "pt.PrettyTable(res_list, head)"
   ]
  },
  {
   "cell_type": "code",
   "execution_count": null,
   "metadata": {
    "collapsed": false
   },
   "outputs": [],
   "source": [
    "command = \"SELECT doctor_id,doctor_name,patient_name,vdate \\\n",
    "  FROM doctors \\\n",
    "  NATURAL LEFT OUTER JOIN visits\"\n",
    "print(command)"
   ]
  },
  {
   "cell_type": "code",
   "execution_count": null,
   "metadata": {
    "collapsed": false
   },
   "outputs": [],
   "source": [
    "c.execute(command)\n",
    "rows = c.fetchall()    \n",
    "res_list = []\n",
    "for row in rows:\n",
    "    res_list.append(row)\n",
    "head = []\n",
    "for i in range(0,len(c.description)):\n",
    "    head.append(c.description[i][0])\n",
    "pt.PrettyTable(res_list, head)"
   ]
  },
  {
   "cell_type": "code",
   "execution_count": null,
   "metadata": {
    "collapsed": true
   },
   "outputs": [],
   "source": []
  }
 ],
 "metadata": {
  "kernelspec": {
   "display_name": "Python 3",
   "language": "python",
   "name": "python3"
  },
  "language_info": {
   "codemirror_mode": {
    "name": "ipython",
    "version": 3
   },
   "file_extension": ".py",
   "mimetype": "text/x-python",
   "name": "python",
   "nbconvert_exporter": "python",
   "pygments_lexer": "ipython3",
   "version": "3.6.0"
  }
 },
 "nbformat": 4,
 "nbformat_minor": 1
}
